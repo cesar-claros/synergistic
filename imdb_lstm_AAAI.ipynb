{
  "nbformat": 4,
  "nbformat_minor": 0,
  "metadata": {
    "colab": {
      "name": "imdb_lstm",
      "provenance": [],
      "collapsed_sections": [],
      "include_colab_link": true
    },
    "kernelspec": {
      "name": "python3",
      "display_name": "Python 3"
    },
    "accelerator": "GPU"
  },
  "cells": [
    {
      "cell_type": "markdown",
      "metadata": {
        "id": "view-in-github",
        "colab_type": "text"
      },
      "source": [
        "<a href=\"https://colab.research.google.com/github/cesar-claros/synergistic/blob/master/imdb_lstm_AAAI.ipynb\" target=\"_parent\"><img src=\"https://colab.research.google.com/assets/colab-badge.svg\" alt=\"Open In Colab\"/></a>"
      ]
    },
    {
      "cell_type": "code",
      "metadata": {
        "id": "r4sBUso-gM_4",
        "colab_type": "code",
        "colab": {}
      },
      "source": [
        "!pip install torch\n",
        "!pip install gpytorch\n",
        "!pip install tensorflow-determinism"
      ],
      "execution_count": null,
      "outputs": []
    },
    {
      "cell_type": "code",
      "metadata": {
        "id": "FymsszQy2n68",
        "colab_type": "code",
        "colab": {}
      },
      "source": [
        "! sudo apt-get install texlive-latex-recommended #1\n",
        "! sudo apt-get install dvipng texlive-fonts-recommended #2\n",
        "! wget http://mirrors.ctan.org/macros/latex/contrib/type1cm.zip #3\n",
        "! unzip type1cm.zip -d /tmp/type1cm #4\n",
        "! cd /tmp/type1cm/type1cm/ && sudo latex type1cm.ins  #5\n",
        "! sudo mkdir /usr/share/texmf/tex/latex/type1cm #6\n",
        "! sudo cp /tmp/type1cm/type1cm/type1cm.sty /usr/share/texmf/tex/latex/type1cm #7\n",
        "! sudo texhash #8"
      ],
      "execution_count": null,
      "outputs": []
    },
    {
      "cell_type": "code",
      "metadata": {
        "id": "O0gzdUCWgQOt",
        "colab_type": "code",
        "colab": {
          "base_uri": "https://localhost:8080/",
          "height": 35
        },
        "outputId": "7175b649-b849-4e8b-8690-c0fdf4eb3c08"
      },
      "source": [
        "from google.colab import drive\n",
        "drive.mount(\"/content/drive\")"
      ],
      "execution_count": 3,
      "outputs": [
        {
          "output_type": "stream",
          "text": [
            "Mounted at /content/drive\n"
          ],
          "name": "stdout"
        }
      ]
    },
    {
      "cell_type": "code",
      "metadata": {
        "id": "pODgafakgcZ9",
        "colab_type": "code",
        "colab": {}
      },
      "source": [
        "!cp -r \"drive/My Drive/NIPS2020/auxfunc/\" .\n",
        "!cp -r \"drive/My Drive/NIPS2020/datasets/\" .\n",
        "!cp -r \"drive/My Drive/NIPS2020/style/\" .\n",
        "!cp -r \"drive/My Drive/NIPS2020/runs/\" ."
      ],
      "execution_count": 4,
      "outputs": []
    },
    {
      "cell_type": "code",
      "metadata": {
        "id": "ZrowTWaDjHhX",
        "colab_type": "code",
        "colab": {}
      },
      "source": [
        "%load_ext tensorboard"
      ],
      "execution_count": null,
      "outputs": []
    },
    {
      "cell_type": "code",
      "metadata": {
        "id": "aKBZk4trqzQV",
        "colab_type": "code",
        "colab": {}
      },
      "source": [
        "# Imports\n",
        "import io #Used as buffer\n",
        "import sys\n",
        "import matplotlib\n",
        "import tensorflow as tf # Keras model for MNIST \n",
        "# matplotlib.use('qt5Agg')\n",
        "import numpy as np\n",
        "import pandas as pd\n",
        "import matplotlib.pyplot as plt\n",
        "import math\n",
        "import auxfunc.funcs as sgn\n",
        "import seaborn as sns\n",
        "import torch\n",
        "from scipy.stats import entropy, spearmanr\n",
        "from sklearn import model_selection, svm, ensemble, linear_model, pipeline, \\\n",
        "      tree, neighbors, discriminant_analysis, gaussian_process, preprocessing, impute, decomposition\n",
        "from sklearn.gaussian_process.kernels import ConstantKernel, RBF, Matern\n",
        "plt.style.use(['ggplot','style/style.mplstyle'])\n",
        "import os\n",
        "import random"
      ],
      "execution_count": 12,
      "outputs": []
    },
    {
      "cell_type": "code",
      "metadata": {
        "id": "oPr-qGxurI6H",
        "colab_type": "code",
        "colab": {}
      },
      "source": [
        "#%%\n",
        "# Define LSTM architecture\n",
        "def LSTM_model(top_words, emb_vector_length, max_review_length, objective, reg=0.01):\n",
        "    # A simple model based off LeNet from https://keras.io/examples/mnist_cnn/\n",
        "    model = tf.keras.Sequential()\n",
        "    model.add(tf.keras.layers.Embedding(top_words,emb_vector_length,input_length=max_review_length))\n",
        "    model.add(tf.keras.layers.LSTM(100))\n",
        "    if objective == 'svm':\n",
        "        model.add(tf.keras.layers.Dense(\n",
        "            units=1, kernel_initializer='uniform', activation='linear', kernel_regularizer=tf.keras.regularizers.l2(reg)\n",
        "        ))\n",
        "    elif objective == 'softmax':\n",
        "        model.add(tf.keras.layers.Dense(\n",
        "            units=1, kernel_initializer='uniform', activation='sigmoid'\n",
        "        ))\n",
        "    return model"
      ],
      "execution_count": 13,
      "outputs": []
    },
    {
      "cell_type": "code",
      "metadata": {
        "id": "KYYvRG4AmtEJ",
        "colab_type": "code",
        "colab": {}
      },
      "source": [
        "#%%\n",
        "# Signaling function fitting and evaluation\n",
        "def signalingFunction(X_train, y_train, y_train_pred_th, X_val, y_val, y_val_pred_th, X_test, y_test, y_test_pred_th, kernel='exponential', norm='l01', ex_dim=1):\n",
        "    # X_train, X_val should be scaled\n",
        "    # Fit signaling function \n",
        "    exp = sgn.signaling(norm=norm) # idx = [train,test,val]\n",
        "    exp.fit(X_train, y_train, y_train_pred_th, kernel=kernel, n_iter=500, lr=0.01, ex_dim=ex_dim)\n",
        "    table_val = exp.evaluate(X_val, y_val, y_val_pred_th, rule_grid=np.linspace(0,3,30, endpoint=False), rho_grid=[0.1, 0.15])\n",
        "    table_test = exp.test(X_test, y_test, y_test_pred_th, table_val['rule'].to_numpy(), table_val['eta'].to_numpy())\n",
        "    table = pd.concat([table_val,table_test],axis=1)\n",
        "    return table, exp"
      ],
      "execution_count": 30,
      "outputs": []
    },
    {
      "cell_type": "code",
      "metadata": {
        "id": "nRVYBv5lxPJk",
        "colab_type": "code",
        "colab": {}
      },
      "source": [
        "#%%\n",
        "# Initialize model\n",
        "def init_model(input_dim, objective):\n",
        "    model = LSTM_model(top_words, emb_vector_length, max_review_length, objective)\n",
        "    if objective=='svm':\n",
        "        loss = tf.keras.losses.hinge\n",
        "        metric = ['hinge']\n",
        "\n",
        "    elif objective=='softmax':\n",
        "        loss = tf.keras.losses.binary_crossentropy\n",
        "        metric = ['accuracy']\n",
        "\n",
        "    model.compile(loss=loss,\n",
        "                optimizer=tf.keras.optimizers.Adam(),\n",
        "                metrics=metric)\n",
        "    # model.summary()\n",
        "    print('loss={}'.format(loss.__name__))\n",
        "    return model"
      ],
      "execution_count": 31,
      "outputs": []
    },
    {
      "cell_type": "code",
      "metadata": {
        "id": "pMK50NRixYI9",
        "colab_type": "code",
        "colab": {}
      },
      "source": [
        "#%%\n",
        "# Soft and thresholded output predictions\n",
        "def pred_output(model, X, objective):\n",
        "    if objective=='svm':\n",
        "        y_pred_soft = model.predict(X)\n",
        "        y_pred_th = np.array([1 if i[0] >= 0 else 0 for i in y_pred_soft])\n",
        "    elif objective=='softmax':\n",
        "        y_pred_soft = model.predict(X)\n",
        "        y_pred_th = np.array([1 if i[0] > 0.5 else 0 for i in y_pred_soft])\n",
        "    return y_pred_soft, y_pred_th"
      ],
      "execution_count": 32,
      "outputs": []
    },
    {
      "cell_type": "code",
      "metadata": {
        "id": "8nf3lDBxjZcW",
        "colab_type": "code",
        "colab": {}
      },
      "source": [
        "#%%\n",
        "# Jaccard similarity index\n",
        "def jaccard_similarity(list1, list2):\n",
        "    s1 = set(list1)\n",
        "    s2 = set(list2)\n",
        "    return len(s1.intersection(s2)) / len(s1.union(s2))"
      ],
      "execution_count": 33,
      "outputs": []
    },
    {
      "cell_type": "code",
      "metadata": {
        "id": "vyWbCZTIjbiR",
        "colab_type": "code",
        "colab": {}
      },
      "source": [
        "#%%\n",
        "# Baseline comparison\n",
        "def baselineCriteria(y_val, y_val_pred_soft, y_val_pred_th, y_test, y_test_pred_soft, y_test_pred_th, table, exp, clf):\n",
        "      if clf=='svm':\n",
        "          direction = 'closer'\n",
        "          crit_val = np.abs(y_val_pred_soft.ravel())\n",
        "          crit_test = np.abs(y_test_pred_soft.ravel())\n",
        "      else:\n",
        "          direction = 'further'\n",
        "          p_val = np.concatenate((y_val_pred_soft,1-y_val_pred_soft),axis=1)\n",
        "          crit_val = entropy(p_val, axis=1, base=2)\n",
        "          p_test = np.concatenate((y_test_pred_soft,1-y_test_pred_soft),axis=1)\n",
        "          crit_test = entropy(p_test, axis=1, base=2)\n",
        "      \n",
        "      critFunc = sgn.critEvaluation(norm='l01',direction=direction)\n",
        "      d_val = critFunc.evaluate(y_val, y_val_pred_th, crit_val, rho_grid=[0.1, 0.15])\n",
        "      d_test = critFunc.test(y_test, y_test_pred_th, crit_test, d_val['thresh'].to_numpy())\n",
        "      crit_table = pd.concat([d_val,d_test],axis=1)\n",
        "\n",
        "      gamma = table['rule'].to_numpy().reshape(-1,1)\n",
        "      f_test = exp.gpr_mean_test + gamma*np.sqrt(exp.gpr_var_test)\n",
        "      eta = table['eta'].to_numpy().reshape(-1,1)\n",
        "      theta = crit_table['thresh'].to_numpy().reshape(-1,1)\n",
        "      if direction == 'closer':\n",
        "        f_mask, f_idx = np.nonzero(f_test>eta)\n",
        "      else:\n",
        "        f_mask, f_idx = np.nonzero(f_test<eta)\n",
        "      crit_mask, crit_idx = np.nonzero(crit_test.reshape(1,-1)<theta)\n",
        "      print(list(np.unique(f_mask)))\n",
        "      print(list(np.unique(crit_mask)))\n",
        "      print(f_test.shape[0])\n",
        "      shared = set(list(np.unique(f_mask))).intersection(set(list(np.unique(crit_mask))))\n",
        "      J = [jaccard_similarity(crit_idx[crit_mask==i],f_idx[f_mask==i]) if i in shared else np.nan for i in range(f_test.shape[0])]\n",
        "      # if (list(np.unique(f_mask))==list(np.unique(crit_mask))):\n",
        "      #   J = [jaccard_similarity(crit_idx[crit_mask==i],f_idx[f_mask==i]) for i in np.unique(f_mask)]\n",
        "      # else:\n",
        "      #   shared = set(a).intersection(set(b))\n",
        "      #   union = set(a).union(set(b))\n",
        "      #   J = [jaccard_similarity(crit_idx[crit_mask==i],f_idx[f_mask==i]) if i in shared else np.nan  for i in union]\n",
        "      crit_table['jaccard']=J\n",
        "      Sp = [spearmanr(f_test[i,:],crit_test)[0] for i in range(f_test.shape[0])]\n",
        "      crit_table['spearman'] = Sp\n",
        "      crit_table['gamma'] = gamma\n",
        "      return crit_table"
      ],
      "execution_count": 34,
      "outputs": []
    },
    {
      "cell_type": "code",
      "metadata": {
        "id": "W06zPRQXtMBp",
        "colab_type": "code",
        "colab": {}
      },
      "source": [
        "# For reproducibility\n",
        "os.environ['TF_DETERMINISTIC_OPS'] = '1'\n",
        "SEED = 123456\n",
        "os.environ['PYTHONHASHSEED']=str(SEED)\n",
        "random.seed(SEED)\n",
        "np.random.seed(SEED)\n",
        "tf.random.set_seed(SEED)\n",
        "torch.manual_seed(SEED)\n",
        "torch.cuda.manual_seed_all(SEED)"
      ],
      "execution_count": 44,
      "outputs": []
    },
    {
      "cell_type": "code",
      "metadata": {
        "id": "R3VCXn3_rTYj",
        "colab_type": "code",
        "colab": {
          "base_uri": "https://localhost:8080/",
          "height": 72
        },
        "outputId": "45687772-4924-4032-c355-a37b24d0f34c"
      },
      "source": [
        "# %%\n",
        "# INITIALIZATION\n",
        "# ==============\n",
        "# EXPERIMENT SETUP\n",
        "# ================\n",
        "\n",
        "top_words = 5000\n",
        "max_review_length = 500\n",
        "emb_vector_length = 32\n",
        "# Load data set\n",
        "(Data_X, Data_y), (X_test, y_test) = tf.keras.datasets.imdb.load_data(num_words=top_words)\n",
        "Data_X = tf.keras.preprocessing.sequence.pad_sequences(Data_X, maxlen=max_review_length)\n",
        "X_test = tf.keras.preprocessing.sequence.pad_sequences(X_test, maxlen=max_review_length)\n",
        "print(\"Number of original training examples:\", len(Data_X))\n",
        "Data_X, Data_X_sep, Data_y, Data_y_sep = model_selection.train_test_split(Data_X, Data_y, stratify=Data_y, test_size=0.5, random_state=SEED)\n",
        "X_test, X_test_sep, y_test, y_test_sep = model_selection.train_test_split(X_test, y_test, stratify=y_test, test_size=0.9, random_state=SEED)\n",
        "print(Data_X.shape)\n",
        "print(X_test.shape)"
      ],
      "execution_count": 45,
      "outputs": [
        {
          "output_type": "stream",
          "text": [
            "Number of original training examples: 25000\n",
            "(12500, 500)\n",
            "(2500, 500)\n"
          ],
          "name": "stdout"
        }
      ]
    },
    {
      "cell_type": "code",
      "metadata": {
        "id": "0jsIZNLPri8D",
        "colab_type": "code",
        "colab": {
          "base_uri": "https://localhost:8080/",
          "height": 1000
        },
        "outputId": "d10e56ac-3228-4c45-b372-f4e8713e2378"
      },
      "source": [
        "#%%\n",
        "# Assign labels\n",
        "report_table = []\n",
        "report_criteria = []\n",
        "report_plot = []\n",
        "kf = model_selection.StratifiedKFold(n_splits=5, shuffle=True, random_state=SEED)\n",
        "# kf = model_selection.KFold(n_splits=5, shuffle=True, random_state=123)\n",
        "clf = 'softmax'\n",
        "addPredictions = True\n",
        "accuracy = 0\n",
        "for train, val in kf.split(Data_X, Data_y):\n",
        "# for sample, test in kf.split(Data_X):\n",
        "    X_train = Data_X[train]\n",
        "    y_train = Data_y[train]\n",
        "    # print(y_train[:10])\n",
        "    # y_train = tf.keras.utils.to_categorical(y_train)\n",
        "    X_val = Data_X[val]\n",
        "    y_val = Data_y[val]\n",
        "    # print(y_val[:10])\n",
        "    # y_val = tf.keras.utils.to_categorical(y_val)\n",
        "\n",
        "    # TRAINING MODEL\n",
        "    model = init_model(input_dim=Data_X.shape[1:], objective=clf)\n",
        "    model.fit(X_train, y_train, batch_size=64, epochs=5, verbose=0, validation_data=(X_val, y_val))\n",
        "    # X_test = scaleX.transform(imputeX.transform(X_test))\n",
        "\n",
        "    y_train_pred_soft, y_train_pred_th = pred_output(model, X_train, clf)\n",
        "    print('accuracy(Train)={}'.format(np.sum(y_train==y_train_pred_th)/np.size(y_train)))\n",
        "    y_val_pred_soft, y_val_pred_th = pred_output(model, X_val, clf)\n",
        "    # print('accuracy(Val)={}'.format(np.sum(y_val==y_val_pred_th)/np.size(y_val)))\n",
        "    y_test_pred_soft, y_test_pred_th = pred_output(model, X_test, clf)\n",
        "\n",
        "    layer_outputs = [layer.output for layer in model.layers] \n",
        "    activation_model = tf.keras.models.Model(inputs=model.input, outputs=layer_outputs)\n",
        "    X_train_GP = activation_model.predict(X_train)[1]\n",
        "    X_val_GP = activation_model.predict(X_val)[1]\n",
        "    X_test_GP = activation_model.predict(X_test)[1]\n",
        "\n",
        "    if addPredictions:\n",
        "            # Add predictions\n",
        "            X_train_GP = np.concatenate((X_train_GP, y_train_pred_soft), axis=1)\n",
        "            X_val_GP = np.concatenate((X_val_GP, y_val_pred_soft), axis=1)\n",
        "            X_test_GP = np.concatenate((X_test_GP, y_test_pred_soft), axis=1)\n",
        "    scaleX_GP = preprocessing.StandardScaler().fit(np.concatenate((X_train_GP, X_val_GP), axis=0))\n",
        "    X_train_GP = scaleX_GP.transform(X_train_GP)\n",
        "    X_val_GP = scaleX_GP.transform(X_val_GP)\n",
        "    X_test_GP = scaleX_GP.transform(X_test_GP)\n",
        "\n",
        "    table, exp = signalingFunction(X_train_GP, y_train, y_train_pred_th,\n",
        "                                   X_val_GP, y_val, y_val_pred_th,\n",
        "                                   X_test_GP, y_test, y_test_pred_th,\n",
        "                                   kernel='e*e', ex_dim=y_train_pred_soft.shape[1])\n",
        "    report_table.append(table)\n",
        "    # Baseline for comparison\n",
        "    crit_table = baselineCriteria(y_val, y_val_pred_soft, y_val_pred_th, y_test, y_test_pred_soft, y_test_pred_th, table, exp, clf)\n",
        "    report_criteria.append(crit_table)\n",
        "\n",
        "    score = np.sum(y_val==y_val_pred_th)/np.size(y_val)\n",
        "    if accuracy < score:\n",
        "      accuracy = score\n",
        "      table_best = table\n",
        "      crit_table_best = crit_table\n",
        "      exp_best = exp\n",
        "      y_test_best = y_test\n",
        "      y_test_pred_soft_best = y_test_pred_soft\n",
        "      y_test_pred_th_best = y_test_pred_th\n",
        "      X_test_best = X_test\n",
        "    del(model)"
      ],
      "execution_count": 46,
      "outputs": [
        {
          "output_type": "stream",
          "text": [
            "loss=binary_crossentropy\n",
            "accuracy(Train)=0.9487\n",
            "initializing cuda...\n",
            "lr=0.01, n_iterations=500\n",
            "Iter 491/500 - Loss: -0.202  noise: 0.032\n",
            "Iter 492/500 - Loss: -0.202  noise: 0.032\n",
            "Iter 493/500 - Loss: -0.202  noise: 0.032\n",
            "Iter 494/500 - Loss: -0.201  noise: 0.032\n",
            "Iter 495/500 - Loss: -0.202  noise: 0.032\n",
            "Iter 496/500 - Loss: -0.201  noise: 0.032\n",
            "Iter 497/500 - Loss: -0.202  noise: 0.032\n",
            "Iter 498/500 - Loss: -0.202  noise: 0.032\n",
            "Iter 499/500 - Loss: -0.202  noise: 0.032\n",
            "Iter 500/500 - Loss: -0.202  noise: 0.032\n",
            "evaluating with cuda...\n",
            "evaluating with cuda...\n",
            "[0, 1]\n",
            "[0, 1]\n",
            "2\n",
            "loss=binary_crossentropy\n",
            "accuracy(Train)=0.9445\n",
            "initializing cuda...\n",
            "lr=0.01, n_iterations=500\n",
            "Iter 491/500 - Loss: -0.191  noise: 0.033\n",
            "Iter 492/500 - Loss: -0.189  noise: 0.033\n",
            "Iter 493/500 - Loss: -0.189  noise: 0.033\n",
            "Iter 494/500 - Loss: -0.190  noise: 0.033\n",
            "Iter 495/500 - Loss: -0.190  noise: 0.033\n",
            "Iter 496/500 - Loss: -0.192  noise: 0.033\n",
            "Iter 497/500 - Loss: -0.190  noise: 0.033\n",
            "Iter 498/500 - Loss: -0.191  noise: 0.033\n",
            "Iter 499/500 - Loss: -0.190  noise: 0.033\n",
            "Iter 500/500 - Loss: -0.190  noise: 0.033\n",
            "evaluating with cuda...\n",
            "evaluating with cuda...\n",
            "[0, 1]\n",
            "[0, 1]\n",
            "2\n",
            "loss=binary_crossentropy\n",
            "accuracy(Train)=0.8591\n",
            "initializing cuda...\n",
            "lr=0.01, n_iterations=500\n",
            "Iter 491/500 - Loss: 0.101  noise: 0.055\n",
            "Iter 492/500 - Loss: 0.100  noise: 0.055\n",
            "Iter 493/500 - Loss: 0.099  noise: 0.055\n",
            "Iter 494/500 - Loss: 0.101  noise: 0.055\n",
            "Iter 495/500 - Loss: 0.101  noise: 0.055\n",
            "Iter 496/500 - Loss: 0.100  noise: 0.055\n",
            "Iter 497/500 - Loss: 0.100  noise: 0.055\n",
            "Iter 498/500 - Loss: 0.100  noise: 0.055\n",
            "Iter 499/500 - Loss: 0.101  noise: 0.055\n",
            "Iter 500/500 - Loss: 0.099  noise: 0.055\n",
            "evaluating with cuda...\n",
            "evaluating with cuda...\n",
            "[0, 1]\n",
            "[0, 1]\n",
            "2\n",
            "loss=binary_crossentropy\n",
            "accuracy(Train)=0.9382\n",
            "initializing cuda...\n",
            "lr=0.01, n_iterations=500\n",
            "Iter 491/500 - Loss: -0.213  noise: 0.029\n",
            "Iter 492/500 - Loss: -0.214  noise: 0.029\n",
            "Iter 493/500 - Loss: -0.213  noise: 0.029\n",
            "Iter 494/500 - Loss: -0.214  noise: 0.029\n",
            "Iter 495/500 - Loss: -0.214  noise: 0.029\n",
            "Iter 496/500 - Loss: -0.212  noise: 0.029\n",
            "Iter 497/500 - Loss: -0.214  noise: 0.029\n",
            "Iter 498/500 - Loss: -0.216  noise: 0.029\n",
            "Iter 499/500 - Loss: -0.216  noise: 0.029\n",
            "Iter 500/500 - Loss: -0.214  noise: 0.029\n",
            "evaluating with cuda...\n",
            "evaluating with cuda...\n",
            "[0, 1]\n",
            "[0, 1]\n",
            "2\n",
            "loss=binary_crossentropy\n",
            "accuracy(Train)=0.9269\n",
            "initializing cuda...\n",
            "lr=0.01, n_iterations=500\n",
            "Iter 491/500 - Loss: -0.057  noise: 0.043\n",
            "Iter 492/500 - Loss: -0.057  noise: 0.043\n",
            "Iter 493/500 - Loss: -0.056  noise: 0.043\n",
            "Iter 494/500 - Loss: -0.056  noise: 0.043\n",
            "Iter 495/500 - Loss: -0.055  noise: 0.043\n",
            "Iter 496/500 - Loss: -0.057  noise: 0.043\n",
            "Iter 497/500 - Loss: -0.056  noise: 0.043\n",
            "Iter 498/500 - Loss: -0.057  noise: 0.043\n",
            "Iter 499/500 - Loss: -0.057  noise: 0.043\n",
            "Iter 500/500 - Loss: -0.057  noise: 0.043\n",
            "evaluating with cuda...\n",
            "evaluating with cuda...\n",
            "[0, 1]\n",
            "[0, 1]\n",
            "2\n"
          ],
          "name": "stdout"
        }
      ]
    },
    {
      "cell_type": "code",
      "metadata": {
        "id": "WWPUAct1q2Hm",
        "colab_type": "code",
        "colab": {}
      },
      "source": [
        "logs_base_dir = \"runs/\"\n",
        "%tensorboard --logdir {logs_base_dir}"
      ],
      "execution_count": null,
      "outputs": []
    },
    {
      "cell_type": "code",
      "metadata": {
        "id": "UZzb12DMxKfq",
        "colab_type": "code",
        "colab": {
          "base_uri": "https://localhost:8080/",
          "height": 182
        },
        "outputId": "b7e50992-7b81-4f22-abd6-609319a9133d"
      },
      "source": [
        "report_table_concat = pd.concat(report_table)\n",
        "# report_table_concat\n",
        "report_criteria_concat = pd.concat(report_criteria)\n",
        "# report_criteria_concat\n",
        "# p-value column\n",
        "p_value_col = report_table_concat['p_value'] #Add\n",
        "cols_CQT = ['rho_user','corrected_test','queries_test','total_wrong_test','loss_query_test']\n",
        "cols_rholoss = ['rho_user','rho_hat_test','%loss_red_test']\n",
        "\n",
        "# Dataframes for f(x)\n",
        "df_fx_CQT = pd.DataFrame(report_table_concat[cols_CQT])\n",
        "df_fx_rholoss = pd.DataFrame(report_table_concat[cols_rholoss])\n",
        "# results_fx_CQT = df_fx_CQT.loc[p_value_col <= 0.05].copy()\n",
        "results_fx_rholoss = df_fx_rholoss.loc[p_value_col <= 0.05].copy()\n",
        "results_fx_CQT = df_fx_CQT.copy()\n",
        "# results_fx_rholoss = df_fx_rholoss.copy()\n",
        "\n",
        "results_fx_rholoss_bri = results_fx_rholoss.groupby(results_fx_rholoss.index)\n",
        "fx_rholoss_median = results_fx_rholoss_bri.median()\n",
        "fx_rholoss_q1 = results_fx_rholoss_bri.quantile(q=0)\n",
        "fx_rholoss_q3 = results_fx_rholoss_bri.quantile(q=1)\n",
        "results_fx_CQT_bri = results_fx_CQT.groupby(results_fx_CQT.index)\n",
        "fx_CQT_median = results_fx_CQT_bri.median()\n",
        "fx_CQT_q1 = results_fx_CQT_bri.quantile(q=0)\n",
        "fx_CQT_q3 = results_fx_CQT_bri.quantile(q=1)\n",
        "\n",
        "# Dataframes for g(x)\n",
        "df_gx_CQT = pd.DataFrame(report_criteria_concat[cols_CQT])\n",
        "df_gx_rholoss = pd.DataFrame(report_criteria_concat[cols_rholoss])\n",
        "# results_gx_CQT = df_gx_CQT.loc[p_value_col <= 0.05].copy()\n",
        "results_gx_rholoss = df_gx_rholoss.loc[p_value_col <= 0.05].copy()\n",
        "results_gx_CQT = df_gx_CQT.copy()\n",
        "# results_gx_rholoss = df_gx_rholoss.copy()\n",
        "\n",
        "results_gx_rholoss_bri = results_gx_rholoss.groupby(results_gx_rholoss.index)\n",
        "gx_rholoss_median = results_gx_rholoss_bri.median()\n",
        "gx_rholoss_q1 = results_gx_rholoss_bri.quantile(q=0)\n",
        "gx_rholoss_q3 = results_gx_rholoss_bri.quantile(q=1)\n",
        "results_gx_CQT_bri = results_gx_CQT.groupby(results_gx_CQT.index)\n",
        "gx_CQT_median = results_gx_CQT_bri.median()\n",
        "gx_CQT_q1 = results_gx_CQT_bri.quantile(q=0)\n",
        "gx_CQT_q3 = results_gx_CQT_bri.quantile(q=1)\n",
        "\n",
        "# Signaling function statistics (median(q1-q3)) LaTex\n",
        "output_test = io.StringIO()\n",
        "# numRows = fx_median.shape[0]\n",
        "# numCols = fx_median.shape[1]\n",
        "output_test.write(\"results_test (dataset|method|(Q,C,T)|\\hat{rho_test}|%loss_red_test\\n\")\n",
        "output_test.write(\"----------\\n\")\n",
        "\n",
        "for rho in [0.10,0.15]:\n",
        "  # output_test.write(\"rho={:.2f}\\\\\\\\\\n\".format(rho))\n",
        "\n",
        "  fx_CQT_filtered = results_fx_CQT.loc[results_fx_CQT['rho_user']==rho]\n",
        "  gx_CQT_filtered = results_gx_CQT.loc[results_gx_CQT['rho_user']==rho]\n",
        "  p_value_filtered = p_value_col[results_fx_CQT['rho_user']==rho]\n",
        "  # print(p_value_filtered)\n",
        "  n_folds = fx_CQT_filtered.shape[0]\n",
        "  row_fx = [' ', ' ',' ',r'{:.2f}'.format(rho),r'$f(x)$']\n",
        "  row_gx = [' ',' ',' ',' ',r'$g(x)$']\n",
        "\n",
        "  row_fx_CQT = [r'({:.0f},{:.0f},{:.0f})'.format(val1,val2,val3) for val1,val2,val3 in zip(fx_CQT_median.loc[fx_CQT_median['rho_user']==rho,'queries_test'],\\\n",
        "                                                      fx_CQT_median.loc[fx_CQT_q3['rho_user']==rho,'corrected_test'],\\\n",
        "                                                      fx_CQT_median.loc[fx_CQT_q1['rho_user']==rho,'total_wrong_test'])]\n",
        "  row_fx_rho = [r'{:.2f}'.format(val1) for val1 in fx_rholoss_median.loc[fx_rholoss_median['rho_user']==rho,'rho_hat_test']]\n",
        "  row_fx_loss = [r'{:.1f}'.format(val1) for val1 in fx_rholoss_median.loc[fx_rholoss_median['rho_user']==rho,'%loss_red_test']]\n",
        "  row_fx_lq = [r'{:.2f}({:.2f}-{:.2f})'.format(val1,val2,val3) for val1,val2,val3 in zip(fx_CQT_median.loc[fx_CQT_median['rho_user']==rho,'loss_query_test'],\\\n",
        "                                                      fx_CQT_q3.loc[fx_CQT_q3['rho_user']==rho,'loss_query_test'],\\\n",
        "                                                      fx_CQT_q1.loc[fx_CQT_q1['rho_user']==rho,'loss_query_test'])]\n",
        "  row_fx = row_fx + row_fx_CQT + row_fx_rho + row_fx_loss + row_fx_lq\n",
        "  output_test.write(\"{:s}\\\\\\\\\\n\".format(\" & \".join(row_fx)))\n",
        "\n",
        "  row_gx_CQT = [r'({:.0f},{:.0f},{:.0f})'.format(val1,val2,val3) for val1,val2,val3 in zip(gx_CQT_median.loc[gx_CQT_median['rho_user']==rho,'queries_test'],\\\n",
        "                                                      gx_CQT_median.loc[gx_CQT_q3['rho_user']==rho,'corrected_test'],\\\n",
        "                                                      gx_CQT_median.loc[gx_CQT_q1['rho_user']==rho,'total_wrong_test'])]\n",
        "  row_gx_rho = [r'{:.2f}'.format(val1) for val1 in gx_rholoss_median.loc[gx_rholoss_median['rho_user']==rho,'rho_hat_test']]\n",
        "  row_gx_loss = [r'{:.1f}'.format(val1) for val1 in gx_rholoss_median.loc[gx_rholoss_median['rho_user']==rho,'%loss_red_test']]\n",
        "  row_gx_lq = [r'{:.2f}({:.2f}-{:.2f})'.format(val1,val2,val3) for val1,val2,val3 in zip(gx_CQT_median.loc[gx_CQT_median['rho_user']==rho,'loss_query_test'],\\\n",
        "                                                      gx_CQT_q3.loc[gx_CQT_q3['rho_user']==rho,'loss_query_test'],\\\n",
        "                                                      gx_CQT_q1.loc[gx_CQT_q1['rho_user']==rho,'loss_query_test'])]\n",
        "  row_gx = row_gx + row_gx_CQT + row_gx_rho + row_gx_loss + row_gx_lq\n",
        "  output_test.write(\"{:s}\\\\\\\\\\n\".format(\" & \".join(row_gx)))\n",
        "  output_test.write(\"\\\\cline{4-9}\\n\")\n",
        "\n",
        "\n",
        "print(output_test.getvalue())"
      ],
      "execution_count": 47,
      "outputs": [
        {
          "output_type": "stream",
          "text": [
            "results_test (dataset|method|(Q,C,T)|\\hat{rho_test}|%loss_red_test\n",
            "----------\n",
            "  &   &   & 0.10 & $f(x)$ & (253,119,402) & 0.10 & 30.8 & 0.44(0.67-0.44)\\\\\n",
            "  &   &   &   & $g(x)$ & (258,108,402) & 0.10 & 25.4 & 0.43(0.46-0.42)\\\\\n",
            "\\cline{4-9}\n",
            "  &   &   & 0.15 & $f(x)$ & (363,156,402) & 0.15 & 40.3 & 0.42(0.60-0.41)\\\\\n",
            "  &   &   &   & $g(x)$ & (381,154,402) & 0.15 & 38.2 & 0.42(0.45-0.40)\\\\\n",
            "\\cline{4-9}\n",
            "\n"
          ],
          "name": "stdout"
        }
      ]
    },
    {
      "cell_type": "code",
      "metadata": {
        "id": "-lNsdkAGq5Re",
        "colab_type": "code",
        "colab": {}
      },
      "source": [
        "##%\n",
        "# Boxplot (loss reduction in test set)\n",
        "report_table_concat = pd.concat(report_table)\n",
        "cols_table = ['p_value','rho_user','%reduction_test']\n",
        "df_boxplot_table = pd.DataFrame(report_table_concat[cols_table])\n",
        "df_boxplot_table['label'] = df_boxplot_table.shape[0]*['$f(x)$']\n",
        "report_criteria_concat = pd.concat(report_criteria)\n",
        "columns_crit = ['rho_user','%reduction_test']\n",
        "df_boxplot_crit = pd.DataFrame(report_criteria_concat[columns_crit])\n",
        "df_boxplot_crit['label'] = df_boxplot_crit.shape[0]*['$g(x)$']\n",
        "# p-value median\n",
        "p_value_col = df_boxplot_table['p_value'] #Add\n",
        "p_value_by_row_index = df_boxplot_table['p_value'].groupby(df_boxplot_table.index)\n",
        "p_value_median = p_value_by_row_index.median()\n",
        "# Boxplot (jaccard index in test set)\n",
        "columns_jac = ['rho_user','jaccard']\n",
        "df_jaccard = pd.DataFrame(report_criteria_concat[columns_jac])\n",
        "# Unfiltered Result dataframes\n",
        "cols_fx = ['rho_user','%reduction_val','budget','%reduction_test']\n",
        "results_fx = pd.DataFrame(report_table_concat[cols_fx])\n",
        "cols_fxgx = ['rho_user','%reduction_test', 'jaccard']\n",
        "results_fxgx = pd.concat([df_boxplot_table[cols_fxgx[:2]], df_boxplot_crit[cols_fxgx[1]], df_jaccard[cols_fxgx[2]]], axis=1)\n",
        "# Filter experiments with p_value > 0.05\n",
        "df_boxplot_crit = df_boxplot_crit.loc[df_boxplot_table['p_value'] <= 0.05]\n",
        "df_jaccard = df_jaccard.loc[df_boxplot_table['p_value'] <= 0.05]\n",
        "df_boxplot_table = df_boxplot_table.loc[df_boxplot_table['p_value'] <= 0.05]\n",
        "# Boxplot with filtered values only\n",
        "frames = [df_boxplot_table, df_boxplot_crit]\n",
        "df = pd.concat(frames)"
      ],
      "execution_count": null,
      "outputs": []
    },
    {
      "cell_type": "code",
      "metadata": {
        "id": "OumIYSVNq7Zj",
        "colab_type": "code",
        "colab": {}
      },
      "source": [
        "# Avoid plotting when median(p_value)>0.5\n",
        "for i in range(p_value_median.shape[0]):\n",
        "    if p_value_median.iloc[i]>0.05:\n",
        "      df.loc[df.index==i,'%reduction_test'] = np.nan\n",
        "      df_jaccard.loc[df_jaccard.index==i, 'jaccard'] = np.nan"
      ],
      "execution_count": null,
      "outputs": []
    },
    {
      "cell_type": "code",
      "metadata": {
        "id": "-6d4xyQvq952",
        "colab_type": "code",
        "colab": {
          "base_uri": "https://localhost:8080/",
          "height": 164
        },
        "outputId": "6c88ed3b-f0f0-487c-862e-9c2ede76beee"
      },
      "source": [
        "# Dataframe for results f(x)\n",
        "results_fx = results_fx.loc[p_value_col <= 0.05].copy()\n",
        "results_fx_by_row_index = results_fx.groupby(results_fx.index)\n",
        "fx_median = results_fx_by_row_index.median()\n",
        "fx_q1 = results_fx_by_row_index.quantile(q=0.25)\n",
        "fx_q3 = results_fx_by_row_index.quantile(q=0.75)\n",
        "# Signaling function statistics (median(q1-q3)) LaTex\n",
        "output_fx = io.StringIO()\n",
        "numRows = fx_median.shape[0]\n",
        "numCols = fx_median.shape[1]\n",
        "output_fx.write(\"results_fx (\\\\rho|%reduction_val|sig_rate|%reduction_test|H0)\\n\")\n",
        "output_fx.write(\"----------\\n\")\n",
        "for i in range(numRows):\n",
        "  row = [r'{:.2f}'.format(val1) if p_value_median[i]>0.05 and j==0 else r'{}' if p_value_median[i]>0.05 and j!=0\\\n",
        "         else r'{:.2f}'.format(val1) if (j==0) else r'{:.2f}({:.2f}-{:.2f})'.format(val1,val2,val3) if (j==2)\\\n",
        "         else r'{:.1f}({:.1f}-{:.1f})'.format(val1,val2,val3) for val1,val2,val3,j in zip(fx_median.iloc[i],fx_q1.iloc[i],fx_q3.iloc[i],range(numCols))]\n",
        "  output_fx.write(\"{{}} & {{}} & %s & {H0} \\\\\\\\\\n\".format(H0=r'$\\surd$' if p_value_median[i]<=0.05 else r'$\\times$')%(\" & \".join(row)))\n",
        "print(output_fx.getvalue())"
      ],
      "execution_count": null,
      "outputs": [
        {
          "output_type": "stream",
          "text": [
            "results_fx (\\rho|%reduction_val|sig_rate|%reduction_test|H0)\n",
            "----------\n",
            "{} & {} & 0.01 & 3.7(3.5-3.7) & 0.01(0.01-0.01) & 3.1(3.0-3.4) & $\\surd$ \\\\\n",
            "{} & {} & 0.05 & 15.0(14.1-15.7) & 0.05(0.05-0.05) & 14.6(13.9-16.9) & $\\surd$ \\\\\n",
            "{} & {} & 0.10 & 28.9(26.8-29.2) & 0.10(0.09-0.10) & 28.8(26.2-29.1) & $\\surd$ \\\\\n",
            "{} & {} & 0.15 & 38.8(37.0-40.9) & 0.15(0.15-0.16) & 39.0(36.9-41.7) & $\\surd$ \\\\\n",
            "{} & {} & 0.20 & 46.3(45.4-48.1) & 0.20(0.20-0.20) & 47.5(46.4-48.5) & $\\surd$ \\\\\n",
            "\n"
          ],
          "name": "stdout"
        }
      ]
    },
    {
      "cell_type": "code",
      "metadata": {
        "id": "RjL-JtRhrC6e",
        "colab_type": "code",
        "colab": {
          "base_uri": "https://localhost:8080/",
          "height": 164
        },
        "outputId": "51d98ab1-0290-4384-ecc5-bf29bbfbf3c3"
      },
      "source": [
        "# Dataframe for comparison f(x)-g(x)\n",
        "results_fxgx = results_fxgx.loc[p_value_col <= 0.05].copy()\n",
        "results_fxgx_by_row_index = results_fxgx.groupby(results_fxgx.index)\n",
        "fxgx_median = results_fxgx_by_row_index.median()\n",
        "fxgx_q1 = results_fxgx_by_row_index.quantile(q=0.25)\n",
        "fxgx_q3 = results_fxgx_by_row_index.quantile(q=0.75)\n",
        "# Baseline comparison statistics (median(q1-q3)) LaTex\n",
        "output_fxgx = io.StringIO()\n",
        "numRows = fxgx_median.shape[0]\n",
        "numCols = fxgx_median.shape[1]\n",
        "output_fxgx.write(\"results_fxgx (\\\\rho|%reduction_test(fx)|%reduction_test(fxgx)|Jaccard|H0\\n\")\n",
        "output_fxgx.write(\"------------\\n\")\n",
        "for i in range(numRows):\n",
        "  row = [r'{:.2f}'.format(val1) if p_value_median[i]>0.05 and j==0 else r'{}' if p_value_median[i]>0.05 and j!=0\\\n",
        "         else r'{:.2f}'.format(val1) if (j==0) else r'{:.2f}({:.2f}-{:.2f})'.format(val1,val2,val3) if (j==3)\\\n",
        "         else r'{:.1f}({:.1f}-{:.1f})'.format(val1,val2,val3) for val1,val2,val3,j in zip(fxgx_median.iloc[i],fxgx_q1.iloc[i],fxgx_q3.iloc[i],range(numCols))]\n",
        "  output_fxgx.write(\"{{}} & {{}} & %s & {H0} \\\\\\\\\\n\".format(H0=r'$\\surd$' if p_value_median[i]<=0.05 else r'$\\times$')%(\" & \".join(row)))\n",
        "print(output_fxgx.getvalue())"
      ],
      "execution_count": null,
      "outputs": [
        {
          "output_type": "stream",
          "text": [
            "results_fxgx (\\rho|%reduction_test(fx)|%reduction_test(fxgx)|Jaccard|H0\n",
            "------------\n",
            "{} & {} & 0.01 & 3.1(3.0-3.4) & 3.0(2.8-3.7) & 0.98(0.98-0.98) & $\\surd$ \\\\\n",
            "{} & {} & 0.05 & 14.6(13.9-16.9) & 14.7(12.9-17.9) & 0.96(0.94-0.96) & $\\surd$ \\\\\n",
            "{} & {} & 0.10 & 28.8(26.2-29.1) & 27.6(26.1-28.2) & 0.95(0.92-0.96) & $\\surd$ \\\\\n",
            "{} & {} & 0.15 & 39.0(36.9-41.7) & 40.5(37.2-41.1) & 0.92(0.90-0.93) & $\\surd$ \\\\\n",
            "{} & {} & 0.20 & 47.5(46.4-48.5) & 48.3(44.9-48.8) & 0.90(0.89-0.90) & $\\surd$ \\\\\n",
            "\n"
          ],
          "name": "stdout"
        }
      ]
    },
    {
      "cell_type": "code",
      "metadata": {
        "id": "G0X7KJ6trNGc",
        "colab_type": "code",
        "colab": {}
      },
      "source": [
        "#%%\n",
        "# Save results in csv fomat\n",
        "path_csv = \"drive/My Drive/NIPS2020/results/imdb/results_{clf}_yhat{yhat}_pca{pca}.csv\".format(clf=clf, pca=applyPCA, yhat=addPredictions)\n",
        "results = pd.concat([results_fx, results_fxgx, p_value_col.loc[p_value_col <= 0.05]], keys=['fx', 'fxgx', ''], axis=1).to_csv(path_csv, index=True, header=True)\n",
        "# modified output\n",
        "# Save results in tex fomat\n",
        "L = [output_fx.getvalue(),output_fxgx.getvalue()]\n",
        "path_txt = \"drive/My Drive/NIPS2020/results/imdb/results_{clf}_yhat{yhat}_pca{pca}.txt\".format(clf=clf, pca=applyPCA, yhat=addPredictions)\n",
        "txt = open(path_txt, \"w\") \n",
        "txt.writelines(L) \n",
        "txt.close() #to change file access modes"
      ],
      "execution_count": null,
      "outputs": []
    },
    {
      "cell_type": "code",
      "metadata": {
        "id": "0LTFKkXsrQOl",
        "colab_type": "code",
        "colab": {
          "base_uri": "https://localhost:8080/",
          "height": 419
        },
        "outputId": "390c6bd5-939c-4023-bc9f-b7312fbce918"
      },
      "source": [
        "fig, ax = plt.subplots(1,2,figsize=(15, 5.1), constrained_layout=False, dpi=90)\n",
        "pal = sns.color_palette('Paired')\n",
        "sns.boxplot(x=df['rho_user'], y=df['%reduction_test'], hue='label', data=df, ax=ax[0], palette=pal)\n",
        "ax[0].set_xlabel(r'budget $\\rho$')\n",
        "ax[0].set_ylabel(r'Loss reduction $r_{test}(\\%)$')\n",
        "ax[0].legend(loc='upper left')\n",
        "pal = sns.color_palette('BuGn_r')\n",
        "sns.boxplot(x=df_jaccard['rho_user'], y=df_jaccard['jaccard'], data=df_jaccard, ax=ax[1], palette=pal)\n",
        "ax[1].set_xlabel(r'budget $\\rho$')\n",
        "ax[1].set_ylabel(r'Jaccard index $J$')\n",
        "plt.tight_layout()\n",
        "path_fig_fxgx = \"drive/My Drive/NIPS2020/results/imdb/fig_fxgx_{clf}_yhat{yhat}_pca{pca}.pdf\".format(clf=clf, pca=applyPCA, yhat=addPredictions)\n",
        "plt.savefig(path_fig_fxgx, bbox_inches='tight', facecolor='w')"
      ],
      "execution_count": null,
      "outputs": [
        {
          "output_type": "display_data",
          "data": {
            "image/png": "[encoded data removed]",
            "text/plain": [
              "<Figure size 1350x459 with 2 Axes>"
            ]
          },
          "metadata": {
            "tags": []
          }
        }
      ]
    },
    {
      "cell_type": "code",
      "metadata": {
        "id": "SlQtQPDGFE9w",
        "colab_type": "code",
        "colab": {}
      },
      "source": [
        "#reverse lookup\n",
        "INDEX_FROM = 3\n",
        "word_to_id = tf.keras.datasets.imdb.get_word_index()\n",
        "word_to_id = {k:(v+INDEX_FROM) for k,v in word_to_id.items()}\n",
        "word_to_id[\"<PAD>\"] = 0\n",
        "word_to_id[\"<START>\"] = 1\n",
        "word_to_id[\"<UNK>\"] = 2\n",
        "id_to_word = {value:key for key,value in word_to_id.items()}"
      ],
      "execution_count": null,
      "outputs": []
    },
    {
      "cell_type": "code",
      "metadata": {
        "id": "mj6x1QVqcRgO",
        "colab_type": "code",
        "colab": {
          "base_uri": "https://localhost:8080/",
          "height": 35
        },
        "outputId": "b7e448f1-a6d8-4bb3-c4ab-94da5324e0f8"
      },
      "source": [
        "rho = 0.15\n",
        "rule = table_best.loc[table_best.rho_user == rho]['rule'].to_numpy()\n",
        "eta = table_best.loc[table_best.rho_user == rho]['eta'].to_numpy()[0]\n",
        "theta = crit_table_best.loc[crit_table_best.rho_user == rho]['thresh'].to_numpy()[0]\n",
        "f_test = exp_best.gpr_mean_test+rule*np.sqrt(exp_best.gpr_var_test)\n",
        "top_n = 10 # Top n selected instances in test set\n",
        "top_f_idx = np.argpartition(f_test, -top_n)[-top_n:]\n",
        "top_f_idx = top_f_idx[np.argsort(f_test[top_f_idx])]# Added\n",
        "if clf=='svm':\n",
        "    crit_test = np.abs(y_test_pred_soft_best.ravel())\n",
        "    top_crit_idx = np.argpartition(crit_test, top_n)[:top_n]\n",
        "    top_crit_idx = top_crit_idx[np.argsort(crit_test[top_crit_idx])]# Added\n",
        "elif clf=='softmax':\n",
        "    p_test = np.concatenate((y_test_pred_soft_best,1-y_test_pred_soft_best),axis=1)\n",
        "    crit_test = entropy(p_test, axis=1, base=2)\n",
        "    top_crit_idx = np.argpartition(crit_test, -top_n)[-top_n:]\n",
        "    top_crit_idx = top_crit_idx[np.argsort(crit_test[top_crit_idx])]# Added\n",
        "output_text = io.StringIO()\n",
        "print('eta={:.3f}, theta={:.3f}'.format(eta,theta))"
      ],
      "execution_count": null,
      "outputs": [
        {
          "output_type": "stream",
          "text": [
            "eta=0.149, theta=0.767\n"
          ],
          "name": "stdout"
        }
      ]
    },
    {
      "cell_type": "code",
      "metadata": {
        "id": "xGqv4gVyc1kF",
        "colab_type": "code",
        "colab": {
          "base_uri": "https://localhost:8080/",
          "height": 368
        },
        "outputId": "803cb48d-ddce-4e06-8f46-dad731fa2f9a"
      },
      "source": [
        "output_text.write(\"top_n={}, rho_user={}, g(x)={}, addh_hat={}, PCA={}\\n\".format(top_n,rho,clf, addPredictions, applyPCA))\n",
        "output_text.write(\"|f(x)>eta|={}(eta={:.3f}), |g(x)>theta|={}(theta={:.3f})\\n\".format(np.sum(f_test>eta), eta, np.sum(crit_test<theta) if clf=='svm' else np.sum(crit_test>theta), theta))\n",
        "output_text.write(\"\\nTop misclassfied instances picked by f(x)\\n\")\n",
        "output_text.write(\"-----------------------------------------\\n\")\n",
        "for i in top_f_idx:\n",
        "  cond = f_test[i]>eta\n",
        "  if y_test_best[i] != y_test_pred_th_best[i] and cond:\n",
        "    output_text.write(' '.join([id_to_word[id] for id in X_test_best[i,:] if id!=0])+\\\n",
        "        '\\n y={}'.format(y_test_best[i])+', y_pred={}'.format(y_test_pred_th_best[i])+\\\n",
        "        ', g(x)({})={:.3f}'.format('D' if clf=='svm' else 'H', crit_test[i])+\\\n",
        "        ', f(x)={:.3f}'.format(f_test[i])+'\\n\\n')\n",
        "print(output_text.getvalue())"
      ],
      "execution_count": null,
      "outputs": [
        {
          "output_type": "stream",
          "text": [
            "top_n=10, rho_user=0.15, g(x)=softmax, addh_hat=True, PCA=True\n",
            "|f(x)>eta|=309(eta=0.149), |g(x)>theta|=320(theta=0.767)\n",
            "\n",
            "Top misclassfied instances picked by f(x)\n",
            "-----------------------------------------\n",
            "<START> i <UNK> to see the film at the recent <UNK> film festival because it had been <UNK> to the <UNK> film <UNK> <UNK> competition section i was surprised that <UNK> could be so off the mark in judging quality br br the film some reviewers have noted does not have too much of <UNK> but the <UNK> violence is <UNK> imagine killing your enemy <UNK> in front of your young son or <UNK> someone to eat a <UNK> <UNK> to prove <UNK> there are some hints of the <UNK> <UNK> sons in <UNK> godfather that seem to <UNK> here in this chinese hong kong film but the quality of the two are as <UNK> different as <UNK> and cheese br br this film is only recommended for violence <UNK> there is no great cinema here at best it might be considered to be better than the usual run run <UNK> production for production values\n",
            " y=0, y_pred=1, g(x)(H)=0.999, f(x)=0.585\n",
            "\n",
            "<START> i found this film to be quite an <UNK> from the very get go i found it extremely hard to like this movie and now after a little thinking about it i can pretty much <UNK> the reason why jean <UNK> <UNK> although i love him to bits i think <UNK> is one of the best movies ever made is quite miscast here and although i can't figure for the life of me who would be better i am sure someone could have taken his place quite easily and make this film work everything else is fine except for the <UNK> at weak comedy a meet the parents joke is not really needed filmmakers and i really like richard e grant as the british major it just suffers from one thing jean <UNK>\n",
            " y=0, y_pred=1, g(x)(H)=0.975, f(x)=0.594\n",
            "\n",
            "and proud of his success in mainstream hollywood br br in another hand i see most of the reviews focuses on their favorite and not so short films but we are <UNK> that there is a subtle bottom line that <UNK> the whole <UNK> and maybe it will not be so pleasant for american people even if that was not the main purpose of the producers br br what i'm talking about is that most of the short films does not show the suffering that <UNK> people went through because the terrorist attack on september <UNK> but the suffering of the other people br br do you need <UNK> about what i'm saying look in the <UNK> short film the message is you cry because of the people who died in the <UNK> but we the others east <UNK> are crying long ago for the crimes committed against our women and nobody pay attention to us like the whole world has done to you br br even though the <UNK> <UNK> story is more in comedy there is a the same thought you are angry because <UNK> bin <UNK> <UNK> you in an evil way but we the others <UNK> should be more angry because our people is dying of <UNK> poverty and aids long time ago and nobody pay attention to us like the whole world has done to you br br look now at the sean <UNK> short the fall of the twin <UNK> makes happy to a lonely and <UNK> man so the message is that the power and the greed <UNK> by the <UNK> must fall for letting the people see the sun rise and the <UNK> <UNK> it is remarkable that this terrible bottom line has been <UNK> by an american there is so much irony in this short film that it is close to be <UNK> br br well the ken <UNK> very know because his anti <UNK> <UNK> is much more clearly and <UNK> in going straight to the point you are angry because your country has been attacked by evil forces but we the others latin americans suffered at a similar date something worst and nobody <UNK> our <UNK> as the whole world has done to you br br it is like if the creative of this project wanted to say to americans you see now america you are not the only that have become victim of the world violence you are not alone in your pain and by the way we the others the non americans have been suffering a lot more than you from long time ago so we are in <UNK> with you in your pain and by the way we are sorry because you have had some taste of your own <UNK> only the mexican and the french short films showed some <UNK> and sympathy for american people the others are like a slap on the face for the american state that is not equal to american people\n",
            " y=1, y_pred=0, g(x)(H)=0.995, f(x)=0.595\n",
            "\n",
            "<START> when i saw that this movie was being shown on tv i was really looking forward to it i grew up in the <UNK> and like everyone else who has grown up in that era have seen every 80's teen and summer camp movie out there so i couldn't wait to see this movie that totally <UNK> that film genre what a disappointment the movie was nothing but a bunch of really bad jokes and gags over and over with hardly any plot and no substance and the filmmakers attempts at dark humor totally failed some of these so called jokes didn't come across as anything but downright cruel and offensive the only good things about this film were the <UNK> music and acting it was nice to go on a nostalgia trip and see all of the summer clothing styles from the 80's and the same goes for the music and the acting was top notch throughout almost all of hollywood's best <UNK> were present too bad they didn't have better material to work with\n",
            " y=0, y_pred=1, g(x)(H)=0.999, f(x)=0.651\n",
            "\n",
            "\n"
          ],
          "name": "stdout"
        }
      ]
    },
    {
      "cell_type": "code",
      "metadata": {
        "id": "YhsLRvmXO-Ik",
        "colab_type": "code",
        "colab": {
          "base_uri": "https://localhost:8080/",
          "height": 643
        },
        "outputId": "230b3be9-ea95-4199-c05c-f1b3ed29df28"
      },
      "source": [
        "output_text.write(\"\\nTop misclassfied instances picked by g(x)\\n\")\n",
        "output_text.write(\"-----------------------------------------\\n\")\n",
        "for i in top_crit_idx:\n",
        "  cond = crit_test[i]<theta if clf=='svm' else crit_test[i]>theta\n",
        "  if y_test_best[i] != y_test_pred_th_best[i]:\n",
        "    output_text.write(' '.join([id_to_word[id] for id in X_test_best[i,:] if id!=0])+\\\n",
        "        '\\n y={}'.format(y_test_best[i])+', y_pred={}'.format(y_test_pred_th_best[i])+\\\n",
        "        ', g(x)({})={:.3f}'.format('D' if clf=='svm' else 'H', crit_test[i])+\\\n",
        "        ', f(x)={:.3f}'.format(f_test[i])+'\\n\\n')\n",
        "print(output_text.getvalue())"
      ],
      "execution_count": null,
      "outputs": [
        {
          "output_type": "stream",
          "text": [
            "top_n=10, rho_user=0.15, g(x)=softmax, addh_hat=True, PCA=True\n",
            "|f(x)>eta|=309(eta=0.149), |g(x)>theta|=320(theta=0.767)\n",
            "\n",
            "Top misclassfied instances picked by f(x)\n",
            "-----------------------------------------\n",
            "<START> i <UNK> to see the film at the recent <UNK> film festival because it had been <UNK> to the <UNK> film <UNK> <UNK> competition section i was surprised that <UNK> could be so off the mark in judging quality br br the film some reviewers have noted does not have too much of <UNK> but the <UNK> violence is <UNK> imagine killing your enemy <UNK> in front of your young son or <UNK> someone to eat a <UNK> <UNK> to prove <UNK> there are some hints of the <UNK> <UNK> sons in <UNK> godfather that seem to <UNK> here in this chinese hong kong film but the quality of the two are as <UNK> different as <UNK> and cheese br br this film is only recommended for violence <UNK> there is no great cinema here at best it might be considered to be better than the usual run run <UNK> production for production values\n",
            " y=0, y_pred=1, g(x)(H)=0.999, f(x)=0.585\n",
            "\n",
            "<START> i found this film to be quite an <UNK> from the very get go i found it extremely hard to like this movie and now after a little thinking about it i can pretty much <UNK> the reason why jean <UNK> <UNK> although i love him to bits i think <UNK> is one of the best movies ever made is quite miscast here and although i can't figure for the life of me who would be better i am sure someone could have taken his place quite easily and make this film work everything else is fine except for the <UNK> at weak comedy a meet the parents joke is not really needed filmmakers and i really like richard e grant as the british major it just suffers from one thing jean <UNK>\n",
            " y=0, y_pred=1, g(x)(H)=0.975, f(x)=0.594\n",
            "\n",
            "and proud of his success in mainstream hollywood br br in another hand i see most of the reviews focuses on their favorite and not so short films but we are <UNK> that there is a subtle bottom line that <UNK> the whole <UNK> and maybe it will not be so pleasant for american people even if that was not the main purpose of the producers br br what i'm talking about is that most of the short films does not show the suffering that <UNK> people went through because the terrorist attack on september <UNK> but the suffering of the other people br br do you need <UNK> about what i'm saying look in the <UNK> short film the message is you cry because of the people who died in the <UNK> but we the others east <UNK> are crying long ago for the crimes committed against our women and nobody pay attention to us like the whole world has done to you br br even though the <UNK> <UNK> story is more in comedy there is a the same thought you are angry because <UNK> bin <UNK> <UNK> you in an evil way but we the others <UNK> should be more angry because our people is dying of <UNK> poverty and aids long time ago and nobody pay attention to us like the whole world has done to you br br look now at the sean <UNK> short the fall of the twin <UNK> makes happy to a lonely and <UNK> man so the message is that the power and the greed <UNK> by the <UNK> must fall for letting the people see the sun rise and the <UNK> <UNK> it is remarkable that this terrible bottom line has been <UNK> by an american there is so much irony in this short film that it is close to be <UNK> br br well the ken <UNK> very know because his anti <UNK> <UNK> is much more clearly and <UNK> in going straight to the point you are angry because your country has been attacked by evil forces but we the others latin americans suffered at a similar date something worst and nobody <UNK> our <UNK> as the whole world has done to you br br it is like if the creative of this project wanted to say to americans you see now america you are not the only that have become victim of the world violence you are not alone in your pain and by the way we the others the non americans have been suffering a lot more than you from long time ago so we are in <UNK> with you in your pain and by the way we are sorry because you have had some taste of your own <UNK> only the mexican and the french short films showed some <UNK> and sympathy for american people the others are like a slap on the face for the american state that is not equal to american people\n",
            " y=1, y_pred=0, g(x)(H)=0.995, f(x)=0.595\n",
            "\n",
            "<START> when i saw that this movie was being shown on tv i was really looking forward to it i grew up in the <UNK> and like everyone else who has grown up in that era have seen every 80's teen and summer camp movie out there so i couldn't wait to see this movie that totally <UNK> that film genre what a disappointment the movie was nothing but a bunch of really bad jokes and gags over and over with hardly any plot and no substance and the filmmakers attempts at dark humor totally failed some of these so called jokes didn't come across as anything but downright cruel and offensive the only good things about this film were the <UNK> music and acting it was nice to go on a nostalgia trip and see all of the summer clothing styles from the 80's and the same goes for the music and the acting was top notch throughout almost all of hollywood's best <UNK> were present too bad they didn't have better material to work with\n",
            " y=0, y_pred=1, g(x)(H)=0.999, f(x)=0.651\n",
            "\n",
            "\n",
            "Top misclassfied instances picked by g(x)\n",
            "-----------------------------------------\n",
            "<START> forget that this is a b movie forget that it is in many ways <UNK> instead give writer director <UNK> <UNK> much deserved credit for <UNK> a subject which at the time <UNK> was <UNK> in hollywood to my knowledge this was the first film to <UNK> the subject of rape and the emotional and mental effects that that crime has upon its victims br br although much of the <UNK> acting is <UNK> at best <UNK> powers who at the time was <UNK> or <UNK> gives an excellent performance throughout as the <UNK> young woman ann who tries to run away from her shame based on her work in this film i'm surprised that she did not have a more successful acting career <UNK> andrews too has some fine moments as the <UNK> who reaches out to help her br br ms <UNK> obviously working on a limited budget was still able to create some memorable scenes such as the pursuit through the streets and <UNK> leading to the rape and the police <UNK> following it and she created a <UNK> ending which left me wondering if ann really could ever have a normal life again\n",
            " y=1, y_pred=0, g(x)(H)=1.000, f(x)=0.332\n",
            "\n",
            "<START> i was honestly surprised by alone in the dark it was so bad i could hardly believe what i was seeing there are no characters just a few stereotypes wandering around and getting killed the extent of the character development was giving each character a name and an <UNK> and that's about it there was no real plot and none of the characters seemed to have any motivation in fact many action scenes just began on their own coming from nowhere with a <UNK> <UNK> track while i was watching this movie i kept asking where is this happening what's going on the acting was high school drama quality with stiff wooden delivery as though the actors were reading from <UNK> cards without <UNK> their lines their trouble delivering lines was made even more obvious by horrible sound design <UNK> sounded like it was recorded in an open room the actors were constantly taking obvious care to hit their marks looking almost <UNK> in their movements so these <UNK> <UNK> are <UNK> through a series of implausible and confusing <UNK> often without even the benefit of transition scenes they were here now they're there this was happening now that's happening random scenes with little <UNK> or reason i had a lot of fun watching it definitely not worth nine bucks though\n",
            " y=0, y_pred=1, g(x)(H)=1.000, f(x)=0.386\n",
            "\n",
            "<START> plot synopsis hong kong <UNK> paul <UNK> the man who built the victoria <UNK> is murdered along with his wife by his <UNK> his twin sons <UNK> alex are split apart 25 years later <UNK> a <UNK> <UNK> in los angeles alex a <UNK> living in hong kong join forces to <UNK> their <UNK> murder <UNK> claim the <UNK> br br this is the second time that jean <UNK> van <UNK> <UNK> <UNK> have worked together having previously done <UNK> this is also the first of three films to feature van <UNK> playing <UNK> roles <UNK> risk <UNK> are the others the plot is a very simplistic take on the revenge story the film's sole redeeming feature being van <UNK> performance as two very different people  the <UNK> rich kid the rough <UNK> <UNK> <UNK> tough guy as it goes van <UNK> doesn't do a very good job in either role although his take on alex is mildly amusing it is <UNK> as to have the brothers mistaken for each other with them wearing different clothes having different <UNK> <UNK> <UNK> makes a very worthy <UNK> for the <UNK>\n",
            " y=0, y_pred=1, g(x)(H)=1.000, f(x)=0.449\n",
            "\n",
            "<START> sleeping with the enemy is a predictable <UNK> there <UNK> thriller that never seems to find any inspiration no matter how desperately cast and crew try i can't believe a bunch of my friends talked me into seeing this at the movies some <UNK> years ago br br the complete lack of originality from the <UNK> <UNK> screenplay based upon the nancy price novel does not help nor does the stale direction of joseph <UNK> or the very average performance from julia roberts the supporting cast including patrick <UNK> and kevin anderson do little to help br br there really isn't a lot to say just give it a miss br br sunday april 14 <UNK> <UNK> cinema <UNK> <UNK>\n",
            " y=0, y_pred=1, g(x)(H)=1.000, f(x)=0.581\n",
            "\n",
            "\n"
          ],
          "name": "stdout"
        }
      ]
    },
    {
      "cell_type": "code",
      "metadata": {
        "id": "xH-thpd8rmTC",
        "colab_type": "code",
        "colab": {}
      },
      "source": [
        "path_txt = \"drive/My Drive/NIPS2020/results/imdb/instances_{clf}_yhat{yhat}_pca{pca}.txt\".format(clf=clf, pca=applyPCA, yhat=addPredictions)\n",
        "txt = open(path_txt, \"w\") \n",
        "txt.writelines(output_text.getvalue()) \n",
        "txt.close() #to change file access modes"
      ],
      "execution_count": null,
      "outputs": []
    },
    {
      "cell_type": "code",
      "metadata": {
        "id": "gX7WuJijg-Ho",
        "colab_type": "code",
        "colab": {}
      },
      "source": [
        "report_table_concat = pd.concat(report_table)\n",
        "table_by_row_index = report_table_concat.groupby(report_table_concat.index)\n",
        "report_table_mean = table_by_row_index.mean()\n",
        "report_table_std = table_by_row_index.std()\n",
        "\n",
        "report_criteria_concat = pd.concat(report_criteria)\n",
        "table_by_row_index = report_criteria_concat.groupby(report_criteria_concat.index)\n",
        "report_criteria_mean = table_by_row_index.mean()\n",
        "report_criteria_std = table_by_row_index.std()"
      ],
      "execution_count": null,
      "outputs": []
    },
    {
      "cell_type": "code",
      "metadata": {
        "id": "4zDE3LuFiAvg",
        "colab_type": "code",
        "colab": {
          "base_uri": "https://localhost:8080/",
          "height": 206
        },
        "outputId": "8561aab0-af6f-4211-d048-a2abb77bf548"
      },
      "source": [
        "report_table_mean"
      ],
      "execution_count": null,
      "outputs": [
        {
          "output_type": "execute_result",
          "data": {
            "text/html": [
              "<div>\n",
              "<style scoped>\n",
              "    .dataframe tbody tr th:only-of-type {\n",
              "        vertical-align: middle;\n",
              "    }\n",
              "\n",
              "    .dataframe tbody tr th {\n",
              "        vertical-align: top;\n",
              "    }\n",
              "\n",
              "    .dataframe thead th {\n",
              "        text-align: right;\n",
              "    }\n",
              "</style>\n",
              "<table border=\"1\" class=\"dataframe\">\n",
              "  <thead>\n",
              "    <tr style=\"text-align: right;\">\n",
              "      <th></th>\n",
              "      <th>rule</th>\n",
              "      <th>rho_user</th>\n",
              "      <th>error_val</th>\n",
              "      <th>L_val</th>\n",
              "      <th>%reduction_val</th>\n",
              "      <th>eta</th>\n",
              "      <th>p_value</th>\n",
              "      <th>check</th>\n",
              "      <th>budget</th>\n",
              "      <th>error_test</th>\n",
              "      <th>L_test</th>\n",
              "      <th>%reduction_test</th>\n",
              "    </tr>\n",
              "  </thead>\n",
              "  <tbody>\n",
              "    <tr>\n",
              "      <th>0</th>\n",
              "      <td>1.06</td>\n",
              "      <td>0.01</td>\n",
              "      <td>0.00560</td>\n",
              "      <td>0.14192</td>\n",
              "      <td>3.786</td>\n",
              "      <td>0.820517</td>\n",
              "      <td>1.596467e-04</td>\n",
              "      <td>0.01</td>\n",
              "      <td>0.010</td>\n",
              "      <td>0.0049</td>\n",
              "      <td>0.1471</td>\n",
              "      <td>3.218</td>\n",
              "    </tr>\n",
              "    <tr>\n",
              "      <th>1</th>\n",
              "      <td>1.20</td>\n",
              "      <td>0.05</td>\n",
              "      <td>0.02472</td>\n",
              "      <td>0.12280</td>\n",
              "      <td>16.776</td>\n",
              "      <td>0.672585</td>\n",
              "      <td>1.438608e-20</td>\n",
              "      <td>0.05</td>\n",
              "      <td>0.054</td>\n",
              "      <td>0.0247</td>\n",
              "      <td>0.1273</td>\n",
              "      <td>16.284</td>\n",
              "    </tr>\n",
              "    <tr>\n",
              "      <th>2</th>\n",
              "      <td>0.84</td>\n",
              "      <td>0.10</td>\n",
              "      <td>0.04568</td>\n",
              "      <td>0.10184</td>\n",
              "      <td>31.026</td>\n",
              "      <td>0.448278</td>\n",
              "      <td>2.111505e-39</td>\n",
              "      <td>0.10</td>\n",
              "      <td>0.102</td>\n",
              "      <td>0.0457</td>\n",
              "      <td>0.1063</td>\n",
              "      <td>30.058</td>\n",
              "    </tr>\n",
              "    <tr>\n",
              "      <th>3</th>\n",
              "      <td>1.26</td>\n",
              "      <td>0.15</td>\n",
              "      <td>0.06064</td>\n",
              "      <td>0.08688</td>\n",
              "      <td>41.244</td>\n",
              "      <td>0.423398</td>\n",
              "      <td>1.133743e-41</td>\n",
              "      <td>0.15</td>\n",
              "      <td>0.154</td>\n",
              "      <td>0.0634</td>\n",
              "      <td>0.0886</td>\n",
              "      <td>41.738</td>\n",
              "    </tr>\n",
              "    <tr>\n",
              "      <th>4</th>\n",
              "      <td>0.12</td>\n",
              "      <td>0.20</td>\n",
              "      <td>0.07376</td>\n",
              "      <td>0.07376</td>\n",
              "      <td>50.104</td>\n",
              "      <td>0.136592</td>\n",
              "      <td>5.266706e-43</td>\n",
              "      <td>0.20</td>\n",
              "      <td>0.200</td>\n",
              "      <td>0.0775</td>\n",
              "      <td>0.0745</td>\n",
              "      <td>50.980</td>\n",
              "    </tr>\n",
              "  </tbody>\n",
              "</table>\n",
              "</div>"
            ],
            "text/plain": [
              "   rule  rho_user  error_val  ...  error_test  L_test  %reduction_test\n",
              "0  1.06      0.01    0.00560  ...      0.0049  0.1471            3.218\n",
              "1  1.20      0.05    0.02472  ...      0.0247  0.1273           16.284\n",
              "2  0.84      0.10    0.04568  ...      0.0457  0.1063           30.058\n",
              "3  1.26      0.15    0.06064  ...      0.0634  0.0886           41.738\n",
              "4  0.12      0.20    0.07376  ...      0.0775  0.0745           50.980\n",
              "\n",
              "[5 rows x 12 columns]"
            ]
          },
          "metadata": {
            "tags": []
          },
          "execution_count": 13
        }
      ]
    },
    {
      "cell_type": "code",
      "metadata": {
        "id": "1zgyJyu4iCBQ",
        "colab_type": "code",
        "colab": {
          "base_uri": "https://localhost:8080/",
          "height": 206
        },
        "outputId": "cb39105f-bc61-49e2-e1ff-25a644cd23fe"
      },
      "source": [
        "report_criteria_mean"
      ],
      "execution_count": null,
      "outputs": [
        {
          "output_type": "execute_result",
          "data": {
            "text/html": [
              "<div>\n",
              "<style scoped>\n",
              "    .dataframe tbody tr th:only-of-type {\n",
              "        vertical-align: middle;\n",
              "    }\n",
              "\n",
              "    .dataframe tbody tr th {\n",
              "        vertical-align: top;\n",
              "    }\n",
              "\n",
              "    .dataframe thead th {\n",
              "        text-align: right;\n",
              "    }\n",
              "</style>\n",
              "<table border=\"1\" class=\"dataframe\">\n",
              "  <thead>\n",
              "    <tr style=\"text-align: right;\">\n",
              "      <th></th>\n",
              "      <th>rho_user</th>\n",
              "      <th>error_val</th>\n",
              "      <th>L_val</th>\n",
              "      <th>%reduction_val</th>\n",
              "      <th>thresh</th>\n",
              "      <th>budget</th>\n",
              "      <th>error_test</th>\n",
              "      <th>L_test</th>\n",
              "      <th>%reduction_test</th>\n",
              "    </tr>\n",
              "  </thead>\n",
              "  <tbody>\n",
              "    <tr>\n",
              "      <th>0</th>\n",
              "      <td>0.01</td>\n",
              "      <td>0.00488</td>\n",
              "      <td>0.14264</td>\n",
              "      <td>3.306</td>\n",
              "      <td>0.998604</td>\n",
              "      <td>0.012</td>\n",
              "      <td>0.0057</td>\n",
              "      <td>0.1463</td>\n",
              "      <td>3.672</td>\n",
              "    </tr>\n",
              "    <tr>\n",
              "      <th>1</th>\n",
              "      <td>0.05</td>\n",
              "      <td>0.02320</td>\n",
              "      <td>0.12432</td>\n",
              "      <td>15.728</td>\n",
              "      <td>0.964553</td>\n",
              "      <td>0.054</td>\n",
              "      <td>0.0242</td>\n",
              "      <td>0.1278</td>\n",
              "      <td>15.878</td>\n",
              "    </tr>\n",
              "    <tr>\n",
              "      <th>2</th>\n",
              "      <td>0.10</td>\n",
              "      <td>0.04408</td>\n",
              "      <td>0.10344</td>\n",
              "      <td>29.916</td>\n",
              "      <td>0.885287</td>\n",
              "      <td>0.102</td>\n",
              "      <td>0.0452</td>\n",
              "      <td>0.1068</td>\n",
              "      <td>29.700</td>\n",
              "    </tr>\n",
              "    <tr>\n",
              "      <th>3</th>\n",
              "      <td>0.15</td>\n",
              "      <td>0.06088</td>\n",
              "      <td>0.08664</td>\n",
              "      <td>41.324</td>\n",
              "      <td>0.774637</td>\n",
              "      <td>0.152</td>\n",
              "      <td>0.0654</td>\n",
              "      <td>0.0866</td>\n",
              "      <td>43.020</td>\n",
              "    </tr>\n",
              "    <tr>\n",
              "      <th>4</th>\n",
              "      <td>0.20</td>\n",
              "      <td>0.07608</td>\n",
              "      <td>0.07144</td>\n",
              "      <td>51.648</td>\n",
              "      <td>0.668580</td>\n",
              "      <td>0.206</td>\n",
              "      <td>0.0825</td>\n",
              "      <td>0.0695</td>\n",
              "      <td>54.300</td>\n",
              "    </tr>\n",
              "  </tbody>\n",
              "</table>\n",
              "</div>"
            ],
            "text/plain": [
              "   rho_user  error_val    L_val  ...  error_test  L_test  %reduction_test\n",
              "0      0.01    0.00488  0.14264  ...      0.0057  0.1463            3.672\n",
              "1      0.05    0.02320  0.12432  ...      0.0242  0.1278           15.878\n",
              "2      0.10    0.04408  0.10344  ...      0.0452  0.1068           29.700\n",
              "3      0.15    0.06088  0.08664  ...      0.0654  0.0866           43.020\n",
              "4      0.20    0.07608  0.07144  ...      0.0825  0.0695           54.300\n",
              "\n",
              "[5 rows x 9 columns]"
            ]
          },
          "metadata": {
            "tags": []
          },
          "execution_count": 14
        }
      ]
    },
    {
      "cell_type": "code",
      "metadata": {
        "id": "neU88XQkAzny",
        "colab_type": "code",
        "colab": {
          "base_uri": "https://localhost:8080/",
          "height": 206
        },
        "outputId": "4b792c43-3fdb-48ee-d89a-e251ef90f666"
      },
      "source": [
        "report_table_std"
      ],
      "execution_count": null,
      "outputs": [
        {
          "output_type": "execute_result",
          "data": {
            "text/html": [
              "<div>\n",
              "<style scoped>\n",
              "    .dataframe tbody tr th:only-of-type {\n",
              "        vertical-align: middle;\n",
              "    }\n",
              "\n",
              "    .dataframe tbody tr th {\n",
              "        vertical-align: top;\n",
              "    }\n",
              "\n",
              "    .dataframe thead th {\n",
              "        text-align: right;\n",
              "    }\n",
              "</style>\n",
              "<table border=\"1\" class=\"dataframe\">\n",
              "  <thead>\n",
              "    <tr style=\"text-align: right;\">\n",
              "      <th></th>\n",
              "      <th>rule</th>\n",
              "      <th>rho_user</th>\n",
              "      <th>error_val</th>\n",
              "      <th>L_val</th>\n",
              "      <th>%reduction_val</th>\n",
              "      <th>eta</th>\n",
              "      <th>p_value</th>\n",
              "      <th>check</th>\n",
              "      <th>budget</th>\n",
              "      <th>error_test</th>\n",
              "      <th>L_test</th>\n",
              "      <th>%reduction_test</th>\n",
              "    </tr>\n",
              "  </thead>\n",
              "  <tbody>\n",
              "    <tr>\n",
              "      <th>0</th>\n",
              "      <td>1.176010</td>\n",
              "      <td>0.0</td>\n",
              "      <td>0.001265</td>\n",
              "      <td>0.007034</td>\n",
              "      <td>0.797076</td>\n",
              "      <td>0.219716</td>\n",
              "      <td>3.569270e-04</td>\n",
              "      <td>0.0</td>\n",
              "      <td>0.000000</td>\n",
              "      <td>0.001817</td>\n",
              "      <td>0.009283</td>\n",
              "      <td>1.190869</td>\n",
              "    </tr>\n",
              "    <tr>\n",
              "      <th>1</th>\n",
              "      <td>1.104536</td>\n",
              "      <td>0.0</td>\n",
              "      <td>0.003025</td>\n",
              "      <td>0.007595</td>\n",
              "      <td>2.114800</td>\n",
              "      <td>0.264298</td>\n",
              "      <td>3.187349e-20</td>\n",
              "      <td>0.0</td>\n",
              "      <td>0.005477</td>\n",
              "      <td>0.002564</td>\n",
              "      <td>0.009425</td>\n",
              "      <td>1.828026</td>\n",
              "    </tr>\n",
              "    <tr>\n",
              "      <th>2</th>\n",
              "      <td>1.221884</td>\n",
              "      <td>0.0</td>\n",
              "      <td>0.002918</td>\n",
              "      <td>0.007857</td>\n",
              "      <td>2.533146</td>\n",
              "      <td>0.322871</td>\n",
              "      <td>4.721467e-39</td>\n",
              "      <td>0.0</td>\n",
              "      <td>0.008367</td>\n",
              "      <td>0.006535</td>\n",
              "      <td>0.008526</td>\n",
              "      <td>3.697022</td>\n",
              "    </tr>\n",
              "    <tr>\n",
              "      <th>3</th>\n",
              "      <td>1.047855</td>\n",
              "      <td>0.0</td>\n",
              "      <td>0.004495</td>\n",
              "      <td>0.010188</td>\n",
              "      <td>4.406856</td>\n",
              "      <td>0.203426</td>\n",
              "      <td>2.432024e-41</td>\n",
              "      <td>0.0</td>\n",
              "      <td>0.008944</td>\n",
              "      <td>0.006628</td>\n",
              "      <td>0.008569</td>\n",
              "      <td>3.804684</td>\n",
              "    </tr>\n",
              "    <tr>\n",
              "      <th>4</th>\n",
              "      <td>0.178885</td>\n",
              "      <td>0.0</td>\n",
              "      <td>0.005127</td>\n",
              "      <td>0.009045</td>\n",
              "      <td>4.302619</td>\n",
              "      <td>0.043197</td>\n",
              "      <td>1.177661e-42</td>\n",
              "      <td>0.0</td>\n",
              "      <td>0.010000</td>\n",
              "      <td>0.010186</td>\n",
              "      <td>0.009670</td>\n",
              "      <td>5.632673</td>\n",
              "    </tr>\n",
              "  </tbody>\n",
              "</table>\n",
              "</div>"
            ],
            "text/plain": [
              "       rule  rho_user  error_val  ...  error_test    L_test  %reduction_test\n",
              "0  1.176010       0.0   0.001265  ...    0.001817  0.009283         1.190869\n",
              "1  1.104536       0.0   0.003025  ...    0.002564  0.009425         1.828026\n",
              "2  1.221884       0.0   0.002918  ...    0.006535  0.008526         3.697022\n",
              "3  1.047855       0.0   0.004495  ...    0.006628  0.008569         3.804684\n",
              "4  0.178885       0.0   0.005127  ...    0.010186  0.009670         5.632673\n",
              "\n",
              "[5 rows x 12 columns]"
            ]
          },
          "metadata": {
            "tags": []
          },
          "execution_count": 15
        }
      ]
    },
    {
      "cell_type": "code",
      "metadata": {
        "id": "MhjaMD-kKNMT",
        "colab_type": "code",
        "colab": {
          "base_uri": "https://localhost:8080/",
          "height": 206
        },
        "outputId": "95ed1e63-79df-4e52-e414-e7a7d519ef96"
      },
      "source": [
        "report_criteria_std"
      ],
      "execution_count": null,
      "outputs": [
        {
          "output_type": "execute_result",
          "data": {
            "text/html": [
              "<div>\n",
              "<style scoped>\n",
              "    .dataframe tbody tr th:only-of-type {\n",
              "        vertical-align: middle;\n",
              "    }\n",
              "\n",
              "    .dataframe tbody tr th {\n",
              "        vertical-align: top;\n",
              "    }\n",
              "\n",
              "    .dataframe thead th {\n",
              "        text-align: right;\n",
              "    }\n",
              "</style>\n",
              "<table border=\"1\" class=\"dataframe\">\n",
              "  <thead>\n",
              "    <tr style=\"text-align: right;\">\n",
              "      <th></th>\n",
              "      <th>rho_user</th>\n",
              "      <th>error_val</th>\n",
              "      <th>L_val</th>\n",
              "      <th>%reduction_val</th>\n",
              "      <th>thresh</th>\n",
              "      <th>budget</th>\n",
              "      <th>error_test</th>\n",
              "      <th>L_test</th>\n",
              "      <th>%reduction_test</th>\n",
              "    </tr>\n",
              "  </thead>\n",
              "  <tbody>\n",
              "    <tr>\n",
              "      <th>0</th>\n",
              "      <td>0.0</td>\n",
              "      <td>0.000996</td>\n",
              "      <td>0.007357</td>\n",
              "      <td>0.659454</td>\n",
              "      <td>0.000779</td>\n",
              "      <td>0.004472</td>\n",
              "      <td>0.003054</td>\n",
              "      <td>0.007032</td>\n",
              "      <td>1.738094</td>\n",
              "    </tr>\n",
              "    <tr>\n",
              "      <th>1</th>\n",
              "      <td>0.0</td>\n",
              "      <td>0.002871</td>\n",
              "      <td>0.006832</td>\n",
              "      <td>1.788413</td>\n",
              "      <td>0.016886</td>\n",
              "      <td>0.005477</td>\n",
              "      <td>0.003347</td>\n",
              "      <td>0.007023</td>\n",
              "      <td>1.419972</td>\n",
              "    </tr>\n",
              "    <tr>\n",
              "      <th>2</th>\n",
              "      <td>0.0</td>\n",
              "      <td>0.002834</td>\n",
              "      <td>0.007164</td>\n",
              "      <td>2.081797</td>\n",
              "      <td>0.053454</td>\n",
              "      <td>0.008367</td>\n",
              "      <td>0.005251</td>\n",
              "      <td>0.006496</td>\n",
              "      <td>2.410187</td>\n",
              "    </tr>\n",
              "    <tr>\n",
              "      <th>3</th>\n",
              "      <td>0.0</td>\n",
              "      <td>0.004625</td>\n",
              "      <td>0.007785</td>\n",
              "      <td>3.379797</td>\n",
              "      <td>0.081735</td>\n",
              "      <td>0.008367</td>\n",
              "      <td>0.005067</td>\n",
              "      <td>0.005878</td>\n",
              "      <td>1.744506</td>\n",
              "    </tr>\n",
              "    <tr>\n",
              "      <th>4</th>\n",
              "      <td>0.0</td>\n",
              "      <td>0.005370</td>\n",
              "      <td>0.008341</td>\n",
              "      <td>4.106479</td>\n",
              "      <td>0.093708</td>\n",
              "      <td>0.008944</td>\n",
              "      <td>0.006225</td>\n",
              "      <td>0.006567</td>\n",
              "      <td>2.760860</td>\n",
              "    </tr>\n",
              "  </tbody>\n",
              "</table>\n",
              "</div>"
            ],
            "text/plain": [
              "   rho_user  error_val     L_val  ...  error_test    L_test  %reduction_test\n",
              "0       0.0   0.000996  0.007357  ...    0.003054  0.007032         1.738094\n",
              "1       0.0   0.002871  0.006832  ...    0.003347  0.007023         1.419972\n",
              "2       0.0   0.002834  0.007164  ...    0.005251  0.006496         2.410187\n",
              "3       0.0   0.004625  0.007785  ...    0.005067  0.005878         1.744506\n",
              "4       0.0   0.005370  0.008341  ...    0.006225  0.006567         2.760860\n",
              "\n",
              "[5 rows x 9 columns]"
            ]
          },
          "metadata": {
            "tags": []
          },
          "execution_count": 16
        }
      ]
    },
    {
      "cell_type": "code",
      "metadata": {
        "id": "1NU73I2FKP6B",
        "colab_type": "code",
        "colab": {}
      },
      "source": [
        ""
      ],
      "execution_count": null,
      "outputs": []
    }
  ]
}