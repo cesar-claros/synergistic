{
  "nbformat": 4,
  "nbformat_minor": 0,
  "metadata": {
    "colab": {
      "name": "imdb_lstm",
      "provenance": [],
      "collapsed_sections": [],
      "include_colab_link": true
    },
    "kernelspec": {
      "name": "python3",
      "display_name": "Python 3"
    },
    "accelerator": "GPU"
  },
  "cells": [
    {
      "cell_type": "markdown",
      "metadata": {
        "id": "view-in-github",
        "colab_type": "text"
      },
      "source": [
        "<a href=\"https://colab.research.google.com/github/cesar-claros/synergistic/blob/master/imdb_lstm.ipynb\" target=\"_parent\"><img src=\"https://colab.research.google.com/assets/colab-badge.svg\" alt=\"Open In Colab\"/></a>"
      ]
    },
    {
      "cell_type": "code",
      "metadata": {
        "id": "r4sBUso-gM_4",
        "colab_type": "code",
        "colab": {}
      },
      "source": [
        "!pip install torch\n",
        "!pip install gpytorch"
      ],
      "execution_count": null,
      "outputs": []
    },
    {
      "cell_type": "code",
      "metadata": {
        "id": "FymsszQy2n68",
        "colab_type": "code",
        "colab": {}
      },
      "source": [
        "! sudo apt-get install texlive-latex-recommended #1\n",
        "! sudo apt-get install dvipng texlive-fonts-recommended #2\n",
        "! wget http://mirrors.ctan.org/macros/latex/contrib/type1cm.zip #3\n",
        "! unzip type1cm.zip -d /tmp/type1cm #4\n",
        "! cd /tmp/type1cm/type1cm/ && sudo latex type1cm.ins  #5\n",
        "! sudo mkdir /usr/share/texmf/tex/latex/type1cm #6\n",
        "! sudo cp /tmp/type1cm/type1cm/type1cm.sty /usr/share/texmf/tex/latex/type1cm #7\n",
        "! sudo texhash #8"
      ],
      "execution_count": null,
      "outputs": []
    },
    {
      "cell_type": "code",
      "metadata": {
        "id": "O0gzdUCWgQOt",
        "colab_type": "code",
        "colab": {
          "base_uri": "https://localhost:8080/",
          "height": 129
        },
        "outputId": "1469dbec-b146-4cde-b0cb-f3c446c7f767"
      },
      "source": [
        "from google.colab import drive\n",
        "drive.mount(\"/content/drive\")"
      ],
      "execution_count": 3,
      "outputs": [
        {
          "output_type": "stream",
          "text": [
            "Go to this URL in a browser: https://accounts.google.com/o/oauth2/auth?client_id=947318989803-6bn6qk8qdgf4n4g3pfee6491hc0brc4i.apps.googleusercontent.com&redirect_uri=urn%3aietf%3awg%3aoauth%3a2.0%3aoob&response_type=code&scope=email%20https%3a%2f%2fwww.googleapis.com%2fauth%2fdocs.test%20https%3a%2f%2fwww.googleapis.com%2fauth%2fdrive%20https%3a%2f%2fwww.googleapis.com%2fauth%2fdrive.photos.readonly%20https%3a%2f%2fwww.googleapis.com%2fauth%2fpeopleapi.readonly\n",
            "\n",
            "Enter your authorization code:\n",
            "··········\n",
            "Mounted at /content/drive\n"
          ],
          "name": "stdout"
        }
      ]
    },
    {
      "cell_type": "code",
      "metadata": {
        "id": "pODgafakgcZ9",
        "colab_type": "code",
        "colab": {}
      },
      "source": [
        "!cp -r \"drive/My Drive/NIPS2020/auxfunc/\" .\n",
        "!cp -r \"drive/My Drive/NIPS2020/datasets/\" .\n",
        "!cp -r \"drive/My Drive/NIPS2020/style/\" .\n",
        "!cp -r \"drive/My Drive/NIPS2020/runs/\" ."
      ],
      "execution_count": 4,
      "outputs": []
    },
    {
      "cell_type": "code",
      "metadata": {
        "id": "ZrowTWaDjHhX",
        "colab_type": "code",
        "colab": {}
      },
      "source": [
        "%load_ext tensorboard"
      ],
      "execution_count": null,
      "outputs": []
    },
    {
      "cell_type": "code",
      "metadata": {
        "id": "aKBZk4trqzQV",
        "colab_type": "code",
        "colab": {
          "base_uri": "https://localhost:8080/",
          "height": 74
        },
        "outputId": "d35024f1-9934-4188-8398-028246a87e58"
      },
      "source": [
        "# Imports\n",
        "import io #Used as buffer\n",
        "import sys\n",
        "import matplotlib\n",
        "import tensorflow as tf # Keras model for MNIST \n",
        "# matplotlib.use('qt5Agg')\n",
        "import numpy as np\n",
        "import pandas as pd\n",
        "import matplotlib.pyplot as plt\n",
        "import math\n",
        "import auxfunc.sigfunc as sgn\n",
        "import seaborn as sns\n",
        "import torch\n",
        "from scipy.stats import entropy, spearmanr\n",
        "from sklearn import model_selection, svm, ensemble, linear_model, pipeline, \\\n",
        "      tree, neighbors, discriminant_analysis, gaussian_process, preprocessing, impute, decomposition\n",
        "from sklearn.gaussian_process.kernels import ConstantKernel, RBF, Matern\n",
        "plt.style.use(['ggplot','style/style.mplstyle'])"
      ],
      "execution_count": 5,
      "outputs": [
        {
          "output_type": "stream",
          "text": [
            "/usr/local/lib/python3.6/dist-packages/statsmodels/tools/_testing.py:19: FutureWarning: pandas.util.testing is deprecated. Use the functions in the public API at pandas.testing instead.\n",
            "  import pandas.util.testing as tm\n"
          ],
          "name": "stderr"
        }
      ]
    },
    {
      "cell_type": "code",
      "metadata": {
        "id": "oPr-qGxurI6H",
        "colab_type": "code",
        "colab": {}
      },
      "source": [
        "#%%\n",
        "# Define LSTM architecture\n",
        "def LSTM_model(top_words, emb_vector_length, max_review_length, objective, reg=0.01):\n",
        "    # A simple model based off LeNet from https://keras.io/examples/mnist_cnn/\n",
        "    model = tf.keras.Sequential()\n",
        "    model.add(tf.keras.layers.Embedding(top_words,emb_vector_length,input_length=max_review_length))\n",
        "    model.add(tf.keras.layers.LSTM(100))\n",
        "    if objective == 'svm':\n",
        "        model.add(tf.keras.layers.Dense(\n",
        "            units=1, kernel_initializer='uniform', activation='linear', kernel_regularizer=tf.keras.regularizers.l2(reg)\n",
        "        ))\n",
        "    elif objective == 'softmax':\n",
        "        model.add(tf.keras.layers.Dense(\n",
        "            units=1, kernel_initializer='uniform', activation='sigmoid'\n",
        "        ))\n",
        "    return model"
      ],
      "execution_count": 6,
      "outputs": []
    },
    {
      "cell_type": "code",
      "metadata": {
        "id": "KYYvRG4AmtEJ",
        "colab_type": "code",
        "colab": {}
      },
      "source": [
        "#%%\n",
        "# Signaling function fitting and evaluation\n",
        "def signalingFunction(X_train, y_train, y_train_pred_th, X_val, y_val, y_val_pred_th, X_test, y_test, y_test_pred_th, kernel='exponential', norm='l01'):\n",
        "    # X_train, X_val should be scaled\n",
        "    # Fit signaling function \n",
        "    exp = sgn.signaling(norm=norm) # idx = [train,test,val]\n",
        "    exp.fit(X_train, y_train, y_train_pred_th, kernel=kernel, n_iter=500, lr=0.01)\n",
        "    table_val = exp.evaluate(X_val, y_val, y_val_pred_th, rule_grid=np.linspace(0,3,30, endpoint=False))\n",
        "    table_test = exp.test(X_test, y_test, y_test_pred_th, table_val['rule'].to_numpy(), table_val['eta'].to_numpy())\n",
        "    table = pd.concat([table_val,table_test],axis=1)\n",
        "    return table, exp"
      ],
      "execution_count": 7,
      "outputs": []
    },
    {
      "cell_type": "code",
      "metadata": {
        "id": "nRVYBv5lxPJk",
        "colab_type": "code",
        "colab": {}
      },
      "source": [
        "#%%\n",
        "# Initialize model\n",
        "def init_model(input_dim, objective):\n",
        "    model = LSTM_model(top_words, emb_vector_length, max_review_length, objective)\n",
        "    if objective=='svm':\n",
        "        loss = tf.keras.losses.hinge\n",
        "        metric = ['hinge']\n",
        "\n",
        "    elif objective=='softmax':\n",
        "        loss = tf.keras.losses.binary_crossentropy\n",
        "        metric = ['accuracy']\n",
        "\n",
        "    model.compile(loss=loss,\n",
        "                optimizer=tf.keras.optimizers.Adam(),\n",
        "                metrics=metric)\n",
        "    # model.summary()\n",
        "    print('loss={}'.format(loss.__name__))\n",
        "    return model"
      ],
      "execution_count": 8,
      "outputs": []
    },
    {
      "cell_type": "code",
      "metadata": {
        "id": "pMK50NRixYI9",
        "colab_type": "code",
        "colab": {}
      },
      "source": [
        "#%%\n",
        "# Soft and thresholded output predictions\n",
        "def pred_output(model, X, objective):\n",
        "    if objective=='svm':\n",
        "        y_pred_soft = model.predict(X)\n",
        "        y_pred_th = np.array([1 if i[0] >= 0 else 0 for i in y_pred_soft])\n",
        "    elif objective=='softmax':\n",
        "        y_pred_soft = model.predict(X)\n",
        "        y_pred_th = np.array([1 if i[0] > 0.5 else 0 for i in y_pred_soft])\n",
        "    return y_pred_soft, y_pred_th"
      ],
      "execution_count": 9,
      "outputs": []
    },
    {
      "cell_type": "code",
      "metadata": {
        "id": "8nf3lDBxjZcW",
        "colab_type": "code",
        "colab": {}
      },
      "source": [
        "#%%\n",
        "# Jaccard similarity index\n",
        "def jaccard_similarity(list1, list2):\n",
        "    s1 = set(list1)\n",
        "    s2 = set(list2)\n",
        "    return len(s1.intersection(s2)) / len(s1.union(s2))"
      ],
      "execution_count": 10,
      "outputs": []
    },
    {
      "cell_type": "code",
      "metadata": {
        "id": "vyWbCZTIjbiR",
        "colab_type": "code",
        "colab": {}
      },
      "source": [
        "#%%\n",
        "# Baseline comparison\n",
        "def baselineCriteria(y_val, y_val_pred_soft, y_val_pred_th, y_test, y_test_pred_soft, y_test_pred_th, table, exp, clf):\n",
        "      if clf=='svm':\n",
        "          direction = 'closer'\n",
        "          crit_val = np.abs(y_val_pred_soft.ravel())\n",
        "          crit_test = np.abs(y_test_pred_soft.ravel())\n",
        "      else:\n",
        "          direction = 'further'\n",
        "          p_val = np.concatenate((y_val_pred_soft,1-y_val_pred_soft),axis=1)\n",
        "          crit_val = entropy(p_val, axis=1, base=2)\n",
        "          p_test = np.concatenate((y_test_pred_soft,1-y_test_pred_soft),axis=1)\n",
        "          crit_test = entropy(p_test, axis=1, base=2)\n",
        "      \n",
        "      critFunc = sgn.critEvaluation(norm='l01',direction=direction)\n",
        "      d_val = critFunc.evaluate(y_val, y_val_pred_th, crit_val)\n",
        "      d_test = critFunc.test(y_test, y_test_pred_th, crit_test, d_val['thresh'].to_numpy())\n",
        "      crit_table = pd.concat([d_val,d_test],axis=1)\n",
        "\n",
        "      gamma = table['rule'].to_numpy().reshape(-1,1)\n",
        "      f_test = exp.gpr_mean_test + gamma*np.sqrt(exp.gpr_var_test)\n",
        "      eta = table['eta'].to_numpy().reshape(-1,1)\n",
        "      theta = crit_table['thresh'].to_numpy().reshape(-1,1)\n",
        "      if direction == 'closer':\n",
        "        f_mask, f_idx = np.nonzero(f_test>eta)\n",
        "      else:\n",
        "        f_mask, f_idx = np.nonzero(f_test<eta)\n",
        "      crit_mask, crit_idx = np.nonzero(crit_test.reshape(1,-1)<theta)\n",
        "      print(list(np.unique(f_mask)))\n",
        "      print(list(np.unique(crit_mask)))\n",
        "      print(f_test.shape[0])\n",
        "      shared = set(list(np.unique(f_mask))).intersection(set(list(np.unique(crit_mask))))\n",
        "      J = [jaccard_similarity(crit_idx[crit_mask==i],f_idx[f_mask==i]) if i in shared else np.nan for i in range(f_test.shape[0])]\n",
        "      # if (list(np.unique(f_mask))==list(np.unique(crit_mask))):\n",
        "      #   J = [jaccard_similarity(crit_idx[crit_mask==i],f_idx[f_mask==i]) for i in np.unique(f_mask)]\n",
        "      # else:\n",
        "      #   shared = set(a).intersection(set(b))\n",
        "      #   union = set(a).union(set(b))\n",
        "      #   J = [jaccard_similarity(crit_idx[crit_mask==i],f_idx[f_mask==i]) if i in shared else np.nan  for i in union]\n",
        "      crit_table['jaccard']=J\n",
        "      Sp = [spearmanr(f_test[i,:],crit_test)[0] for i in range(f_test.shape[0])]\n",
        "      crit_table['spearman'] = Sp\n",
        "      crit_table['gamma'] = gamma\n",
        "      return crit_table"
      ],
      "execution_count": 11,
      "outputs": []
    },
    {
      "cell_type": "code",
      "metadata": {
        "id": "R3VCXn3_rTYj",
        "colab_type": "code",
        "colab": {
          "base_uri": "https://localhost:8080/",
          "height": 72
        },
        "outputId": "93ab8f2d-8bce-4554-bac6-5ae8db9ff3cb"
      },
      "source": [
        "# %%\n",
        "# INITIALIZATION\n",
        "# ==============\n",
        "# EXPERIMENT SETUP\n",
        "# ================\n",
        "top_words = 5000\n",
        "max_review_length = 500\n",
        "emb_vector_length = 32\n",
        "# Load data set\n",
        "(Data_X, Data_y), (X_test, y_test) = tf.keras.datasets.imdb.load_data(num_words=top_words)\n",
        "Data_X = tf.keras.preprocessing.sequence.pad_sequences(Data_X, maxlen=max_review_length)\n",
        "X_test = tf.keras.preprocessing.sequence.pad_sequences(X_test, maxlen=max_review_length)\n",
        "print(\"Number of original training examples:\", len(Data_X))"
      ],
      "execution_count": 12,
      "outputs": [
        {
          "output_type": "stream",
          "text": [
            "Downloading data from https://storage.googleapis.com/tensorflow/tf-keras-datasets/imdb.npz\n",
            "17465344/17464789 [==============================] - 0s 0us/step\n",
            "Number of original training examples: 25000\n"
          ],
          "name": "stdout"
        }
      ]
    },
    {
      "cell_type": "code",
      "metadata": {
        "id": "0jsIZNLPri8D",
        "colab_type": "code",
        "colab": {
          "base_uri": "https://localhost:8080/",
          "height": 1000
        },
        "outputId": "9f29fac4-26ed-4fea-f287-29d49e5b5c8a"
      },
      "source": [
        "# For reproducibility\n",
        "tf.random.set_seed(54321)\n",
        "np.random.seed(12345)\n",
        "torch.manual_seed(0)\n",
        "#%%\n",
        "# Assign labels\n",
        "report_table = []\n",
        "report_criteria = []\n",
        "report_plot = []\n",
        "kf = model_selection.KFold(n_splits=5, shuffle=True, random_state=123)\n",
        "clf = 'softmax'\n",
        "addPredictions = True\n",
        "applyPCA = False\n",
        "accuracy = 0\n",
        "for sample, test in kf.split(Data_X):\n",
        "    sample = sample[:12500]\n",
        "    test = test[:2000]\n",
        "    X = Data_X[sample]\n",
        "    y = Data_y[sample]\n",
        "    X_train, X_val, y_train, y_val = model_selection.train_test_split(X, y, test_size=0.20, random_state=123)\n",
        "    X_test = Data_X[test]\n",
        "    y_test = Data_y[test]\n",
        "\n",
        "    # TRAINING MODEL\n",
        "    model = init_model(input_dim=X.shape[1], objective=clf)\n",
        "    model.fit(X_train, y_train, batch_size=64, epochs=5, verbose=0, validation_data=(X_val, y_val))\n",
        "    # X_test = scaleX.transform(imputeX.transform(X_test))\n",
        "\n",
        "    y_train_pred_soft, y_train_pred_th = pred_output(model, X_train, clf)\n",
        "    print('accuracy(Train)={}'.format(np.sum(y_train==y_train_pred_th)/np.size(y_train)))\n",
        "    y_val_pred_soft, y_val_pred_th = pred_output(model, X_val, clf)\n",
        "    # print('accuracy(Val)={}'.format(np.sum(y_val==y_val_pred_th)/np.size(y_val)))\n",
        "    y_test_pred_soft, y_test_pred_th = pred_output(model, X_test, clf)\n",
        "\n",
        "    layer_outputs = [layer.output for layer in model.layers] \n",
        "    activation_model = tf.keras.models.Model(inputs=model.input, outputs=layer_outputs)\n",
        "    X_train_GP = activation_model.predict(X_train)[1]\n",
        "    X_val_GP = activation_model.predict(X_val)[1]\n",
        "    X_test_GP = activation_model.predict(X_test)[1]\n",
        "\n",
        "    if addPredictions:\n",
        "            # Add predictions\n",
        "            X_train_GP = np.concatenate((X_train_GP, y_train_pred_soft), axis=1)\n",
        "            X_val_GP = np.concatenate((X_val_GP, y_val_pred_soft), axis=1)\n",
        "            X_test_GP = np.concatenate((X_test_GP, y_test_pred_soft), axis=1)\n",
        "    scaleX_GP = preprocessing.StandardScaler().fit(np.concatenate((X_train_GP, X_val_GP), axis=0))\n",
        "    X_train_GP = scaleX_GP.transform(X_train_GP)\n",
        "    X_val_GP = scaleX_GP.transform(X_val_GP)\n",
        "    X_test_GP = scaleX_GP.transform(X_test_GP)\n",
        "    if applyPCA:\n",
        "            pca_GP = decomposition.PCA(.99).fit(np.concatenate((X_train_GP, X_val_GP), axis=0)) # set percentage of energy preserved by PCA\n",
        "            # Apply PCA transform to all sets\n",
        "            X_train_GP = pca_GP.transform(X_train_GP)\n",
        "            X_val_GP = pca_GP.transform(X_val_GP)\n",
        "            X_test_GP = pca_GP.transform(X_test_GP)\n",
        "\n",
        "    table, exp = signalingFunction(X_train_GP, y_train, y_train_pred_th, X_val_GP, y_val, y_val_pred_th, X_test_GP, y_test, y_test_pred_th)\n",
        "    report_table.append(table)\n",
        "    # Baseline for comparison\n",
        "    crit_table = baselineCriteria(y_val, y_val_pred_soft, y_val_pred_th, y_test, y_test_pred_soft, y_test_pred_th, table, exp, clf)\n",
        "    report_criteria.append(crit_table)\n",
        "\n",
        "    score = np.sum(y_val==y_val_pred_th)/np.size(y_val)\n",
        "    if accuracy < score:\n",
        "      accuracy = score\n",
        "      table_best = table\n",
        "      crit_table_best = crit_table\n",
        "      exp_best = exp\n",
        "      y_test_best = y_test\n",
        "      y_test_pred_soft_best = y_test_pred_soft\n",
        "      y_test_pred_th_best = y_test_pred_th\n",
        "      X_test_best = X_test\n",
        "    del(model)"
      ],
      "execution_count": 37,
      "outputs": [
        {
          "output_type": "stream",
          "text": [
            "loss=binary_crossentropy\n",
            "accuracy(Train)=0.9502\n",
            "initializing cuda...\n",
            "lr=0.01, n_iterations=500\n",
            "Iter 491/500 - Loss: -0.310  noise: 0.019\n",
            "Iter 492/500 - Loss: -0.311  noise: 0.019\n",
            "Iter 493/500 - Loss: -0.315  noise: 0.019\n",
            "Iter 494/500 - Loss: -0.311  noise: 0.019\n",
            "Iter 495/500 - Loss: -0.312  noise: 0.019\n",
            "Iter 496/500 - Loss: -0.312  noise: 0.018\n",
            "Iter 497/500 - Loss: -0.316  noise: 0.018\n",
            "Iter 498/500 - Loss: -0.313  noise: 0.018\n",
            "Iter 499/500 - Loss: -0.311  noise: 0.018\n",
            "Iter 500/500 - Loss: -0.315  noise: 0.018\n",
            "evaluating with cuda...\n",
            "evaluating with cuda...\n",
            "[0, 1, 2, 3, 4]\n",
            "[0, 1, 2, 3, 4]\n",
            "5\n",
            "loss=binary_crossentropy\n",
            "accuracy(Train)=0.8687\n",
            "initializing cuda...\n",
            "lr=0.01, n_iterations=500\n",
            "Iter 491/500 - Loss: 0.177  noise: 0.054\n",
            "Iter 492/500 - Loss: 0.178  noise: 0.054\n",
            "Iter 493/500 - Loss: 0.177  noise: 0.054\n",
            "Iter 494/500 - Loss: 0.176  noise: 0.054\n",
            "Iter 495/500 - Loss: 0.176  noise: 0.054\n",
            "Iter 496/500 - Loss: 0.179  noise: 0.054\n",
            "Iter 497/500 - Loss: 0.177  noise: 0.054\n",
            "Iter 498/500 - Loss: 0.178  noise: 0.054\n",
            "Iter 499/500 - Loss: 0.179  noise: 0.054\n",
            "Iter 500/500 - Loss: 0.177  noise: 0.054\n",
            "evaluating with cuda...\n",
            "evaluating with cuda...\n",
            "[0, 1, 2, 3, 4]\n",
            "[0, 1, 2, 3, 4]\n",
            "5\n",
            "loss=binary_crossentropy\n",
            "accuracy(Train)=0.8941\n",
            "initializing cuda...\n",
            "lr=0.01, n_iterations=500\n",
            "Iter 491/500 - Loss: -0.075  noise: 0.030\n",
            "Iter 492/500 - Loss: -0.079  noise: 0.030\n",
            "Iter 493/500 - Loss: -0.079  noise: 0.030\n",
            "Iter 494/500 - Loss: -0.077  noise: 0.030\n",
            "Iter 495/500 - Loss: -0.078  noise: 0.030\n",
            "Iter 496/500 - Loss: -0.077  noise: 0.030\n",
            "Iter 497/500 - Loss: -0.079  noise: 0.030\n",
            "Iter 498/500 - Loss: -0.078  noise: 0.030\n",
            "Iter 499/500 - Loss: -0.078  noise: 0.030\n",
            "Iter 500/500 - Loss: -0.075  noise: 0.030\n",
            "evaluating with cuda...\n",
            "evaluating with cuda...\n",
            "[0, 1, 2, 3, 4]\n",
            "[0, 1, 2, 3, 4]\n",
            "5\n",
            "loss=binary_crossentropy\n",
            "accuracy(Train)=0.9536\n",
            "initializing cuda...\n",
            "lr=0.01, n_iterations=500\n",
            "Iter 491/500 - Loss: -0.309  noise: 0.019\n",
            "Iter 492/500 - Loss: -0.309  noise: 0.019\n",
            "Iter 493/500 - Loss: -0.309  noise: 0.019\n",
            "Iter 494/500 - Loss: -0.309  noise: 0.019\n",
            "Iter 495/500 - Loss: -0.309  noise: 0.019\n",
            "Iter 496/500 - Loss: -0.307  noise: 0.019\n",
            "Iter 497/500 - Loss: -0.310  noise: 0.019\n",
            "Iter 498/500 - Loss: -0.311  noise: 0.019\n",
            "Iter 499/500 - Loss: -0.307  noise: 0.019\n",
            "Iter 500/500 - Loss: -0.309  noise: 0.019\n",
            "evaluating with cuda...\n",
            "evaluating with cuda...\n",
            "[0, 1, 2, 3, 4]\n",
            "[0, 1, 2, 3, 4]\n",
            "5\n",
            "loss=binary_crossentropy\n",
            "accuracy(Train)=0.9296\n",
            "initializing cuda...\n",
            "lr=0.01, n_iterations=500\n",
            "Iter 491/500 - Loss: -0.270  noise: 0.019\n",
            "Iter 492/500 - Loss: -0.271  noise: 0.019\n",
            "Iter 493/500 - Loss: -0.272  noise: 0.019\n",
            "Iter 494/500 - Loss: -0.273  noise: 0.019\n",
            "Iter 495/500 - Loss: -0.271  noise: 0.019\n",
            "Iter 496/500 - Loss: -0.273  noise: 0.019\n",
            "Iter 497/500 - Loss: -0.274  noise: 0.019\n",
            "Iter 498/500 - Loss: -0.272  noise: 0.019\n",
            "Iter 499/500 - Loss: -0.273  noise: 0.019\n",
            "Iter 500/500 - Loss: -0.273  noise: 0.019\n",
            "evaluating with cuda...\n",
            "evaluating with cuda...\n",
            "[0, 1, 2, 3, 4]\n",
            "[0, 1, 2, 3, 4]\n",
            "5\n"
          ],
          "name": "stdout"
        }
      ]
    },
    {
      "cell_type": "code",
      "metadata": {
        "id": "WWPUAct1q2Hm",
        "colab_type": "code",
        "colab": {}
      },
      "source": [
        "logs_base_dir = \"runs/\"\n",
        "%tensorboard --logdir {logs_base_dir}"
      ],
      "execution_count": null,
      "outputs": []
    },
    {
      "cell_type": "code",
      "metadata": {
        "id": "-lNsdkAGq5Re",
        "colab_type": "code",
        "colab": {}
      },
      "source": [
        "##%\n",
        "# Boxplot (loss reduction in test set)\n",
        "report_table_concat = pd.concat(report_table)\n",
        "cols_table = ['p_value','rho_user','%reduction_test']\n",
        "df_boxplot_table = pd.DataFrame(report_table_concat[cols_table])\n",
        "df_boxplot_table['label'] = df_boxplot_table.shape[0]*['$f(x)$']\n",
        "report_criteria_concat = pd.concat(report_criteria)\n",
        "columns_crit = ['rho_user','%reduction_test']\n",
        "df_boxplot_crit = pd.DataFrame(report_criteria_concat[columns_crit])\n",
        "df_boxplot_crit['label'] = df_boxplot_crit.shape[0]*['$g(x)$']\n",
        "# p-value median\n",
        "p_value_by_row_index = df_boxplot_table['p_value'].groupby(df_boxplot_table.index)\n",
        "p_value_median = p_value_by_row_index.median()\n",
        "# Boxplot (jaccard index in test set)\n",
        "columns_jac = ['rho_user','jaccard']\n",
        "df_jaccard = pd.DataFrame(report_criteria_concat[columns_jac])\n",
        "# Unfiltered Result dataframes\n",
        "cols_fx = ['rho_user','%reduction_val','budget','%reduction_test']\n",
        "results_fx = pd.DataFrame(report_table_concat[cols_fx])\n",
        "cols_fxgx = ['rho_user','%reduction_test', 'jaccard']\n",
        "results_fxgx = pd.concat([df_boxplot_table[cols_fxgx[:2]], df_boxplot_crit[cols_fxgx[1]], df_jaccard[cols_fxgx[2]]], axis=1)\n",
        "# Filter experiments with p_value > 0.05\n",
        "df_boxplot_crit = df_boxplot_crit.loc[df_boxplot_table['p_value'] <= 0.05]\n",
        "df_jaccard = df_jaccard.loc[df_boxplot_table['p_value'] <= 0.05]\n",
        "df_boxplot_table = df_boxplot_table.loc[df_boxplot_table['p_value'] <= 0.05]\n",
        "# Boxplot with filtered values only\n",
        "frames = [df_boxplot_table, df_boxplot_crit]\n",
        "df = pd.concat(frames)"
      ],
      "execution_count": 38,
      "outputs": []
    },
    {
      "cell_type": "code",
      "metadata": {
        "id": "OumIYSVNq7Zj",
        "colab_type": "code",
        "colab": {}
      },
      "source": [
        "# Avoid plotting when median(p_value)>0.5\n",
        "for i in range(p_value_median.shape[0]):\n",
        "    if p_value_median.iloc[i]>0.05:\n",
        "      df.loc[df.index==i,'%reduction_test'] = np.nan\n",
        "      df_jaccard.loc[df_jaccard.index==i, 'jaccard'] = np.nan"
      ],
      "execution_count": 39,
      "outputs": []
    },
    {
      "cell_type": "code",
      "metadata": {
        "id": "-6d4xyQvq952",
        "colab_type": "code",
        "colab": {
          "base_uri": "https://localhost:8080/",
          "height": 164
        },
        "outputId": "65b04d0f-7dcb-4447-b710-9728a87b0bd3"
      },
      "source": [
        "# Dataframe for results f(x)\n",
        "results_fx_by_row_index = results_fx.groupby(results_fx.index)\n",
        "fx_median = results_fx_by_row_index.median()\n",
        "fx_q1 = results_fx_by_row_index.quantile(q=0.25)\n",
        "fx_q3 = results_fx_by_row_index.quantile(q=0.75)\n",
        "# Signaling function statistics (median(q1-q3)) LaTex\n",
        "output_fx = io.StringIO()\n",
        "numRows = fx_median.shape[0]\n",
        "numCols = fx_median.shape[1]\n",
        "output_fx.write(\"results_fx (\\\\rho|%reduction_val|sig_rate|%reduction_test|H0)\\n\")\n",
        "output_fx.write(\"----------\\n\")\n",
        "for i in range(numRows):\n",
        "  row = [r'{:.2f}'.format(val1) if p_value_median[i]>0.05 and j==0 else r'{}' if p_value_median[i]>0.05 and j!=0\\\n",
        "         else r'{:.2f}'.format(val1) if (j==0) else r'{:.2f}({:.2f}-{:.2f})'.format(val1,val2,val3) if (j==2)\\\n",
        "         else r'{:.1f}({:.1f}-{:.1f})'.format(val1,val2,val3) for val1,val2,val3,j in zip(fx_median.iloc[i],fx_q1.iloc[i],fx_q3.iloc[i],range(numCols))]\n",
        "  output_fx.write(\"{{}} & {{}} & %s & {H0} \\\\\\\\\\n\".format(H0=r'$\\surd$' if p_value_median[i]<=0.05 else r'$\\times$')%(\" & \".join(row)))\n",
        "print(output_fx.getvalue())"
      ],
      "execution_count": 40,
      "outputs": [
        {
          "output_type": "stream",
          "text": [
            "results_fx (\\rho|%reduction_val|sig_rate|%reduction_test|H0)\n",
            "----------\n",
            "{} & {} & 0.01 & 3.8(3.6-4.2) & 0.01(0.01-0.01) & 4.8(4.4-5.0) & $\\surd$ \\\\\n",
            "{} & {} & 0.05 & 15.4(15.3-16.0) & 0.06(0.05-0.06) & 18.0(17.1-18.6) & $\\surd$ \\\\\n",
            "{} & {} & 0.10 & 28.8(28.0-31.8) & 0.10(0.09-0.10) & 28.1(27.9-28.9) & $\\surd$ \\\\\n",
            "{} & {} & 0.15 & 39.2(38.8-44.1) & 0.14(0.14-0.15) & 37.8(37.4-40.0) & $\\surd$ \\\\\n",
            "{} & {} & 0.20 & 49.2(47.8-53.1) & 0.20(0.20-0.20) & 46.7(45.6-49.9) & $\\surd$ \\\\\n",
            "\n"
          ],
          "name": "stdout"
        }
      ]
    },
    {
      "cell_type": "code",
      "metadata": {
        "id": "RjL-JtRhrC6e",
        "colab_type": "code",
        "colab": {
          "base_uri": "https://localhost:8080/",
          "height": 164
        },
        "outputId": "f34f89d2-6267-4544-9de3-7d85e3a883fa"
      },
      "source": [
        "# Dataframe for comparison f(x)-g(x)\n",
        "results_fxgx_by_row_index = results_fxgx.groupby(results_fxgx.index)\n",
        "fxgx_median = results_fxgx_by_row_index.median()\n",
        "fxgx_q1 = results_fxgx_by_row_index.quantile(q=0.25)\n",
        "fxgx_q3 = results_fxgx_by_row_index.quantile(q=0.75)\n",
        "# Baseline comparison statistics (median(q1-q3)) LaTex\n",
        "output_fxgx = io.StringIO()\n",
        "numRows = fxgx_median.shape[0]\n",
        "numCols = fxgx_median.shape[1]\n",
        "output_fxgx.write(\"results_fxgx (\\\\rho|%reduction_test(fx)|%reduction_test(fxgx)|Jaccard|H0\\n\")\n",
        "output_fxgx.write(\"------------\\n\")\n",
        "for i in range(numRows):\n",
        "  row = [r'{:.2f}'.format(val1) if p_value_median[i]>0.05 and j==0 else r'{}' if p_value_median[i]>0.05 and j!=0\\\n",
        "         else r'{:.2f}'.format(val1) if (j==0) else r'{:.2f}({:.2f}-{:.2f})'.format(val1,val2,val3) if (j==3)\\\n",
        "         else r'{:.1f}({:.1f}-{:.1f})'.format(val1,val2,val3) for val1,val2,val3,j in zip(fxgx_median.iloc[i],fxgx_q1.iloc[i],fxgx_q3.iloc[i],range(numCols))]\n",
        "  output_fxgx.write(\"{{}} & {{}} & %s & {H0} \\\\\\\\\\n\".format(H0=r'$\\surd$' if p_value_median[i]<=0.05 else r'$\\times$')%(\" & \".join(row)))\n",
        "print(output_fxgx.getvalue())"
      ],
      "execution_count": 41,
      "outputs": [
        {
          "output_type": "stream",
          "text": [
            "results_fxgx (\\rho|%reduction_test(fx)|%reduction_test(fxgx)|Jaccard|H0\n",
            "------------\n",
            "{} & {} & 0.01 & 4.8(4.4-5.0) & 2.4(1.5-2.7) & 0.98(0.98-0.99) & $\\surd$ \\\\\n",
            "{} & {} & 0.05 & 18.0(17.1-18.6) & 14.2(11.5-14.9) & 0.94(0.92-0.95) & $\\surd$ \\\\\n",
            "{} & {} & 0.10 & 28.1(27.9-28.9) & 28.2(23.6-28.4) & 0.90(0.88-0.92) & $\\surd$ \\\\\n",
            "{} & {} & 0.15 & 37.8(37.4-40.0) & 35.1(31.3-37.8) & 0.86(0.84-0.90) & $\\surd$ \\\\\n",
            "{} & {} & 0.20 & 46.7(45.6-49.9) & 43.3(41.6-48.1) & 0.83(0.81-0.87) & $\\surd$ \\\\\n",
            "\n"
          ],
          "name": "stdout"
        }
      ]
    },
    {
      "cell_type": "code",
      "metadata": {
        "id": "G0X7KJ6trNGc",
        "colab_type": "code",
        "colab": {}
      },
      "source": [
        "#%%\n",
        "# Save results in csv fomat\n",
        "path_csv = \"drive/My Drive/NIPS2020/results/imdb/results_{clf}_yhat{yhat}_pca{pca}.csv\".format(clf=clf, pca=applyPCA, yhat=addPredictions)\n",
        "results = pd.concat([results_fx, results_fxgx], keys=['fx', 'fxgx'], axis=1).to_csv(path_csv, index=True, header=True)\n",
        "# Save results in tex fomat\n",
        "L = [output_fx.getvalue(),output_fxgx.getvalue()]\n",
        "path_txt = \"drive/My Drive/NIPS2020/results/imdb/results_{clf}_yhat{yhat}_pca{pca}.txt\".format(clf=clf, pca=applyPCA, yhat=addPredictions)\n",
        "txt = open(path_txt, \"w\") \n",
        "txt.writelines(L) \n",
        "txt.close() #to change file access modes"
      ],
      "execution_count": 42,
      "outputs": []
    },
    {
      "cell_type": "code",
      "metadata": {
        "id": "0LTFKkXsrQOl",
        "colab_type": "code",
        "colab": {
          "base_uri": "https://localhost:8080/",
          "height": 419
        },
        "outputId": "7149c4de-8f18-4f5a-cb35-6130a2c75e07"
      },
      "source": [
        "fig, ax = plt.subplots(1,2,figsize=(15, 5.1), constrained_layout=False, dpi=90)\n",
        "pal = sns.color_palette('Paired')\n",
        "sns.boxplot(x=df['rho_user'], y=df['%reduction_test'], hue='label', data=df, ax=ax[0], palette=pal)\n",
        "ax[0].set_xlabel(r'budget $\\rho$')\n",
        "ax[0].set_ylabel(r'Loss reduction $r_{test}(\\%)$')\n",
        "ax[0].legend(loc='upper left')\n",
        "pal = sns.color_palette('BuGn_r')\n",
        "sns.boxplot(x=df_jaccard['rho_user'], y=df_jaccard['jaccard'], data=df_jaccard, ax=ax[1], palette=pal)\n",
        "ax[1].set_xlabel(r'budget $\\rho$')\n",
        "ax[1].set_ylabel(r'Jaccard index $J$')\n",
        "plt.tight_layout()\n",
        "path_fig_fxgx = \"drive/My Drive/NIPS2020/results/imdb/fig_fxgx_{clf}_yhat{yhat}_pca{pca}.pdf\".format(clf=clf, pca=applyPCA, yhat=addPredictions)\n",
        "plt.savefig(path_fig_fxgx, bbox_inches='tight', facecolor='w')"
      ],
      "execution_count": 43,
      "outputs": [
        {
          "output_type": "display_data",
          "data": {
            "image/png": "[encoded data removed]",
            "text/plain": [
              "<Figure size 1350x459 with 2 Axes>"
            ]
          },
          "metadata": {
            "tags": []
          }
        }
      ]
    },
    {
      "cell_type": "code",
      "metadata": {
        "id": "SlQtQPDGFE9w",
        "colab_type": "code",
        "colab": {}
      },
      "source": [
        "#reverse lookup\n",
        "INDEX_FROM = 3\n",
        "word_to_id = tf.keras.datasets.imdb.get_word_index()\n",
        "word_to_id = {k:(v+INDEX_FROM) for k,v in word_to_id.items()}\n",
        "word_to_id[\"<PAD>\"] = 0\n",
        "word_to_id[\"<START>\"] = 1\n",
        "word_to_id[\"<UNK>\"] = 2\n",
        "id_to_word = {value:key for key,value in word_to_id.items()}"
      ],
      "execution_count": 44,
      "outputs": []
    },
    {
      "cell_type": "code",
      "metadata": {
        "id": "mj6x1QVqcRgO",
        "colab_type": "code",
        "colab": {
          "base_uri": "https://localhost:8080/",
          "height": 35
        },
        "outputId": "37b11eda-4c60-431b-9023-e0e776ac9eac"
      },
      "source": [
        "rho = 0.01\n",
        "rule = table_best.loc[table_best.rho_user == rho]['rule'].to_numpy()\n",
        "eta = table_best.loc[table_best.rho_user == rho]['eta'].to_numpy()[0]\n",
        "theta = crit_table_best.loc[crit_table_best.rho_user == rho]['thresh'].to_numpy()[0]\n",
        "f_test = exp_best.gpr_mean_test+rule*np.sqrt(exp_best.gpr_var_test)\n",
        "top_n = 20 # Top n selected instances in test set\n",
        "top_f_idx = np.argpartition(f_test, -top_n)[-top_n:]\n",
        "if clf=='svm':\n",
        "    crit_test = np.abs(y_test_pred_soft_best.ravel())\n",
        "    top_crit_idx = np.argpartition(crit_test, top_n)[:top_n]\n",
        "elif clf=='softmax':\n",
        "    p_test = np.concatenate((y_test_pred_soft_best,1-y_test_pred_soft_best),axis=1)\n",
        "    crit_test = entropy(p_test, axis=1, base=2)\n",
        "    top_crit_idx = np.argpartition(crit_test, -top_n)[-top_n:]\n",
        "output_text = io.StringIO()\n",
        "print('eta={},theta={}'.format(eta,theta))"
      ],
      "execution_count": 45,
      "outputs": [
        {
          "output_type": "stream",
          "text": [
            "eta=0.7773538157343864,theta=0.9994109869003296\n"
          ],
          "name": "stdout"
        }
      ]
    },
    {
      "cell_type": "code",
      "metadata": {
        "id": "xGqv4gVyc1kF",
        "colab_type": "code",
        "colab": {
          "base_uri": "https://localhost:8080/",
          "height": 202
        },
        "outputId": "0b6bc494-ce91-429a-9c60-4e60b2d7bc94"
      },
      "source": [
        "output_text.write(\"top_n={}, rho_user={}, g(x)={}, addh_hat={}, PCA={}\\n\".format(top_n,rho,clf, addPredictions, applyPCA))\n",
        "output_text.write(\"|f(x)>eta|={}(eta={:.3f}), |g(x)>theta|={}(theta={:.3f})\\n\".format(np.sum(f_test>eta), eta, np.sum(crit_test<theta) if clf=='svm' else np.sum(crit_test>theta), theta))\n",
        "output_text.write(\"\\nTop misclassfied instances picked by f(x)\\n\")\n",
        "output_text.write(\"-----------------------------------------\\n\")\n",
        "for i in top_f_idx:\n",
        "  cond = f_test[i]>eta\n",
        "  if y_test_best[i] != y_test_pred_th_best[i] and cond:\n",
        "    output_text.write(' '.join([id_to_word[id] for id in X_test_best[i,:] if id!=0])+\\\n",
        "        '\\n y={}'.format(y_test_best[i])+', y_pred={}'.format(y_test_pred_th_best[i])+\\\n",
        "        ', g(x)({})={:.3f}'.format('D' if clf=='svm' else 'H', crit_test[i])+\\\n",
        "        ', f(x)={:.3f}'.format(f_test[i])+'\\n\\n')\n",
        "print(output_text.getvalue())"
      ],
      "execution_count": 46,
      "outputs": [
        {
          "output_type": "stream",
          "text": [
            "top_n=20, rho_user=0.01, g(x)=softmax, addh_hat=True, PCA=False\n",
            "|f(x)>eta|=12(eta=0.777), |g(x)>theta|=14(theta=0.999)\n",
            "\n",
            "Top misclassfied instances picked by f(x)\n",
            "-----------------------------------------\n",
            "<START> if the lion king is a serious story about a young lion growing up to <UNK> his father's death the lion king 1 and a half is the total opposite full of <UNK> and <UNK> the lion king told the story from the side of <UNK> the young lion 1 and a half is from the view of <UNK> and <UNK> a less than perfect duo made up of a <UNK> who left home because he could not dig <UNK> without <UNK> his friends and neighbors and a <UNK> who has an <UNK> issue the movie is a little short on substance but disney does a good job of <UNK> time with various <UNK> starring <UNK> and <UNK> as they watch the movie with us my favorite is the sing along that happens halfway through the movie make sure you watch the <UNK> <UNK> disney has <UNK> 1 and a half as the rest of the story though it really isn't it is just a different perspective of the lion king without all of the serious stuff that <UNK> most of the second half of the original disney classic credit <UNK> lane as <UNK> and <UNK> <UNK> as <UNK> for their voice work without their efforts the movie may not have worked the sing they entertain and they make us laugh they also give us a reason to avoid a hot <UNK> with a <UNK>\n",
            " y=1, y_pred=0, g(x)(H)=0.998, f(x)=0.899\n",
            "\n",
            "\n"
          ],
          "name": "stdout"
        }
      ]
    },
    {
      "cell_type": "code",
      "metadata": {
        "id": "YhsLRvmXO-Ik",
        "colab_type": "code",
        "colab": {
          "base_uri": "https://localhost:8080/",
          "height": 643
        },
        "outputId": "279cff12-9e6e-426c-f17f-65e9eaaee5fd"
      },
      "source": [
        "output_text.write(\"\\nTop misclassfied instances picked by g(x)\\n\")\n",
        "output_text.write(\"-----------------------------------------\\n\")\n",
        "for i in top_crit_idx:\n",
        "  cond = crit_test[i]<theta if clf=='svm' else crit_test[i]>theta\n",
        "  if y_test_best[i] != y_test_pred_th_best[i]:\n",
        "    output_text.write(' '.join([id_to_word[id] for id in X_test_best[i,:] if id!=0])+\\\n",
        "        '\\n y={}'.format(y_test_best[i])+', y_pred={}'.format(y_test_pred_th_best[i])+\\\n",
        "        ', g(x)({})={:.3f}'.format('D' if clf=='svm' else 'H', crit_test[i])+\\\n",
        "        ', f(x)={:.3f}'.format(f_test[i])+'\\n\\n')\n",
        "print(output_text.getvalue())"
      ],
      "execution_count": 47,
      "outputs": [
        {
          "output_type": "stream",
          "text": [
            "top_n=20, rho_user=0.01, g(x)=softmax, addh_hat=True, PCA=False\n",
            "|f(x)>eta|=12(eta=0.777), |g(x)>theta|=14(theta=0.999)\n",
            "\n",
            "Top misclassfied instances picked by f(x)\n",
            "-----------------------------------------\n",
            "<START> if the lion king is a serious story about a young lion growing up to <UNK> his father's death the lion king 1 and a half is the total opposite full of <UNK> and <UNK> the lion king told the story from the side of <UNK> the young lion 1 and a half is from the view of <UNK> and <UNK> a less than perfect duo made up of a <UNK> who left home because he could not dig <UNK> without <UNK> his friends and neighbors and a <UNK> who has an <UNK> issue the movie is a little short on substance but disney does a good job of <UNK> time with various <UNK> starring <UNK> and <UNK> as they watch the movie with us my favorite is the sing along that happens halfway through the movie make sure you watch the <UNK> <UNK> disney has <UNK> 1 and a half as the rest of the story though it really isn't it is just a different perspective of the lion king without all of the serious stuff that <UNK> most of the second half of the original disney classic credit <UNK> lane as <UNK> and <UNK> <UNK> as <UNK> for their voice work without their efforts the movie may not have worked the sing they entertain and they make us laugh they also give us a reason to avoid a hot <UNK> with a <UNK>\n",
            " y=1, y_pred=0, g(x)(H)=0.998, f(x)=0.899\n",
            "\n",
            "\n",
            "Top misclassfied instances picked by g(x)\n",
            "-----------------------------------------\n",
            "<START> <UNK> is another one of those <UNK> films that <UNK> flynn was making in the last decade of his life trying to support his family and stay out of trouble with the <UNK> it's a remake of the fred <UNK> <UNK> <UNK> film <UNK> from a decade ago br br unlike that studio product <UNK> has the advantage of that great location cinematography right at the sight of the golden <UNK> but <UNK> flynn who was aging <UNK> before the camera in every film was way too old to be playing these action adventure types any longer his scenes with <UNK> <UNK> really do lack <UNK> br br as for <UNK> she plays <UNK> former <UNK> who through the <UNK> of being saved from a fire now has <UNK> she both doesn't remember <UNK> and is now married to <UNK> <UNK> br br but <UNK> got some nasty people led by martin <UNK> and <UNK> <UNK> who are after some <UNK> which have come into his <UNK> got to deal with them too br br best reason to see <UNK> is to hear <UNK> king cole sing and play the piano most people today don't realize that cole was an accomplished jazz <UNK> they only think of him as a singer actually he was a <UNK> first the singing was an <UNK> br br <UNK> is a routine action adventure film for those who are fans of that type of movie\n",
            " y=0, y_pred=1, g(x)(H)=0.999, f(x)=0.553\n",
            "\n",
            "<START> i rented the film i don't think it got a theatrical release here out expecting the worse the <UNK> made the film look awful i was in fact very surprised it was well worth watching it was loosely scripted almost like an ensemble piece of film it had some very funny moments in it and although flawed is an effective satire on the show and the people on the show without being too <UNK> it is flawed mainly by the awful soundtrack of <UNK> <UNK> effects but on the whole it comes across as honest and generally true to form of the show in an <UNK> or larry <UNK> way br br at the moment it is the fashion to be critical of jerry <UNK> he is also an easy target <UNK> could have made citizen kane and it would be <UNK> 'the worst film ever <UNK> i recommend this film for anybody interested in the show a flawed but innovative and interesting piece of film\n",
            " y=1, y_pred=0, g(x)(H)=0.999, f(x)=0.601\n",
            "\n",
            "<START> so halfway through the season i got so caught up in school and my activities that i didn't realize that the show had been <UNK> halfway through which is crap br br i think the <UNK> of this show should write fox and ask them to at least finish filming so that a the season can be released on dvd later maybe then they'll see how many people were disappointed that the show didn't survive its first season br br i loved the show and looked forward to it every <UNK> after the <UNK> can you imagine my disappointment when i came back to try and watch the show only to discover that it had disappeared needless to say i'm not very happy with fox right now even more so after <UNK> that no ending was filmed i mean if you're going to work on a project at least finish it to see what happens a half filmed show is like a half made car it's pretty much useless fox film the damn ending and give some of the show's fans some peace\n",
            " y=1, y_pred=0, g(x)(H)=0.999, f(x)=0.334\n",
            "\n",
            "<START> i love this movie it's wacky funny violent surreal played out in a <UNK> head and definitely not your usual comedy br br if you don't find the film amusing then i guess it's just not for your <UNK> so this is a tough one to write a review for br br for reference some other comedies i love are the big <UNK> the princess bride and <UNK> that one only got me the second time around there are others but my taste is definitely for the unusual and i am willing to accept that most people just don't tend to like that kind of thing i make no <UNK> for having an unusual sense of humour at least i have one br br the scenes and characters of this particular movie are well put together the <UNK> humour is hilarious the situations are intriguing the acting is very good as you would expect of the cast though the acting demands made of the cast by the script are not particularly high the overall <UNK> makes for fun funny watchable yet violent entertainment\n",
            " y=1, y_pred=0, g(x)(H)=1.000, f(x)=0.655\n",
            "\n",
            "<START> anyone who saw the original <UNK> movie knows how an excellent cast script and director can put together a comedy masterpiece by the same <UNK> it's easy to see how the opposite of that can create another <UNK> hollywood bore a <UNK> this movie was pathetic had it not been for john <UNK> a comic genius i would have walked out about 15 minutes into this dreadful waste of celluloid br br neil simon wouldn't write another screenplay for this version he said that he couldn't improve on the first and i'm surprised that after this cinematic <UNK> he wouldn't sue for <UNK> of humor br br jack lemmon and <UNK> dennis did such a wonderful job in the original what were the producers thinking about when they cast this one how could the director and editor look at these scenes and think any of them were funny i don't know but one thing i do know it's no surprise why foreign and independent movies are becoming more and more popular\n",
            " y=0, y_pred=1, g(x)(H)=1.000, f(x)=0.771\n",
            "\n",
            "<START> too much of something borrowed grade b br br super <UNK> sunday is one of the <UNK> days at movie theaters every year because of this movie studios tend to avoid <UNK> bigger <UNK> films that weekend every few years a studio <UNK> a counter <UNK> female <UNK> movie <UNK> the wedding <UNK> to <UNK> with the big game this super <UNK> weekend similarly titled the wedding date will try to find success and <UNK> viewers not watching the game br br sick of people feeling sorry for her single woman <UNK> <UNK> <UNK> <UNK> <UNK> will and grace <UNK> male <UNK> nick <UNK> <UNK> about <UNK> to <UNK> as her boyfriend for her <UNK> wedding in london her family has been giving her a hard time about her not being married and her ex <UNK> of seven years who <UNK> her without a reason is the best man to make him jealous <UNK> <UNK> nick around her ex to make him see what he is missing but ultimately nick helps <UNK> realize that she can open up and let someone love her br br the film <UNK> too much from similar wedding movies it is almost a <UNK> copy of <UNK> picture perfect and <UNK> in scenes similar to the wedding <UNK> and my best friends wedding the movie also has a <UNK> pretty women theme going for it and knowing her audience the director makes clever references to that and other films br br the wedding date has all the clichéd elements of a typical wedding movie there is the stereotypical <UNK> mother <UNK> taylor <UNK> blonde and practically <UNK> wedding <UNK> by the family and friends at the wedding and <UNK> dinner the twist at the ending has been done before but it was something that wasn't completely expected the real reason why <UNK> was <UNK> comes as a surprise and changes the direction of the film for the last half hour br br even though the wedding date is predictable it is able to stand on its own <UNK> <UNK> in her first lead role proves she can be charming and funny <UNK> <UNK> has great chemistry with <UNK> <UNK> but most of his dialogue was too corny and unrealistic he is able to make best of what he is given and be able to <UNK> the character br br by the use of many clever <UNK> often sexual the film is actually funny although primarily a chick flick the film has <UNK> everyone can enjoy the feel good story and humor make it the best date movie released in a long time\n",
            " y=0, y_pred=1, g(x)(H)=0.999, f(x)=0.683\n",
            "\n",
            "<START> the godfather of television but aside from it's <UNK> and <UNK> characters the two are nothing alike tony <UNK> is forced to go to a psychiatrist after a series of panic attacks his psychiatrist learns that tony is actually part of two families in one family he is a loving father yet not so perfect husband and in the other family he is a ruthless <UNK> after analysis dr <UNK> <UNK> that <UNK> problems actually <UNK> from his mother <UNK> who's <UNK> to have <UNK> personality <UNK> <UNK> is <UNK> <UNK> as the main character yet <UNK> and <UNK> aren't nearly as recognized for their equally and talented performances as the psychiatrist and mother <UNK> <UNK> <UNK> and <UNK> are <UNK> for their brilliant supporting roles van <UNK> from the e street band plays his first and only role as <UNK> best friend and is quite convincing and <UNK> <UNK> the only <UNK> actor to have actually appeared in a godfather film plays <UNK> uncle and on and off <UNK> many fans also enjoyed characters played by <UNK> <UNK> <UNK> <UNK> <UNK> <UNK> <UNK> and <UNK> <UNK> children are okay but not notable with the exception of <UNK> stunning performance in the third to last episode the second coming <UNK> and <UNK> are unconvincing and over the top but the show is too strong for them to hold it back even as the show continues for over six season it <UNK> to have a dull or predictable moment br br out of four\n",
            " y=1, y_pred=0, g(x)(H)=1.000, f(x)=0.640\n",
            "\n",
            "\n"
          ],
          "name": "stdout"
        }
      ]
    },
    {
      "cell_type": "code",
      "metadata": {
        "id": "xH-thpd8rmTC",
        "colab_type": "code",
        "colab": {}
      },
      "source": [
        "path_txt = \"drive/My Drive/NIPS2020/results/imdb/instances_{clf}_yhat{yhat}_pca{pca}.txt\".format(clf=clf, pca=applyPCA, yhat=addPredictions)\n",
        "txt = open(path_txt, \"w\") \n",
        "txt.writelines(output_text.getvalue()) \n",
        "txt.close() #to change file access modes"
      ],
      "execution_count": 36,
      "outputs": []
    },
    {
      "cell_type": "code",
      "metadata": {
        "id": "gX7WuJijg-Ho",
        "colab_type": "code",
        "colab": {}
      },
      "source": [
        "report_table_concat = pd.concat(report_table)\n",
        "table_by_row_index = report_table_concat.groupby(report_table_concat.index)\n",
        "report_table_mean = table_by_row_index.mean()\n",
        "report_table_std = table_by_row_index.std()\n",
        "\n",
        "report_criteria_concat = pd.concat(report_criteria)\n",
        "table_by_row_index = report_criteria_concat.groupby(report_criteria_concat.index)\n",
        "report_criteria_mean = table_by_row_index.mean()\n",
        "report_criteria_std = table_by_row_index.std()"
      ],
      "execution_count": null,
      "outputs": []
    },
    {
      "cell_type": "code",
      "metadata": {
        "id": "4zDE3LuFiAvg",
        "colab_type": "code",
        "colab": {
          "base_uri": "https://localhost:8080/",
          "height": 206
        },
        "outputId": "8561aab0-af6f-4211-d048-a2abb77bf548"
      },
      "source": [
        "report_table_mean"
      ],
      "execution_count": null,
      "outputs": [
        {
          "output_type": "execute_result",
          "data": {
            "text/html": [
              "<div>\n",
              "<style scoped>\n",
              "    .dataframe tbody tr th:only-of-type {\n",
              "        vertical-align: middle;\n",
              "    }\n",
              "\n",
              "    .dataframe tbody tr th {\n",
              "        vertical-align: top;\n",
              "    }\n",
              "\n",
              "    .dataframe thead th {\n",
              "        text-align: right;\n",
              "    }\n",
              "</style>\n",
              "<table border=\"1\" class=\"dataframe\">\n",
              "  <thead>\n",
              "    <tr style=\"text-align: right;\">\n",
              "      <th></th>\n",
              "      <th>rule</th>\n",
              "      <th>rho_user</th>\n",
              "      <th>error_val</th>\n",
              "      <th>L_val</th>\n",
              "      <th>%reduction_val</th>\n",
              "      <th>eta</th>\n",
              "      <th>p_value</th>\n",
              "      <th>check</th>\n",
              "      <th>budget</th>\n",
              "      <th>error_test</th>\n",
              "      <th>L_test</th>\n",
              "      <th>%reduction_test</th>\n",
              "    </tr>\n",
              "  </thead>\n",
              "  <tbody>\n",
              "    <tr>\n",
              "      <th>0</th>\n",
              "      <td>1.06</td>\n",
              "      <td>0.01</td>\n",
              "      <td>0.00560</td>\n",
              "      <td>0.14192</td>\n",
              "      <td>3.786</td>\n",
              "      <td>0.820517</td>\n",
              "      <td>1.596467e-04</td>\n",
              "      <td>0.01</td>\n",
              "      <td>0.010</td>\n",
              "      <td>0.0049</td>\n",
              "      <td>0.1471</td>\n",
              "      <td>3.218</td>\n",
              "    </tr>\n",
              "    <tr>\n",
              "      <th>1</th>\n",
              "      <td>1.20</td>\n",
              "      <td>0.05</td>\n",
              "      <td>0.02472</td>\n",
              "      <td>0.12280</td>\n",
              "      <td>16.776</td>\n",
              "      <td>0.672585</td>\n",
              "      <td>1.438608e-20</td>\n",
              "      <td>0.05</td>\n",
              "      <td>0.054</td>\n",
              "      <td>0.0247</td>\n",
              "      <td>0.1273</td>\n",
              "      <td>16.284</td>\n",
              "    </tr>\n",
              "    <tr>\n",
              "      <th>2</th>\n",
              "      <td>0.84</td>\n",
              "      <td>0.10</td>\n",
              "      <td>0.04568</td>\n",
              "      <td>0.10184</td>\n",
              "      <td>31.026</td>\n",
              "      <td>0.448278</td>\n",
              "      <td>2.111505e-39</td>\n",
              "      <td>0.10</td>\n",
              "      <td>0.102</td>\n",
              "      <td>0.0457</td>\n",
              "      <td>0.1063</td>\n",
              "      <td>30.058</td>\n",
              "    </tr>\n",
              "    <tr>\n",
              "      <th>3</th>\n",
              "      <td>1.26</td>\n",
              "      <td>0.15</td>\n",
              "      <td>0.06064</td>\n",
              "      <td>0.08688</td>\n",
              "      <td>41.244</td>\n",
              "      <td>0.423398</td>\n",
              "      <td>1.133743e-41</td>\n",
              "      <td>0.15</td>\n",
              "      <td>0.154</td>\n",
              "      <td>0.0634</td>\n",
              "      <td>0.0886</td>\n",
              "      <td>41.738</td>\n",
              "    </tr>\n",
              "    <tr>\n",
              "      <th>4</th>\n",
              "      <td>0.12</td>\n",
              "      <td>0.20</td>\n",
              "      <td>0.07376</td>\n",
              "      <td>0.07376</td>\n",
              "      <td>50.104</td>\n",
              "      <td>0.136592</td>\n",
              "      <td>5.266706e-43</td>\n",
              "      <td>0.20</td>\n",
              "      <td>0.200</td>\n",
              "      <td>0.0775</td>\n",
              "      <td>0.0745</td>\n",
              "      <td>50.980</td>\n",
              "    </tr>\n",
              "  </tbody>\n",
              "</table>\n",
              "</div>"
            ],
            "text/plain": [
              "   rule  rho_user  error_val  ...  error_test  L_test  %reduction_test\n",
              "0  1.06      0.01    0.00560  ...      0.0049  0.1471            3.218\n",
              "1  1.20      0.05    0.02472  ...      0.0247  0.1273           16.284\n",
              "2  0.84      0.10    0.04568  ...      0.0457  0.1063           30.058\n",
              "3  1.26      0.15    0.06064  ...      0.0634  0.0886           41.738\n",
              "4  0.12      0.20    0.07376  ...      0.0775  0.0745           50.980\n",
              "\n",
              "[5 rows x 12 columns]"
            ]
          },
          "metadata": {
            "tags": []
          },
          "execution_count": 13
        }
      ]
    },
    {
      "cell_type": "code",
      "metadata": {
        "id": "1zgyJyu4iCBQ",
        "colab_type": "code",
        "colab": {
          "base_uri": "https://localhost:8080/",
          "height": 206
        },
        "outputId": "cb39105f-bc61-49e2-e1ff-25a644cd23fe"
      },
      "source": [
        "report_criteria_mean"
      ],
      "execution_count": null,
      "outputs": [
        {
          "output_type": "execute_result",
          "data": {
            "text/html": [
              "<div>\n",
              "<style scoped>\n",
              "    .dataframe tbody tr th:only-of-type {\n",
              "        vertical-align: middle;\n",
              "    }\n",
              "\n",
              "    .dataframe tbody tr th {\n",
              "        vertical-align: top;\n",
              "    }\n",
              "\n",
              "    .dataframe thead th {\n",
              "        text-align: right;\n",
              "    }\n",
              "</style>\n",
              "<table border=\"1\" class=\"dataframe\">\n",
              "  <thead>\n",
              "    <tr style=\"text-align: right;\">\n",
              "      <th></th>\n",
              "      <th>rho_user</th>\n",
              "      <th>error_val</th>\n",
              "      <th>L_val</th>\n",
              "      <th>%reduction_val</th>\n",
              "      <th>thresh</th>\n",
              "      <th>budget</th>\n",
              "      <th>error_test</th>\n",
              "      <th>L_test</th>\n",
              "      <th>%reduction_test</th>\n",
              "    </tr>\n",
              "  </thead>\n",
              "  <tbody>\n",
              "    <tr>\n",
              "      <th>0</th>\n",
              "      <td>0.01</td>\n",
              "      <td>0.00488</td>\n",
              "      <td>0.14264</td>\n",
              "      <td>3.306</td>\n",
              "      <td>0.998604</td>\n",
              "      <td>0.012</td>\n",
              "      <td>0.0057</td>\n",
              "      <td>0.1463</td>\n",
              "      <td>3.672</td>\n",
              "    </tr>\n",
              "    <tr>\n",
              "      <th>1</th>\n",
              "      <td>0.05</td>\n",
              "      <td>0.02320</td>\n",
              "      <td>0.12432</td>\n",
              "      <td>15.728</td>\n",
              "      <td>0.964553</td>\n",
              "      <td>0.054</td>\n",
              "      <td>0.0242</td>\n",
              "      <td>0.1278</td>\n",
              "      <td>15.878</td>\n",
              "    </tr>\n",
              "    <tr>\n",
              "      <th>2</th>\n",
              "      <td>0.10</td>\n",
              "      <td>0.04408</td>\n",
              "      <td>0.10344</td>\n",
              "      <td>29.916</td>\n",
              "      <td>0.885287</td>\n",
              "      <td>0.102</td>\n",
              "      <td>0.0452</td>\n",
              "      <td>0.1068</td>\n",
              "      <td>29.700</td>\n",
              "    </tr>\n",
              "    <tr>\n",
              "      <th>3</th>\n",
              "      <td>0.15</td>\n",
              "      <td>0.06088</td>\n",
              "      <td>0.08664</td>\n",
              "      <td>41.324</td>\n",
              "      <td>0.774637</td>\n",
              "      <td>0.152</td>\n",
              "      <td>0.0654</td>\n",
              "      <td>0.0866</td>\n",
              "      <td>43.020</td>\n",
              "    </tr>\n",
              "    <tr>\n",
              "      <th>4</th>\n",
              "      <td>0.20</td>\n",
              "      <td>0.07608</td>\n",
              "      <td>0.07144</td>\n",
              "      <td>51.648</td>\n",
              "      <td>0.668580</td>\n",
              "      <td>0.206</td>\n",
              "      <td>0.0825</td>\n",
              "      <td>0.0695</td>\n",
              "      <td>54.300</td>\n",
              "    </tr>\n",
              "  </tbody>\n",
              "</table>\n",
              "</div>"
            ],
            "text/plain": [
              "   rho_user  error_val    L_val  ...  error_test  L_test  %reduction_test\n",
              "0      0.01    0.00488  0.14264  ...      0.0057  0.1463            3.672\n",
              "1      0.05    0.02320  0.12432  ...      0.0242  0.1278           15.878\n",
              "2      0.10    0.04408  0.10344  ...      0.0452  0.1068           29.700\n",
              "3      0.15    0.06088  0.08664  ...      0.0654  0.0866           43.020\n",
              "4      0.20    0.07608  0.07144  ...      0.0825  0.0695           54.300\n",
              "\n",
              "[5 rows x 9 columns]"
            ]
          },
          "metadata": {
            "tags": []
          },
          "execution_count": 14
        }
      ]
    },
    {
      "cell_type": "code",
      "metadata": {
        "id": "neU88XQkAzny",
        "colab_type": "code",
        "colab": {
          "base_uri": "https://localhost:8080/",
          "height": 206
        },
        "outputId": "4b792c43-3fdb-48ee-d89a-e251ef90f666"
      },
      "source": [
        "report_table_std"
      ],
      "execution_count": null,
      "outputs": [
        {
          "output_type": "execute_result",
          "data": {
            "text/html": [
              "<div>\n",
              "<style scoped>\n",
              "    .dataframe tbody tr th:only-of-type {\n",
              "        vertical-align: middle;\n",
              "    }\n",
              "\n",
              "    .dataframe tbody tr th {\n",
              "        vertical-align: top;\n",
              "    }\n",
              "\n",
              "    .dataframe thead th {\n",
              "        text-align: right;\n",
              "    }\n",
              "</style>\n",
              "<table border=\"1\" class=\"dataframe\">\n",
              "  <thead>\n",
              "    <tr style=\"text-align: right;\">\n",
              "      <th></th>\n",
              "      <th>rule</th>\n",
              "      <th>rho_user</th>\n",
              "      <th>error_val</th>\n",
              "      <th>L_val</th>\n",
              "      <th>%reduction_val</th>\n",
              "      <th>eta</th>\n",
              "      <th>p_value</th>\n",
              "      <th>check</th>\n",
              "      <th>budget</th>\n",
              "      <th>error_test</th>\n",
              "      <th>L_test</th>\n",
              "      <th>%reduction_test</th>\n",
              "    </tr>\n",
              "  </thead>\n",
              "  <tbody>\n",
              "    <tr>\n",
              "      <th>0</th>\n",
              "      <td>1.176010</td>\n",
              "      <td>0.0</td>\n",
              "      <td>0.001265</td>\n",
              "      <td>0.007034</td>\n",
              "      <td>0.797076</td>\n",
              "      <td>0.219716</td>\n",
              "      <td>3.569270e-04</td>\n",
              "      <td>0.0</td>\n",
              "      <td>0.000000</td>\n",
              "      <td>0.001817</td>\n",
              "      <td>0.009283</td>\n",
              "      <td>1.190869</td>\n",
              "    </tr>\n",
              "    <tr>\n",
              "      <th>1</th>\n",
              "      <td>1.104536</td>\n",
              "      <td>0.0</td>\n",
              "      <td>0.003025</td>\n",
              "      <td>0.007595</td>\n",
              "      <td>2.114800</td>\n",
              "      <td>0.264298</td>\n",
              "      <td>3.187349e-20</td>\n",
              "      <td>0.0</td>\n",
              "      <td>0.005477</td>\n",
              "      <td>0.002564</td>\n",
              "      <td>0.009425</td>\n",
              "      <td>1.828026</td>\n",
              "    </tr>\n",
              "    <tr>\n",
              "      <th>2</th>\n",
              "      <td>1.221884</td>\n",
              "      <td>0.0</td>\n",
              "      <td>0.002918</td>\n",
              "      <td>0.007857</td>\n",
              "      <td>2.533146</td>\n",
              "      <td>0.322871</td>\n",
              "      <td>4.721467e-39</td>\n",
              "      <td>0.0</td>\n",
              "      <td>0.008367</td>\n",
              "      <td>0.006535</td>\n",
              "      <td>0.008526</td>\n",
              "      <td>3.697022</td>\n",
              "    </tr>\n",
              "    <tr>\n",
              "      <th>3</th>\n",
              "      <td>1.047855</td>\n",
              "      <td>0.0</td>\n",
              "      <td>0.004495</td>\n",
              "      <td>0.010188</td>\n",
              "      <td>4.406856</td>\n",
              "      <td>0.203426</td>\n",
              "      <td>2.432024e-41</td>\n",
              "      <td>0.0</td>\n",
              "      <td>0.008944</td>\n",
              "      <td>0.006628</td>\n",
              "      <td>0.008569</td>\n",
              "      <td>3.804684</td>\n",
              "    </tr>\n",
              "    <tr>\n",
              "      <th>4</th>\n",
              "      <td>0.178885</td>\n",
              "      <td>0.0</td>\n",
              "      <td>0.005127</td>\n",
              "      <td>0.009045</td>\n",
              "      <td>4.302619</td>\n",
              "      <td>0.043197</td>\n",
              "      <td>1.177661e-42</td>\n",
              "      <td>0.0</td>\n",
              "      <td>0.010000</td>\n",
              "      <td>0.010186</td>\n",
              "      <td>0.009670</td>\n",
              "      <td>5.632673</td>\n",
              "    </tr>\n",
              "  </tbody>\n",
              "</table>\n",
              "</div>"
            ],
            "text/plain": [
              "       rule  rho_user  error_val  ...  error_test    L_test  %reduction_test\n",
              "0  1.176010       0.0   0.001265  ...    0.001817  0.009283         1.190869\n",
              "1  1.104536       0.0   0.003025  ...    0.002564  0.009425         1.828026\n",
              "2  1.221884       0.0   0.002918  ...    0.006535  0.008526         3.697022\n",
              "3  1.047855       0.0   0.004495  ...    0.006628  0.008569         3.804684\n",
              "4  0.178885       0.0   0.005127  ...    0.010186  0.009670         5.632673\n",
              "\n",
              "[5 rows x 12 columns]"
            ]
          },
          "metadata": {
            "tags": []
          },
          "execution_count": 15
        }
      ]
    },
    {
      "cell_type": "code",
      "metadata": {
        "id": "MhjaMD-kKNMT",
        "colab_type": "code",
        "colab": {
          "base_uri": "https://localhost:8080/",
          "height": 206
        },
        "outputId": "95ed1e63-79df-4e52-e414-e7a7d519ef96"
      },
      "source": [
        "report_criteria_std"
      ],
      "execution_count": null,
      "outputs": [
        {
          "output_type": "execute_result",
          "data": {
            "text/html": [
              "<div>\n",
              "<style scoped>\n",
              "    .dataframe tbody tr th:only-of-type {\n",
              "        vertical-align: middle;\n",
              "    }\n",
              "\n",
              "    .dataframe tbody tr th {\n",
              "        vertical-align: top;\n",
              "    }\n",
              "\n",
              "    .dataframe thead th {\n",
              "        text-align: right;\n",
              "    }\n",
              "</style>\n",
              "<table border=\"1\" class=\"dataframe\">\n",
              "  <thead>\n",
              "    <tr style=\"text-align: right;\">\n",
              "      <th></th>\n",
              "      <th>rho_user</th>\n",
              "      <th>error_val</th>\n",
              "      <th>L_val</th>\n",
              "      <th>%reduction_val</th>\n",
              "      <th>thresh</th>\n",
              "      <th>budget</th>\n",
              "      <th>error_test</th>\n",
              "      <th>L_test</th>\n",
              "      <th>%reduction_test</th>\n",
              "    </tr>\n",
              "  </thead>\n",
              "  <tbody>\n",
              "    <tr>\n",
              "      <th>0</th>\n",
              "      <td>0.0</td>\n",
              "      <td>0.000996</td>\n",
              "      <td>0.007357</td>\n",
              "      <td>0.659454</td>\n",
              "      <td>0.000779</td>\n",
              "      <td>0.004472</td>\n",
              "      <td>0.003054</td>\n",
              "      <td>0.007032</td>\n",
              "      <td>1.738094</td>\n",
              "    </tr>\n",
              "    <tr>\n",
              "      <th>1</th>\n",
              "      <td>0.0</td>\n",
              "      <td>0.002871</td>\n",
              "      <td>0.006832</td>\n",
              "      <td>1.788413</td>\n",
              "      <td>0.016886</td>\n",
              "      <td>0.005477</td>\n",
              "      <td>0.003347</td>\n",
              "      <td>0.007023</td>\n",
              "      <td>1.419972</td>\n",
              "    </tr>\n",
              "    <tr>\n",
              "      <th>2</th>\n",
              "      <td>0.0</td>\n",
              "      <td>0.002834</td>\n",
              "      <td>0.007164</td>\n",
              "      <td>2.081797</td>\n",
              "      <td>0.053454</td>\n",
              "      <td>0.008367</td>\n",
              "      <td>0.005251</td>\n",
              "      <td>0.006496</td>\n",
              "      <td>2.410187</td>\n",
              "    </tr>\n",
              "    <tr>\n",
              "      <th>3</th>\n",
              "      <td>0.0</td>\n",
              "      <td>0.004625</td>\n",
              "      <td>0.007785</td>\n",
              "      <td>3.379797</td>\n",
              "      <td>0.081735</td>\n",
              "      <td>0.008367</td>\n",
              "      <td>0.005067</td>\n",
              "      <td>0.005878</td>\n",
              "      <td>1.744506</td>\n",
              "    </tr>\n",
              "    <tr>\n",
              "      <th>4</th>\n",
              "      <td>0.0</td>\n",
              "      <td>0.005370</td>\n",
              "      <td>0.008341</td>\n",
              "      <td>4.106479</td>\n",
              "      <td>0.093708</td>\n",
              "      <td>0.008944</td>\n",
              "      <td>0.006225</td>\n",
              "      <td>0.006567</td>\n",
              "      <td>2.760860</td>\n",
              "    </tr>\n",
              "  </tbody>\n",
              "</table>\n",
              "</div>"
            ],
            "text/plain": [
              "   rho_user  error_val     L_val  ...  error_test    L_test  %reduction_test\n",
              "0       0.0   0.000996  0.007357  ...    0.003054  0.007032         1.738094\n",
              "1       0.0   0.002871  0.006832  ...    0.003347  0.007023         1.419972\n",
              "2       0.0   0.002834  0.007164  ...    0.005251  0.006496         2.410187\n",
              "3       0.0   0.004625  0.007785  ...    0.005067  0.005878         1.744506\n",
              "4       0.0   0.005370  0.008341  ...    0.006225  0.006567         2.760860\n",
              "\n",
              "[5 rows x 9 columns]"
            ]
          },
          "metadata": {
            "tags": []
          },
          "execution_count": 16
        }
      ]
    },
    {
      "cell_type": "code",
      "metadata": {
        "id": "1NU73I2FKP6B",
        "colab_type": "code",
        "colab": {}
      },
      "source": [
        ""
      ],
      "execution_count": null,
      "outputs": []
    }
  ]
}