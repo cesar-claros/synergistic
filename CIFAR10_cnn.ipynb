{
  "nbformat": 4,
  "nbformat_minor": 0,
  "metadata": {
    "colab": {
      "name": "CIFAR10_cnn.ipynb",
      "provenance": [],
      "collapsed_sections": [],
      "include_colab_link": true
    },
    "kernelspec": {
      "name": "python3",
      "display_name": "Python 3"
    },
    "accelerator": "GPU"
  },
  "cells": [
    {
      "cell_type": "markdown",
      "metadata": {
        "id": "view-in-github",
        "colab_type": "text"
      },
      "source": [
        "<a href=\"https://colab.research.google.com/github/cesar-claros/synergistic/blob/SocialAds/CIFAR10_cnn.ipynb\" target=\"_parent\"><img src=\"https://colab.research.google.com/assets/colab-badge.svg\" alt=\"Open In Colab\"/></a>"
      ]
    },
    {
      "cell_type": "markdown",
      "metadata": {
        "id": "TFGGSTpW_RbD"
      },
      "source": [
        "# CIFAR 10"
      ]
    },
    {
      "cell_type": "code",
      "metadata": {
        "id": "ayq3B9TI_Kdm",
        "outputId": "ef6196c7-3a5c-4cfe-9c5b-6498a9b1d956",
        "colab": {
          "base_uri": "https://localhost:8080/"
        }
      },
      "source": [
        "! git clone https://github.com/cesar-claros/synergistic\n",
        "% cd synergistic/"
      ],
      "execution_count": 1,
      "outputs": [
        {
          "output_type": "stream",
          "name": "stdout",
          "text": [
            "Cloning into 'synergistic'...\n",
            "remote: Enumerating objects: 269, done.\u001b[K\n",
            "remote: Counting objects: 100% (269/269), done.\u001b[K\n",
            "remote: Compressing objects: 100% (250/250), done.\u001b[K\n",
            "remote: Total 269 (delta 120), reused 51 (delta 16), pack-reused 0\u001b[K\n",
            "Receiving objects: 100% (269/269), 19.70 MiB | 9.60 MiB/s, done.\n",
            "Resolving deltas: 100% (120/120), done.\n",
            "/content/synergistic\n"
          ]
        }
      ]
    },
    {
      "cell_type": "markdown",
      "metadata": {
        "id": "f-lBcXow_Zz4"
      },
      "source": [
        "## Dependencies"
      ]
    },
    {
      "cell_type": "code",
      "metadata": {
        "id": "4NehHQNB_bjw",
        "outputId": "5b3090ac-3238-4a20-f788-7f4caf37f7bc",
        "colab": {
          "base_uri": "https://localhost:8080/"
        }
      },
      "source": [
        "#%%\n",
        "# Command line instalation\n",
        "# ---------------------------\n",
        "!pip install torch\n",
        "!pip install gpytorch\n",
        "!pip install tensorflow-determinism\n",
        "\n",
        "# Imports\n",
        "# ---------------------------\n",
        "import io #Used as buffer\n",
        "import sys\n",
        "import matplotlib\n",
        "import tensorflow as tf # Keras model for MNIST \n",
        "# matplotlib.use('qt5Agg')\n",
        "import numpy as np\n",
        "import pandas as pd\n",
        "import matplotlib.pyplot as plt\n",
        "import math\n",
        "import auxfunc.funcs as sgn\n",
        "import auxfunc.trustscore as trs\n",
        "import seaborn as sns\n",
        "import torch\n",
        "from scipy.stats import entropy, spearmanr\n",
        "from sklearn import model_selection, svm, ensemble, linear_model, pipeline, metrics,\\\n",
        "      tree, neighbors, discriminant_analysis, gaussian_process, preprocessing, impute, decomposition\n",
        "from sklearn.gaussian_process.kernels import ConstantKernel, RBF, Matern\n",
        "plt.style.use(['ggplot','style/style.mplstyle'])\n",
        "import os\n",
        "import random"
      ],
      "execution_count": 2,
      "outputs": [
        {
          "output_type": "stream",
          "name": "stdout",
          "text": [
            "Requirement already satisfied: torch in /usr/local/lib/python3.7/dist-packages (1.10.0+cu111)\n",
            "Requirement already satisfied: typing-extensions in /usr/local/lib/python3.7/dist-packages (from torch) (3.10.0.2)\n",
            "Collecting gpytorch\n",
            "  Downloading gpytorch-1.5.1-py2.py3-none-any.whl (503 kB)\n",
            "\u001b[K     |████████████████████████████████| 503 kB 4.3 MB/s \n",
            "\u001b[?25hRequirement already satisfied: scikit-learn in /usr/local/lib/python3.7/dist-packages (from gpytorch) (1.0.1)\n",
            "Requirement already satisfied: scipy in /usr/local/lib/python3.7/dist-packages (from gpytorch) (1.4.1)\n",
            "Requirement already satisfied: torch>=1.8.1 in /usr/local/lib/python3.7/dist-packages (from gpytorch) (1.10.0+cu111)\n",
            "Requirement already satisfied: typing-extensions in /usr/local/lib/python3.7/dist-packages (from torch>=1.8.1->gpytorch) (3.10.0.2)\n",
            "Requirement already satisfied: threadpoolctl>=2.0.0 in /usr/local/lib/python3.7/dist-packages (from scikit-learn->gpytorch) (3.0.0)\n",
            "Requirement already satisfied: joblib>=0.11 in /usr/local/lib/python3.7/dist-packages (from scikit-learn->gpytorch) (1.1.0)\n",
            "Requirement already satisfied: numpy>=1.14.6 in /usr/local/lib/python3.7/dist-packages (from scikit-learn->gpytorch) (1.19.5)\n",
            "Installing collected packages: gpytorch\n",
            "Successfully installed gpytorch-1.5.1\n",
            "Collecting tensorflow-determinism\n",
            "  Downloading tensorflow-determinism-0.3.0.tar.gz (12 kB)\n",
            "Building wheels for collected packages: tensorflow-determinism\n",
            "  Building wheel for tensorflow-determinism (setup.py) ... \u001b[?25l\u001b[?25hdone\n",
            "  Created wheel for tensorflow-determinism: filename=tensorflow_determinism-0.3.0-py3-none-any.whl size=9157 sha256=db57b4969c394fc013af311cd98e6bb33c7fd47e329773501748bcafaf929751\n",
            "  Stored in directory: /root/.cache/pip/wheels/d2/be/33/2b27e81e5d40b4bfb7c103ac6c6c5e81fdbcf40d2af5078529\n",
            "Successfully built tensorflow-determinism\n",
            "Installing collected packages: tensorflow-determinism\n",
            "Successfully installed tensorflow-determinism-0.3.0\n"
          ]
        }
      ]
    },
    {
      "cell_type": "markdown",
      "metadata": {
        "id": "JAZez0Yd_sar"
      },
      "source": [
        "## Auxiliar Functions"
      ]
    },
    {
      "cell_type": "code",
      "metadata": {
        "id": "oPr-qGxurI6H"
      },
      "source": [
        "#%%\n",
        "# Define classic MLP architecture\n",
        "def CNN_model(input_dim):\n",
        "    # A simple model based off LeNet from https://keras.io/examples/mnist_cnn/\n",
        "    model = tf.keras.Sequential()\n",
        "    model.add(tf.keras.layers.Conv2D(32, [3, 3], activation='relu', input_shape=(32,32,3))) \n",
        "    model.add(tf.keras.layers.Conv2D(64, [3, 3], activation='relu'))\n",
        "    model.add(tf.keras.layers.MaxPooling2D(pool_size=(2, 2)))\n",
        "    model.add(tf.keras.layers.Dropout(0.5))\n",
        "    model.add(tf.keras.layers.Flatten())\n",
        "    model.add(tf.keras.layers.Dense(128, activation='relu'))\n",
        "    model.add(tf.keras.layers.Dropout(0.5))\n",
        "    model.add(tf.keras.layers.Dense(10, activation='softmax'))\n",
        "    return model"
      ],
      "execution_count": 3,
      "outputs": []
    },
    {
      "cell_type": "code",
      "metadata": {
        "id": "q3WjH5CGADeK"
      },
      "source": [
        "#%%\n",
        "# Signaling function fitting and evaluation\n",
        "def signalingFunction(X_train, y_train, y_train_pred_th, X_val, y_val, y_val_pred_th, X_test, y_test, y_test_pred_th, kernel='exponential', norm='l01', ex_dim=1):\n",
        "    # X_train, X_val should be scaled. ex_dim=1 by default on sgn.signailing\n",
        "    # Fit signaling function \n",
        "    exp = sgn.signaling(norm=norm) # idx = [train,test,val]\n",
        "    exp.fit(X_train, y_train, y_train_pred_th, kernel=kernel, n_iter=500, lr=0.01, ex_dim=ex_dim)\n",
        "    table_val = exp.evaluate(X_val, y_val, y_val_pred_th, rule_grid=np.linspace(0,3,30, endpoint=False), rho_grid=[0.1, 0.15])\n",
        "    table_test = exp.test(X_test, y_test, y_test_pred_th, table_val['rule'].to_numpy(), table_val['eta'].to_numpy())\n",
        "    table = pd.concat([table_val,table_test],axis=1)\n",
        "    return table, exp"
      ],
      "execution_count": 4,
      "outputs": []
    },
    {
      "cell_type": "code",
      "metadata": {
        "id": "nRVYBv5lxPJk"
      },
      "source": [
        "#%%\n",
        "# Initialize model\n",
        "def init_model(input_dim):\n",
        "    # svm = False\n",
        "    # model = MLP_model(input_dim=Data_X.shape[1], svm_obj=svm)\n",
        "    model  = CNN_model(input_dim=input_dim)\n",
        "    loss   = tf.keras.losses.categorical_crossentropy\n",
        "    metric = ['accuracy']\n",
        "    model.compile(loss=loss,\n",
        "                  optimizer=tf.keras.optimizers.Adam(learning_rate=1e-3, beta_1=0.9, \n",
        "                                                     beta_2=0.999, epsilon=1e-07, amsgrad=False,\n",
        "                                                     name='Adam'),\n",
        "                  metrics=metric)\n",
        "    return model"
      ],
      "execution_count": 5,
      "outputs": []
    },
    {
      "cell_type": "code",
      "metadata": {
        "id": "pMK50NRixYI9"
      },
      "source": [
        "#%%\n",
        "# Soft and thresholded output predictions\n",
        "def pred_output(model, X):\n",
        "    y_pred_soft = model.predict(X)\n",
        "    y_pred_th   = np.argmax(y_pred_soft, axis=1)\n",
        "    return y_pred_soft, y_pred_th"
      ],
      "execution_count": 6,
      "outputs": []
    },
    {
      "cell_type": "code",
      "metadata": {
        "id": "t174yG8_f1_2"
      },
      "source": [
        "#%%\n",
        "# Jaccard similarity index\n",
        "def jaccard_similarity(list1, list2):\n",
        "    s1 = set(list1)\n",
        "    s2 = set(list2)\n",
        "    return len(s1.intersection(s2)) / len(s1.union(s2))"
      ],
      "execution_count": 7,
      "outputs": []
    },
    {
      "cell_type": "code",
      "metadata": {
        "id": "n6VM8w4vf4lN"
      },
      "source": [
        "#%%\n",
        "# Baseline comparison\n",
        "def baselineCriteria(y_val, y_val_pred_soft, y_val_pred_th, y_test, y_test_pred_soft, y_test_pred_th, table, exp,trust_val, trust_test):\n",
        "      direction = 'further'\n",
        "      # p_val = np.concatenate(y_val_pred_soft,axis=1)\n",
        "      crit_val   = entropy(y_val_pred_soft, axis=1, base=10)\n",
        "      # p_test = np.concatenate(y_test_pred_soft,axis=1)\n",
        "      crit_test  = entropy(y_test_pred_soft, axis=1, base=10)\n",
        "      # Criteria 1\n",
        "      critFunc   = sgn.critEvaluation(norm='l01',direction=direction)\n",
        "      d_val      = critFunc.evaluate(y_val, y_val_pred_th, crit_val, rho_grid=[0.1, 0.15])\n",
        "      d_test     = critFunc.test(y_test, y_test_pred_th, crit_test, d_val['thresh'].to_numpy())\n",
        "      crit_table = pd.concat([d_val,d_test],axis=1)\n",
        "      # Best rules from signailing function on val are used to get UCBs on test\n",
        "      gamma      = table['rule'].to_numpy().reshape(-1,1)\n",
        "      f_test     = exp.gpr_mean_test + gamma*np.sqrt(exp.gpr_var_test)\n",
        "      # Threshold values on val data. UCB Signailing (eta) and new criteria (theta) \n",
        "      eta        = table['eta'].to_numpy().reshape(-1,1)\n",
        "      theta      = crit_table['thresh'].to_numpy().reshape(-1,1)\n",
        "      if direction == 'closer':\n",
        "        crit_mask, crit_idx = np.nonzero(crit_test.reshape(1,-1)<theta)\n",
        "      else:\n",
        "        crit_mask, crit_idx = np.nonzero(crit_test.reshape(1,-1)>theta)\n",
        "      f_mask, f_idx = np.nonzero(f_test>eta)      \n",
        "      shared = set(list(np.unique(f_mask))).intersection(set(list(np.unique(crit_mask))))\n",
        "      # Jaccard index btw signaled instances using both methods for ith rule-threshold\n",
        "      J = [jaccard_similarity(crit_idx[crit_mask==i],f_idx[f_mask==i]) if i in shared else np.nan for i in range(f_test.shape[0])]\n",
        "      crit_table['jaccard']=J\n",
        "      Sp = [spearmanr(f_test[i,:],crit_test)[0] for i in range(f_test.shape[0])]\n",
        "      crit_table['spearman'] = Sp\n",
        "      crit_table['gamma']    = gamma\n",
        "\n",
        "      # Criteria 2\n",
        "      critFuncSc = sgn.critEvaluation(norm='l01',direction='closer')\n",
        "      s_val      = critFuncSc.evaluate(y_val, y_val_pred_th, trust_val, rho_grid=[0.1, 0.15])\n",
        "      s_test     = critFuncSc.test(y_test, y_test_pred_th, trust_test, s_val['thresh'].to_numpy())\n",
        "      score_table= pd.concat([s_val,s_test],axis=1)\n",
        "      # Threshold values on val data. TrustScore (theta0) \n",
        "      theta0     = score_table['thresh'].to_numpy().reshape(-1,1) \n",
        "      crit_mask0, crit_idx0 = np.nonzero(trust_test.reshape(1,-1)<theta0)\n",
        "      # Jaccard index btw signaled instances using both methods for ith rule-threshold  \n",
        "      shared0    = set(list(np.unique(f_mask))).intersection(set(list(np.unique(crit_mask0))))\n",
        "      J0         = [jaccard_similarity(crit_idx0[crit_mask0==i],f_idx[f_mask==i]) if i in shared0 else np.nan for i in range(f_test.shape[0])]\n",
        "      Sp0        = [spearmanr(f_test[i,:],trust_test)[0] for i in range(f_test.shape[0])]\n",
        "      score_table['jaccard']  = J0 \n",
        "      score_table['spearman'] = Sp0  \n",
        "\n",
        "      return crit_table,score_table,crit_test"
      ],
      "execution_count": 8,
      "outputs": []
    },
    {
      "cell_type": "markdown",
      "metadata": {
        "id": "Wbo4e_6RA8_b"
      },
      "source": [
        "## Signaling function and baselines"
      ]
    },
    {
      "cell_type": "code",
      "metadata": {
        "id": "ICCVCQKDU00u"
      },
      "source": [
        "# For reproducibility\n",
        "os.environ['TF_DETERMINISTIC_OPS'] = '1'\n",
        "SEED = 12345\n",
        "os.environ['PYTHONHASHSEED']=str(SEED)\n",
        "random.seed(SEED)\n",
        "np.random.seed(SEED)\n",
        "tf.random.set_seed(SEED)\n",
        "torch.manual_seed(SEED)\n",
        "torch.cuda.manual_seed_all(SEED)"
      ],
      "execution_count": 9,
      "outputs": []
    },
    {
      "cell_type": "code",
      "metadata": {
        "id": "R3VCXn3_rTYj",
        "colab": {
          "base_uri": "https://localhost:8080/"
        },
        "outputId": "c114d632-53f1-4118-9788-4340163b2cd9"
      },
      "source": [
        "# %%\n",
        "# INITIALIZATION\n",
        "# ==============\n",
        "# EXPERIMENT SETUP\n",
        "# ================\n",
        "# Load data set\n",
        "(Data_X, Data_y), (X_test, y_test) = tf.keras.datasets.cifar10.load_data()\n",
        "# y, y_test = y.astype('int8'), y_test.astype('int8')\n",
        "# Rescale the images from [0,255] to the [0.0,1.0] range.\n",
        "Data_X, X_test = Data_X[...]/255.0, X_test[...]/255.0\n",
        "n_cat  = np.unique(np.concatenate([Data_y,y_test]), return_counts=False)\n",
        "n_cat  = n_cat.size\n",
        "print(\"Number of original training examples:\", len(Data_X))\n",
        "print(\"Number of original testing examples:\", len(X_test))\n",
        "print(\"---------------\")\n",
        "# Subsample data (30% of original data both in training and testing)\n",
        "Data_X, Data_X_sep, Data_y, Data_y_sep = model_selection.train_test_split(Data_X, Data_y, stratify=Data_y, test_size=0.75, random_state=SEED)\n",
        "X_test, X_test_sep, y_test, y_test_sep = model_selection.train_test_split(X_test, y_test, stratify=y_test, test_size=0.75, random_state=SEED)\n",
        "print(\"Number of subsampled training examples:\", len(Data_X))\n",
        "print(\"Number of subsampled testing examples:\", len(X_test))"
      ],
      "execution_count": 10,
      "outputs": [
        {
          "output_type": "stream",
          "name": "stdout",
          "text": [
            "Downloading data from https://www.cs.toronto.edu/~kriz/cifar-10-python.tar.gz\n",
            "170500096/170498071 [==============================] - 11s 0us/step\n",
            "170508288/170498071 [==============================] - 11s 0us/step\n",
            "Number of original training examples: 50000\n",
            "Number of original testing examples: 10000\n",
            "---------------\n",
            "Number of subsampled training examples: 12500\n",
            "Number of subsampled testing examples: 2500\n"
          ]
        }
      ]
    },
    {
      "cell_type": "code",
      "metadata": {
        "id": "0jsIZNLPri8D",
        "colab": {
          "base_uri": "https://localhost:8080/"
        },
        "outputId": "e711be64-dbb8-4abd-d3d9-3d75763ac365"
      },
      "source": [
        "#%%\n",
        "# Assign labels\n",
        "report_table    = []\n",
        "trust_criteria  = []\n",
        "report_criteria = []\n",
        "report_plot     = []\n",
        "kf = model_selection.StratifiedKFold(n_splits=5, shuffle=True, random_state=SEED)\n",
        "clf = 'softmax_act'\n",
        "addPredictions = True\n",
        "accuracy = 0\n",
        "fold     = 1\n",
        "es = tf.keras.callbacks.EarlyStopping(monitor='val_accuracy', mode='auto', verbose=1)\n",
        "y_test = tf.keras.utils.to_categorical(y_test)\n",
        "for train, val in kf.split(Data_X, Data_y):\n",
        "    X_train = Data_X[train]\n",
        "    y_train = Data_y[train]\n",
        "    y_train = tf.keras.utils.to_categorical(y_train)\n",
        "    X_val   = Data_X[val]\n",
        "    y_val   = Data_y[val]\n",
        "    y_val   = tf.keras.utils.to_categorical(y_val)\n",
        "\n",
        "    # ML Model fit & prediction\n",
        "    model = init_model(input_dim=Data_X.shape[1:])\n",
        "    # model.fit(X_train, y_train, batch_size=128, epochs=30, verbose=0, validation_data=(X_val, y_val), callbacks=[es])\n",
        "    model.fit(X_train, y_train, batch_size=128, epochs=10, verbose=0, validation_data=(X_val, y_val))\n",
        "    y_train_pred_soft, y_train_pred_th = pred_output(model, X_train) # y_train_pred_soft&y_train_pred_th: 10-d vector  \n",
        "    y_val_pred_soft, y_val_pred_th     = pred_output(model, X_val)   # y_val_pred_soft&y_val_pred_th    : 10-d vector\n",
        "    y_test_pred_soft, y_test_pred_th   = pred_output(model, X_test)  # y_test_pred_soft&y_test_pred_th  : 10-d vector\n",
        "    print('accuracy(Train)={}'.format(np.sum(y_train_pred_th==np.argmax(y_train,axis=1))/y_train_pred_th.size))\n",
        "\n",
        "    # layer_outputs = [layer.output for layer in model.layers[4]]\n",
        "    if clf == 'softmax_act':\n",
        "            activation_model = tf.keras.models.Model(inputs=model.input, outputs=model.layers[5].output) # Early feture extraction: 128 dense vector\n",
        "            X_train_GP       = activation_model.predict(X_train)\n",
        "            X_val_GP         = activation_model.predict(X_val)\n",
        "            X_test_GP        = activation_model.predict(X_test)\n",
        "    elif clf == 'softmax':\n",
        "            X_train_GP       = X_train.reshape(-1,np.prod(X_train.shape[1:]))\n",
        "            X_val_GP         = X_val.reshape(-1,np.prod(X_val.shape[1:]))\n",
        "            X_test_GP        = X_test.reshape(-1,np.prod(X_test.shape[1:]))\n",
        "\n",
        "    if addPredictions:\n",
        "            # Add predictions\n",
        "            X_train_GP = np.concatenate((X_train_GP, y_train_pred_soft), axis=1)\n",
        "            X_val_GP   = np.concatenate((X_val_GP, y_val_pred_soft), axis=1)\n",
        "            X_test_GP  = np.concatenate((X_test_GP, y_test_pred_soft), axis=1)\n",
        "    scaleX_GP  = preprocessing.StandardScaler().fit(X_train_GP)\n",
        "    X_train_GP = scaleX_GP.transform(X_train_GP)\n",
        "    X_val_GP   = scaleX_GP.transform(X_val_GP)\n",
        "    X_test_GP  = scaleX_GP.transform(X_test_GP)\n",
        "\n",
        "    # Signailing function. Call\n",
        "    table, exp = signalingFunction(X_train_GP, np.argmax(y_train, axis=1), y_train_pred_th, \\\n",
        "                                   X_val_GP, np.argmax(y_val, axis=1), y_val_pred_th,\\\n",
        "                                   X_test_GP, np.argmax(y_test, axis=1), y_test_pred_th,\\\n",
        "                                   kernel='e*e', ex_dim=y_train_pred_soft.shape[1])\n",
        "\n",
        "    report_table.append(pd.concat([pd.DataFrame({'fold':[fold]*table.shape[0]}),table],axis=1))\n",
        "\n",
        "    # Trust Score fitted on train data to evaluate loss reduction on val-test data\n",
        "    trust_model = trs.TrustScore()\n",
        "    trust_model.fit(X=X_train_GP,Y=y_train,classes=n_cat)\n",
        "    trust_val,class_val   = trust_model.score(X_val_GP, y_val_pred_th)\n",
        "    trust_test,class_test = trust_model.score(X_test_GP, y_test_pred_th)\n",
        "    \n",
        "    # Baseline for comparison\n",
        "    crit_table,score_table,crit_test = baselineCriteria(np.argmax(y_val, axis=1), y_val_pred_soft, y_val_pred_th,\\\n",
        "                                                        np.argmax(y_test, axis=1), y_test_pred_soft, y_test_pred_th,\\\n",
        "                                                        table, exp,\\\n",
        "                                                        trust_val, trust_test)\n",
        "   \n",
        "    report_criteria.append(pd.concat([pd.DataFrame({'fold':[fold]*crit_table.shape[0]}),crit_table],axis=1))\n",
        "    trust_criteria.append(pd.concat([pd.DataFrame({'fold':[fold]*score_table.shape[0]}),score_table],axis=1))\n",
        "\n",
        "    score = np.sum(np.argmax(y_val, axis=1)==y_val_pred_th)/np.size(np.argmax(y_val, axis=1))\n",
        "    if accuracy < score:\n",
        "      accuracy = score\n",
        "      table_best = table\n",
        "      crit_table_best = crit_table\n",
        "      exp_best = exp\n",
        "      y_test_best = y_test\n",
        "      y_test_pred_soft_best = y_test_pred_soft\n",
        "      y_test_pred_th_best = y_test_pred_th\n",
        "      X_test_best = X_test\n",
        "    fold +=1\n",
        "    del(model)"
      ],
      "execution_count": 11,
      "outputs": [
        {
          "output_type": "stream",
          "name": "stdout",
          "text": [
            "accuracy(Train)=0.7637\n",
            "initializing cuda...\n",
            "lr=0.01, n_iterations=500\n"
          ]
        },
        {
          "output_type": "stream",
          "name": "stderr",
          "text": [
            "/usr/local/lib/python3.7/dist-packages/gpytorch/utils/linear_cg.py:234: UserWarning: An output with one or more elements was resized since it had shape [11], which does not match the required output shape [1, 11].This behavior is deprecated, and in a future PyTorch release outputs will not be resized unless they have zero elements. You can explicitly reuse an out tensor t by resizing it, inplace, to zero elements with t.resize_(0). (Triggered internally at  ../aten/src/ATen/native/Resize.cpp:23.)\n",
            "  torch.sum(mul_storage, -2, keepdim=True, out=alpha)\n"
          ]
        },
        {
          "output_type": "stream",
          "name": "stdout",
          "text": [
            "Iter 491/500 - Loss: 0.397  noise: 0.073\n",
            "Iter 492/500 - Loss: 0.397  noise: 0.073\n",
            "Iter 493/500 - Loss: 0.398  noise: 0.073\n",
            "Iter 494/500 - Loss: 0.399  noise: 0.073\n",
            "Iter 495/500 - Loss: 0.397  noise: 0.073\n",
            "Iter 496/500 - Loss: 0.397  noise: 0.073\n",
            "Iter 497/500 - Loss: 0.396  noise: 0.072\n",
            "Iter 498/500 - Loss: 0.397  noise: 0.072\n",
            "Iter 499/500 - Loss: 0.397  noise: 0.072\n",
            "Iter 500/500 - Loss: 0.397  noise: 0.072\n",
            "evaluating with cuda...\n",
            "evaluating with cuda...\n",
            "accuracy(Train)=0.7351\n",
            "initializing cuda...\n",
            "lr=0.01, n_iterations=500\n"
          ]
        },
        {
          "output_type": "stream",
          "name": "stderr",
          "text": [
            "/usr/local/lib/python3.7/dist-packages/gpytorch/utils/linear_cg.py:234: UserWarning: An output with one or more elements was resized since it had shape [11], which does not match the required output shape [1, 11].This behavior is deprecated, and in a future PyTorch release outputs will not be resized unless they have zero elements. You can explicitly reuse an out tensor t by resizing it, inplace, to zero elements with t.resize_(0). (Triggered internally at  ../aten/src/ATen/native/Resize.cpp:23.)\n",
            "  torch.sum(mul_storage, -2, keepdim=True, out=alpha)\n"
          ]
        },
        {
          "output_type": "stream",
          "name": "stdout",
          "text": [
            "Iter 491/500 - Loss: 0.455  noise: 0.087\n",
            "Iter 492/500 - Loss: 0.454  noise: 0.087\n",
            "Iter 493/500 - Loss: 0.455  noise: 0.087\n",
            "Iter 494/500 - Loss: 0.455  noise: 0.087\n",
            "Iter 495/500 - Loss: 0.455  noise: 0.087\n",
            "Iter 496/500 - Loss: 0.456  noise: 0.087\n",
            "Iter 497/500 - Loss: 0.456  noise: 0.086\n",
            "Iter 498/500 - Loss: 0.456  noise: 0.086\n",
            "Iter 499/500 - Loss: 0.454  noise: 0.086\n",
            "Iter 500/500 - Loss: 0.455  noise: 0.086\n",
            "evaluating with cuda...\n",
            "evaluating with cuda...\n",
            "accuracy(Train)=0.7676\n",
            "initializing cuda...\n",
            "lr=0.01, n_iterations=500\n"
          ]
        },
        {
          "output_type": "stream",
          "name": "stderr",
          "text": [
            "/usr/local/lib/python3.7/dist-packages/gpytorch/utils/linear_cg.py:234: UserWarning: An output with one or more elements was resized since it had shape [11], which does not match the required output shape [1, 11].This behavior is deprecated, and in a future PyTorch release outputs will not be resized unless they have zero elements. You can explicitly reuse an out tensor t by resizing it, inplace, to zero elements with t.resize_(0). (Triggered internally at  ../aten/src/ATen/native/Resize.cpp:23.)\n",
            "  torch.sum(mul_storage, -2, keepdim=True, out=alpha)\n"
          ]
        },
        {
          "output_type": "stream",
          "name": "stdout",
          "text": [
            "Iter 491/500 - Loss: 0.402  noise: 0.076\n",
            "Iter 492/500 - Loss: 0.402  noise: 0.076\n",
            "Iter 493/500 - Loss: 0.403  noise: 0.076\n",
            "Iter 494/500 - Loss: 0.402  noise: 0.076\n",
            "Iter 495/500 - Loss: 0.404  noise: 0.076\n",
            "Iter 496/500 - Loss: 0.402  noise: 0.076\n",
            "Iter 497/500 - Loss: 0.403  noise: 0.076\n",
            "Iter 498/500 - Loss: 0.402  noise: 0.076\n",
            "Iter 499/500 - Loss: 0.403  noise: 0.076\n",
            "Iter 500/500 - Loss: 0.402  noise: 0.075\n",
            "evaluating with cuda...\n",
            "evaluating with cuda...\n",
            "accuracy(Train)=0.7652\n",
            "initializing cuda...\n",
            "lr=0.01, n_iterations=500\n"
          ]
        },
        {
          "output_type": "stream",
          "name": "stderr",
          "text": [
            "/usr/local/lib/python3.7/dist-packages/gpytorch/utils/linear_cg.py:234: UserWarning: An output with one or more elements was resized since it had shape [11], which does not match the required output shape [1, 11].This behavior is deprecated, and in a future PyTorch release outputs will not be resized unless they have zero elements. You can explicitly reuse an out tensor t by resizing it, inplace, to zero elements with t.resize_(0). (Triggered internally at  ../aten/src/ATen/native/Resize.cpp:23.)\n",
            "  torch.sum(mul_storage, -2, keepdim=True, out=alpha)\n"
          ]
        },
        {
          "output_type": "stream",
          "name": "stdout",
          "text": [
            "Iter 491/500 - Loss: 0.405  noise: 0.078\n",
            "Iter 492/500 - Loss: 0.405  noise: 0.077\n",
            "Iter 493/500 - Loss: 0.406  noise: 0.077\n",
            "Iter 494/500 - Loss: 0.405  noise: 0.077\n",
            "Iter 495/500 - Loss: 0.405  noise: 0.077\n",
            "Iter 496/500 - Loss: 0.404  noise: 0.077\n",
            "Iter 497/500 - Loss: 0.405  noise: 0.077\n",
            "Iter 498/500 - Loss: 0.405  noise: 0.077\n",
            "Iter 499/500 - Loss: 0.405  noise: 0.077\n",
            "Iter 500/500 - Loss: 0.405  noise: 0.077\n",
            "evaluating with cuda...\n",
            "evaluating with cuda...\n",
            "accuracy(Train)=0.772\n",
            "initializing cuda...\n",
            "lr=0.01, n_iterations=500\n"
          ]
        },
        {
          "output_type": "stream",
          "name": "stderr",
          "text": [
            "/usr/local/lib/python3.7/dist-packages/gpytorch/utils/linear_cg.py:234: UserWarning: An output with one or more elements was resized since it had shape [11], which does not match the required output shape [1, 11].This behavior is deprecated, and in a future PyTorch release outputs will not be resized unless they have zero elements. You can explicitly reuse an out tensor t by resizing it, inplace, to zero elements with t.resize_(0). (Triggered internally at  ../aten/src/ATen/native/Resize.cpp:23.)\n",
            "  torch.sum(mul_storage, -2, keepdim=True, out=alpha)\n"
          ]
        },
        {
          "output_type": "stream",
          "name": "stdout",
          "text": [
            "Iter 491/500 - Loss: 0.407  noise: 0.077\n",
            "Iter 492/500 - Loss: 0.409  noise: 0.077\n",
            "Iter 493/500 - Loss: 0.408  noise: 0.077\n",
            "Iter 494/500 - Loss: 0.407  noise: 0.077\n",
            "Iter 495/500 - Loss: 0.408  noise: 0.076\n",
            "Iter 496/500 - Loss: 0.407  noise: 0.076\n",
            "Iter 497/500 - Loss: 0.408  noise: 0.076\n",
            "Iter 498/500 - Loss: 0.407  noise: 0.076\n",
            "Iter 499/500 - Loss: 0.408  noise: 0.076\n",
            "Iter 500/500 - Loss: 0.407  noise: 0.076\n",
            "evaluating with cuda...\n",
            "evaluating with cuda...\n"
          ]
        }
      ]
    },
    {
      "cell_type": "markdown",
      "metadata": {
        "id": "-059zsY9UwAK"
      },
      "source": [
        "## Summary"
      ]
    },
    {
      "cell_type": "code",
      "metadata": {
        "colab": {
          "base_uri": "https://localhost:8080/",
          "height": 173
        },
        "id": "nhvxiQi7UzCf",
        "outputId": "c0b30e78-cbd7-4aff-84e2-6efa8cab35a1"
      },
      "source": [
        "report_table_concat = pd.concat(report_table)\n",
        "report_table_concat = report_table_concat.groupby('rho_user').agg({\"rho_hat_test\":[np.median],\"%loss_red_test\": [np.median,min, max]})\n",
        "report_table_concat"
      ],
      "execution_count": 12,
      "outputs": [
        {
          "output_type": "execute_result",
          "data": {
            "text/html": [
              "<div>\n",
              "<style scoped>\n",
              "    .dataframe tbody tr th:only-of-type {\n",
              "        vertical-align: middle;\n",
              "    }\n",
              "\n",
              "    .dataframe tbody tr th {\n",
              "        vertical-align: top;\n",
              "    }\n",
              "\n",
              "    .dataframe thead tr th {\n",
              "        text-align: left;\n",
              "    }\n",
              "\n",
              "    .dataframe thead tr:last-of-type th {\n",
              "        text-align: right;\n",
              "    }\n",
              "</style>\n",
              "<table border=\"1\" class=\"dataframe\">\n",
              "  <thead>\n",
              "    <tr>\n",
              "      <th></th>\n",
              "      <th>rho_hat_test</th>\n",
              "      <th colspan=\"3\" halign=\"left\">%loss_red_test</th>\n",
              "    </tr>\n",
              "    <tr>\n",
              "      <th></th>\n",
              "      <th>median</th>\n",
              "      <th>median</th>\n",
              "      <th>min</th>\n",
              "      <th>max</th>\n",
              "    </tr>\n",
              "    <tr>\n",
              "      <th>rho_user</th>\n",
              "      <th></th>\n",
              "      <th></th>\n",
              "      <th></th>\n",
              "      <th></th>\n",
              "    </tr>\n",
              "  </thead>\n",
              "  <tbody>\n",
              "    <tr>\n",
              "      <th>0.10</th>\n",
              "      <td>0.10</td>\n",
              "      <td>17.58</td>\n",
              "      <td>17.24</td>\n",
              "      <td>20.76</td>\n",
              "    </tr>\n",
              "    <tr>\n",
              "      <th>0.15</th>\n",
              "      <td>0.15</td>\n",
              "      <td>27.41</td>\n",
              "      <td>24.29</td>\n",
              "      <td>28.31</td>\n",
              "    </tr>\n",
              "  </tbody>\n",
              "</table>\n",
              "</div>"
            ],
            "text/plain": [
              "         rho_hat_test %loss_red_test              \n",
              "               median         median    min    max\n",
              "rho_user                                          \n",
              "0.10             0.10          17.58  17.24  20.76\n",
              "0.15             0.15          27.41  24.29  28.31"
            ]
          },
          "metadata": {},
          "execution_count": 12
        }
      ]
    },
    {
      "cell_type": "code",
      "metadata": {
        "colab": {
          "base_uri": "https://localhost:8080/",
          "height": 173
        },
        "id": "cniEnorRU0qz",
        "outputId": "be919c6b-300c-4aab-c60c-971f3bd8e3c3"
      },
      "source": [
        "report_criteria_concat = pd.concat(report_criteria)\n",
        "report_criteria_concat = report_criteria_concat.groupby('rho_user').agg({\"rho_hat_test\":[np.median],\"%loss_red_test\":[np.median,min, max],\"jaccard\":[np.median,min, max]})\n",
        "report_criteria_concat"
      ],
      "execution_count": 13,
      "outputs": [
        {
          "output_type": "execute_result",
          "data": {
            "text/html": [
              "<div>\n",
              "<style scoped>\n",
              "    .dataframe tbody tr th:only-of-type {\n",
              "        vertical-align: middle;\n",
              "    }\n",
              "\n",
              "    .dataframe tbody tr th {\n",
              "        vertical-align: top;\n",
              "    }\n",
              "\n",
              "    .dataframe thead tr th {\n",
              "        text-align: left;\n",
              "    }\n",
              "\n",
              "    .dataframe thead tr:last-of-type th {\n",
              "        text-align: right;\n",
              "    }\n",
              "</style>\n",
              "<table border=\"1\" class=\"dataframe\">\n",
              "  <thead>\n",
              "    <tr>\n",
              "      <th></th>\n",
              "      <th>rho_hat_test</th>\n",
              "      <th colspan=\"3\" halign=\"left\">%loss_red_test</th>\n",
              "      <th colspan=\"3\" halign=\"left\">jaccard</th>\n",
              "    </tr>\n",
              "    <tr>\n",
              "      <th></th>\n",
              "      <th>median</th>\n",
              "      <th>median</th>\n",
              "      <th>min</th>\n",
              "      <th>max</th>\n",
              "      <th>median</th>\n",
              "      <th>min</th>\n",
              "      <th>max</th>\n",
              "    </tr>\n",
              "    <tr>\n",
              "      <th>rho_user</th>\n",
              "      <th></th>\n",
              "      <th></th>\n",
              "      <th></th>\n",
              "      <th></th>\n",
              "      <th></th>\n",
              "      <th></th>\n",
              "      <th></th>\n",
              "    </tr>\n",
              "  </thead>\n",
              "  <tbody>\n",
              "    <tr>\n",
              "      <th>0.10</th>\n",
              "      <td>0.11</td>\n",
              "      <td>18.62</td>\n",
              "      <td>15.52</td>\n",
              "      <td>18.96</td>\n",
              "      <td>0.251232</td>\n",
              "      <td>0.237089</td>\n",
              "      <td>0.283372</td>\n",
              "    </tr>\n",
              "    <tr>\n",
              "      <th>0.15</th>\n",
              "      <td>0.15</td>\n",
              "      <td>25.17</td>\n",
              "      <td>24.86</td>\n",
              "      <td>26.25</td>\n",
              "      <td>0.347368</td>\n",
              "      <td>0.325862</td>\n",
              "      <td>0.367505</td>\n",
              "    </tr>\n",
              "  </tbody>\n",
              "</table>\n",
              "</div>"
            ],
            "text/plain": [
              "         rho_hat_test %loss_red_test         ...   jaccard                    \n",
              "               median         median    min  ...    median       min       max\n",
              "rho_user                                     ...                              \n",
              "0.10             0.11          18.62  15.52  ...  0.251232  0.237089  0.283372\n",
              "0.15             0.15          25.17  24.86  ...  0.347368  0.325862  0.367505\n",
              "\n",
              "[2 rows x 7 columns]"
            ]
          },
          "metadata": {},
          "execution_count": 13
        }
      ]
    },
    {
      "cell_type": "code",
      "metadata": {
        "colab": {
          "base_uri": "https://localhost:8080/",
          "height": 173
        },
        "id": "BY6k0vPPU2I1",
        "outputId": "7dbf670d-5206-446f-caa2-69f92e01ab92"
      },
      "source": [
        "report_trust_concat    = pd.concat(trust_criteria)\n",
        "report_trust_concat    = report_trust_concat.groupby('rho_user').agg({\"rho_hat_test\":[np.median],\"%loss_red_test\":[np.median,min, max],\"jaccard\":[np.median,min, max]})\n",
        "report_trust_concat"
      ],
      "execution_count": 14,
      "outputs": [
        {
          "output_type": "execute_result",
          "data": {
            "text/html": [
              "<div>\n",
              "<style scoped>\n",
              "    .dataframe tbody tr th:only-of-type {\n",
              "        vertical-align: middle;\n",
              "    }\n",
              "\n",
              "    .dataframe tbody tr th {\n",
              "        vertical-align: top;\n",
              "    }\n",
              "\n",
              "    .dataframe thead tr th {\n",
              "        text-align: left;\n",
              "    }\n",
              "\n",
              "    .dataframe thead tr:last-of-type th {\n",
              "        text-align: right;\n",
              "    }\n",
              "</style>\n",
              "<table border=\"1\" class=\"dataframe\">\n",
              "  <thead>\n",
              "    <tr>\n",
              "      <th></th>\n",
              "      <th>rho_hat_test</th>\n",
              "      <th colspan=\"3\" halign=\"left\">%loss_red_test</th>\n",
              "      <th colspan=\"3\" halign=\"left\">jaccard</th>\n",
              "    </tr>\n",
              "    <tr>\n",
              "      <th></th>\n",
              "      <th>median</th>\n",
              "      <th>median</th>\n",
              "      <th>min</th>\n",
              "      <th>max</th>\n",
              "      <th>median</th>\n",
              "      <th>min</th>\n",
              "      <th>max</th>\n",
              "    </tr>\n",
              "    <tr>\n",
              "      <th>rho_user</th>\n",
              "      <th></th>\n",
              "      <th></th>\n",
              "      <th></th>\n",
              "      <th></th>\n",
              "      <th></th>\n",
              "      <th></th>\n",
              "      <th></th>\n",
              "    </tr>\n",
              "  </thead>\n",
              "  <tbody>\n",
              "    <tr>\n",
              "      <th>0.10</th>\n",
              "      <td>0.10</td>\n",
              "      <td>15.57</td>\n",
              "      <td>14.82</td>\n",
              "      <td>19.88</td>\n",
              "      <td>0.225722</td>\n",
              "      <td>0.191067</td>\n",
              "      <td>0.249417</td>\n",
              "    </tr>\n",
              "    <tr>\n",
              "      <th>0.15</th>\n",
              "      <td>0.15</td>\n",
              "      <td>24.20</td>\n",
              "      <td>23.19</td>\n",
              "      <td>26.74</td>\n",
              "      <td>0.294613</td>\n",
              "      <td>0.257092</td>\n",
              "      <td>0.321667</td>\n",
              "    </tr>\n",
              "  </tbody>\n",
              "</table>\n",
              "</div>"
            ],
            "text/plain": [
              "         rho_hat_test %loss_red_test         ...   jaccard                    \n",
              "               median         median    min  ...    median       min       max\n",
              "rho_user                                     ...                              \n",
              "0.10             0.10          15.57  14.82  ...  0.225722  0.191067  0.249417\n",
              "0.15             0.15          24.20  23.19  ...  0.294613  0.257092  0.321667\n",
              "\n",
              "[2 rows x 7 columns]"
            ]
          },
          "metadata": {},
          "execution_count": 14
        }
      ]
    },
    {
      "cell_type": "markdown",
      "metadata": {
        "id": "InjfwnAy5ANb"
      },
      "source": [
        "# Output visualization"
      ]
    },
    {
      "cell_type": "code",
      "metadata": {
        "id": "xw-KN7fc42-3"
      },
      "source": [
        "#%%\n",
        "# Command line instalation\n",
        "# ---------------------------\n",
        "! sudo apt-get install texlive-latex-recommended #1\n",
        "! sudo apt-get install dvipng texlive-fonts-recommended #2\n",
        "! wget http://mirrors.ctan.org/macros/latex/contrib/type1cm.zip #3\n",
        "! unzip type1cm.zip -d /tmp/type1cm #4\n",
        "! cd /tmp/type1cm/type1cm/ && sudo latex type1cm.ins  #5\n",
        "! sudo mkdir /usr/share/texmf/tex/latex/type1cm #6\n",
        "! sudo cp /tmp/type1cm/type1cm/type1cm.sty /usr/share/texmf/tex/latex/type1cm #7\n",
        "! sudo texhash #8"
      ],
      "execution_count": null,
      "outputs": []
    },
    {
      "cell_type": "code",
      "metadata": {
        "id": "mj6x1QVqcRgO",
        "colab": {
          "base_uri": "https://localhost:8080/"
        },
        "outputId": "43c0bf20-e136-4423-a074-a618483d60eb"
      },
      "source": [
        "rho = 0.15\n",
        "X_test_best = X_test_best.squeeze()\n",
        "rule = table_best.loc[table_best.rho_user == rho]['rule'].to_numpy()\n",
        "eta = table_best.loc[table_best.rho_user == rho]['eta'].to_numpy()[0]\n",
        "theta = crit_table_best.loc[crit_table_best.rho_user == rho]['thresh'].to_numpy()[0]\n",
        "f_test = exp_best.gpr_mean_test+rule*np.sqrt(exp_best.gpr_var_test)\n",
        "top_n = 5 # Top n selected instances in test set\n",
        "top_f_idx = np.argpartition(f_test, -top_n)[-top_n:]\n",
        "top_f_idx = top_f_idx[np.argsort(f_test[top_f_idx])[::-1]]# Added\n",
        "# p_test = np.concatenate((y_test_pred_soft_best,1-y_test_pred_soft_best),axis=1)\n",
        "crit_test = entropy(y_test_pred_soft_best, axis=1, base=10)\n",
        "top_crit_idx = np.argpartition(crit_test, -top_n)[-top_n:]\n",
        "top_crit_idx = top_crit_idx[np.argsort(crit_test[top_crit_idx])[::-1]]# Added\n",
        "\n",
        "output_text = io.StringIO()\n",
        "print('eta={:.3f},theta={:.3f}'.format(eta,theta))"
      ],
      "execution_count": 36,
      "outputs": [
        {
          "output_type": "stream",
          "name": "stdout",
          "text": [
            "eta=0.538,theta=0.722\n"
          ]
        }
      ]
    },
    {
      "cell_type": "code",
      "metadata": {
        "id": "BAt0-8IaWG2c"
      },
      "source": [
        "roc_f = metrics.roc_auc_score(exp_best.L_test, f_test)\n",
        "roc_crit = metrics.roc_auc_score(exp_best.L_test, crit_test)"
      ],
      "execution_count": 37,
      "outputs": []
    },
    {
      "cell_type": "code",
      "metadata": {
        "id": "PJlMUtf_wTWa",
        "outputId": "530c299d-9b5f-4058-d279-a182056e5e1c",
        "colab": {
          "base_uri": "https://localhost:8080/",
          "height": 348
        }
      },
      "source": [
        "# Plot selected instances\n",
        "# initialize the label \n",
        "labelNames = ['airplane', 'auto', 'bird', 'cat', 'deer', 'dog', 'frog', 'horse', 'ship', 'truck']\n",
        "# X_test_best = X_test.reshape(-1,28,28)\n",
        "# y_hat_best = y_test_pred_th[top_f_idx]\n",
        "# y_th_best = np.argmax(y_test[top_f_idx], axis=1)\n",
        "# Plot instances\n",
        "row,col = 2,top_n\n",
        "fig1, ax = plt.subplots(row, col, figsize=(6.0, 3.5), constrained_layout=True, dpi=90)\n",
        "# fig1.subplots_adjust(wspace=0.1, hspace=0.35, top=0.5)\n",
        "# for i in top_f_idx:\n",
        "j = 0\n",
        "for i,k in zip(top_f_idx, top_crit_idx):\n",
        "    if np.argmax(y_test_best, axis=1)[i] != y_test_pred_th_best[i]:\n",
        "        color = 'red'\n",
        "    else:\n",
        "        color = 'green'\n",
        "    # ax = fig1.add_subplot(3, 4, j+1)\n",
        "    ax[0][j].imshow(X_test_best[i, :, :, :])\n",
        "    ax[0][j].set_title(r'$y=${s1}'.format(s1=labelNames[np.argmax(y_test_best, axis=1)[i]])+',\\n'+\\\n",
        "                    r'$\\hat{{y}}=${s2}'.format(s2=labelNames[y_test_pred_th_best[i]]), color=color, fontsize=13)\n",
        "    ax[0][j].set_xlabel(r'$g(x)=${:.2f}'.format(crit_test[i])+'\\n$f(x)=${:.2f}'.format(f_test[i]), fontsize=13)\n",
        "    ax[0][j].set_xticks([])\n",
        "    ax[0][j].set_yticks([])\n",
        "\n",
        "    if np.argmax(y_test_best, axis=1)[k] != y_test_pred_th_best[k]:\n",
        "        color = 'red'\n",
        "    else:\n",
        "        color = 'green'\n",
        "    # ax = fig1.add_subplot(3, 4, j+1)\n",
        "    ax[1][j].imshow(X_test_best[k, :, :, :])\n",
        "    ax[1][j].set_title(r'$y=${s1}'.format(s1=labelNames[np.argmax(y_test_best, axis=1)[k]])+',\\n'+\\\n",
        "                    r'$\\hat{{y}}=${s2}'.format(s2=labelNames[y_test_pred_th_best[k]]), color=color, fontsize=13)\n",
        "    ax[1][j].set_xlabel(r\"$g(x)=${:.2f}\".format(crit_test[k])+'\\n$f(x)=${:.2f}'.format(f_test[k]), fontsize=13)\n",
        "    ax[1][j].set_xticks([])\n",
        "    ax[1][j].set_yticks([])\n",
        "    j = j + 1\n",
        "fig1.set_constrained_layout_pads(w_pad=0, h_pad=0, hspace=0.01, wspace=-.5)\n",
        "ax[0][0].set_ylabel(r\"$f(x)>\\eta$\"+\"\\n\"+r\"$(AUC={:.2f})$\".format(roc_f), fontsize=13)\n",
        "# ax[0][0].set_ylabel(r\"$f(x)>\\eta$\", fontsize=14)\n",
        "ax[1][0].set_ylabel(r\"$g(x)>\\theta$\"+\"\\n\"+r\"$(AUC={:.2f})$\".format(roc_crit), fontsize=13)\n",
        "# ax[1][0].set_ylabel(r\"$g(x)>\\theta$\", fontsize=14)\n",
        "\n",
        "# fig1.text(0.5, 0.01, r'$\\rho={},~|f(x)>\\eta|={},~|g(x)>\\theta|={}$'.format(rho,np.sum(f_test>eta),np.sum(crit_test>theta)), ha='center', fontsize = 12)\n",
        "# plt.suptitle(r'Top {} selected instances'.format(top_n), fontsize=15)\n",
        "# plt.tight_layout()\n",
        "# path_fig_fxgx_test = \"drive/My Drive/NIPS2020/results/cifar10/fig_fxgx_test_{clf}_yhat{yhat}_pca{pca}.svg\".format(clf=clf, pca=applyPCA, yhat=addPredictions)\n",
        "# plt.savefig(path_fig_fxgx_test, bbox_inches='tight', facecolor='w')"
      ],
      "execution_count": 41,
      "outputs": [
        {
          "output_type": "execute_result",
          "data": {
            "text/plain": [
              "Text(0, 0.5, '$g(x)>\\\\theta$\\n$(AUC=0.75)$')"
            ]
          },
          "metadata": {},
          "execution_count": 41
        },
        {
          "output_type": "display_data",
          "data": {
            "image/png": "[encoded data removed]",
            "text/plain": [
              "<Figure size 540x315 with 10 Axes>"
            ]
          },
          "metadata": {}
        }
      ]
    },
    {
      "cell_type": "code",
      "metadata": {
        "id": "9QJvvOSNwurX"
      },
      "source": [
        ""
      ],
      "execution_count": null,
      "outputs": []
    }
  ]
}