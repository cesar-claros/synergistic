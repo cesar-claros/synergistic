{
  "nbformat": 4,
  "nbformat_minor": 0,
  "metadata": {
    "anaconda-cloud": {},
    "kernelspec": {
      "display_name": "Python 3",
      "language": "python",
      "name": "python3"
    },
    "language_info": {
      "codemirror_mode": {
        "name": "ipython",
        "version": 3
      },
      "file_extension": ".py",
      "mimetype": "text/x-python",
      "name": "python",
      "nbconvert_exporter": "python",
      "pygments_lexer": "ipython3",
      "version": "3.6.1"
    },
    "colab": {
      "name": "redwinequality.ipynb",
      "provenance": [],
      "collapsed_sections": [],
      "include_colab_link": true
    },
    "accelerator": "GPU"
  },
  "cells": [
    {
      "cell_type": "markdown",
      "metadata": {
        "id": "view-in-github",
        "colab_type": "text"
      },
      "source": [
        "<a href=\"https://colab.research.google.com/github/cesar-claros/synergistic/blob/master/redwinequality.ipynb\" target=\"_parent\"><img src=\"https://colab.research.google.com/assets/colab-badge.svg\" alt=\"Open In Colab\"/></a>"
      ]
    },
    {
      "cell_type": "code",
      "metadata": {
        "id": "iRCkuTVcGMHA",
        "colab_type": "code",
        "colab": {}
      },
      "source": [
        "!pip install torch\n",
        "!pip install gpytorch"
      ],
      "execution_count": null,
      "outputs": []
    },
    {
      "cell_type": "code",
      "metadata": {
        "id": "cDjK9jQGhIk7",
        "colab_type": "code",
        "colab": {}
      },
      "source": [
        "! sudo apt-get install texlive-latex-recommended #1\n",
        "! sudo apt-get install dvipng texlive-fonts-recommended #2\n",
        "! wget http://mirrors.ctan.org/macros/latex/contrib/type1cm.zip #3\n",
        "! unzip type1cm.zip -d /tmp/type1cm #4\n",
        "! cd /tmp/type1cm/type1cm/ && sudo latex type1cm.ins  #5\n",
        "! sudo mkdir /usr/share/texmf/tex/latex/type1cm #6\n",
        "! sudo cp /tmp/type1cm/type1cm/type1cm.sty /usr/share/texmf/tex/latex/type1cm #7\n",
        "! sudo texhash #8"
      ],
      "execution_count": null,
      "outputs": []
    },
    {
      "cell_type": "code",
      "metadata": {
        "id": "l9Ncr8vaIMUt",
        "colab_type": "code",
        "colab": {
          "base_uri": "https://localhost:8080/",
          "height": 129
        },
        "outputId": "17c1d805-2e28-4e20-8da2-fd9cd28aed98"
      },
      "source": [
        "from google.colab import drive\n",
        "drive.mount(\"/content/drive\")"
      ],
      "execution_count": 4,
      "outputs": [
        {
          "output_type": "stream",
          "text": [
            "Go to this URL in a browser: https://accounts.google.com/o/oauth2/auth?client_id=947318989803-6bn6qk8qdgf4n4g3pfee6491hc0brc4i.apps.googleusercontent.com&redirect_uri=urn%3aietf%3awg%3aoauth%3a2.0%3aoob&response_type=code&scope=email%20https%3a%2f%2fwww.googleapis.com%2fauth%2fdocs.test%20https%3a%2f%2fwww.googleapis.com%2fauth%2fdrive%20https%3a%2f%2fwww.googleapis.com%2fauth%2fdrive.photos.readonly%20https%3a%2f%2fwww.googleapis.com%2fauth%2fpeopleapi.readonly\n",
            "\n",
            "Enter your authorization code:\n",
            "··········\n",
            "Mounted at /content/drive\n"
          ],
          "name": "stdout"
        }
      ]
    },
    {
      "cell_type": "code",
      "metadata": {
        "id": "yqbNQXOzFJI9",
        "colab_type": "code",
        "colab": {}
      },
      "source": [
        "!cp -r \"drive/My Drive/NIPS2020/auxfunc/\" .\n",
        "!cp -r \"drive/My Drive/NIPS2020/datasets/\" .\n",
        "!cp -r \"drive/My Drive/NIPS2020/style/\" .\n",
        "!cp -r \"drive/My Drive/NIPS2020/runs/\" ."
      ],
      "execution_count": 5,
      "outputs": []
    },
    {
      "cell_type": "code",
      "metadata": {
        "id": "wAamzzLphhQg",
        "colab_type": "code",
        "colab": {}
      },
      "source": [
        "%load_ext tensorboard"
      ],
      "execution_count": null,
      "outputs": []
    },
    {
      "cell_type": "code",
      "metadata": {
        "id": "Ml6Vk437FAHd",
        "colab_type": "code",
        "colab": {
          "base_uri": "https://localhost:8080/",
          "height": 74
        },
        "outputId": "0c1c245a-f466-48e6-99ef-87d58dd87ce3"
      },
      "source": [
        "#%%\n",
        "# Imports\n",
        "import io #Used as buffer\n",
        "import sys\n",
        "import matplotlib\n",
        "# matplotlib.use('qt5Agg')\n",
        "import numpy as np\n",
        "import pandas as pd\n",
        "import matplotlib.pyplot as plt\n",
        "import math\n",
        "import auxfunc.sigfunc as sgn\n",
        "import seaborn as sns\n",
        "import torch\n",
        "from scipy.stats import entropy, spearmanr\n",
        "from sklearn import model_selection, svm, ensemble, linear_model, pipeline, decomposition,\\\n",
        "     tree, neighbors, discriminant_analysis, gaussian_process, preprocessing\n",
        "from sklearn.gaussian_process.kernels import ConstantKernel, RBF, Matern\n",
        "plt.style.use(['ggplot','style/style.mplstyle'])"
      ],
      "execution_count": 6,
      "outputs": [
        {
          "output_type": "stream",
          "text": [
            "/usr/local/lib/python3.6/dist-packages/statsmodels/tools/_testing.py:19: FutureWarning: pandas.util.testing is deprecated. Use the functions in the public API at pandas.testing instead.\n",
            "  import pandas.util.testing as tm\n"
          ],
          "name": "stderr"
        }
      ]
    },
    {
      "cell_type": "code",
      "metadata": {
        "id": "NWoZGvD-QNwr",
        "colab_type": "code",
        "colab": {}
      },
      "source": [
        "#%%\n",
        "# MODELS\n",
        "# ====================\n",
        "# Grid search for parameters and classifiers\n",
        "\n",
        "models = { \n",
        "        'predictor':\n",
        "            [\n",
        "            svm.SVC(),\n",
        "            gaussian_process.GaussianProcessClassifier(),\n",
        "            linear_model.LinearRegression(),\n",
        "            linear_model.Lasso(),\n",
        "            svm.SVR()],\n",
        "        'name':\n",
        "            [\n",
        "            'SVM',\n",
        "            'GPClassifier',\n",
        "            'LinReg',\n",
        "            'Lasso',\n",
        "            'SVR']}\n",
        "parameters = [\n",
        "            {'SVM__kernel':['poly'],'SVM__degree':[3,4,5]},\n",
        "            {'GPClassifier__kernel':[]},\n",
        "            {},\n",
        "            {'Lasso__alpha':np.linspace(0.01,1,10)},\n",
        "            {'SVR__kernel':['linear'], 'SVR__C':np.logspace(-1, 1, 10), 'SVR__epsilon':np.logspace(-2, 2, 10)} ]\n"
      ],
      "execution_count": 7,
      "outputs": []
    },
    {
      "cell_type": "code",
      "metadata": {
        "id": "P5kgx4mqidzz",
        "colab_type": "code",
        "colab": {}
      },
      "source": [
        "#%%\n",
        "# Signaling function fitting and evaluation\n",
        "def signalingFunction(X_train, y_train, y_train_pred_th, X_val, y_val, y_val_pred_th, X_test, y_test, y_test_pred_th, kernel='exponential', norm='l01'):\n",
        "    # X_train, X_val should be scaled\n",
        "    # Fit signaling function \n",
        "    exp = sgn.signaling(norm=norm) # idx = [train,test,val]\n",
        "    exp.fit(X_train, y_train, y_train_pred_th, kernel=kernel, n_iter=500, lr=0.01)\n",
        "    table_val = exp.evaluate(X_val, y_val, y_val_pred_th, rule_grid=np.linspace(0,3,30, endpoint=False))\n",
        "    table_test = exp.test(X_test, y_test, y_test_pred_th, table_val['rule'].to_numpy(), table_val['eta'].to_numpy())\n",
        "    table = pd.concat([table_val,table_test],axis=1)\n",
        "    return table, exp"
      ],
      "execution_count": 8,
      "outputs": []
    },
    {
      "cell_type": "code",
      "metadata": {
        "id": "T_2y7G-HiujE",
        "colab_type": "code",
        "colab": {}
      },
      "source": [
        "#%%\n",
        "# Initialize model\n",
        "def init_model(input_dim, models, parameters, clf_name):\n",
        "    i = np.nonzero(np.array(models['name'])==clf_name)[0].squeeze()\n",
        "      \n",
        "    scaler = preprocessing.StandardScaler()\n",
        "    steps = [('scaler', scaler), (models['name'][i], models['predictor'][i])]\n",
        "    ppline = pipeline.Pipeline(steps) # define the pipeline object.\n",
        "\n",
        "    clf = model_selection.GridSearchCV(ppline, param_grid=parameters[i], cv=5, iid=False)\n",
        "    return clf"
      ],
      "execution_count": 9,
      "outputs": []
    },
    {
      "cell_type": "code",
      "metadata": {
        "id": "rYgvy9cRs1m1",
        "colab_type": "code",
        "colab": {}
      },
      "source": [
        "#%%\n",
        "# Soft and thresholded output predictions\n",
        "def pred_output(model, X):\n",
        "    if hasattr(model, \"decision_function\"):\n",
        "      y_pred_soft = model.best_estimator_.decision_function(X)[:,None]\n",
        "    elif hasattr(model, \"predict_proba\"):\n",
        "      y_pred_soft = model.best_estimator_.predict_proba(X)\n",
        "    else:\n",
        "      y_pred_soft = None\n",
        "    y_pred_th = model.best_estimator_.predict(X) \n",
        "    return y_pred_soft, y_pred_th"
      ],
      "execution_count": 10,
      "outputs": []
    },
    {
      "cell_type": "code",
      "metadata": {
        "id": "ZPco9Y0aHUpL",
        "colab_type": "code",
        "colab": {}
      },
      "source": [
        "#%%\n",
        "# Jaccard similarity index\n",
        "def jaccard_similarity(list1, list2):\n",
        "    s1 = set(list1)\n",
        "    s2 = set(list2)\n",
        "    return len(s1.intersection(s2)) / len(s1.union(s2))"
      ],
      "execution_count": 11,
      "outputs": []
    },
    {
      "cell_type": "code",
      "metadata": {
        "id": "dHrKyMLGq_Is",
        "colab_type": "code",
        "colab": {}
      },
      "source": [
        "#%%\n",
        "# Baseline comparison\n",
        "def baselineCriteria(y_val, y_val_pred_soft, y_val_pred_th, y_test, y_test_pred_soft, y_test_pred_th, table, exp, clf):\n",
        "      if clf=='svm':\n",
        "          direction = 'closer'\n",
        "          crit_val = np.abs(y_val_pred_soft.ravel())\n",
        "          crit_test = np.abs(y_test_pred_soft.ravel())\n",
        "      else:\n",
        "          direction = 'further'\n",
        "          p_val = np.concatenate((y_val_pred_soft,1-y_val_pred_soft),axis=1)\n",
        "          crit_val = entropy(p_val, axis=1, base=2)\n",
        "          p_test = np.concatenate((y_test_pred_soft,1-y_test_pred_soft),axis=1)\n",
        "          crit_test = entropy(p_test, axis=1, base=2)\n",
        "      \n",
        "      critFunc = sgn.critEvaluation(norm='l01',direction=direction)\n",
        "      d_val = critFunc.evaluate(y_val, y_val_pred_th, crit_val)\n",
        "      d_test = critFunc.test(y_test, y_test_pred_th, crit_test, d_val['thresh'].to_numpy())\n",
        "      crit_table = pd.concat([d_val,d_test],axis=1)\n",
        "\n",
        "      gamma = table['rule'].to_numpy().reshape(-1,1)\n",
        "      f_test = exp.gpr_mean_test + gamma*np.sqrt(exp.gpr_var_test)\n",
        "      eta = table['eta'].to_numpy().reshape(-1,1)\n",
        "      theta = crit_table['thresh'].to_numpy().reshape(-1,1)\n",
        "      if direction == 'closer':\n",
        "        f_mask, f_idx = np.nonzero(f_test>eta)\n",
        "      else:\n",
        "        f_mask, f_idx = np.nonzero(f_test<eta)\n",
        "      crit_mask, crit_idx = np.nonzero(crit_test.reshape(1,-1)<theta)\n",
        "      print(list(np.unique(f_mask)))\n",
        "      print(list(np.unique(crit_mask)))\n",
        "      print(f_test.shape[0])\n",
        "      shared = set(list(np.unique(f_mask))).intersection(set(list(np.unique(crit_mask))))\n",
        "      J = [jaccard_similarity(crit_idx[crit_mask==i],f_idx[f_mask==i]) if i in shared else np.nan for i in range(f_test.shape[0])]\n",
        "      # if (list(np.unique(f_mask))==list(np.unique(crit_mask))):\n",
        "      #   J = [jaccard_similarity(crit_idx[crit_mask==i],f_idx[f_mask==i]) for i in np.unique(f_mask)]\n",
        "      # else:\n",
        "      #   shared = set(a).intersection(set(b))\n",
        "      #   union = set(a).union(set(b))\n",
        "      #   J = [jaccard_similarity(crit_idx[crit_mask==i],f_idx[f_mask==i]) if i in shared else np.nan  for i in union]\n",
        "      crit_table['jaccard']=J\n",
        "      Sp = [spearmanr(f_test[i,:],crit_test)[0] for i in range(f_test.shape[0])]\n",
        "      crit_table['spearman'] = Sp\n",
        "      crit_table['gamma'] = gamma\n",
        "      return crit_table"
      ],
      "execution_count": 12,
      "outputs": []
    },
    {
      "cell_type": "code",
      "metadata": {
        "id": "NgYak1INQS7t",
        "colab_type": "code",
        "colab": {}
      },
      "source": [
        "# INITIALIZATION\n",
        "# ==============\n",
        "# EXPERIMENT SETUP\n",
        "# ================\n",
        "# Load data\n",
        "# -------------\n",
        "wine = pd.read_csv(\"datasets/winequality-red.csv\",sep=';')\n",
        "Data_X = wine.drop('quality',axis = 1)\n",
        "Data_y = wine.quality\n",
        "Data_X = Data_X.to_numpy()\n",
        "Data_y = Data_y.to_numpy()"
      ],
      "execution_count": 13,
      "outputs": []
    },
    {
      "cell_type": "code",
      "metadata": {
        "id": "ZRWPIuqwRLoD",
        "colab_type": "code",
        "colab": {
          "base_uri": "https://localhost:8080/",
          "height": 1000
        },
        "outputId": "51bc410c-50c7-40e9-c186-986c6d83200c"
      },
      "source": [
        "# For reproducibility\n",
        "# tf.random.set_seed(54321)\n",
        "np.random.seed(12345)\n",
        "torch.manual_seed(0)\n",
        "#%%\n",
        "# Assign labels\n",
        "report_table = []\n",
        "report_criteria = []\n",
        "kf = model_selection.KFold(n_splits=5, shuffle=True, random_state=123)\n",
        "clf = 'SVR'\n",
        "addPredictions = False\n",
        "applyPCA = False\n",
        "accuracy = 0\n",
        "for sample, test in kf.split(Data_X):\n",
        "    X = Data_X[sample]\n",
        "    y = Data_y[sample]\n",
        "    X_train, X_val, y_train, y_val = model_selection.train_test_split(X, y, test_size=0.20, random_state=123)\n",
        "    X_test = Data_X[test]\n",
        "    y_test = Data_y[test]\n",
        "\n",
        "    # TRAINING MODEL\n",
        "    model = init_model(input_dim=X.shape[1], models=models, parameters=parameters, clf_name=clf)\n",
        "    model.fit(X_train, y_train)\n",
        "\n",
        "    y_train_pred_soft, y_train_pred_th = pred_output(model, X_train)\n",
        "    # print('accuracy(Train)={}'.format(np.sum(y_train==y_train_pred_th)/np.size(y_train)))\n",
        "    y_val_pred_soft, y_val_pred_th = pred_output(model, X_val)\n",
        "    y_test_pred_soft, y_test_pred_th = pred_output(model, X_test)\n",
        "\n",
        "    X_train_GP = X_train\n",
        "    X_val_GP = X_val\n",
        "    X_test_GP = X_test\n",
        "    # if addPredictions:\n",
        "    #         # Add predictions\n",
        "    #         X_train_GP = np.concatenate((X_train, y_train_pred_soft), axis=1)\n",
        "    #         X_val_GP = np.concatenate((X_val, y_val_pred_soft), axis=1)\n",
        "    #         X_test_GP = np.concatenate((X_test, y_test_pred_soft), axis=1)\n",
        "    # scaleX_GP = preprocessing.StandardScaler().fit(np.concatenate((X_train_GP, X_val_GP), axis=0))\n",
        "    # X_train_GP = scaleX_GP.transform(X_train_GP)\n",
        "    # X_val_GP = scaleX_GP.transform(X_val_GP)\n",
        "    # X_test_GP = scaleX_GP.transform(X_test_GP)\n",
        "    # if applyPCA:\n",
        "    #         pca_GP = decomposition.PCA(.99).fit(np.concatenate((X_train_GP, X_val_GP), axis=0)) # set percentage of energy preserved by PCA\n",
        "    #         # Apply PCA transform to all sets\n",
        "    #         X_train_GP = pca_GP.transform(X_train_GP)\n",
        "    #         X_val_GP = pca_GP.transform(X_val_GP)\n",
        "    #         X_test_GP = pca_GP.transform(X_test_GP)\n",
        "    \n",
        "    table, exp = signalingFunction(X_train_GP, y_train, y_train_pred_th, X_val_GP,\\\n",
        "                                   y_val, y_val_pred_th, X_test_GP, y_test, y_test_pred_th,\\\n",
        "                                   kernel='RBF', norm='labs')\n",
        "    report_table.append(table)\n",
        "    \n",
        "    # # Baseline for comparison\n",
        "    # crit_table = baselineCriteria(y_val, y_val_pred_soft, y_val_pred_th, y_test, y_test_pred_soft, y_test_pred_th, table, exp, clf)\n",
        "    # report_criteria.append(crit_table)\n",
        "\n",
        "    # if accuracy < model.best_estimator_.score(X_val,y_val):\n",
        "    #     accuracy = model.best_estimator_.score(X_val,y_val)\n",
        "    #     classifier = model.best_estimator_\n",
        "    #     X_test_surface_plot = X_test\n",
        "    #     y_test_surface_plot = y_test\n",
        "    #     X_train_surface_plot = X_train\n",
        "    #     y_train_surface_plot = y_train\n",
        "    #     X_val_surface_plot = X_val\n",
        "    #     y_val_surface_plot = y_val\n",
        "    #     scaler_surface_plot = scaleX_GP\n",
        "    #     exp_surface_plot = exp\n",
        "    #     table_surface_plot = table\n",
        "\n",
        "    del(model)\n"
      ],
      "execution_count": 25,
      "outputs": [
        {
          "output_type": "stream",
          "text": [
            "/usr/local/lib/python3.6/dist-packages/sklearn/model_selection/_search.py:823: FutureWarning: The parameter 'iid' is deprecated in 0.22 and will be removed in 0.24.\n",
            "  \"removed in 0.24.\", FutureWarning\n"
          ],
          "name": "stderr"
        },
        {
          "output_type": "stream",
          "text": [
            "initializing cuda...\n",
            "lr=0.01, n_iterations=500\n",
            "Iter 491/500 - Loss: 0.477  noise: 0.049\n",
            "Iter 492/500 - Loss: 0.472  noise: 0.049\n",
            "Iter 493/500 - Loss: 0.468  noise: 0.049\n",
            "Iter 494/500 - Loss: 0.473  noise: 0.049\n",
            "Iter 495/500 - Loss: 0.472  noise: 0.048\n",
            "Iter 496/500 - Loss: 0.469  noise: 0.048\n",
            "Iter 497/500 - Loss: 0.473  noise: 0.048\n",
            "Iter 498/500 - Loss: 0.472  noise: 0.048\n",
            "Iter 499/500 - Loss: 0.472  noise: 0.048\n",
            "Iter 500/500 - Loss: 0.471  noise: 0.047\n",
            "evaluating with cuda...\n",
            "evaluating with cuda...\n"
          ],
          "name": "stdout"
        },
        {
          "output_type": "stream",
          "text": [
            "/usr/local/lib/python3.6/dist-packages/sklearn/model_selection/_search.py:823: FutureWarning: The parameter 'iid' is deprecated in 0.22 and will be removed in 0.24.\n",
            "  \"removed in 0.24.\", FutureWarning\n"
          ],
          "name": "stderr"
        },
        {
          "output_type": "stream",
          "text": [
            "initializing cuda...\n",
            "lr=0.01, n_iterations=500\n",
            "Iter 491/500 - Loss: 0.458  noise: 0.049\n",
            "Iter 492/500 - Loss: 0.460  noise: 0.049\n",
            "Iter 493/500 - Loss: 0.462  noise: 0.049\n",
            "Iter 494/500 - Loss: 0.461  noise: 0.048\n",
            "Iter 495/500 - Loss: 0.459  noise: 0.048\n",
            "Iter 496/500 - Loss: 0.459  noise: 0.048\n",
            "Iter 497/500 - Loss: 0.469  noise: 0.048\n",
            "Iter 498/500 - Loss: 0.453  noise: 0.048\n",
            "Iter 499/500 - Loss: 0.457  noise: 0.047\n",
            "Iter 500/500 - Loss: 0.460  noise: 0.047\n",
            "evaluating with cuda...\n",
            "evaluating with cuda...\n"
          ],
          "name": "stdout"
        },
        {
          "output_type": "stream",
          "text": [
            "/usr/local/lib/python3.6/dist-packages/sklearn/model_selection/_search.py:823: FutureWarning: The parameter 'iid' is deprecated in 0.22 and will be removed in 0.24.\n",
            "  \"removed in 0.24.\", FutureWarning\n"
          ],
          "name": "stderr"
        },
        {
          "output_type": "stream",
          "text": [
            "initializing cuda...\n",
            "lr=0.01, n_iterations=500\n",
            "Iter 491/500 - Loss: 0.450  noise: 0.056\n",
            "Iter 492/500 - Loss: 0.451  noise: 0.056\n",
            "Iter 493/500 - Loss: 0.450  noise: 0.056\n",
            "Iter 494/500 - Loss: 0.447  noise: 0.055\n",
            "Iter 495/500 - Loss: 0.449  noise: 0.055\n",
            "Iter 496/500 - Loss: 0.447  noise: 0.055\n",
            "Iter 497/500 - Loss: 0.447  noise: 0.055\n",
            "Iter 498/500 - Loss: 0.450  noise: 0.055\n",
            "Iter 499/500 - Loss: 0.445  noise: 0.054\n",
            "Iter 500/500 - Loss: 0.451  noise: 0.054\n",
            "evaluating with cuda...\n",
            "evaluating with cuda...\n"
          ],
          "name": "stdout"
        },
        {
          "output_type": "stream",
          "text": [
            "/usr/local/lib/python3.6/dist-packages/sklearn/model_selection/_search.py:823: FutureWarning: The parameter 'iid' is deprecated in 0.22 and will be removed in 0.24.\n",
            "  \"removed in 0.24.\", FutureWarning\n"
          ],
          "name": "stderr"
        },
        {
          "output_type": "stream",
          "text": [
            "initializing cuda...\n",
            "lr=0.01, n_iterations=500\n",
            "Iter 491/500 - Loss: 0.454  noise: 0.051\n",
            "Iter 492/500 - Loss: 0.451  noise: 0.051\n",
            "Iter 493/500 - Loss: 0.456  noise: 0.051\n",
            "Iter 494/500 - Loss: 0.451  noise: 0.051\n",
            "Iter 495/500 - Loss: 0.456  noise: 0.051\n",
            "Iter 496/500 - Loss: 0.460  noise: 0.050\n",
            "Iter 497/500 - Loss: 0.450  noise: 0.050\n",
            "Iter 498/500 - Loss: 0.457  noise: 0.050\n",
            "Iter 499/500 - Loss: 0.456  noise: 0.050\n",
            "Iter 500/500 - Loss: 0.451  noise: 0.050\n",
            "evaluating with cuda...\n",
            "evaluating with cuda...\n"
          ],
          "name": "stdout"
        },
        {
          "output_type": "stream",
          "text": [
            "/usr/local/lib/python3.6/dist-packages/sklearn/model_selection/_search.py:823: FutureWarning: The parameter 'iid' is deprecated in 0.22 and will be removed in 0.24.\n",
            "  \"removed in 0.24.\", FutureWarning\n"
          ],
          "name": "stderr"
        },
        {
          "output_type": "stream",
          "text": [
            "initializing cuda...\n",
            "lr=0.01, n_iterations=500\n",
            "Iter 491/500 - Loss: 0.465  noise: 0.045\n",
            "Iter 492/500 - Loss: 0.468  noise: 0.044\n",
            "Iter 493/500 - Loss: 0.458  noise: 0.044\n",
            "Iter 494/500 - Loss: 0.464  noise: 0.044\n",
            "Iter 495/500 - Loss: 0.456  noise: 0.044\n",
            "Iter 496/500 - Loss: 0.463  noise: 0.044\n",
            "Iter 497/500 - Loss: 0.462  noise: 0.043\n",
            "Iter 498/500 - Loss: 0.460  noise: 0.043\n",
            "Iter 499/500 - Loss: 0.461  noise: 0.043\n",
            "Iter 500/500 - Loss: 0.463  noise: 0.043\n",
            "evaluating with cuda...\n",
            "evaluating with cuda...\n"
          ],
          "name": "stdout"
        }
      ]
    },
    {
      "cell_type": "code",
      "metadata": {
        "id": "o47vhh_haXU9",
        "colab_type": "code",
        "colab": {}
      },
      "source": [
        "logs_base_dir = \"runs/\"\n",
        "%tensorboard --logdir {logs_base_dir}"
      ],
      "execution_count": null,
      "outputs": []
    },
    {
      "cell_type": "code",
      "metadata": {
        "id": "Iph2NBAn59EW",
        "colab_type": "code",
        "colab": {}
      },
      "source": [
        "##%\n",
        "# Boxplot (loss reduction in test set)\n",
        "report_table_concat = pd.concat(report_table)\n",
        "cols_table = ['p_value','rho_user','%reduction_test']\n",
        "df_boxplot_table = pd.DataFrame(report_table_concat[cols_table])\n",
        "df_boxplot_table['label'] = df_boxplot_table.shape[0]*['$f(x)$']\n",
        "# report_criteria_concat = pd.concat(report_criteria)\n",
        "# columns_crit = ['rho_user','%reduction_test']\n",
        "# df_boxplot_crit = pd.DataFrame(report_criteria_concat[columns_crit])\n",
        "# df_boxplot_crit['label'] = df_boxplot_crit.shape[0]*['$g(x)$']\n",
        "# p-value median\n",
        "p_value_by_row_index = df_boxplot_table['p_value'].groupby(df_boxplot_table.index)\n",
        "p_value_median = p_value_by_row_index.median()\n",
        "# Boxplot (jaccard index in test set)\n",
        "# columns_jac = ['rho_user','jaccard']\n",
        "# df_jaccard = pd.DataFrame(report_criteria_concat[columns_jac])\n",
        "# Unfiltered Result dataframes\n",
        "cols_fx = ['rho_user','%reduction_val','budget','%reduction_test']\n",
        "results_fx = pd.DataFrame(report_table_concat[cols_fx])\n",
        "# cols_fxgx = ['rho_user','%reduction_test', 'jaccard']\n",
        "# results_fxgx = pd.concat([df_boxplot_table[cols_fxgx[:2]], df_boxplot_crit[cols_fxgx[1]], df_jaccard[cols_fxgx[2]]], axis=1)\n",
        "# Filter experiments with p_value > 0.05\n",
        "# df_boxplot_crit = df_boxplot_crit.loc[df_boxplot_table['p_value'] <= 0.05]\n",
        "# df_jaccard = df_jaccard.loc[df_boxplot_table['p_value'] <= 0.05]\n",
        "df_boxplot_table = df_boxplot_table.loc[df_boxplot_table['p_value'] <= 0.05]\n",
        "# Boxplot with filtered values only\n",
        "frames = [df_boxplot_table]\n",
        "df = pd.concat(frames)"
      ],
      "execution_count": 26,
      "outputs": []
    },
    {
      "cell_type": "code",
      "metadata": {
        "id": "hUAysqka1Rzo",
        "colab_type": "code",
        "colab": {}
      },
      "source": [
        "# Avoid plotting when median(p_value)>0.5\n",
        "for i in range(p_value_median.shape[0]):\n",
        "    if p_value_median.iloc[i]>0.05:\n",
        "      df.loc[df.index==i,'%reduction_test'] = np.nan\n",
        "      # df_jaccard.loc[df_jaccard.index==i, 'jaccard'] = np.nan"
      ],
      "execution_count": 27,
      "outputs": []
    },
    {
      "cell_type": "code",
      "metadata": {
        "id": "oTcWIjp_ZN6U",
        "colab_type": "code",
        "colab": {
          "base_uri": "https://localhost:8080/",
          "height": 164
        },
        "outputId": "c53e5dbf-41ed-460e-fb52-2e2b4f8923b2"
      },
      "source": [
        "# Dataframe for results f(x)\n",
        "results_fx_by_row_index = results_fx.groupby(results_fx.index)\n",
        "fx_median = results_fx_by_row_index.median()\n",
        "fx_q1 = results_fx_by_row_index.quantile(q=0.25)\n",
        "fx_q3 = results_fx_by_row_index.quantile(q=0.75)\n",
        "# Signaling function statistics (median(q1-q3)) LaTex\n",
        "output_fx = io.StringIO()\n",
        "numRows = fx_median.shape[0]\n",
        "numCols = fx_median.shape[1]\n",
        "output_fx.write(\"results_fx (\\\\rho|%reduction_val|sig_rate|%reduction_test|H0)\\n\")\n",
        "output_fx.write(\"----------\\n\")\n",
        "for i in range(numRows):\n",
        "  row = [r'{:.2f}'.format(val1) if p_value_median[i]>0.05 and j==0 else r'{}' if p_value_median[i]>0.05 and j!=0\\\n",
        "         else r'{:.2f}'.format(val1) if (j==0) else r'{:.2f}({:.2f}-{:.2f})'.format(val1,val2,val3) if (j==2)\\\n",
        "         else r'{:.1f}({:.1f}-{:.1f})'.format(val1,val2,val3) for val1,val2,val3,j in zip(fx_median.iloc[i],fx_q1.iloc[i],fx_q3.iloc[i],range(numCols))]\n",
        "  output_fx.write(\"{{}} & {{}} & %s & {H0} \\\\\\\\\\n\".format(H0=r'$\\surd$' if p_value_median[i]<=0.05 else r'$\\times$')%(\" & \".join(row)))\n",
        "print(output_fx.getvalue())"
      ],
      "execution_count": 28,
      "outputs": [
        {
          "output_type": "stream",
          "text": [
            "results_fx (\\rho|%reduction_val|sig_rate|%reduction_test|H0)\n",
            "----------\n",
            "{} & {} & 0.01 & 2.3(1.9-2.3) & 0.01(0.01-0.01) & 2.6(1.6-2.9) & $\\surd$ \\\\\n",
            "{} & {} & 0.05 & 9.4(9.1-10.6) & 0.04(0.04-0.04) & 8.3(6.9-8.7) & $\\surd$ \\\\\n",
            "{} & {} & 0.10 & 17.6(15.3-17.8) & 0.11(0.08-0.11) & 15.2(15.1-15.7) & $\\surd$ \\\\\n",
            "{} & {} & 0.15 & 22.5(22.1-22.6) & 0.13(0.13-0.13) & 21.3(19.5-21.6) & $\\surd$ \\\\\n",
            "{} & {} & 0.20 & 26.8(26.6-28.0) & 0.19(0.19-0.20) & 25.6(23.5-30.6) & $\\surd$ \\\\\n",
            "\n"
          ],
          "name": "stdout"
        }
      ]
    },
    {
      "cell_type": "code",
      "metadata": {
        "id": "4nVVPf7G2Gpf",
        "colab_type": "code",
        "colab": {}
      },
      "source": [
        "# Dataframe for comparison f(x)-g(x)\n",
        "# results_fxgx_by_row_index = results_fxgx.groupby(results_fxgx.index)\n",
        "# fxgx_median = results_fxgx_by_row_index.median()\n",
        "# fxgx_q1 = results_fxgx_by_row_index.quantile(q=0.25)\n",
        "# fxgx_q3 = results_fxgx_by_row_index.quantile(q=0.75)\n",
        "# # Baseline comparison statistics (median(q1-q3)) LaTex\n",
        "# output_fxgx = io.StringIO()\n",
        "# numRows = fxgx_median.shape[0]\n",
        "# numCols = fxgx_median.shape[1]\n",
        "# output_fxgx.write(\"results_fxgx (\\\\rho|%reduction_test(fx)|%reduction_test(fxgx)|Jaccard|H0\\n\")\n",
        "# output_fxgx.write(\"------------\\n\")\n",
        "# for i in range(numRows):\n",
        "#   row = [r'{:.2f}'.format(val1) if p_value_median[i]>0.05 and j==0 else r'{}' if p_value_median[i]>0.05 and j!=0\\\n",
        "#          else r'{:.2f}'.format(val1) if (j==0) else r'{:.2f}({:.2f}-{:.2f})'.format(val1,val2,val3) if (j==3)\\\n",
        "#          else r'{:.1f}({:.1f}-{:.1f})'.format(val1,val2,val3) for val1,val2,val3,j in zip(fxgx_median.iloc[i],fxgx_q1.iloc[i],fxgx_q3.iloc[i],range(numCols))]\n",
        "#   output_fxgx.write(\"{{}} & {{}} & %s & {H0} \\\\\\\\\\n\".format(H0=r'$\\surd$' if p_value_median[i]<=0.05 else r'$\\times$')%(\" & \".join(row)))\n",
        "# print(output_fxgx.getvalue())"
      ],
      "execution_count": null,
      "outputs": []
    },
    {
      "cell_type": "code",
      "metadata": {
        "id": "d7W1Ln5-dm5t",
        "colab_type": "code",
        "colab": {}
      },
      "source": [
        "#%%\n",
        "# Save results in csv fomat\n",
        "path_csv = \"drive/My Drive/NIPS2020/results/redwinequality/results_{clf}_yhat{yhat}_pca{pca}.csv\".format(clf=clf, pca=applyPCA, yhat=addPredictions)\n",
        "results = pd.concat([results_fx], keys=['fx'], axis=1).to_csv(path_csv, index=True, header=True)\n",
        "# Save results in tex fomat\n",
        "L = [output_fx.getvalue()]\n",
        "path_txt = \"drive/My Drive/NIPS2020/results/redwinequality/results_{clf}_yhat{yhat}_pca{pca}.txt\".format(clf=clf, pca=applyPCA, yhat=addPredictions)\n",
        "txt = open(path_txt, \"w\") \n",
        "txt.writelines(L) \n",
        "txt.close() #to change file access modes "
      ],
      "execution_count": 29,
      "outputs": []
    },
    {
      "cell_type": "code",
      "metadata": {
        "id": "WCiI4764Haf8",
        "colab_type": "code",
        "colab": {
          "base_uri": "https://localhost:8080/",
          "height": 419
        },
        "outputId": "1e8fba61-52e8-48e6-c36c-1da84eb9715f"
      },
      "source": [
        "fig, ax = plt.subplots(1,1,figsize=(7, 5.1), constrained_layout=False, dpi=90)\n",
        "pal = sns.color_palette('Paired')\n",
        "sns.boxplot(x=df['rho_user'], y=df['%reduction_test'], hue='label', data=df, ax=ax, palette=pal)\n",
        "ax.set_xlabel(r'budget $\\rho$')\n",
        "ax.set_ylabel(r'Loss reduction $r_{test}(\\%)$')\n",
        "ax.legend(loc='upper left')\n",
        "# pal = sns.color_palette('BuGn_r')\n",
        "# sns.boxplot(x=df_jaccard['rho_user'], y=df_jaccard['jaccard'], data=df_jaccard, ax=ax[1], palette=pal)\n",
        "# ax[1].set_xlabel(r'budget $\\rho$')\n",
        "# ax[1].set_ylabel(r'Jaccard index $J$')\n",
        "plt.tight_layout()\n",
        "path_fig_fx = \"drive/My Drive/NIPS2020/results/redwinequality/fig_fxgx_{clf}_yhat{yhat}_pca{pca}.pdf\".format(clf=clf, pca=applyPCA, yhat=addPredictions)\n",
        "plt.savefig(path_fig_fx, bbox_inches='tight', facecolor='w')"
      ],
      "execution_count": 30,
      "outputs": [
        {
          "output_type": "display_data",
          "data": {
            "image/png": "[encoded data removed]",
            "text/plain": [
              "<Figure size 630x459 with 1 Axes>"
            ]
          },
          "metadata": {
            "tags": []
          }
        }
      ]
    }
  ]
}