{
  "nbformat": 4,
  "nbformat_minor": 0,
  "metadata": {
    "colab": {
      "name": "CIFAR10_cnn",
      "provenance": [],
      "collapsed_sections": [],
      "include_colab_link": true
    },
    "kernelspec": {
      "name": "python3",
      "display_name": "Python 3"
    },
    "accelerator": "GPU"
  },
  "cells": [
    {
      "cell_type": "markdown",
      "metadata": {
        "id": "view-in-github",
        "colab_type": "text"
      },
      "source": [
        "<a href=\"https://colab.research.google.com/github/cesar-claros/synergistic/blob/master/CIFAR10_cnn_mod.ipynb\" target=\"_parent\"><img src=\"https://colab.research.google.com/assets/colab-badge.svg\" alt=\"Open In Colab\"/></a>"
      ]
    },
    {
      "cell_type": "code",
      "metadata": {
        "id": "r4sBUso-gM_4",
        "colab_type": "code",
        "colab": {}
      },
      "source": [
        "!pip install torch\n",
        "!pip install gpytorch"
      ],
      "execution_count": null,
      "outputs": []
    },
    {
      "cell_type": "code",
      "metadata": {
        "id": "FymsszQy2n68",
        "colab_type": "code",
        "colab": {}
      },
      "source": [
        "! sudo apt-get install texlive-latex-recommended #1\n",
        "! sudo apt-get install dvipng texlive-fonts-recommended #2\n",
        "! wget http://mirrors.ctan.org/macros/latex/contrib/type1cm.zip #3\n",
        "! unzip type1cm.zip -d /tmp/type1cm #4\n",
        "! cd /tmp/type1cm/type1cm/ && sudo latex type1cm.ins  #5\n",
        "! sudo mkdir /usr/share/texmf/tex/latex/type1cm #6\n",
        "! sudo cp /tmp/type1cm/type1cm/type1cm.sty /usr/share/texmf/tex/latex/type1cm #7\n",
        "! sudo texhash #8"
      ],
      "execution_count": null,
      "outputs": []
    },
    {
      "cell_type": "code",
      "metadata": {
        "id": "O0gzdUCWgQOt",
        "colab_type": "code",
        "colab": {}
      },
      "source": [
        "from google.colab import drive\n",
        "drive.mount(\"/content/drive\")"
      ],
      "execution_count": null,
      "outputs": []
    },
    {
      "cell_type": "code",
      "metadata": {
        "id": "pODgafakgcZ9",
        "colab_type": "code",
        "colab": {}
      },
      "source": [
        "!cp -r \"drive/My Drive/NIPS2020/auxfunc/\" .\n",
        "!cp -r \"drive/My Drive/NIPS2020/datasets/\" .\n",
        "!cp -r \"drive/My Drive/NIPS2020/style/\" .\n",
        "!cp -r \"drive/My Drive/NIPS2020/runs/\" ."
      ],
      "execution_count": 4,
      "outputs": []
    },
    {
      "cell_type": "code",
      "metadata": {
        "id": "aKBZk4trqzQV",
        "colab_type": "code",
        "colab": {
          "base_uri": "https://localhost:8080/",
          "height": 74
        },
        "outputId": "1241e812-5f35-49f6-aacf-01aaf3739db5"
      },
      "source": [
        "# %%\n",
        "# Imports\n",
        "import io #Used as buffer\n",
        "import sys\n",
        "import matplotlib\n",
        "import tensorflow as tf # Keras model for MNIST \n",
        "# matplotlib.use('qt5Agg')\n",
        "import numpy as np\n",
        "import pandas as pd\n",
        "import matplotlib.pyplot as plt\n",
        "import math\n",
        "import auxfunc.sigfunc as sgn\n",
        "import seaborn as sns\n",
        "import torch\n",
        "from scipy.stats import entropy, spearmanr\n",
        "from sklearn import model_selection, svm, ensemble, linear_model, pipeline, \\\n",
        "      tree, neighbors, discriminant_analysis, gaussian_process, preprocessing, impute, decomposition\n",
        "from sklearn.gaussian_process.kernels import ConstantKernel, RBF, Matern\n",
        "plt.style.use(['ggplot','style/style.mplstyle'])"
      ],
      "execution_count": 5,
      "outputs": [
        {
          "output_type": "stream",
          "text": [
            "/usr/local/lib/python3.6/dist-packages/statsmodels/tools/_testing.py:19: FutureWarning: pandas.util.testing is deprecated. Use the functions in the public API at pandas.testing instead.\n",
            "  import pandas.util.testing as tm\n"
          ],
          "name": "stderr"
        }
      ]
    },
    {
      "cell_type": "code",
      "metadata": {
        "id": "oPr-qGxurI6H",
        "colab_type": "code",
        "colab": {}
      },
      "source": [
        "#%%\n",
        "# Define classic MLP architecture\n",
        "def CNN_model(input_dim):\n",
        "    # A simple model based off LeNet from https://keras.io/examples/mnist_cnn/\n",
        "    model = tf.keras.Sequential()\n",
        "    model.add(tf.keras.layers.Conv2D(32, [3, 3], activation='relu', input_shape=input_dim ))\n",
        "    model.add(tf.keras.layers.Conv2D(64, [3, 3], activation='relu'))\n",
        "    model.add(tf.keras.layers.MaxPooling2D(pool_size=(2, 2)))\n",
        "    model.add(tf.keras.layers.Dropout(0.5))\n",
        "    model.add(tf.keras.layers.Flatten())\n",
        "    model.add(tf.keras.layers.Dense(128, activation='relu'))\n",
        "    model.add(tf.keras.layers.Dropout(0.5))\n",
        "    model.add(tf.keras.layers.Dense(10, activation='softmax'))\n",
        "    return model"
      ],
      "execution_count": 6,
      "outputs": []
    },
    {
      "cell_type": "code",
      "metadata": {
        "id": "nRVYBv5lxPJk",
        "colab_type": "code",
        "colab": {}
      },
      "source": [
        "#%%\n",
        "# Initialize model\n",
        "def init_model(input_dim):\n",
        "    # svm = False\n",
        "    # model = MLP_model(input_dim=Data_X.shape[1], svm_obj=svm)\n",
        "    model = CNN_model(input_dim=input_dim)\n",
        "    loss = tf.keras.losses.categorical_crossentropy\n",
        "    metric = ['accuracy']\n",
        "    model.compile(loss=loss,\n",
        "                optimizer=tf.keras.optimizers.Adam(),\n",
        "                metrics=metric)\n",
        "    # model.summary()\n",
        "    return model"
      ],
      "execution_count": 7,
      "outputs": []
    },
    {
      "cell_type": "code",
      "metadata": {
        "id": "KYYvRG4AmtEJ",
        "colab_type": "code",
        "colab": {}
      },
      "source": [
        "#%%\n",
        "# Signaling function fitting and evaluation\n",
        "def signalingFunction(X_train, y_train, y_train_pred_th, X_val, y_val, y_val_pred_th, X_test, y_test, y_test_pred_th, kernel='exponential', norm='l01'):\n",
        "    # X_train, X_val should be scaled\n",
        "    # Fit signaling function \n",
        "    exp = sgn.signaling(norm=norm) # idx = [train,test,val]\n",
        "    exp.fit(X_train, y_train, y_train_pred_th, kernel=kernel, n_iter=500, lr=0.01)\n",
        "    table_val = exp.evaluate(X_val, y_val, y_val_pred_th, rule_grid=np.linspace(0,3,30, endpoint=False))\n",
        "    table_test = exp.test(X_test, y_test, y_test_pred_th, table_val['rule'].to_numpy(), table_val['eta'].to_numpy())\n",
        "    table = pd.concat([table_val,table_test],axis=1)\n",
        "    return table, exp"
      ],
      "execution_count": 8,
      "outputs": []
    },
    {
      "cell_type": "code",
      "metadata": {
        "id": "pMK50NRixYI9",
        "colab_type": "code",
        "colab": {}
      },
      "source": [
        "#%%\n",
        "# Soft and thresholded output predictions\n",
        "def pred_output(model, X):\n",
        "    y_pred_soft = model.predict(X)\n",
        "    y_pred_th = np.argmax(y_pred_soft, axis=1)\n",
        "    return y_pred_soft, y_pred_th"
      ],
      "execution_count": 9,
      "outputs": []
    },
    {
      "cell_type": "code",
      "metadata": {
        "id": "t174yG8_f1_2",
        "colab_type": "code",
        "colab": {}
      },
      "source": [
        "#%%\n",
        "# Jaccard similarity index\n",
        "def jaccard_similarity(list1, list2):\n",
        "    s1 = set(list1)\n",
        "    s2 = set(list2)\n",
        "    return len(s1.intersection(s2)) / len(s1.union(s2))"
      ],
      "execution_count": 10,
      "outputs": []
    },
    {
      "cell_type": "code",
      "metadata": {
        "id": "n6VM8w4vf4lN",
        "colab_type": "code",
        "colab": {}
      },
      "source": [
        "#%%\n",
        "# Baseline comparison\n",
        "def baselineCriteria(y_val, y_val_pred_soft, y_val_pred_th, y_test, y_test_pred_soft, y_test_pred_th, table, exp):\n",
        "      direction = 'further'\n",
        "      # p_val = np.concatenate(y_val_pred_soft,axis=1)\n",
        "      crit_val = entropy(y_val_pred_soft, axis=1, base=10)\n",
        "      # p_test = np.concatenate(y_test_pred_soft,axis=1)\n",
        "      crit_test = entropy(y_test_pred_soft, axis=1, base=10)\n",
        "      \n",
        "      critFunc = sgn.critEvaluation(norm='l01',direction=direction)\n",
        "      d_val = critFunc.evaluate(y_val, y_val_pred_th, crit_val)\n",
        "      d_test = critFunc.test(y_test, y_test_pred_th, crit_test, d_val['thresh'].to_numpy())\n",
        "      crit_table = pd.concat([d_val,d_test],axis=1)\n",
        "\n",
        "      gamma = table['rule'].to_numpy().reshape(-1,1)\n",
        "      f_test = exp.gpr_mean_test + gamma*np.sqrt(exp.gpr_var_test)\n",
        "      eta = table['eta'].to_numpy().reshape(-1,1)\n",
        "      theta = crit_table['thresh'].to_numpy().reshape(-1,1)\n",
        "      if direction == 'closer':\n",
        "        f_mask, f_idx = np.nonzero(f_test>eta)\n",
        "      else:\n",
        "        f_mask, f_idx = np.nonzero(f_test<eta)\n",
        "      crit_mask, crit_idx = np.nonzero(crit_test.reshape(1,-1)<theta)\n",
        "      print(list(np.unique(f_mask)))\n",
        "      print(list(np.unique(crit_mask)))\n",
        "      print(f_test.shape[0])\n",
        "      shared = set(list(np.unique(f_mask))).intersection(set(list(np.unique(crit_mask))))\n",
        "      J = [jaccard_similarity(crit_idx[crit_mask==i],f_idx[f_mask==i]) if i in shared else np.nan for i in range(f_test.shape[0])]\n",
        "      # if (list(np.unique(f_mask))==list(np.unique(crit_mask))):\n",
        "      #   J = [jaccard_similarity(crit_idx[crit_mask==i],f_idx[f_mask==i]) for i in np.unique(f_mask)]\n",
        "      # else:\n",
        "      #   shared = set(a).intersection(set(b))\n",
        "      #   union = set(a).union(set(b))\n",
        "      #   J = [jaccard_similarity(crit_idx[crit_mask==i],f_idx[f_mask==i]) if i in shared else np.nan  for i in union]\n",
        "      crit_table['jaccard']=J\n",
        "      Sp = [spearmanr(f_test[i,:],crit_test)[0] for i in range(f_test.shape[0])]\n",
        "      crit_table['spearman'] = Sp\n",
        "      crit_table['gamma'] = gamma\n",
        "      return crit_table"
      ],
      "execution_count": 11,
      "outputs": []
    },
    {
      "cell_type": "code",
      "metadata": {
        "id": "R3VCXn3_rTYj",
        "colab_type": "code",
        "colab": {
          "base_uri": "https://localhost:8080/",
          "height": 72
        },
        "outputId": "0fcb3a1e-fd99-475c-dc3d-df675f8c8e3e"
      },
      "source": [
        "# For reproducibility\n",
        "tf.random.set_seed(54321)\n",
        "np.random.seed(12345)\n",
        "torch.manual_seed(0)\n",
        "# %%\n",
        "# INITIALIZATION\n",
        "# ==============\n",
        "# EXPERIMENT SETUP\n",
        "# ================\n",
        "# Load data set\n",
        "(Data_X, Data_y), (X_test, y_test) = tf.keras.datasets.cifar10.load_data()\n",
        "# y, y_test = y.astype('int8'), y_test.astype('int8')\n",
        "# Rescale the images from [0,255] to the [0.0,1.0] range.\n",
        "Data_X, X_test = Data_X[...]/255.0, X_test[...]/255.0\n",
        "print(\"Number of original training examples:\", len(Data_X))\n",
        "# reshape the data\n",
        "# Data_X = Data_X.reshape(60000, 28*28).astype('float32')\n",
        "# X_test = X_test.reshape(10000, 28*28).astype('float32')\n",
        "# for keras classification, we need to use `to_categorical` to transform the label to appropriate format\n",
        "# Data_y = tf.keras.utils.to_categorical(Data_y)\n",
        "# y_test = tf.keras.utils.to_categorical(y_test)\n",
        "Data_X, Data_X_sep, Data_y, Data_y_sep = model_selection.train_test_split(Data_X, Data_y, stratify=Data_y, test_size=0.75)\n",
        "X_test, X_test_sep, y_test, y_test_sep = model_selection.train_test_split(X_test, y_test, stratify=y_test, test_size=0.75)\n",
        "print(Data_X.shape)\n",
        "print(X_test.shape)"
      ],
      "execution_count": 16,
      "outputs": [
        {
          "output_type": "stream",
          "text": [
            "Number of original training examples: 50000\n",
            "(12500, 32, 32, 3)\n",
            "(2500, 32, 32, 3)\n"
          ],
          "name": "stdout"
        }
      ]
    },
    {
      "cell_type": "code",
      "metadata": {
        "id": "0jsIZNLPri8D",
        "colab_type": "code",
        "colab": {
          "base_uri": "https://localhost:8080/",
          "height": 1000
        },
        "outputId": "9c511f91-62dc-4c6e-aa7b-bff40cdb9154"
      },
      "source": [
        "#%%\n",
        "# Assign labels\n",
        "report_table = []\n",
        "report_criteria = []\n",
        "report_plot = []\n",
        "kf = model_selection.StratifiedKFold(n_splits=5, shuffle=True, random_state=321)\n",
        "clf = 'softmax_act'\n",
        "addPredictions = True\n",
        "applyPCA = False\n",
        "accuracy = 0\n",
        "es = tf.keras.callbacks.EarlyStopping(monitor='val_loss', mode='min', verbose=1)\n",
        "y_test = tf.keras.utils.to_categorical(y_test)\n",
        "for train, val in kf.split(Data_X, Data_y):\n",
        "    X_train = Data_X[train]\n",
        "    y_train = Data_y[train]\n",
        "    y_train = tf.keras.utils.to_categorical(y_train)\n",
        "    X_val = Data_X[val]\n",
        "    y_val = Data_y[val]\n",
        "    y_val = tf.keras.utils.to_categorical(y_val)\n",
        "\n",
        "    # sample = sample[:12500]\n",
        "    # test = test[:2000]\n",
        "    # X = Data_X[sample]\n",
        "    # y = Data_y[sample]\n",
        "    # X_train, X_val, y_train, y_val = model_selection.train_test_split(X, y, test_size=0.20, random_state=123)\n",
        "    # X_test = Data_X[test]\n",
        "    # y_test = Data_y[test]\n",
        "\n",
        "    # TRAINING MODEL\n",
        "    model = init_model(input_dim=Data_X.shape[1:])\n",
        "    model.fit(X_train, y_train, batch_size=128, epochs=10, verbose=0, validation_data=(X_val, y_val), callbacks=[es])\n",
        "\n",
        "    y_train_pred_soft, y_train_pred_th = pred_output(model, X_train)\n",
        "    print('accuracy(Train)={}'.format(np.sum(y_train_pred_th==np.argmax(y_train,axis=1))/y_train_pred_th.size))\n",
        "    y_val_pred_soft, y_val_pred_th = pred_output(model, X_val)\n",
        "    y_test_pred_soft, y_test_pred_th = pred_output(model, X_test)\n",
        "\n",
        "    # layer_outputs = [layer.output for layer in model.layers[4]]\n",
        "    if clf == 'softmax_act':\n",
        "            activation_model = tf.keras.models.Model(inputs=model.input, outputs=model.layers[5].output)\n",
        "            X_train_GP = activation_model.predict(X_train)\n",
        "            X_val_GP = activation_model.predict(X_val)\n",
        "            X_test_GP = activation_model.predict(X_test)\n",
        "    elif clf == 'softmax':\n",
        "            X_train_GP = X_train.reshape(-1,np.prod(X_train.shape[1:]))\n",
        "            X_val_GP = X_val.reshape(-1,np.prod(X_val.shape[1:]))\n",
        "            X_test_GP = X_test.reshape(-1,np.prod(X_test.shape[1:]))\n",
        "\n",
        "    if addPredictions:\n",
        "            # Add predictions\n",
        "            X_train_GP = np.concatenate((X_train_GP, y_train_pred_soft), axis=1)\n",
        "            X_val_GP = np.concatenate((X_val_GP, y_val_pred_soft), axis=1)\n",
        "            X_test_GP = np.concatenate((X_test_GP, y_test_pred_soft), axis=1)\n",
        "    scaleX_GP = preprocessing.StandardScaler().fit(np.concatenate((X_train_GP, X_val_GP), axis=0))\n",
        "    X_train_GP = scaleX_GP.transform(X_train_GP)\n",
        "    X_val_GP = scaleX_GP.transform(X_val_GP)\n",
        "    X_test_GP = scaleX_GP.transform(X_test_GP)\n",
        "    if applyPCA:\n",
        "            pca_GP = decomposition.PCA(.99).fit(np.concatenate((X_train_GP, X_val_GP), axis=0)) # set percentage of energy preserved by PCA\n",
        "            # Apply PCA transform to all sets\n",
        "            X_train_GP = pca_GP.transform(X_train_GP)\n",
        "            X_val_GP = pca_GP.transform(X_val_GP)\n",
        "            X_test_GP = pca_GP.transform(X_test_GP)\n",
        "\n",
        "    table, exp = signalingFunction(X_train_GP, np.argmax(y_train, axis=1), y_train_pred_th, \\\n",
        "                                   X_val_GP, np.argmax(y_val, axis=1), y_val_pred_th,\\\n",
        "                                   X_test_GP, np.argmax(y_test, axis=1), y_test_pred_th)\n",
        "    report_table.append(table)\n",
        "    # Baseline for comparison\n",
        "    crit_table = baselineCriteria(np.argmax(y_val, axis=1), y_val_pred_soft, y_val_pred_th,\\\n",
        "                                  np.argmax(y_test, axis=1), y_test_pred_soft, y_test_pred_th,\\\n",
        "                                  table, exp)\n",
        "    report_criteria.append(crit_table)\n",
        "\n",
        "    score = np.sum(np.argmax(y_val, axis=1)==y_val_pred_th)/np.size(np.argmax(y_val, axis=1))\n",
        "    if accuracy < score:\n",
        "      accuracy = score\n",
        "      table_best = table\n",
        "      crit_table_best = crit_table\n",
        "      exp_best = exp\n",
        "      y_test_best = y_test\n",
        "      y_test_pred_soft_best = y_test_pred_soft\n",
        "      y_test_pred_th_best = y_test_pred_th\n",
        "      X_test_best = X_test\n",
        "    del(model)"
      ],
      "execution_count": 17,
      "outputs": [
        {
          "output_type": "stream",
          "text": [
            "Epoch 00006: early stopping\n",
            "accuracy(Train)=0.6355\n",
            "initializing cuda...\n",
            "lr=0.01, n_iterations=500\n",
            "Iter 491/500 - Loss: 0.502  noise: 0.073\n",
            "Iter 492/500 - Loss: 0.502  noise: 0.073\n",
            "Iter 493/500 - Loss: 0.502  noise: 0.073\n",
            "Iter 494/500 - Loss: 0.502  noise: 0.073\n",
            "Iter 495/500 - Loss: 0.502  noise: 0.073\n",
            "Iter 496/500 - Loss: 0.501  noise: 0.073\n",
            "Iter 497/500 - Loss: 0.502  noise: 0.073\n",
            "Iter 498/500 - Loss: 0.502  noise: 0.073\n",
            "Iter 499/500 - Loss: 0.504  noise: 0.073\n",
            "Iter 500/500 - Loss: 0.503  noise: 0.073\n",
            "evaluating with cuda...\n",
            "evaluating with cuda...\n",
            "[0, 1, 2, 3, 4]\n",
            "[0, 1, 2, 3, 4]\n",
            "5\n",
            "accuracy(Train)=0.7946\n",
            "initializing cuda...\n",
            "lr=0.01, n_iterations=500\n",
            "Iter 491/500 - Loss: 0.351  noise: 0.056\n",
            "Iter 492/500 - Loss: 0.350  noise: 0.056\n",
            "Iter 493/500 - Loss: 0.351  noise: 0.056\n",
            "Iter 494/500 - Loss: 0.350  noise: 0.056\n",
            "Iter 495/500 - Loss: 0.350  noise: 0.056\n",
            "Iter 496/500 - Loss: 0.349  noise: 0.056\n",
            "Iter 497/500 - Loss: 0.350  noise: 0.056\n",
            "Iter 498/500 - Loss: 0.351  noise: 0.056\n",
            "Iter 499/500 - Loss: 0.350  noise: 0.055\n",
            "Iter 500/500 - Loss: 0.349  noise: 0.055\n",
            "evaluating with cuda...\n",
            "evaluating with cuda...\n",
            "[0, 1, 2, 3, 4]\n",
            "[0, 1, 2, 3, 4]\n",
            "5\n",
            "Epoch 00005: early stopping\n",
            "accuracy(Train)=0.5897\n",
            "initializing cuda...\n",
            "lr=0.01, n_iterations=500\n",
            "Iter 491/500 - Loss: 0.545  noise: 0.083\n",
            "Iter 492/500 - Loss: 0.544  noise: 0.083\n",
            "Iter 493/500 - Loss: 0.543  noise: 0.083\n",
            "Iter 494/500 - Loss: 0.544  noise: 0.083\n",
            "Iter 495/500 - Loss: 0.544  noise: 0.083\n",
            "Iter 496/500 - Loss: 0.543  noise: 0.083\n",
            "Iter 497/500 - Loss: 0.544  noise: 0.083\n",
            "Iter 498/500 - Loss: 0.543  noise: 0.083\n",
            "Iter 499/500 - Loss: 0.544  noise: 0.083\n",
            "Iter 500/500 - Loss: 0.543  noise: 0.083\n",
            "evaluating with cuda...\n",
            "evaluating with cuda...\n",
            "[0, 1, 2, 3, 4]\n",
            "[0, 1, 2, 3, 4]\n",
            "5\n",
            "Epoch 00010: early stopping\n",
            "accuracy(Train)=0.7556\n",
            "initializing cuda...\n",
            "lr=0.01, n_iterations=500\n",
            "Iter 491/500 - Loss: 0.410  noise: 0.065\n",
            "Iter 492/500 - Loss: 0.410  noise: 0.065\n",
            "Iter 493/500 - Loss: 0.410  noise: 0.065\n",
            "Iter 494/500 - Loss: 0.410  noise: 0.065\n",
            "Iter 495/500 - Loss: 0.411  noise: 0.065\n",
            "Iter 496/500 - Loss: 0.410  noise: 0.065\n",
            "Iter 497/500 - Loss: 0.410  noise: 0.065\n",
            "Iter 498/500 - Loss: 0.410  noise: 0.065\n",
            "Iter 499/500 - Loss: 0.411  noise: 0.064\n",
            "Iter 500/500 - Loss: 0.410  noise: 0.064\n",
            "evaluating with cuda...\n",
            "evaluating with cuda...\n",
            "[0, 1, 2, 3, 4]\n",
            "[0, 1, 2, 3, 4]\n",
            "5\n",
            "Epoch 00008: early stopping\n",
            "accuracy(Train)=0.7165\n",
            "initializing cuda...\n",
            "lr=0.01, n_iterations=500\n",
            "Iter 491/500 - Loss: 0.459  noise: 0.071\n",
            "Iter 492/500 - Loss: 0.460  noise: 0.071\n",
            "Iter 493/500 - Loss: 0.459  noise: 0.071\n",
            "Iter 494/500 - Loss: 0.460  noise: 0.071\n",
            "Iter 495/500 - Loss: 0.459  noise: 0.071\n",
            "Iter 496/500 - Loss: 0.460  noise: 0.071\n",
            "Iter 497/500 - Loss: 0.460  noise: 0.071\n",
            "Iter 498/500 - Loss: 0.460  noise: 0.071\n",
            "Iter 499/500 - Loss: 0.460  noise: 0.071\n",
            "Iter 500/500 - Loss: 0.460  noise: 0.070\n",
            "evaluating with cuda...\n",
            "evaluating with cuda...\n",
            "[0, 1, 2, 3, 4]\n",
            "[0, 1, 2, 3, 4]\n",
            "5\n"
          ],
          "name": "stdout"
        }
      ]
    },
    {
      "cell_type": "code",
      "metadata": {
        "id": "bySQUArjoOo1",
        "colab_type": "code",
        "colab": {}
      },
      "source": [
        "logs_base_dir = \"runs/\"\n",
        "%tensorboard --logdir {logs_base_dir}"
      ],
      "execution_count": null,
      "outputs": []
    },
    {
      "cell_type": "code",
      "metadata": {
        "id": "zQeWpMFeoR5I",
        "colab_type": "code",
        "colab": {}
      },
      "source": [
        "##%\n",
        "# Boxplot (loss reduction in test set)\n",
        "report_table_concat = pd.concat(report_table)\n",
        "cols_table = ['p_value','rho_user','%reduction_test']\n",
        "df_boxplot_table = pd.DataFrame(report_table_concat[cols_table])\n",
        "df_boxplot_table['label'] = df_boxplot_table.shape[0]*['$f(x)$']\n",
        "report_criteria_concat = pd.concat(report_criteria)\n",
        "columns_crit = ['rho_user','%reduction_test']\n",
        "df_boxplot_crit = pd.DataFrame(report_criteria_concat[columns_crit])\n",
        "df_boxplot_crit['label'] = df_boxplot_crit.shape[0]*['$g(x)$']\n",
        "# p-value median\n",
        "p_value_col = df_boxplot_table['p_value'] #Add\n",
        "p_value_by_row_index = df_boxplot_table['p_value'].groupby(df_boxplot_table.index)\n",
        "p_value_median = p_value_by_row_index.median()\n",
        "# Boxplot (jaccard index in test set)\n",
        "columns_jac = ['rho_user','jaccard']\n",
        "df_jaccard = pd.DataFrame(report_criteria_concat[columns_jac])\n",
        "# Unfiltered Result dataframes\n",
        "cols_fx = ['rho_user','%reduction_val','budget','%reduction_test']\n",
        "results_fx = pd.DataFrame(report_table_concat[cols_fx])\n",
        "cols_fxgx = ['rho_user','%reduction_test', 'jaccard']\n",
        "results_fxgx = pd.concat([df_boxplot_table[cols_fxgx[:2]], df_boxplot_crit[cols_fxgx[1]], df_jaccard[cols_fxgx[2]]], axis=1)\n",
        "# Filter experiments with p_value > 0.05\n",
        "df_boxplot_crit = df_boxplot_crit.loc[df_boxplot_table['p_value'] <= 0.05]\n",
        "df_jaccard = df_jaccard.loc[df_boxplot_table['p_value'] <= 0.05]\n",
        "df_boxplot_table = df_boxplot_table.loc[df_boxplot_table['p_value'] <= 0.05]\n",
        "# Boxplot with filtered values only\n",
        "frames = [df_boxplot_table, df_boxplot_crit]\n",
        "df = pd.concat(frames)"
      ],
      "execution_count": 18,
      "outputs": []
    },
    {
      "cell_type": "code",
      "metadata": {
        "id": "U9UhCBCvoXT0",
        "colab_type": "code",
        "colab": {}
      },
      "source": [
        "# Avoid plotting when median(p_value)>0.5\n",
        "for i in range(p_value_median.shape[0]):\n",
        "    if p_value_median.iloc[i]>0.05:\n",
        "      df.loc[df.index==i,'%reduction_test'] = np.nan\n",
        "      df_jaccard.loc[df_jaccard.index==i, 'jaccard'] = np.nan"
      ],
      "execution_count": 19,
      "outputs": []
    },
    {
      "cell_type": "code",
      "metadata": {
        "id": "Q-zU6_XqoZ9N",
        "colab_type": "code",
        "colab": {
          "base_uri": "https://localhost:8080/",
          "height": 164
        },
        "outputId": "8f827775-d3f2-4000-b4bb-c10d30aae3bd"
      },
      "source": [
        "# Dataframe for results f(x)\n",
        "results_fx = results_fx.loc[p_value_col <= 0.05].copy()\n",
        "results_fx_by_row_index = results_fx.groupby(results_fx.index)\n",
        "fx_median = results_fx_by_row_index.median()\n",
        "fx_q1 = results_fx_by_row_index.quantile(q=0.25)\n",
        "fx_q3 = results_fx_by_row_index.quantile(q=0.75)\n",
        "# Signaling function statistics (median(q1-q3)) LaTex\n",
        "output_fx = io.StringIO()\n",
        "numRows = fx_median.shape[0]\n",
        "numCols = fx_median.shape[1]\n",
        "output_fx.write(\"results_fx (\\\\rho|%reduction_val|sig_rate|%reduction_test|H0)\\n\")\n",
        "output_fx.write(\"----------\\n\")\n",
        "for i in range(numRows):\n",
        "  row = [r'{:.2f}'.format(val1) if p_value_median[i]>0.05 and j==0 else r'{}' if p_value_median[i]>0.05 and j!=0\\\n",
        "         else r'{:.2f}'.format(val1) if (j==0) else r'{:.2f}({:.2f}-{:.2f})'.format(val1,val2,val3) if (j==2)\\\n",
        "         else r'{:.1f}({:.1f}-{:.1f})'.format(val1,val2,val3) for val1,val2,val3,j in zip(fx_median.iloc[i],fx_q1.iloc[i],fx_q3.iloc[i],range(numCols))]\n",
        "  output_fx.write(\"{{}} & {{}} & %s & {H0} \\\\\\\\\\n\".format(H0=r'$\\surd$' if p_value_median[i]<=0.05 else r'$\\times$')%(\" & \".join(row)))\n",
        "print(output_fx.getvalue())"
      ],
      "execution_count": 20,
      "outputs": [
        {
          "output_type": "stream",
          "text": [
            "results_fx (\\rho|%reduction_val|sig_rate|%reduction_test|H0)\n",
            "----------\n",
            "{} & {} & 0.01 & 2.1(1.8-2.1) & 0.01(0.01-0.01) & 2.0(1.8-2.0) & $\\surd$ \\\\\n",
            "{} & {} & 0.05 & 9.4(9.2-9.7) & 0.05(0.05-0.05) & 8.9(8.6-10.5) & $\\surd$ \\\\\n",
            "{} & {} & 0.10 & 17.8(17.6-18.7) & 0.11(0.10-0.11) & 18.7(18.4-19.9) & $\\surd$ \\\\\n",
            "{} & {} & 0.15 & 26.6(25.6-27.1) & 0.15(0.15-0.16) & 26.2(26.1-28.1) & $\\surd$ \\\\\n",
            "{} & {} & 0.20 & 33.6(33.3-34.6) & 0.21(0.21-0.22) & 35.9(34.3-37.2) & $\\surd$ \\\\\n",
            "\n"
          ],
          "name": "stdout"
        }
      ]
    },
    {
      "cell_type": "code",
      "metadata": {
        "id": "4obWyq2UodSY",
        "colab_type": "code",
        "colab": {
          "base_uri": "https://localhost:8080/",
          "height": 164
        },
        "outputId": "92c02f0c-0f7f-4ad4-82c9-20529da9cce7"
      },
      "source": [
        "# Dataframe for comparison f(x)-g(x)\n",
        "results_fxgx = results_fxgx.loc[p_value_col <= 0.05].copy()\n",
        "results_fxgx_by_row_index = results_fxgx.groupby(results_fxgx.index)\n",
        "fxgx_median = results_fxgx_by_row_index.median()\n",
        "fxgx_q1 = results_fxgx_by_row_index.quantile(q=0.25)\n",
        "fxgx_q3 = results_fxgx_by_row_index.quantile(q=0.75)\n",
        "# Baseline comparison statistics (median(q1-q3)) LaTex\n",
        "output_fxgx = io.StringIO()\n",
        "numRows = fxgx_median.shape[0]\n",
        "numCols = fxgx_median.shape[1]\n",
        "output_fxgx.write(\"results_fxgx (\\\\rho|%reduction_test(fx)|%reduction_test(fxgx)|Jaccard|H0\\n\")\n",
        "output_fxgx.write(\"------------\\n\")\n",
        "for i in range(numRows):\n",
        "  row = [r'{:.2f}'.format(val1) if p_value_median[i]>0.05 and j==0 else r'{}' if p_value_median[i]>0.05 and j!=0\\\n",
        "         else r'{:.2f}'.format(val1) if (j==0) else r'{:.2f}({:.2f}-{:.2f})'.format(val1,val2,val3) if (j==3)\\\n",
        "         else r'{:.1f}({:.1f}-{:.1f})'.format(val1,val2,val3) for val1,val2,val3,j in zip(fxgx_median.iloc[i],fxgx_q1.iloc[i],fxgx_q3.iloc[i],range(numCols))]\n",
        "  output_fxgx.write(\"{{}} & {{}} & %s & {H0} \\\\\\\\\\n\".format(H0=r'$\\surd$' if p_value_median[i]<=0.05 else r'$\\times$')%(\" & \".join(row)))\n",
        "print(output_fxgx.getvalue())"
      ],
      "execution_count": 21,
      "outputs": [
        {
          "output_type": "stream",
          "text": [
            "results_fxgx (\\rho|%reduction_test(fx)|%reduction_test(fxgx)|Jaccard|H0\n",
            "------------\n",
            "{} & {} & 0.01 & 2.0(1.8-2.0) & 1.6(1.5-1.8) & 0.98(0.98-0.98) & $\\surd$ \\\\\n",
            "{} & {} & 0.05 & 8.9(8.6-10.5) & 9.6(8.0-9.8) & 0.92(0.92-0.93) & $\\surd$ \\\\\n",
            "{} & {} & 0.10 & 18.7(18.4-19.9) & 17.5(15.9-18.6) & 0.87(0.86-0.87) & $\\surd$ \\\\\n",
            "{} & {} & 0.15 & 26.2(26.1-28.1) & 24.6(23.4-25.9) & 0.83(0.83-0.85) & $\\surd$ \\\\\n",
            "{} & {} & 0.20 & 35.9(34.3-37.2) & 32.5(31.7-33.9) & 0.80(0.80-0.82) & $\\surd$ \\\\\n",
            "\n"
          ],
          "name": "stdout"
        }
      ]
    },
    {
      "cell_type": "code",
      "metadata": {
        "id": "worAyJtSopME",
        "colab_type": "code",
        "colab": {}
      },
      "source": [
        "#%%\n",
        "# Save results in csv fomat\n",
        "path_csv = \"drive/My Drive/NIPS2020/results/cifar10/results_{clf}_yhat{yhat}_pca{pca}.csv\".format(clf=clf, pca=applyPCA, yhat=addPredictions)\n",
        "results = pd.concat([results_fx, results_fxgx, p_value_col.loc[p_value_col <= 0.05]], keys=['fx', 'fxgx', ''], axis=1).to_csv(path_csv, index=True, header=True)\n",
        "# modified output\n",
        "# Save results in tex fomat\n",
        "L = [output_fx.getvalue(),output_fxgx.getvalue()]\n",
        "path_txt = \"drive/My Drive/NIPS2020/results/cifar10/results_{clf}_yhat{yhat}_pca{pca}.txt\".format(clf=clf, pca=applyPCA, yhat=addPredictions)\n",
        "txt = open(path_txt, \"w\") \n",
        "txt.writelines(L) \n",
        "txt.close() #to change file access modes"
      ],
      "execution_count": 22,
      "outputs": []
    },
    {
      "cell_type": "code",
      "metadata": {
        "id": "dt4yHhb1o6Ck",
        "colab_type": "code",
        "colab": {
          "base_uri": "https://localhost:8080/",
          "height": 437
        },
        "outputId": "0661520e-74aa-4102-c401-2440d3b79d7c"
      },
      "source": [
        "fig, ax = plt.subplots(1,2,figsize=(15, 5.1), constrained_layout=False, dpi=90)\n",
        "pal = sns.color_palette('Paired')\n",
        "sns.boxplot(x=df['rho_user'], y=df['%reduction_test'], hue='label', data=df, ax=ax[0], palette=pal)\n",
        "ax[0].set_xlabel(r'budget $\\rho$')\n",
        "ax[0].set_ylabel(r'Loss reduction $r_{test}(\\%)$')\n",
        "ax[0].legend(loc='upper left')\n",
        "pal = sns.color_palette('BuGn_r')\n",
        "sns.boxplot(x=df_jaccard['rho_user'], y=df_jaccard['jaccard'], data=df_jaccard, ax=ax[1], palette=pal)\n",
        "ax[1].set_xlabel(r'budget $\\rho$')\n",
        "ax[1].set_ylabel(r'Jaccard index $J$')\n",
        "plt.tight_layout()\n",
        "path_fig_fxgx = \"drive/My Drive/NIPS2020/results/cifar10/fig_fxgx_{clf}_yhat{yhat}_pca{pca}.pdf\".format(clf=clf, pca=applyPCA, yhat=addPredictions)\n",
        "plt.savefig(path_fig_fxgx, bbox_inches='tight', facecolor='w')"
      ],
      "execution_count": 23,
      "outputs": [
        {
          "output_type": "stream",
          "text": [
            "findfont: Font family ['serif'] not found. Falling back to DejaVu Sans.\n"
          ],
          "name": "stderr"
        },
        {
          "output_type": "display_data",
          "data": {
            "image/png": "[encoded data removed]",
            "text/plain": [
              "<Figure size 1350x459 with 2 Axes>"
            ]
          },
          "metadata": {
            "tags": []
          }
        }
      ]
    },
    {
      "cell_type": "code",
      "metadata": {
        "id": "mj6x1QVqcRgO",
        "colab_type": "code",
        "colab": {
          "base_uri": "https://localhost:8080/",
          "height": 35
        },
        "outputId": "a4dfdae8-c121-4a3d-bc1d-360c8fcf5760"
      },
      "source": [
        "rho = 0.15\n",
        "X_test_best = X_test_best.squeeze()\n",
        "rule = table_best.loc[table_best.rho_user == rho]['rule'].to_numpy()\n",
        "eta = table_best.loc[table_best.rho_user == rho]['eta'].to_numpy()[0]\n",
        "theta = crit_table_best.loc[crit_table_best.rho_user == rho]['thresh'].to_numpy()[0]\n",
        "f_test = exp_best.gpr_mean_test+rule*np.sqrt(exp_best.gpr_var_test)\n",
        "top_n = 5 # Top n selected instances in test set\n",
        "top_f_idx = np.argpartition(f_test, -top_n)[-top_n:]\n",
        "top_f_idx = top_f_idx[np.argsort(f_test[top_f_idx])[::-1]]# Added\n",
        "# p_test = np.concatenate((y_test_pred_soft_best,1-y_test_pred_soft_best),axis=1)\n",
        "crit_test = entropy(y_test_pred_soft_best, axis=1, base=10)\n",
        "top_crit_idx = np.argpartition(crit_test, -top_n)[-top_n:]\n",
        "top_crit_idx = top_crit_idx[np.argsort(crit_test[top_crit_idx])[::-1]]# Added\n",
        "\n",
        "output_text = io.StringIO()\n",
        "print('eta={:.3f},theta={:.3f}'.format(eta,theta))"
      ],
      "execution_count": 24,
      "outputs": [
        {
          "output_type": "stream",
          "text": [
            "eta=1.339,theta=0.739\n"
          ],
          "name": "stdout"
        }
      ]
    },
    {
      "cell_type": "code",
      "metadata": {
        "id": "PJlMUtf_wTWa",
        "colab_type": "code",
        "colab": {
          "base_uri": "https://localhost:8080/",
          "height": 430
        },
        "outputId": "95c925d7-8154-46d9-9043-10ecff020068"
      },
      "source": [
        "# Plot selected instances\n",
        "# initialize the label \n",
        "labelNames = ['airplane', 'automobile', 'bird', 'cat', 'deer', 'dog', 'frog', 'horse', 'ship', 'truck']\n",
        "# X_test_best = X_test.reshape(-1,28,28)\n",
        "# y_hat_best = y_test_pred_th[top_f_idx]\n",
        "# y_th_best = np.argmax(y_test[top_f_idx], axis=1)\n",
        "# Plot instances\n",
        "row,col = 2,top_n\n",
        "fig1, ax = plt.subplots(row, col, figsize=(6.0, 3.5), constrained_layout=True, dpi=120)\n",
        "# fig1.subplots_adjust(wspace=0.1, hspace=0.35, top=0.5)\n",
        "# for i in top_f_idx:\n",
        "j = 0\n",
        "for i,k in zip(top_f_idx, top_crit_idx):\n",
        "    if np.argmax(y_test_best, axis=1)[i] != y_test_pred_th_best[i]:\n",
        "        color = 'red'\n",
        "    else:\n",
        "        color = 'green'\n",
        "    # ax = fig1.add_subplot(3, 4, j+1)\n",
        "    ax[0][j].imshow(X_test_best[i, :, :, :])\n",
        "    ax[0][j].set_title(r'$y=${s1}'.format(s1=labelNames[np.argmax(y_test_best, axis=1)[i]])+',\\n'+\\\n",
        "                    r'$\\hat{{y}}=${s2}'.format(s2=labelNames[y_test_pred_th_best[i]]), color=color, fontsize=10)\n",
        "    ax[0][j].set_xlabel(r\"$g(x)=${:.3f}\".format(crit_test[i])+'\\n$f(x)=${:.3f}'.format(f_test[i]), fontsize=10)\n",
        "    ax[0][j].set_xticks([])\n",
        "    ax[0][j].set_yticks([])\n",
        "\n",
        "    if np.argmax(y_test_best, axis=1)[k] != y_test_pred_th_best[k]:\n",
        "        color = 'red'\n",
        "    else:\n",
        "        color = 'green'\n",
        "    # ax = fig1.add_subplot(3, 4, j+1)\n",
        "    ax[1][j].imshow(X_test_best[k, :, :, :])\n",
        "    ax[1][j].set_title(r'$y=${s1}'.format(s1=labelNames[np.argmax(y_test_best, axis=1)[k]])+',\\n'+\\\n",
        "                    r'$\\hat{{y}}=${s2}'.format(s2=labelNames[y_test_pred_th_best[k]]), color=color, fontsize=10)\n",
        "    ax[1][j].set_xlabel(r\"$g(x)=${:.3f}\".format(crit_test[k])+'\\n$f(x)=${:.3f}'.format(f_test[k]), fontsize=10)\n",
        "    ax[1][j].set_xticks([])\n",
        "    ax[1][j].set_yticks([])\n",
        "    j = j + 1\n",
        "# ax[0][0].set_ylabel(r\"$f(x)>\\eta$\"+\"\\n\"+r\"$(\\eta={:.3f})$\".format(eta), fontsize=14)\n",
        "ax[0][0].set_ylabel(r\"$f(x)>\\eta$\", fontsize=14)\n",
        "# ax[1][0].set_ylabel(r\"$g(x)>\\theta$\"+\"\\n\"+r\"$(\\theta={:.3f})$\".format(theta), fontsize=14)\n",
        "ax[1][0].set_ylabel(r\"$g(x)>\\theta$\", fontsize=14)\n",
        "# fig1.text(0.5, 0.01, r'$\\rho={},~|f(x)>\\eta|={},~|g(x)>\\theta|={}$'.format(rho,np.sum(f_test>eta),np.sum(crit_test>theta)), ha='center', fontsize = 12)\n",
        "# plt.suptitle(r'Top {} selected instances'.format(top_n), fontsize=15)\n",
        "# plt.tight_layout()\n",
        "path_fig_fxgx_test = \"drive/My Drive/NIPS2020/results/cifar10/fig_fxgx_test_{clf}_yhat{yhat}_pca{pca}.svg\".format(clf=clf, pca=applyPCA, yhat=addPredictions)\n",
        "plt.savefig(path_fig_fxgx_test, bbox_inches='tight', facecolor='w')"
      ],
      "execution_count": 29,
      "outputs": [
        {
          "output_type": "display_data",
          "data": {
            "image/png": "[encoded data removed]",
            "text/plain": [
              "<Figure size 720x420 with 10 Axes>"
            ]
          },
          "metadata": {
            "tags": []
          }
        }
      ]
    },
    {
      "cell_type": "code",
      "metadata": {
        "id": "R_NOckG8Hw44",
        "colab_type": "code",
        "colab": {}
      },
      "source": [
        ""
      ],
      "execution_count": null,
      "outputs": []
    }
  ]
}