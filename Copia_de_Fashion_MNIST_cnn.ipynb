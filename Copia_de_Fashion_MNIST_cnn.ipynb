{
  "nbformat": 4,
  "nbformat_minor": 0,
  "metadata": {
    "colab": {
      "name": "Copia de Fashion_MNIST_cnn",
      "provenance": [],
      "collapsed_sections": [],
      "include_colab_link": true
    },
    "kernelspec": {
      "name": "python3",
      "display_name": "Python 3"
    },
    "accelerator": "GPU"
  },
  "cells": [
    {
      "cell_type": "markdown",
      "metadata": {
        "id": "view-in-github",
        "colab_type": "text"
      },
      "source": [
        "<a href=\"https://colab.research.google.com/github/cesar-claros/synergistic/blob/SocialAds/Copia_de_Fashion_MNIST_cnn.ipynb\" target=\"_parent\"><img src=\"https://colab.research.google.com/assets/colab-badge.svg\" alt=\"Open In Colab\"/></a>"
      ]
    },
    {
      "cell_type": "markdown",
      "metadata": {
        "id": "snutXpUoSD29"
      },
      "source": [
        "# Fashion MNIST"
      ]
    },
    {
      "cell_type": "code",
      "metadata": {
        "id": "pODgafakgcZ9"
      },
      "source": [
        "!git clone https://github.com/cesar-claros/synergistic\n",
        "%cd synergistic/"
      ],
      "execution_count": null,
      "outputs": []
    },
    {
      "cell_type": "markdown",
      "metadata": {
        "id": "8JhBn84-SUw3"
      },
      "source": [
        "## Dependencies"
      ]
    },
    {
      "cell_type": "code",
      "metadata": {
        "id": "aKBZk4trqzQV"
      },
      "source": [
        "#%%\n",
        "# Command line instalation\n",
        "!pip install torch\n",
        "!pip install gpytorch\n",
        "!pip install tensorflow-determinism\n",
        "\n",
        "# Imports\n",
        "import io #Used as buffer\n",
        "import sys\n",
        "import matplotlib\n",
        "import tensorflow as tf # Keras model for MNIST \n",
        "# matplotlib.use('qt5Agg')\n",
        "import numpy as np\n",
        "import pandas as pd\n",
        "import matplotlib.pyplot as plt\n",
        "import math\n",
        "import auxfunc.funcs as sgn\n",
        "import auxfunc.trustscore as trs\n",
        "import seaborn as sns\n",
        "import torch\n",
        "from scipy.stats import entropy, spearmanr\n",
        "from sklearn import model_selection, svm, ensemble, linear_model, pipeline, metrics,\\\n",
        "      tree, neighbors, discriminant_analysis, gaussian_process, preprocessing, impute, decomposition\n",
        "from sklearn.gaussian_process.kernels import ConstantKernel, RBF, Matern\n",
        "plt.style.use(['ggplot','style/style.mplstyle'])\n",
        "import os\n",
        "import random"
      ],
      "execution_count": null,
      "outputs": []
    },
    {
      "cell_type": "markdown",
      "metadata": {
        "id": "pN2yf4wBSdMr"
      },
      "source": [
        "## Auxiliar Functions"
      ]
    },
    {
      "cell_type": "code",
      "metadata": {
        "id": "oPr-qGxurI6H"
      },
      "source": [
        "#%%\n",
        "# Define classic MLP architecture\n",
        "def CNN_model(input_dim):\n",
        "    # A simple model based off LeNet from https://keras.io/examples/mnist_cnn/\n",
        "    model = tf.keras.Sequential()\n",
        "    model.add(tf.keras.layers.Conv2D(32, [3, 3], activation='relu', input_shape=input_dim ))\n",
        "    model.add(tf.keras.layers.MaxPooling2D(pool_size=(2, 2)))\n",
        "    model.add(tf.keras.layers.Conv2D(64, [3, 3], activation='relu'))\n",
        "    model.add(tf.keras.layers.MaxPooling2D(pool_size=(2, 2)))\n",
        "    model.add(tf.keras.layers.Dropout(0.5))\n",
        "    model.add(tf.keras.layers.Flatten())\n",
        "    model.add(tf.keras.layers.Dense(128, activation='relu'))\n",
        "    model.add(tf.keras.layers.Dropout(0.5))\n",
        "    model.add(tf.keras.layers.Dense(10, activation='softmax'))\n",
        "    return model"
      ],
      "execution_count": null,
      "outputs": []
    },
    {
      "cell_type": "code",
      "metadata": {
        "id": "nRVYBv5lxPJk"
      },
      "source": [
        "#%%\n",
        "# Initialize model\n",
        "def init_model(input_dim):\n",
        "    # svm = False\n",
        "    # model = MLP_model(input_dim=Data_X.shape[1], svm_obj=svm)\n",
        "    model = CNN_model(input_dim=input_dim)\n",
        "    loss = tf.keras.losses.categorical_crossentropy\n",
        "    metric = ['accuracy']\n",
        "    model.compile(loss=loss,\n",
        "                optimizer=tf.keras.optimizers.Adam(),\n",
        "                metrics=metric)\n",
        "    # model.summary()\n",
        "    return model"
      ],
      "execution_count": null,
      "outputs": []
    },
    {
      "cell_type": "code",
      "metadata": {
        "id": "KYYvRG4AmtEJ"
      },
      "source": [
        "#%%\n",
        "# Signaling function fitting and evaluation\n",
        "def signalingFunction(X_train, y_train, y_train_pred_th, X_val, y_val, y_val_pred_th, X_test, y_test, y_test_pred_th, kernel='exponential', norm='l01', ex_dim=1):\n",
        "    # X_train, X_val should be scaled\n",
        "    # Fit signaling function \n",
        "    exp = sgn.signaling(norm=norm) # idx = [train,test,val]\n",
        "    exp.fit(X_train, y_train, y_train_pred_th, kernel=kernel, n_iter=500, lr=0.01, ex_dim=ex_dim)\n",
        "    table_val = exp.evaluate(X_val, y_val, y_val_pred_th, rule_grid=np.linspace(0,3,30, endpoint=False), rho_grid=[0.1, 0.15])\n",
        "    table_test = exp.test(X_test, y_test, y_test_pred_th, table_val['rule'].to_numpy(), table_val['eta'].to_numpy())\n",
        "    table = pd.concat([table_val,table_test],axis=1)\n",
        "    return table, exp"
      ],
      "execution_count": null,
      "outputs": []
    },
    {
      "cell_type": "code",
      "metadata": {
        "id": "pMK50NRixYI9"
      },
      "source": [
        "#%%\n",
        "# Soft and thresholded output predictions\n",
        "def pred_output(model, X):\n",
        "    y_pred_soft = model.predict(X)\n",
        "    y_pred_th = np.argmax(y_pred_soft, axis=1)\n",
        "    return y_pred_soft, y_pred_th"
      ],
      "execution_count": null,
      "outputs": []
    },
    {
      "cell_type": "code",
      "metadata": {
        "id": "t174yG8_f1_2"
      },
      "source": [
        "#%%\n",
        "# Jaccard similarity index\n",
        "def jaccard_similarity(list1, list2):\n",
        "    s1 = set(list1)\n",
        "    s2 = set(list2)\n",
        "    return len(s1.intersection(s2)) / len(s1.union(s2))"
      ],
      "execution_count": null,
      "outputs": []
    },
    {
      "cell_type": "code",
      "metadata": {
        "id": "n6VM8w4vf4lN"
      },
      "source": [
        "#%%\n",
        "# Baseline comparison\n",
        "def baselineCriteria(y_val, y_val_pred_soft, y_val_pred_th, y_test, y_test_pred_soft, y_test_pred_th, table, exp,trust_val, trust_test):\n",
        "      direction = 'further'\n",
        "      # p_val = np.concatenate(y_val_pred_soft,axis=1)\n",
        "      crit_val = entropy(y_val_pred_soft, axis=1, base=10)\n",
        "      # p_test = np.concatenate(y_test_pred_soft,axis=1)\n",
        "      crit_test = entropy(y_test_pred_soft, axis=1, base=10)\n",
        "       #=== Criteria 1\n",
        "      critFunc   = sgn.critEvaluation(norm='l01',direction=direction)\n",
        "      d_val      = critFunc.evaluate(y_val, y_val_pred_th, crit_val, rho_grid=[0.1, 0.15])\n",
        "      d_test     = critFunc.test(y_test, y_test_pred_th, crit_test, d_val['thresh'].to_numpy())\n",
        "      crit_table = pd.concat([d_val,d_test],axis=1)\n",
        "\n",
        "      # Threshold values on val data. UCB Signailing (eta) and new criteria (theta)\n",
        "      eta        = table['eta'].to_numpy().reshape(-1,1)\n",
        "      theta      = crit_table['thresh'].to_numpy().reshape(-1,1)\n",
        "      if direction == 'closer':\n",
        "        crit_bool = crit_test.reshape(1,-1)<theta\n",
        "        crit_mask, crit_idx = np.nonzero(crit_bool)\n",
        "      else:\n",
        "        crit_bool = crit_test.reshape(1,-1)>theta\n",
        "        crit_mask, crit_idx = np.nonzero(crit_bool)\n",
        "      #DF of flagged instances. Criteria\n",
        "      crit_bool_df = pd.DataFrame(crit_bool).T      \n",
        "      crit_bool_df.columns = ['crit_rho_grid_0.1','crit_rho_grid_0.15']\n",
        "\n",
        "      #=== Criteria 2\n",
        "      critFuncSc = sgn.critEvaluation(norm='l01',direction='closer')\n",
        "      s_val      = critFuncSc.evaluate(y_val, y_val_pred_th, trust_val, rho_grid=[0.1, 0.15])\n",
        "      s_test     = critFuncSc.test(y_test, y_test_pred_th, trust_test, s_val['thresh'].to_numpy())\n",
        "      score_table= pd.concat([s_val,s_test],axis=1)\n",
        "      # Threshold values on val data. TrustScore (theta0) \n",
        "      theta0     = score_table['thresh'].to_numpy().reshape(-1,1)\n",
        "      crit_bool0 = trust_test.reshape(1,-1)<theta0\n",
        "      \n",
        "      #DF of flagged instances. Trustscore\n",
        "      crit_bool0_df = pd.DataFrame(crit_bool0).T      \n",
        "      crit_bool0_df.columns = ['trust_rho_grid_0.1','trust_rho_grid_0.15']\n",
        "\n",
        "      #=== Synergystic criteria\n",
        "      # Best rules from signailing function on val are used to get UCBs on test\n",
        "      gamma      = table['rule'].to_numpy().reshape(-1,1)\n",
        "      f_test     = exp.gpr_mean_test + gamma*np.sqrt(exp.gpr_var_test)\n",
        "      # DF of flagged instances. Synergystic\n",
        "      f_bool    = f_test>eta\n",
        "      f_bool_df = pd.DataFrame(f_bool).T      \n",
        "      f_bool_df.columns = ['syn_rho_grid_0.1','syn_rho_grid_0.15']\n",
        "      f_mask, f_idx = np.nonzero(f_bool)\n",
        "      \n",
        "      crit_mask0, crit_idx0 = np.nonzero(crit_bool0)\n",
        "      # Jaccard index btw signaled instances using both methods for ith rule-threshold\n",
        "      shared = set(list(np.unique(f_mask))).intersection(set(list(np.unique(crit_mask))))\n",
        "      J = [jaccard_similarity(crit_idx[crit_mask==i],f_idx[f_mask==i]) if i in shared else np.nan for i in range(f_test.shape[0])]\n",
        "      crit_table['jaccard']=J\n",
        "      Sp = [spearmanr(f_test[i,:],crit_test)[0] for i in range(f_test.shape[0])]\n",
        "      crit_table['spearman'] = Sp\n",
        "      crit_table['gamma']    = gamma\n",
        "      \n",
        "      # Jaccard index btw signaled instances using both methods for ith rule-threshold  \n",
        "      shared0    = set(list(np.unique(f_mask))).intersection(set(list(np.unique(crit_mask0))))\n",
        "      J0         = [jaccard_similarity(crit_idx0[crit_mask0==i],f_idx[f_mask==i]) if i in shared0 else np.nan for i in range(f_test.shape[0])]\n",
        "      Sp0        = [spearmanr(f_test[i,:],trust_test)[0] for i in range(f_test.shape[0])]\n",
        "      score_table['jaccard']  = J0 \n",
        "      score_table['spearman'] = Sp0\n",
        "\n",
        "      #=== Test data results\n",
        "      idx_signaled = pd.concat([crit_bool_df.reset_index(drop=True),crit_bool0_df.reset_index(drop=True),f_bool_df.reset_index(drop=True)], axis=1)\n",
        "      \n",
        "      return crit_table,score_table,crit_test,idx_signaled"
      ],
      "execution_count": null,
      "outputs": []
    },
    {
      "cell_type": "markdown",
      "metadata": {
        "id": "ZwPY-BOvSvuY"
      },
      "source": [
        "##Signailing function and baselines"
      ]
    },
    {
      "cell_type": "code",
      "metadata": {
        "id": "BbjgZY4VK3Iw"
      },
      "source": [
        "# For reproducibility\n",
        "os.environ['TF_DETERMINISTIC_OPS'] = '1'\n",
        "SEED = 123456\n",
        "os.environ['PYTHONHASHSEED']=str(SEED)\n",
        "random.seed(SEED)\n",
        "np.random.seed(SEED)\n",
        "tf.random.set_seed(SEED)\n",
        "torch.manual_seed(SEED)\n",
        "torch.cuda.manual_seed_all(SEED)"
      ],
      "execution_count": null,
      "outputs": []
    },
    {
      "cell_type": "code",
      "metadata": {
        "id": "R3VCXn3_rTYj"
      },
      "source": [
        "# %%\n",
        "# INITIALIZATION\n",
        "# ==============\n",
        "# EXPERIMENT SETUP\n",
        "# ================\n",
        "# Load data set\n",
        "(Data_X, Data_y), (X_test, y_test) = tf.keras.datasets.fashion_mnist.load_data()\n",
        "# y, y_test = y.astype('int8'), y_test.astype('int8')\n",
        "# Rescale the images from [0,255] to the [0.0,1.0] range.\n",
        "Data_X, X_test = Data_X[..., np.newaxis]/255.0, X_test[..., np.newaxis]/255.0\n",
        "n_cat  = np.unique(np.concatenate([Data_y,y_test]), return_counts=False)\n",
        "n_cat  = n_cat.size\n",
        "print(\"Number of original training examples:\", len(Data_X))\n",
        "print(\"Number of original testing examples:\", len(X_test))\n",
        "print(\"---------------\")\n",
        "# Subsample data (20% of original data both in training and testing)\n",
        "Data_X, Data_X_sep, Data_y, Data_y_sep = model_selection.train_test_split(Data_X, Data_y, stratify=Data_y, test_size=0.80, random_state=SEED)\n",
        "X_test, X_test_sep, y_test, y_test_sep = model_selection.train_test_split(X_test, y_test, stratify=y_test, test_size=0.80, random_state=SEED)\n",
        "print(\"Number of subsampled training examples:\", len(Data_X))\n",
        "print(\"Number of subsampled testing examples:\", len(X_test))"
      ],
      "execution_count": null,
      "outputs": []
    },
    {
      "cell_type": "code",
      "metadata": {
        "id": "0jsIZNLPri8D",
        "colab": {
          "base_uri": "https://localhost:8080/"
        },
        "outputId": "c39c2bbc-89fa-4ae0-aa8e-89617c94fc0e"
      },
      "source": [
        "#%%\n",
        "# Assign labels\n",
        "report_table    = []\n",
        "report_criteria = []\n",
        "trust_criteria  = []\n",
        "report_plot     = []\n",
        "kf              = model_selection.StratifiedKFold(n_splits=5, shuffle=True, random_state=SEED)\n",
        "clf             = 'softmax_act'\n",
        "addPredictions  = True\n",
        "accuracy        = 0\n",
        "fold            = 1\n",
        "es              = tf.keras.callbacks.EarlyStopping(monitor='val_loss', mode='min', verbose=1)\n",
        "y_test          = tf.keras.utils.to_categorical(y_test)\n",
        "\n",
        "for train, val in kf.split(Data_X, Data_y):    \n",
        "    X_train = Data_X[train]\n",
        "    y_train = Data_y[train]\n",
        "    y_train = tf.keras.utils.to_categorical(y_train)\n",
        "    X_val   = Data_X[val]\n",
        "    y_val   = Data_y[val]\n",
        "    y_val   = tf.keras.utils.to_categorical(y_val)\n",
        "\n",
        "    # ML Model fit & prediction\n",
        "    model = init_model(input_dim=Data_X.shape[1:])\n",
        "    # model.fit(X_train, y_train, batch_size=128, epochs=10, verbose=0, validation_data=(X_val, y_val), callbacks=[es])\n",
        "    model.fit(X_train, y_train, batch_size=128, epochs=10, verbose=0, validation_data=(X_val, y_val))\n",
        "    y_train_pred_soft, y_train_pred_th = pred_output(model, X_train)\n",
        "    print('accuracy(Train)={}'.format(np.sum(y_train_pred_th==np.argmax(y_train,axis=1))/y_train_pred_th.size))\n",
        "    y_val_pred_soft, y_val_pred_th = pred_output(model, X_val)\n",
        "    y_test_pred_soft, y_test_pred_th = pred_output(model, X_test)\n",
        "\n",
        "    if clf == 'softmax_act':\n",
        "            activation_model = tf.keras.models.Model(inputs=model.input, outputs=model.layers[5].output) # # Early feture extraction: 128 dense vector\n",
        "            X_train_GP       = activation_model.predict(X_train)\n",
        "            X_val_GP         = activation_model.predict(X_val)\n",
        "            X_test_GP        = activation_model.predict(X_test)\n",
        "    elif clf == 'softmax':\n",
        "            X_train_GP       = X_train.reshape(-1,np.prod(X_train.shape[1:]))\n",
        "            X_val_GP         = X_val.reshape(-1,np.prod(X_val.shape[1:]))\n",
        "            X_test_GP        = X_test.reshape(-1,np.prod(X_test.shape[1:]))\n",
        "\n",
        "    if addPredictions:\n",
        "            # Add predictions\n",
        "            X_train_GP       = np.concatenate((X_train_GP, y_train_pred_soft), axis=1)\n",
        "            X_val_GP         = np.concatenate((X_val_GP, y_val_pred_soft), axis=1)\n",
        "            X_test_GP        = np.concatenate((X_test_GP, y_test_pred_soft), axis=1)\n",
        "    scaleX_GP  = preprocessing.StandardScaler().fit(X_train_GP)\n",
        "    X_train_GP = scaleX_GP.transform(X_train_GP)\n",
        "    X_val_GP   = scaleX_GP.transform(X_val_GP)\n",
        "    X_test_GP  = scaleX_GP.transform(X_test_GP)\n",
        "    # Signailing function. Call\n",
        "    table, exp = signalingFunction(X_train_GP, np.argmax(y_train, axis=1), y_train_pred_th, \\\n",
        "                                   X_val_GP, np.argmax(y_val, axis=1), y_val_pred_th,\\\n",
        "                                   X_test_GP, np.argmax(y_test, axis=1), y_test_pred_th,\\\n",
        "                                   kernel='e*e', ex_dim=y_train_pred_soft.shape[1])\n",
        "\n",
        "    report_table.append(pd.concat([pd.DataFrame({'fold':[fold]*table.shape[0]}),table],axis=1))\n",
        "\n",
        "    # Trust Score fitted on train data to evaluate loss reduction on val-test data\n",
        "    trust_model = trs.TrustScore()\n",
        "    trust_model.fit(X=X_train_GP,Y=y_train,classes=n_cat)\n",
        "    trust_val,class_val   = trust_model.score(X_val_GP, y_val_pred_th)\n",
        "    trust_test,class_test = trust_model.score(X_test_GP, y_test_pred_th)\n",
        "\n",
        "    # Baseline for comparison\n",
        "    crit_table,score_table,crit_test,idx_signaled = baselineCriteria(np.argmax(y_val, axis=1), y_val_pred_soft, y_val_pred_th,\\\n",
        "                                                        np.argmax(y_test, axis=1), y_test_pred_soft, y_test_pred_th,\\\n",
        "                                                        table, exp,\\\n",
        "                                                        trust_val, trust_test)\n",
        "    report_criteria.append(pd.concat([pd.DataFrame({'fold':[fold]*crit_table.shape[0]}),crit_table],axis=1))\n",
        "    trust_criteria.append(pd.concat([pd.DataFrame({'fold':[fold]*score_table.shape[0]}),score_table],axis=1))\n",
        "\n",
        "    score = np.sum(np.argmax(y_val, axis=1)==y_val_pred_th)/np.size(np.argmax(y_val, axis=1))\n",
        "\n",
        "    # Test data flagged instances\n",
        "    idx_signaled.insert(loc=0, column='y_pred', value=y_test_pred_th)\n",
        "    idx_signaled.insert(loc=0, column='y_obs', value=np.argmax(y_test, axis=1))\n",
        "    idx_signaled.insert(loc=0, column='Fold', value=fold)\n",
        "    idx_signaled['Loss'] = idx_signaled.y_obs != idx_signaled.y_pred \n",
        "\n",
        "    if accuracy < score:\n",
        "      signaled_idx          = idx_signaled\n",
        "      accuracy              = score\n",
        "      table_best            = table\n",
        "      crit_table_best       = crit_table\n",
        "      exp_best              = exp\n",
        "      y_test_best           = y_test\n",
        "      y_test_pred_soft_best = y_test_pred_soft\n",
        "      y_test_pred_th_best   = y_test_pred_th\n",
        "      X_test_best           = X_test\n",
        "      trust_val_test        = trust_test\n",
        "    fold +=1\n",
        "    del(model)\n",
        "    #if fold>1:\n",
        "    #  break"
      ],
      "execution_count": null,
      "outputs": [
        {
          "output_type": "stream",
          "name": "stdout",
          "text": [
            "accuracy(Train)=0.8845833333333334\n",
            "initializing cuda...\n",
            "lr=0.01, n_iterations=500\n",
            "Iter 491/500 - Loss: 0.278  noise: 0.082\n",
            "Iter 492/500 - Loss: 0.278  noise: 0.082\n",
            "Iter 493/500 - Loss: 0.278  noise: 0.082\n",
            "Iter 494/500 - Loss: 0.277  noise: 0.082\n",
            "Iter 495/500 - Loss: 0.277  noise: 0.082\n",
            "Iter 496/500 - Loss: 0.278  noise: 0.082\n",
            "Iter 497/500 - Loss: 0.278  noise: 0.082\n",
            "Iter 498/500 - Loss: 0.278  noise: 0.082\n",
            "Iter 499/500 - Loss: 0.278  noise: 0.082\n",
            "Iter 500/500 - Loss: 0.277  noise: 0.082\n",
            "evaluating with cuda...\n",
            "evaluating with cuda...\n",
            "accuracy(Train)=0.8803125\n",
            "initializing cuda...\n",
            "lr=0.01, n_iterations=500\n",
            "Iter 491/500 - Loss: 0.294  noise: 0.085\n",
            "Iter 492/500 - Loss: 0.294  noise: 0.085\n",
            "Iter 493/500 - Loss: 0.294  noise: 0.085\n",
            "Iter 494/500 - Loss: 0.294  noise: 0.085\n",
            "Iter 495/500 - Loss: 0.293  noise: 0.085\n",
            "Iter 496/500 - Loss: 0.293  noise: 0.085\n",
            "Iter 497/500 - Loss: 0.294  noise: 0.085\n",
            "Iter 498/500 - Loss: 0.293  noise: 0.085\n",
            "Iter 499/500 - Loss: 0.294  noise: 0.085\n",
            "Iter 500/500 - Loss: 0.294  noise: 0.085\n",
            "evaluating with cuda...\n",
            "evaluating with cuda...\n",
            "accuracy(Train)=0.8801041666666667\n",
            "initializing cuda...\n",
            "lr=0.01, n_iterations=500\n",
            "Iter 491/500 - Loss: 0.295  noise: 0.085\n",
            "Iter 492/500 - Loss: 0.294  noise: 0.085\n",
            "Iter 493/500 - Loss: 0.294  noise: 0.085\n",
            "Iter 494/500 - Loss: 0.294  noise: 0.085\n",
            "Iter 495/500 - Loss: 0.294  noise: 0.085\n",
            "Iter 496/500 - Loss: 0.294  noise: 0.085\n",
            "Iter 497/500 - Loss: 0.294  noise: 0.085\n",
            "Iter 498/500 - Loss: 0.294  noise: 0.085\n",
            "Iter 499/500 - Loss: 0.294  noise: 0.085\n",
            "Iter 500/500 - Loss: 0.295  noise: 0.085\n",
            "evaluating with cuda...\n",
            "evaluating with cuda...\n",
            "accuracy(Train)=0.8784375\n",
            "initializing cuda...\n",
            "lr=0.01, n_iterations=500\n",
            "Iter 491/500 - Loss: 0.300  noise: 0.086\n",
            "Iter 492/500 - Loss: 0.300  noise: 0.086\n",
            "Iter 493/500 - Loss: 0.300  noise: 0.086\n",
            "Iter 494/500 - Loss: 0.300  noise: 0.086\n",
            "Iter 495/500 - Loss: 0.301  noise: 0.086\n",
            "Iter 496/500 - Loss: 0.300  noise: 0.086\n",
            "Iter 497/500 - Loss: 0.300  noise: 0.086\n",
            "Iter 498/500 - Loss: 0.301  noise: 0.086\n",
            "Iter 499/500 - Loss: 0.300  noise: 0.086\n",
            "Iter 500/500 - Loss: 0.300  noise: 0.086\n",
            "evaluating with cuda...\n",
            "evaluating with cuda...\n",
            "accuracy(Train)=0.8767708333333334\n",
            "initializing cuda...\n",
            "lr=0.01, n_iterations=500\n",
            "Iter 491/500 - Loss: 0.306  noise: 0.087\n",
            "Iter 492/500 - Loss: 0.306  noise: 0.087\n",
            "Iter 493/500 - Loss: 0.306  noise: 0.087\n",
            "Iter 494/500 - Loss: 0.306  noise: 0.087\n",
            "Iter 495/500 - Loss: 0.306  noise: 0.087\n",
            "Iter 496/500 - Loss: 0.306  noise: 0.087\n",
            "Iter 497/500 - Loss: 0.306  noise: 0.087\n",
            "Iter 498/500 - Loss: 0.306  noise: 0.087\n",
            "Iter 499/500 - Loss: 0.306  noise: 0.087\n",
            "Iter 500/500 - Loss: 0.306  noise: 0.087\n",
            "evaluating with cuda...\n",
            "evaluating with cuda...\n"
          ]
        }
      ]
    },
    {
      "cell_type": "markdown",
      "metadata": {
        "id": "qNDDwhxZbjcM"
      },
      "source": [
        "##Summary"
      ]
    },
    {
      "cell_type": "markdown",
      "source": [
        "### Cross validation results"
      ],
      "metadata": {
        "id": "t4zVOW-x-quR"
      }
    },
    {
      "cell_type": "markdown",
      "source": [
        "#### Tabular summary"
      ],
      "metadata": {
        "id": "_2_hP9DR-u62"
      }
    },
    {
      "cell_type": "code",
      "metadata": {
        "colab": {
          "base_uri": "https://localhost:8080/",
          "height": 173
        },
        "id": "bdgsXW46blIb",
        "outputId": "1718d1e9-cf2d-4515-c3a1-40abff4deef5"
      },
      "source": [
        "report_table_concat    = pd.concat(report_table)\n",
        "report_table_concat_gr = report_table_concat.groupby('rho_user').agg({\"rho_hat_test\":[np.median],\"%loss_red_test\": [np.median,min, max]})\n",
        "report_table_concat_gr"
      ],
      "execution_count": null,
      "outputs": [
        {
          "output_type": "execute_result",
          "data": {
            "text/html": [
              "<div>\n",
              "<style scoped>\n",
              "    .dataframe tbody tr th:only-of-type {\n",
              "        vertical-align: middle;\n",
              "    }\n",
              "\n",
              "    .dataframe tbody tr th {\n",
              "        vertical-align: top;\n",
              "    }\n",
              "\n",
              "    .dataframe thead tr th {\n",
              "        text-align: left;\n",
              "    }\n",
              "\n",
              "    .dataframe thead tr:last-of-type th {\n",
              "        text-align: right;\n",
              "    }\n",
              "</style>\n",
              "<table border=\"1\" class=\"dataframe\">\n",
              "  <thead>\n",
              "    <tr>\n",
              "      <th></th>\n",
              "      <th>rho_hat_test</th>\n",
              "      <th colspan=\"3\" halign=\"left\">%loss_red_test</th>\n",
              "    </tr>\n",
              "    <tr>\n",
              "      <th></th>\n",
              "      <th>median</th>\n",
              "      <th>median</th>\n",
              "      <th>min</th>\n",
              "      <th>max</th>\n",
              "    </tr>\n",
              "    <tr>\n",
              "      <th>rho_user</th>\n",
              "      <th></th>\n",
              "      <th></th>\n",
              "      <th></th>\n",
              "      <th></th>\n",
              "    </tr>\n",
              "  </thead>\n",
              "  <tbody>\n",
              "    <tr>\n",
              "      <th>0.10</th>\n",
              "      <td>0.01</td>\n",
              "      <td>2.68</td>\n",
              "      <td>1.61</td>\n",
              "      <td>4.76</td>\n",
              "    </tr>\n",
              "    <tr>\n",
              "      <th>0.15</th>\n",
              "      <td>0.01</td>\n",
              "      <td>2.68</td>\n",
              "      <td>1.61</td>\n",
              "      <td>4.76</td>\n",
              "    </tr>\n",
              "  </tbody>\n",
              "</table>\n",
              "</div>"
            ],
            "text/plain": [
              "         rho_hat_test %loss_red_test            \n",
              "               median         median   min   max\n",
              "rho_user                                        \n",
              "0.10             0.01           2.68  1.61  4.76\n",
              "0.15             0.01           2.68  1.61  4.76"
            ]
          },
          "metadata": {},
          "execution_count": 12
        }
      ]
    },
    {
      "cell_type": "code",
      "metadata": {
        "id": "bySQUArjoOo1",
        "colab": {
          "base_uri": "https://localhost:8080/",
          "height": 173
        },
        "outputId": "5992efda-0e11-481d-e1db-7d4876a30f86"
      },
      "source": [
        "report_criteria_concat    = pd.concat(report_criteria)\n",
        "report_criteria_concat_gr = report_criteria_concat.groupby('rho_user').agg({\"rho_hat_test\":[np.median],\"%loss_red_test\":[np.median,min, max],\"jaccard\":[np.median,min, max]})\n",
        "report_criteria_concat_gr"
      ],
      "execution_count": null,
      "outputs": [
        {
          "output_type": "execute_result",
          "data": {
            "text/html": [
              "<div>\n",
              "<style scoped>\n",
              "    .dataframe tbody tr th:only-of-type {\n",
              "        vertical-align: middle;\n",
              "    }\n",
              "\n",
              "    .dataframe tbody tr th {\n",
              "        vertical-align: top;\n",
              "    }\n",
              "\n",
              "    .dataframe thead tr th {\n",
              "        text-align: left;\n",
              "    }\n",
              "\n",
              "    .dataframe thead tr:last-of-type th {\n",
              "        text-align: right;\n",
              "    }\n",
              "</style>\n",
              "<table border=\"1\" class=\"dataframe\">\n",
              "  <thead>\n",
              "    <tr>\n",
              "      <th></th>\n",
              "      <th>rho_hat_test</th>\n",
              "      <th colspan=\"3\" halign=\"left\">%loss_red_test</th>\n",
              "      <th colspan=\"3\" halign=\"left\">jaccard</th>\n",
              "    </tr>\n",
              "    <tr>\n",
              "      <th></th>\n",
              "      <th>median</th>\n",
              "      <th>median</th>\n",
              "      <th>min</th>\n",
              "      <th>max</th>\n",
              "      <th>median</th>\n",
              "      <th>min</th>\n",
              "      <th>max</th>\n",
              "    </tr>\n",
              "    <tr>\n",
              "      <th>rho_user</th>\n",
              "      <th></th>\n",
              "      <th></th>\n",
              "      <th></th>\n",
              "      <th></th>\n",
              "      <th></th>\n",
              "      <th></th>\n",
              "      <th></th>\n",
              "    </tr>\n",
              "  </thead>\n",
              "  <tbody>\n",
              "    <tr>\n",
              "      <th>0.10</th>\n",
              "      <td>0.11</td>\n",
              "      <td>36.79</td>\n",
              "      <td>35.03</td>\n",
              "      <td>41.45</td>\n",
              "      <td>0.013514</td>\n",
              "      <td>0.004000</td>\n",
              "      <td>0.064777</td>\n",
              "    </tr>\n",
              "    <tr>\n",
              "      <th>0.15</th>\n",
              "      <td>0.16</td>\n",
              "      <td>51.64</td>\n",
              "      <td>45.58</td>\n",
              "      <td>54.84</td>\n",
              "      <td>0.021084</td>\n",
              "      <td>0.005882</td>\n",
              "      <td>0.065015</td>\n",
              "    </tr>\n",
              "  </tbody>\n",
              "</table>\n",
              "</div>"
            ],
            "text/plain": [
              "         rho_hat_test %loss_red_test         ...   jaccard                    \n",
              "               median         median    min  ...    median       min       max\n",
              "rho_user                                     ...                              \n",
              "0.10             0.11          36.79  35.03  ...  0.013514  0.004000  0.064777\n",
              "0.15             0.16          51.64  45.58  ...  0.021084  0.005882  0.065015\n",
              "\n",
              "[2 rows x 7 columns]"
            ]
          },
          "metadata": {},
          "execution_count": 13
        }
      ]
    },
    {
      "cell_type": "code",
      "metadata": {
        "colab": {
          "base_uri": "https://localhost:8080/",
          "height": 173
        },
        "id": "17VfqUa-bn4s",
        "outputId": "7a05660a-827c-4b22-fa15-92a50d812217"
      },
      "source": [
        "report_trust_concat       = pd.concat(trust_criteria)\n",
        "report_trust_concat_gr    = report_trust_concat.groupby('rho_user').agg({\"rho_hat_test\":[np.median],\"%loss_red_test\":[np.median,min, max],\"jaccard\":[np.median,min, max]})\n",
        "report_trust_concat_gr"
      ],
      "execution_count": null,
      "outputs": [
        {
          "output_type": "execute_result",
          "data": {
            "text/html": [
              "<div>\n",
              "<style scoped>\n",
              "    .dataframe tbody tr th:only-of-type {\n",
              "        vertical-align: middle;\n",
              "    }\n",
              "\n",
              "    .dataframe tbody tr th {\n",
              "        vertical-align: top;\n",
              "    }\n",
              "\n",
              "    .dataframe thead tr th {\n",
              "        text-align: left;\n",
              "    }\n",
              "\n",
              "    .dataframe thead tr:last-of-type th {\n",
              "        text-align: right;\n",
              "    }\n",
              "</style>\n",
              "<table border=\"1\" class=\"dataframe\">\n",
              "  <thead>\n",
              "    <tr>\n",
              "      <th></th>\n",
              "      <th>rho_hat_test</th>\n",
              "      <th colspan=\"3\" halign=\"left\">%loss_red_test</th>\n",
              "      <th colspan=\"3\" halign=\"left\">jaccard</th>\n",
              "    </tr>\n",
              "    <tr>\n",
              "      <th></th>\n",
              "      <th>median</th>\n",
              "      <th>median</th>\n",
              "      <th>min</th>\n",
              "      <th>max</th>\n",
              "      <th>median</th>\n",
              "      <th>min</th>\n",
              "      <th>max</th>\n",
              "    </tr>\n",
              "    <tr>\n",
              "      <th>rho_user</th>\n",
              "      <th></th>\n",
              "      <th></th>\n",
              "      <th></th>\n",
              "      <th></th>\n",
              "      <th></th>\n",
              "      <th></th>\n",
              "      <th></th>\n",
              "    </tr>\n",
              "  </thead>\n",
              "  <tbody>\n",
              "    <tr>\n",
              "      <th>0.10</th>\n",
              "      <td>0.11</td>\n",
              "      <td>41.12</td>\n",
              "      <td>36.03</td>\n",
              "      <td>41.81</td>\n",
              "      <td>0.043103</td>\n",
              "      <td>0.027907</td>\n",
              "      <td>0.089202</td>\n",
              "    </tr>\n",
              "    <tr>\n",
              "      <th>0.15</th>\n",
              "      <td>0.17</td>\n",
              "      <td>54.61</td>\n",
              "      <td>51.02</td>\n",
              "      <td>59.03</td>\n",
              "      <td>0.031792</td>\n",
              "      <td>0.018072</td>\n",
              "      <td>0.078431</td>\n",
              "    </tr>\n",
              "  </tbody>\n",
              "</table>\n",
              "</div>"
            ],
            "text/plain": [
              "         rho_hat_test %loss_red_test         ...   jaccard                    \n",
              "               median         median    min  ...    median       min       max\n",
              "rho_user                                     ...                              \n",
              "0.10             0.11          41.12  36.03  ...  0.043103  0.027907  0.089202\n",
              "0.15             0.17          54.61  51.02  ...  0.031792  0.018072  0.078431\n",
              "\n",
              "[2 rows x 7 columns]"
            ]
          },
          "metadata": {},
          "execution_count": 14
        }
      ]
    },
    {
      "cell_type": "markdown",
      "source": [
        "#### Graphical display"
      ],
      "metadata": {
        "id": "AFqiu3Ru-xke"
      }
    },
    {
      "cell_type": "code",
      "source": [
        "#%%\n",
        "# Command line instalation\n",
        "# ---------------------------\n",
        "! sudo apt-get install texlive-latex-recommended #1\n",
        "! sudo apt-get install dvipng texlive-fonts-recommended #2\n",
        "! wget http://mirrors.ctan.org/macros/latex/contrib/type1cm.zip #3\n",
        "! unzip type1cm.zip -d /tmp/type1cm #4\n",
        "! cd /tmp/type1cm/type1cm/ && sudo latex type1cm.ins  #5\n",
        "! sudo mkdir /usr/share/texmf/tex/latex/type1cm #6\n",
        "! sudo cp /tmp/type1cm/type1cm/type1cm.sty /usr/share/texmf/tex/latex/type1cm #7\n",
        "! sudo texhash #8"
      ],
      "metadata": {
        "id": "nmY28Rep_IPe"
      },
      "execution_count": null,
      "outputs": []
    },
    {
      "cell_type": "code",
      "source": [
        "# Report tables arrangement\n",
        "synergistic_cv = report_table_concat[['fold','%loss_red_test','rho_user']]    ; synergistic_cv.columns = ['syn_%loss_red_test' if x=='%loss_red_test' else x for x in synergistic_cv.columns]\n",
        "criteria_cv    = report_criteria_concat[['fold','%loss_red_test','rho_user']] \n",
        "trust_cv       = report_trust_concat[['fold','%loss_red_test','rho_user']] \n",
        "df_plot1       = pd.merge(synergistic_cv,criteria_cv,on=['fold','rho_user'],how='left') ; df_plot1['Baseline'] = 'Criteria' \n",
        "df_plot2       = pd.merge(synergistic_cv,trust_cv,on=['fold','rho_user'],how='left')    ; df_plot2['Baseline'] = 'Trust'\n",
        "df_plot        = df_plot1.append(df_plot2, ignore_index=True)\n",
        "\n",
        "#Plot. percentage loss reduction on test data\n",
        "rho_cv         = 0.10\n",
        "df_plot_gr     = df_plot[df_plot.rho_user==rho_cv].groupby('Baseline')\n",
        "\n",
        "fig,ax = plt.subplots(sharey=True,figsize=(5,5),dpi=120)\n",
        "fig.suptitle('Fasion MNIST '+r'$\\rho$'+'='+ str(rho_cv))\n",
        "ax.set(facecolor = \"white\",xlabel='Baseline', ylabel='Synergistic')\n",
        "\n",
        "for name, group in df_plot_gr:\n",
        "    ax.plot(group['%loss_red_test'], group['syn_%loss_red_test'], marker='o', linestyle='', ms=12, label=name)\n",
        "\n",
        "ax.legend(loc='lower right', framealpha=0.5, prop={'size':20}, labelspacing=0.0)\n",
        "\n",
        "lims = [np.min([ax.get_xlim(), ax.get_ylim()])*0.9,np.max([ax.get_xlim(), ax.get_ylim()])*1.1]\n",
        "ax.plot(lims, lims, 'k-', alpha=0.75, zorder=0)\n",
        "ax.set_aspect('equal')\n",
        "ax.set_xlim(lims) ; ax.set_ylim(lims)"
      ],
      "metadata": {
        "colab": {
          "base_uri": "https://localhost:8080/",
          "height": 626
        },
        "id": "6bLo6q2I-2rb",
        "outputId": "9850d5b4-f957-4c08-e131-90012ec74adc"
      },
      "execution_count": null,
      "outputs": [
        {
          "output_type": "execute_result",
          "data": {
            "text/plain": [
              "(1.3072500000000002, 46.36390000000001)"
            ]
          },
          "metadata": {},
          "execution_count": 17
        },
        {
          "output_type": "stream",
          "name": "stderr",
          "text": [
            "findfont: Font family ['serif'] not found. Falling back to DejaVu Sans.\n"
          ]
        },
        {
          "output_type": "display_data",
          "data": {
            "image/png": "[encoded data removed]",
            "text/plain": [
              "<Figure size 600x600 with 1 Axes>"
            ]
          },
          "metadata": {}
        }
      ]
    },
    {
      "cell_type": "markdown",
      "source": [
        "### Complementary retrieval"
      ],
      "metadata": {
        "id": "Cs2eJ3JAWK5Z"
      }
    },
    {
      "cell_type": "code",
      "source": [
        "signaled_idx['syn_and_crit_0.10'] =   np.where(signaled_idx['syn_rho_grid_0.1']\t & signaled_idx['crit_rho_grid_0.1'],'A.Both signaled', \n",
        "                                      np.where(signaled_idx['syn_rho_grid_0.1']\t & ~ signaled_idx['crit_rho_grid_0.1'], 'B.Synergistic only signal',\n",
        "                                      np.where(~ signaled_idx['syn_rho_grid_0.1'] & signaled_idx['crit_rho_grid_0.1'], 'C.Baseline only signal', 'D.Nether signaled')))\n",
        "signaled_idx['syn_and_crit_0.15'] =   np.where(signaled_idx['syn_rho_grid_0.15']\t & signaled_idx['crit_rho_grid_0.15'],'A.Both signaled', \n",
        "                                      np.where(signaled_idx['syn_rho_grid_0.15']\t & ~ signaled_idx['crit_rho_grid_0.15'], 'B.Synergistic only signal',\n",
        "                                      np.where(~ signaled_idx['syn_rho_grid_0.15'] & signaled_idx['crit_rho_grid_0.15'], 'C.Baseline only signal', 'D.Nether signaled')))\n",
        "\n",
        "signaled_idx['syn_and_trust_0.10'] =  np.where(signaled_idx['syn_rho_grid_0.1']\t & signaled_idx['trust_rho_grid_0.1'],'A.Both signaled', \n",
        "                                      np.where(signaled_idx['syn_rho_grid_0.1']\t & ~ signaled_idx['trust_rho_grid_0.1'], 'B.Synergistic only signal',\n",
        "                                      np.where(~ signaled_idx['syn_rho_grid_0.1'] & signaled_idx['trust_rho_grid_0.1'], 'C.Baseline only signal', 'D.Nether signaled')))\n",
        "signaled_idx['syn_and_trust_0.15'] =  np.where(signaled_idx['syn_rho_grid_0.15']\t & signaled_idx['trust_rho_grid_0.15'],'A.Both signaled', \n",
        "                                      np.where(signaled_idx['syn_rho_grid_0.15']\t & ~ signaled_idx['trust_rho_grid_0.15'], 'B.Synergistic only signal',\n",
        "                                      np.where(~ signaled_idx['syn_rho_grid_0.15'] & signaled_idx['trust_rho_grid_0.15'], 'C.Baseline only signal', 'D.Nether signaled')))\n",
        "\n",
        "col_names = ['syn_and_crit_0.10','syn_and_crit_0.15','syn_and_trust_0.10','syn_and_trust_0.15']"
      ],
      "metadata": {
        "id": "FI14ge-TWMqJ"
      },
      "execution_count": null,
      "outputs": []
    },
    {
      "cell_type": "code",
      "source": [
        "loss_t        = np.sum(signaled_idx.Loss)\n",
        "for idx,name in enumerate(col_names):    \n",
        "  tmp_df = pd.pivot_table(signaled_idx, values='Loss', index=name, aggfunc=np.sum)  \n",
        "  tmp_df = round(100*(tmp_df/loss_t),2)\n",
        "  tmp_df = pd.DataFrame(pd.concat([pd.DataFrame({'Index': tmp_df.index.tolist()}),pd.DataFrame({tmp_df.index.name: tmp_df.Loss.tolist()})],axis=1))\n",
        "  if idx == 0:\n",
        "    results_loss = tmp_df\n",
        "  else:\n",
        "    results_loss= pd.merge(results_loss,tmp_df,on='Index',how='left')\n",
        "results_loss"
      ],
      "metadata": {
        "id": "WcEZf9jeWPL1",
        "outputId": "a618cec8-81df-4a1c-bb4b-dd9a52c4a0da",
        "colab": {
          "base_uri": "https://localhost:8080/",
          "height": 173
        }
      },
      "execution_count": null,
      "outputs": [
        {
          "output_type": "execute_result",
          "data": {
            "text/html": [
              "<div>\n",
              "<style scoped>\n",
              "    .dataframe tbody tr th:only-of-type {\n",
              "        vertical-align: middle;\n",
              "    }\n",
              "\n",
              "    .dataframe tbody tr th {\n",
              "        vertical-align: top;\n",
              "    }\n",
              "\n",
              "    .dataframe thead th {\n",
              "        text-align: right;\n",
              "    }\n",
              "</style>\n",
              "<table border=\"1\" class=\"dataframe\">\n",
              "  <thead>\n",
              "    <tr style=\"text-align: right;\">\n",
              "      <th></th>\n",
              "      <th>Index</th>\n",
              "      <th>syn_and_crit_0.10</th>\n",
              "      <th>syn_and_crit_0.15</th>\n",
              "      <th>syn_and_trust_0.10</th>\n",
              "      <th>syn_and_trust_0.15</th>\n",
              "    </tr>\n",
              "  </thead>\n",
              "  <tbody>\n",
              "    <tr>\n",
              "      <th>0</th>\n",
              "      <td>A.Both signaled</td>\n",
              "      <td>0.33</td>\n",
              "      <td>0.99</td>\n",
              "      <td>1.97</td>\n",
              "      <td>2.30</td>\n",
              "    </tr>\n",
              "    <tr>\n",
              "      <th>1</th>\n",
              "      <td>B.Synergistic only signal</td>\n",
              "      <td>2.96</td>\n",
              "      <td>2.30</td>\n",
              "      <td>1.32</td>\n",
              "      <td>0.99</td>\n",
              "    </tr>\n",
              "    <tr>\n",
              "      <th>2</th>\n",
              "      <td>C.Baseline only signal</td>\n",
              "      <td>41.12</td>\n",
              "      <td>50.66</td>\n",
              "      <td>39.14</td>\n",
              "      <td>52.30</td>\n",
              "    </tr>\n",
              "    <tr>\n",
              "      <th>3</th>\n",
              "      <td>D.Nether signaled</td>\n",
              "      <td>55.59</td>\n",
              "      <td>46.05</td>\n",
              "      <td>57.57</td>\n",
              "      <td>44.41</td>\n",
              "    </tr>\n",
              "  </tbody>\n",
              "</table>\n",
              "</div>"
            ],
            "text/plain": [
              "                       Index  ...  syn_and_trust_0.15\n",
              "0            A.Both signaled  ...                2.30\n",
              "1  B.Synergistic only signal  ...                0.99\n",
              "2     C.Baseline only signal  ...               52.30\n",
              "3          D.Nether signaled  ...               44.41\n",
              "\n",
              "[4 rows x 5 columns]"
            ]
          },
          "metadata": {},
          "execution_count": 19
        }
      ]
    },
    {
      "cell_type": "markdown",
      "source": [
        "# Output visualization"
      ],
      "metadata": {
        "id": "UF3kQfMRWaSP"
      }
    },
    {
      "cell_type": "code",
      "metadata": {
        "id": "mj6x1QVqcRgO",
        "colab": {
          "base_uri": "https://localhost:8080/"
        },
        "outputId": "0cea5049-21ac-4009-be2a-687a41fd2553"
      },
      "source": [
        "rho = 0.15\n",
        "X_test_best = X_test_best.squeeze()\n",
        "rule = table_best.loc[table_best.rho_user == rho]['rule'].to_numpy()\n",
        "eta = table_best.loc[table_best.rho_user == rho]['eta'].to_numpy()[0]\n",
        "theta = crit_table_best.loc[crit_table_best.rho_user == rho]['thresh'].to_numpy()[0]\n",
        "f_test = exp_best.gpr_mean_test+rule*np.sqrt(exp_best.gpr_var_test)\n",
        "top_n = 5 # Top n selected instances in test set\n",
        "top_f_idx = np.argpartition(f_test, -top_n)[-top_n:]\n",
        "top_f_idx = top_f_idx[np.argsort(f_test[top_f_idx])[::-1]]# Added\n",
        "# p_test = np.concatenate((y_test_pred_soft_best,1-y_test_pred_soft_best),axis=1)\n",
        "crit_test = entropy(y_test_pred_soft_best, axis=1, base=10)\n",
        "top_crit_idx = np.argpartition(crit_test, -top_n)[-top_n:]\n",
        "top_crit_idx = top_crit_idx[np.argsort(crit_test[top_crit_idx])[::-1]]# Added\n",
        "\n",
        "output_text = io.StringIO()\n",
        "print('eta={:.3f},theta={:.3f}'.format(eta,theta))"
      ],
      "execution_count": null,
      "outputs": [
        {
          "output_type": "stream",
          "name": "stdout",
          "text": [
            "eta=0.122,theta=0.384\n"
          ]
        }
      ]
    },
    {
      "cell_type": "code",
      "metadata": {
        "id": "dynkxBz36TLN"
      },
      "source": [
        "roc_f = metrics.roc_auc_score(exp_best.L_test, f_test)\n",
        "roc_crit = metrics.roc_auc_score(exp_best.L_test, crit_test)"
      ],
      "execution_count": null,
      "outputs": []
    },
    {
      "cell_type": "code",
      "metadata": {
        "id": "PJlMUtf_wTWa",
        "colab": {
          "base_uri": "https://localhost:8080/",
          "height": 652
        },
        "outputId": "c21ad973-1c6e-492f-c070-3cb00e80e56d"
      },
      "source": [
        "# Plot selected instances\n",
        "# initialize the label \n",
        "labelNames = [\"top\", \"trouser\", \"pullover\", \"dress\", \"coat\",\n",
        "\t\"sandal\", \"shirt\", \"sneaker\", \"bag\", \"ankle boot\"]\n",
        "# X_test_best = X_test.reshape(-1,28,28)\n",
        "# y_hat_best = y_test_pred_th[top_f_idx]\n",
        "# y_th_best = np.argmax(y_test[top_f_idx], axis=1)\n",
        "# Plot instances\n",
        "row,col = 2,top_n\n",
        "fig1, ax = plt.subplots(row, col, figsize=(6.0, 3.5), constrained_layout=True, dpi=120)\n",
        "# fig1.subplots_adjust(wspace=-0.1, hspace=0.25, top=0.45)\n",
        "# for i in top_f_idx:\n",
        "j = 0\n",
        "for i,k in zip(top_f_idx, top_crit_idx):\n",
        "    if np.argmax(y_test_best, axis=1)[i] != y_test_pred_th_best[i]:\n",
        "        color = 'red'\n",
        "    else:\n",
        "        color = 'green'\n",
        "    # ax = fig1.add_subplot(3, 4, j+1)\n",
        "    ax[0][j].imshow(X_test_best[i, :, :], cmap='gray', interpolation='none')\n",
        "    ax[0][j].set_title(r'$y=${s1}'.format(s1=labelNames[np.argmax(y_test_best, axis=1)[i]])+',\\n'+\\\n",
        "                    r'$\\hat{{y}}=${s2}'.format(s2=labelNames[y_test_pred_th_best[i]]), color=color, fontsize=13)\n",
        "    ax[0][j].set_xlabel(r\"$g(x)=${:.2f}\".format(crit_test[i])+'\\n$f(x)=${:.2f}'.format(f_test[i]), fontsize=13)\n",
        "    ax[0][j].set_xticks([])\n",
        "    ax[0][j].set_yticks([])\n",
        "\n",
        "    if np.argmax(y_test_best, axis=1)[k] != y_test_pred_th_best[k]:\n",
        "        color = 'red'\n",
        "    else:\n",
        "        color = 'green'\n",
        "    # ax = fig1.add_subplot(3, 4, j+1)\n",
        "    ax[1][j].imshow(X_test_best[k, :, :], cmap='gray', interpolation='none')\n",
        "    ax[1][j].set_title(r'$y=${s1}'.format(s1=labelNames[np.argmax(y_test_best, axis=1)[k]])+',\\n'+\\\n",
        "                    r'$\\hat{{y}}=${s2}'.format(s2=labelNames[y_test_pred_th_best[k]]), color=color, fontsize=13)\n",
        "    ax[1][j].set_xlabel(r\"$g(x)=${:.2f}\".format(crit_test[k])+'\\n$f(x)=${:.2f}'.format(f_test[k]), fontsize=13)\n",
        "    ax[1][j].set_xticks([])\n",
        "    ax[1][j].set_yticks([])\n",
        "    j = j + 1\n",
        "fig1.set_constrained_layout_pads(w_pad=0, h_pad=0, hspace=0.01, wspace=-.5)\n",
        "ax[0][0].set_ylabel(r\"$f(x)>\\eta$\"+\"\\n\"+r\"$(AUC={:.2f})$\".format(roc_f), fontsize=13)\n",
        "# ax[0][0].set_ylabel(r\"$f(x)>\\eta$\", fontsize=14)\n",
        "ax[1][0].set_ylabel(r\"$g(x)>\\theta$\"+\"\\n\"+r\"$(AUC={:.2f})$\".format(roc_crit), fontsize=13)\n",
        "# ax[1][0].set_ylabel(r\"$g(x)>\\theta$\", fontsize=14)\n",
        "# fig1.text(0.5, 0.01, r'$\\rho={},~|f(x)>\\eta|={},~|g(x)>\\theta|={}$'.format(rho,np.sum(f_test>eta),np.sum(crit_test>theta)), ha='center', fontsize = 12)\n",
        "# plt.suptitle(r'Top {} selected instances'.format(top_n), fontsize=15)\n",
        "# plt.tight_layout()\n",
        "path_fig_fxgx_test = \"drive/My Drive/NIPS2020/results/fashionMNIST/fig_fxgx_test_{clf}_yhat{yhat}_pca{pca}.svg\".format(clf=clf, pca=applyPCA, yhat=addPredictions)\n",
        "plt.savefig(path_fig_fxgx_test, bbox_inches='tight', facecolor='w')"
      ],
      "execution_count": null,
      "outputs": [
        {
          "output_type": "error",
          "ename": "NameError",
          "evalue": "ignored",
          "traceback": [
            "\u001b[0;31m---------------------------------------------------------------------------\u001b[0m",
            "\u001b[0;31mNameError\u001b[0m                                 Traceback (most recent call last)",
            "\u001b[0;32m<ipython-input-22-ce9e9cfd5726>\u001b[0m in \u001b[0;36m<module>\u001b[0;34m()\u001b[0m\n\u001b[1;32m     43\u001b[0m \u001b[0;31m# plt.suptitle(r'Top {} selected instances'.format(top_n), fontsize=15)\u001b[0m\u001b[0;34m\u001b[0m\u001b[0;34m\u001b[0m\u001b[0;34m\u001b[0m\u001b[0m\n\u001b[1;32m     44\u001b[0m \u001b[0;31m# plt.tight_layout()\u001b[0m\u001b[0;34m\u001b[0m\u001b[0;34m\u001b[0m\u001b[0;34m\u001b[0m\u001b[0m\n\u001b[0;32m---> 45\u001b[0;31m \u001b[0mpath_fig_fxgx_test\u001b[0m \u001b[0;34m=\u001b[0m \u001b[0;34m\"drive/My Drive/NIPS2020/results/fashionMNIST/fig_fxgx_test_{clf}_yhat{yhat}_pca{pca}.svg\"\u001b[0m\u001b[0;34m.\u001b[0m\u001b[0mformat\u001b[0m\u001b[0;34m(\u001b[0m\u001b[0mclf\u001b[0m\u001b[0;34m=\u001b[0m\u001b[0mclf\u001b[0m\u001b[0;34m,\u001b[0m \u001b[0mpca\u001b[0m\u001b[0;34m=\u001b[0m\u001b[0mapplyPCA\u001b[0m\u001b[0;34m,\u001b[0m \u001b[0myhat\u001b[0m\u001b[0;34m=\u001b[0m\u001b[0maddPredictions\u001b[0m\u001b[0;34m)\u001b[0m\u001b[0;34m\u001b[0m\u001b[0;34m\u001b[0m\u001b[0m\n\u001b[0m\u001b[1;32m     46\u001b[0m \u001b[0mplt\u001b[0m\u001b[0;34m.\u001b[0m\u001b[0msavefig\u001b[0m\u001b[0;34m(\u001b[0m\u001b[0mpath_fig_fxgx_test\u001b[0m\u001b[0;34m,\u001b[0m \u001b[0mbbox_inches\u001b[0m\u001b[0;34m=\u001b[0m\u001b[0;34m'tight'\u001b[0m\u001b[0;34m,\u001b[0m \u001b[0mfacecolor\u001b[0m\u001b[0;34m=\u001b[0m\u001b[0;34m'w'\u001b[0m\u001b[0;34m)\u001b[0m\u001b[0;34m\u001b[0m\u001b[0;34m\u001b[0m\u001b[0m\n",
            "\u001b[0;31mNameError\u001b[0m: name 'applyPCA' is not defined"
          ]
        },
        {
          "output_type": "display_data",
          "data": {
            "image/png": "[encoded data removed]",
            "text/plain": [
              "<Figure size 720x420 with 10 Axes>"
            ]
          },
          "metadata": {}
        }
      ]
    }
  ]
}