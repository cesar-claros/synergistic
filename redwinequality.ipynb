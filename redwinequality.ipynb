{
  "nbformat": 4,
  "nbformat_minor": 0,
  "metadata": {
    "anaconda-cloud": {},
    "kernelspec": {
      "display_name": "Python 3",
      "language": "python",
      "name": "python3"
    },
    "language_info": {
      "codemirror_mode": {
        "name": "ipython",
        "version": 3
      },
      "file_extension": ".py",
      "mimetype": "text/x-python",
      "name": "python",
      "nbconvert_exporter": "python",
      "pygments_lexer": "ipython3",
      "version": "3.6.1"
    },
    "colab": {
      "name": "redwinequality.ipynb",
      "provenance": [],
      "collapsed_sections": [],
      "include_colab_link": true
    },
    "accelerator": "GPU"
  },
  "cells": [
    {
      "cell_type": "markdown",
      "metadata": {
        "id": "view-in-github",
        "colab_type": "text"
      },
      "source": [
        "<a href=\"https://colab.research.google.com/github/cesar-claros/synergistic/blob/SocialAds/redwinequality.ipynb\" target=\"_parent\"><img src=\"https://colab.research.google.com/assets/colab-badge.svg\" alt=\"Open In Colab\"/></a>"
      ]
    },
    {
      "cell_type": "code",
      "metadata": {
        "id": "iRCkuTVcGMHA",
        "colab": {
          "base_uri": "https://localhost:8080/"
        },
        "outputId": "d0882f5a-032e-4435-8dbc-eff96fc1cfd5"
      },
      "source": [
        "! git clone https://github.com/cesar-claros/synergistic\n",
        "% cd synergistic/"
      ],
      "execution_count": 1,
      "outputs": [
        {
          "output_type": "stream",
          "name": "stdout",
          "text": [
            "Cloning into 'synergistic'...\n",
            "remote: Enumerating objects: 298, done.\u001b[K\n",
            "remote: Counting objects: 100% (298/298), done.\u001b[K\n",
            "remote: Compressing objects: 100% (279/279), done.\u001b[K\n",
            "remote: Total 298 (delta 138), reused 49 (delta 16), pack-reused 0\u001b[K\n",
            "Receiving objects: 100% (298/298), 20.77 MiB | 9.16 MiB/s, done.\n",
            "Resolving deltas: 100% (138/138), done.\n",
            "/content/synergistic\n"
          ]
        }
      ]
    },
    {
      "cell_type": "code",
      "metadata": {
        "id": "cDjK9jQGhIk7",
        "colab": {
          "base_uri": "https://localhost:8080/"
        },
        "outputId": "b5080699-6638-484a-b722-b07e4173a91a"
      },
      "source": [
        "#%%\n",
        "# Command line instalation\n",
        "# ---------------------------\n",
        "# ! pip install torch\n",
        "! pip install gpytorch\n",
        "\n",
        "# Imports\n",
        "# ---------------------------\n",
        "import io #Used as buffer\n",
        "import sys\n",
        "import matplotlib\n",
        "import numpy as np\n",
        "import pandas as pd\n",
        "import matplotlib.pyplot as plt\n",
        "import math\n",
        "import auxfunc.funcs as sgn\n",
        "import auxfunc.trustscore as trs\n",
        "import seaborn as sns\n",
        "import torch\n",
        "import tensorflow as tf\n",
        "from scipy.stats import entropy, spearmanr\n",
        "from sklearn import model_selection, svm, ensemble, linear_model, pipeline, decomposition,\\\n",
        "     tree, neighbors, discriminant_analysis, gaussian_process, preprocessing\n",
        "from sklearn.gaussian_process.kernels import ConstantKernel, RBF, Matern\n",
        "import os\n",
        "import random"
      ],
      "execution_count": 2,
      "outputs": [
        {
          "output_type": "stream",
          "name": "stdout",
          "text": [
            "Collecting gpytorch\n",
            "  Downloading gpytorch-1.6.0.tar.gz (310 kB)\n",
            "\u001b[?25l\r\u001b[K     |█                               | 10 kB 20.2 MB/s eta 0:00:01\r\u001b[K     |██                              | 20 kB 6.7 MB/s eta 0:00:01\r\u001b[K     |███▏                            | 30 kB 4.7 MB/s eta 0:00:01\r\u001b[K     |████▏                           | 40 kB 4.5 MB/s eta 0:00:01\r\u001b[K     |█████▎                          | 51 kB 2.2 MB/s eta 0:00:01\r\u001b[K     |██████▎                         | 61 kB 2.4 MB/s eta 0:00:01\r\u001b[K     |███████▍                        | 71 kB 2.5 MB/s eta 0:00:01\r\u001b[K     |████████▍                       | 81 kB 2.8 MB/s eta 0:00:01\r\u001b[K     |█████████▌                      | 92 kB 3.0 MB/s eta 0:00:01\r\u001b[K     |██████████▌                     | 102 kB 2.3 MB/s eta 0:00:01\r\u001b[K     |███████████▋                    | 112 kB 2.3 MB/s eta 0:00:01\r\u001b[K     |████████████▋                   | 122 kB 2.3 MB/s eta 0:00:01\r\u001b[K     |█████████████▊                  | 133 kB 2.3 MB/s eta 0:00:01\r\u001b[K     |██████████████▊                 | 143 kB 2.3 MB/s eta 0:00:01\r\u001b[K     |███████████████▉                | 153 kB 2.3 MB/s eta 0:00:01\r\u001b[K     |████████████████▉               | 163 kB 2.3 MB/s eta 0:00:01\r\u001b[K     |██████████████████              | 174 kB 2.3 MB/s eta 0:00:01\r\u001b[K     |███████████████████             | 184 kB 2.3 MB/s eta 0:00:01\r\u001b[K     |████████████████████            | 194 kB 2.3 MB/s eta 0:00:01\r\u001b[K     |█████████████████████           | 204 kB 2.3 MB/s eta 0:00:01\r\u001b[K     |██████████████████████▏         | 215 kB 2.3 MB/s eta 0:00:01\r\u001b[K     |███████████████████████▏        | 225 kB 2.3 MB/s eta 0:00:01\r\u001b[K     |████████████████████████▎       | 235 kB 2.3 MB/s eta 0:00:01\r\u001b[K     |█████████████████████████▎      | 245 kB 2.3 MB/s eta 0:00:01\r\u001b[K     |██████████████████████████▍     | 256 kB 2.3 MB/s eta 0:00:01\r\u001b[K     |███████████████████████████▍    | 266 kB 2.3 MB/s eta 0:00:01\r\u001b[K     |████████████████████████████▌   | 276 kB 2.3 MB/s eta 0:00:01\r\u001b[K     |█████████████████████████████▌  | 286 kB 2.3 MB/s eta 0:00:01\r\u001b[K     |██████████████████████████████▋ | 296 kB 2.3 MB/s eta 0:00:01\r\u001b[K     |███████████████████████████████▋| 307 kB 2.3 MB/s eta 0:00:01\r\u001b[K     |████████████████████████████████| 310 kB 2.3 MB/s \n",
            "\u001b[?25hBuilding wheels for collected packages: gpytorch\n",
            "  Building wheel for gpytorch (setup.py) ... \u001b[?25l\u001b[?25hdone\n",
            "  Created wheel for gpytorch: filename=gpytorch-1.6.0-py2.py3-none-any.whl size=509894 sha256=7f42504d0b9575d1f7c5bf63acb6a912bc3a6cc7315120a72affa87055142d4d\n",
            "  Stored in directory: /root/.cache/pip/wheels/66/b5/89/34c06ad393a6feb72b4cdde46d0f1c667f3e2632960f9df109\n",
            "Successfully built gpytorch\n",
            "Installing collected packages: gpytorch\n",
            "Successfully installed gpytorch-1.6.0\n"
          ]
        }
      ]
    },
    {
      "cell_type": "code",
      "metadata": {
        "id": "l9Ncr8vaIMUt"
      },
      "source": [
        "#%%\n",
        "# MODELS\n",
        "# ====================\n",
        "# Grid search for parameters and classifiers\n",
        "\n",
        "models = { \n",
        "        'predictor':\n",
        "            [\n",
        "            svm.SVC(),\n",
        "            gaussian_process.GaussianProcessClassifier(),\n",
        "            linear_model.LinearRegression(),\n",
        "            linear_model.Lasso(),\n",
        "            svm.SVR()],\n",
        "        'name':\n",
        "            [\n",
        "            'SVM',\n",
        "            'GPClassifier',\n",
        "            'LinReg',\n",
        "            'Lasso',\n",
        "            'SVR']}\n",
        "parameters = [\n",
        "            {'SVM__kernel':['poly'],'SVM__degree':[3,4,5]},\n",
        "            {'GPClassifier__kernel':[]},\n",
        "            {},\n",
        "            {'Lasso__alpha':np.linspace(0.01,1,10)},\n",
        "            {'SVR__kernel':['linear'], 'SVR__C':np.logspace(-1, 1, 10), 'SVR__epsilon':np.logspace(-2, 2, 10)} ]"
      ],
      "execution_count": 3,
      "outputs": []
    },
    {
      "cell_type": "code",
      "metadata": {
        "id": "P5kgx4mqidzz"
      },
      "source": [
        "#%%\n",
        "# Signaling function fitting and evaluation\n",
        "def signalingFunction(X_train, y_train, y_train_pred_th, X_val, y_val, y_val_pred_th, X_test, y_test, y_test_pred_th, kernel='exponential', norm='l01'):\n",
        "    # X_train, X_val should be scaled\n",
        "    # Fit signaling function \n",
        "    exp = sgn.signaling(norm=norm) # idx = [train,test,val]\n",
        "    exp.fit(X_train, y_train, y_train_pred_th, kernel=kernel, n_iter=500, lr=0.01)\n",
        "    table_val = exp.evaluate(X_val, y_val, y_val_pred_th, rule_grid=np.linspace(0,3,30, endpoint=False), rho_grid=[0.1, 0.15])\n",
        "    table_test = exp.test(X_test, y_test, y_test_pred_th, table_val['rule'].to_numpy(), table_val['eta'].to_numpy())\n",
        "    table = pd.concat([table_val,table_test],axis=1)\n",
        "    return table, exp"
      ],
      "execution_count": 4,
      "outputs": []
    },
    {
      "cell_type": "code",
      "metadata": {
        "id": "T_2y7G-HiujE"
      },
      "source": [
        "#%%\n",
        "# Initialize model\n",
        "def init_model(input_dim, models, parameters, clf_name):\n",
        "    i = np.nonzero(np.array(models['name'])==clf_name)[0].squeeze()\n",
        "      \n",
        "    scaler = preprocessing.StandardScaler()\n",
        "    steps = [('scaler', scaler), (models['name'][i], models['predictor'][i])]\n",
        "    ppline = pipeline.Pipeline(steps) # define the pipeline object.\n",
        "\n",
        "    clf = model_selection.GridSearchCV(ppline, param_grid=parameters[i], cv=5)\n",
        "    return clf"
      ],
      "execution_count": 5,
      "outputs": []
    },
    {
      "cell_type": "code",
      "metadata": {
        "id": "rYgvy9cRs1m1"
      },
      "source": [
        "#%%\n",
        "# Soft and thresholded output predictions\n",
        "def pred_output(model, X):\n",
        "    if hasattr(model, \"decision_function\"):\n",
        "      y_pred_soft = model.best_estimator_.decision_function(X)[:,None]\n",
        "    elif hasattr(model, \"predict_proba\"):\n",
        "      y_pred_soft = model.best_estimator_.predict_proba(X)\n",
        "    else:\n",
        "      y_pred_soft = model.best_estimator_.predict(X)[:,None]\n",
        "    y_pred_th = model.best_estimator_.predict(X) \n",
        "    return y_pred_soft, y_pred_th"
      ],
      "execution_count": 6,
      "outputs": []
    },
    {
      "cell_type": "code",
      "metadata": {
        "id": "ZPco9Y0aHUpL"
      },
      "source": [
        "#%%\n",
        "# Jaccard similarity index\n",
        "def jaccard_similarity(list1, list2):\n",
        "    s1 = set(list1)\n",
        "    s2 = set(list2)\n",
        "    return len(s1.intersection(s2)) / len(s1.union(s2))"
      ],
      "execution_count": null,
      "outputs": []
    },
    {
      "cell_type": "code",
      "metadata": {
        "id": "dHrKyMLGq_Is"
      },
      "source": [
        "#%%\n",
        "# Baseline comparison\n",
        "def baselineCriteria(y_val, y_val_pred_soft, y_val_pred_th, y_test, y_test_pred_soft, y_test_pred_th, table, exp, clf):\n",
        "      if clf=='svm':\n",
        "          direction = 'closer'\n",
        "          crit_val = np.abs(y_val_pred_soft.ravel())\n",
        "          crit_test = np.abs(y_test_pred_soft.ravel())\n",
        "      else:\n",
        "          direction = 'further'\n",
        "          p_val = np.concatenate((y_val_pred_soft,1-y_val_pred_soft),axis=1)\n",
        "          crit_val = entropy(p_val, axis=1, base=2)\n",
        "          p_test = np.concatenate((y_test_pred_soft,1-y_test_pred_soft),axis=1)\n",
        "          crit_test = entropy(p_test, axis=1, base=2)\n",
        "      \n",
        "      critFunc = sgn.critEvaluation(norm='l01',direction=direction)\n",
        "      d_val = critFunc.evaluate(y_val, y_val_pred_th, crit_val)\n",
        "      d_test = critFunc.test(y_test, y_test_pred_th, crit_test, d_val['thresh'].to_numpy())\n",
        "      crit_table = pd.concat([d_val,d_test],axis=1)\n",
        "\n",
        "      gamma = table['rule'].to_numpy().reshape(-1,1)\n",
        "      f_test = exp.gpr_mean_test + gamma*np.sqrt(exp.gpr_var_test)\n",
        "      eta = table['eta'].to_numpy().reshape(-1,1)\n",
        "      theta = crit_table['thresh'].to_numpy().reshape(-1,1)\n",
        "      if direction == 'closer':\n",
        "        f_mask, f_idx = np.nonzero(f_test>eta)\n",
        "      else:\n",
        "        f_mask, f_idx = np.nonzero(f_test<eta)\n",
        "      crit_mask, crit_idx = np.nonzero(crit_test.reshape(1,-1)<theta)\n",
        "      print(list(np.unique(f_mask)))\n",
        "      print(list(np.unique(crit_mask)))\n",
        "      print(f_test.shape[0])\n",
        "      shared = set(list(np.unique(f_mask))).intersection(set(list(np.unique(crit_mask))))\n",
        "      J = [jaccard_similarity(crit_idx[crit_mask==i],f_idx[f_mask==i]) if i in shared else np.nan for i in range(f_test.shape[0])]\n",
        "      # if (list(np.unique(f_mask))==list(np.unique(crit_mask))):\n",
        "      #   J = [jaccard_similarity(crit_idx[crit_mask==i],f_idx[f_mask==i]) for i in np.unique(f_mask)]\n",
        "      # else:\n",
        "      #   shared = set(a).intersection(set(b))\n",
        "      #   union = set(a).union(set(b))\n",
        "      #   J = [jaccard_similarity(crit_idx[crit_mask==i],f_idx[f_mask==i]) if i in shared else np.nan  for i in union]\n",
        "      crit_table['jaccard']=J\n",
        "      Sp = [spearmanr(f_test[i,:],crit_test)[0] for i in range(f_test.shape[0])]\n",
        "      crit_table['spearman'] = Sp\n",
        "      crit_table['gamma'] = gamma\n",
        "      return crit_table"
      ],
      "execution_count": null,
      "outputs": []
    },
    {
      "cell_type": "code",
      "metadata": {
        "id": "NgYak1INQS7t",
        "colab": {
          "base_uri": "https://localhost:8080/"
        },
        "outputId": "65fe011c-c771-45ed-d74e-4515749249f2"
      },
      "source": [
        "# INITIALIZATION\n",
        "# ==============\n",
        "# EXPERIMENT SETUP\n",
        "# ================\n",
        "# Load data\n",
        "# -------------\n",
        "wine = pd.read_csv(\"datasets/winequality-red.csv\",sep=';')\n",
        "Data_X = wine.drop('quality',axis = 1)\n",
        "Data_y = wine.quality\n",
        "Data_X = Data_X.to_numpy()\n",
        "Data_y_ns = Data_y.to_numpy() # not shifted Y labels\n",
        "Data_y = Data_y_ns-Data_y_ns.min() # shifted labels\n",
        "n_cat_set  = np.unique(Data_y, return_counts=False)\n",
        "n_cat  = n_cat_set.size\n",
        "# For reproducibility\n",
        "tf.random.set_seed(54321)\n",
        "np.random.seed(12345)\n",
        "torch.manual_seed(0)\n",
        "#%%"
      ],
      "execution_count": 7,
      "outputs": [
        {
          "output_type": "execute_result",
          "data": {
            "text/plain": [
              "<torch._C.Generator at 0x7f5a13e7fcf0>"
            ]
          },
          "metadata": {},
          "execution_count": 7
        }
      ]
    },
    {
      "cell_type": "code",
      "metadata": {
        "id": "ZRWPIuqwRLoD",
        "colab": {
          "base_uri": "https://localhost:8080/"
        },
        "outputId": "12f3a8ab-dc5d-4ad6-e5c2-969249bf6964"
      },
      "source": [
        "# Assign labels\n",
        "report_table = []\n",
        "report_criteria = []\n",
        "kf = model_selection.KFold(n_splits=5, shuffle=True, random_state=123)\n",
        "clf = 'SVR'\n",
        "addPredictions = True\n",
        "applyPCA = True\n",
        "accuracy = 0\n",
        "for sample, test in kf.split(Data_X):\n",
        "    X = Data_X[sample]\n",
        "    y = Data_y[sample]\n",
        "    X_train, X_val, y_train, y_val = model_selection.train_test_split(X, y, test_size=0.20, random_state=123)\n",
        "    X_test = Data_X[test]\n",
        "    y_test = Data_y[test]\n",
        "\n",
        "    # TRAINING MODEL\n",
        "    model = init_model(input_dim=X.shape[1], models=models, parameters=parameters, clf_name=clf)\n",
        "    model.fit(X_train, y_train)\n",
        "\n",
        "    y_train_pred_soft, y_train_pred_th = pred_output(model, X_train)\n",
        "    # print('accuracy(Train)={}'.format(np.sum(y_train==y_train_pred_th)/np.size(y_train)))\n",
        "    y_val_pred_soft, y_val_pred_th = pred_output(model, X_val)\n",
        "    y_test_pred_soft, y_test_pred_th = pred_output(model, X_test)\n",
        "\n",
        "    X_train_GP = X_train\n",
        "    X_val_GP = X_val\n",
        "    X_test_GP = X_test\n",
        "\n",
        "    if addPredictions:\n",
        "          # Add predictions\n",
        "          X_train_GP = np.concatenate((X_train, y_train_pred_soft), axis=1)\n",
        "          X_val_GP = np.concatenate((X_val, y_val_pred_soft), axis=1)\n",
        "          X_test_GP = np.concatenate((X_test, y_test_pred_soft), axis=1)\n",
        "\n",
        "    scaleX_GP = preprocessing.StandardScaler().fit(np.concatenate((X_train_GP, X_val_GP), axis=0))\n",
        "    X_train_GP = scaleX_GP.transform(X_train_GP)\n",
        "    X_val_GP = scaleX_GP.transform(X_val_GP)\n",
        "    X_test_GP = scaleX_GP.transform(X_test_GP)\n",
        "\n",
        "    if applyPCA:\n",
        "          pca_GP = decomposition.PCA(.99).fit(np.concatenate((X_train_GP, X_val_GP), axis=0)) # set percentage of energy preserved by PCA\n",
        "          # Apply PCA transform to all sets\n",
        "          X_train_GP = pca_GP.transform(X_train_GP)\n",
        "          X_val_GP = pca_GP.transform(X_val_GP)\n",
        "          X_test_GP = pca_GP.transform(X_test_GP)\n",
        "    \n",
        "    table, exp = signalingFunction(X_train_GP, y_train, y_train_pred_th, X_val_GP,\\\n",
        "                                   y_val, y_val_pred_th, X_test_GP, y_test, y_test_pred_th,\\\n",
        "                                   kernel='RBF', norm='labs')\n",
        "    report_table.append(table)\n",
        "\n",
        "    # Trust Score fitted on train data to evaluate loss reduction on val-test data\n",
        "    trust_model = trs.TrustScore()\n",
        "    trust_model.fit(X=X_train_GP,Y=y_train,classes=n_cat)\n",
        "    trust_val,class_val   = trust_model.score(X_val_GP, y_val_pred_th.round().astype(int)) # y_val_pred_th\n",
        "    trust_test,class_test = trust_model.score(X_test_GP, y_test_pred_th.round().astype(int)) # y_test_pred_th\n",
        "    \n",
        "    # # Baseline for comparison\n",
        "    # crit_table = baselineCriteria(y_val, y_val_pred_soft, y_val_pred_th, y_test, y_test_pred_soft, y_test_pred_th, table, exp, clf)\n",
        "    # report_criteria.append(crit_table)\n",
        "\n",
        "    # if accuracy < model.best_estimator_.score(X_val,y_val):\n",
        "    #     accuracy = model.best_estimator_.score(X_val,y_val)\n",
        "    #     classifier = model.best_estimator_\n",
        "    #     X_test_surface_plot = X_test\n",
        "    #     y_test_surface_plot = y_test\n",
        "    #     X_train_surface_plot = X_train\n",
        "    #     y_train_surface_plot = y_train\n",
        "    #     X_val_surface_plot = X_val\n",
        "    #     y_val_surface_plot = y_val\n",
        "    #     scaler_surface_plot = scaleX_GP\n",
        "    #     exp_surface_plot = exp\n",
        "    #     table_surface_plot = table\n",
        "\n",
        "    del(model)\n"
      ],
      "execution_count": 21,
      "outputs": [
        {
          "output_type": "stream",
          "name": "stdout",
          "text": [
            "initializing cuda...\n",
            "lr=0.01, n_iterations=500\n",
            "Iter 491/500 - Loss: 0.493  noise: 0.099\n",
            "Iter 492/500 - Loss: 0.502  noise: 0.099\n",
            "Iter 493/500 - Loss: 0.503  noise: 0.099\n",
            "Iter 494/500 - Loss: 0.490  noise: 0.099\n",
            "Iter 495/500 - Loss: 0.495  noise: 0.099\n",
            "Iter 496/500 - Loss: 0.498  noise: 0.099\n",
            "Iter 497/500 - Loss: 0.490  noise: 0.098\n",
            "Iter 498/500 - Loss: 0.489  noise: 0.098\n",
            "Iter 499/500 - Loss: 0.493  noise: 0.098\n",
            "Iter 500/500 - Loss: 0.497  noise: 0.098\n",
            "evaluating with cuda...\n",
            "evaluating with cuda...\n",
            "initializing cuda...\n",
            "lr=0.01, n_iterations=500\n",
            "Iter 491/500 - Loss: 0.494  noise: 0.101\n",
            "Iter 492/500 - Loss: 0.495  noise: 0.101\n",
            "Iter 493/500 - Loss: 0.498  noise: 0.101\n",
            "Iter 494/500 - Loss: 0.495  noise: 0.101\n",
            "Iter 495/500 - Loss: 0.487  noise: 0.101\n",
            "Iter 496/500 - Loss: 0.497  noise: 0.101\n",
            "Iter 497/500 - Loss: 0.496  noise: 0.100\n",
            "Iter 498/500 - Loss: 0.493  noise: 0.100\n",
            "Iter 499/500 - Loss: 0.496  noise: 0.100\n",
            "Iter 500/500 - Loss: 0.497  noise: 0.100\n",
            "evaluating with cuda...\n",
            "evaluating with cuda...\n",
            "initializing cuda...\n",
            "lr=0.01, n_iterations=500\n",
            "Iter 491/500 - Loss: 0.464  noise: 0.104\n",
            "Iter 492/500 - Loss: 0.464  noise: 0.104\n",
            "Iter 493/500 - Loss: 0.467  noise: 0.104\n",
            "Iter 494/500 - Loss: 0.466  noise: 0.104\n",
            "Iter 495/500 - Loss: 0.464  noise: 0.104\n",
            "Iter 496/500 - Loss: 0.472  noise: 0.104\n",
            "Iter 497/500 - Loss: 0.477  noise: 0.104\n",
            "Iter 498/500 - Loss: 0.462  noise: 0.104\n",
            "Iter 499/500 - Loss: 0.470  noise: 0.104\n",
            "Iter 500/500 - Loss: 0.467  noise: 0.104\n",
            "evaluating with cuda...\n",
            "evaluating with cuda...\n",
            "initializing cuda...\n",
            "lr=0.01, n_iterations=500\n",
            "Iter 491/500 - Loss: 0.489  noise: 0.118\n",
            "Iter 492/500 - Loss: 0.488  noise: 0.118\n",
            "Iter 493/500 - Loss: 0.493  noise: 0.118\n",
            "Iter 494/500 - Loss: 0.496  noise: 0.118\n",
            "Iter 495/500 - Loss: 0.489  noise: 0.118\n",
            "Iter 496/500 - Loss: 0.484  noise: 0.118\n",
            "Iter 497/500 - Loss: 0.493  noise: 0.118\n",
            "Iter 498/500 - Loss: 0.497  noise: 0.117\n",
            "Iter 499/500 - Loss: 0.489  noise: 0.117\n",
            "Iter 500/500 - Loss: 0.492  noise: 0.117\n",
            "evaluating with cuda...\n",
            "evaluating with cuda...\n",
            "initializing cuda...\n",
            "lr=0.01, n_iterations=500\n",
            "Iter 491/500 - Loss: 0.502  noise: 0.100\n",
            "Iter 492/500 - Loss: 0.493  noise: 0.099\n",
            "Iter 493/500 - Loss: 0.498  noise: 0.099\n",
            "Iter 494/500 - Loss: 0.509  noise: 0.099\n",
            "Iter 495/500 - Loss: 0.501  noise: 0.099\n",
            "Iter 496/500 - Loss: 0.510  noise: 0.099\n",
            "Iter 497/500 - Loss: 0.499  noise: 0.099\n",
            "Iter 498/500 - Loss: 0.512  noise: 0.099\n",
            "Iter 499/500 - Loss: 0.503  noise: 0.098\n",
            "Iter 500/500 - Loss: 0.511  noise: 0.098\n",
            "evaluating with cuda...\n",
            "evaluating with cuda...\n"
          ]
        }
      ]
    },
    {
      "cell_type": "code",
      "metadata": {
        "id": "o47vhh_haXU9"
      },
      "source": [
        "logs_base_dir = \"runs/\"\n",
        "%tensorboard --logdir {logs_base_dir}"
      ],
      "execution_count": null,
      "outputs": []
    },
    {
      "cell_type": "code",
      "metadata": {
        "id": "Iph2NBAn59EW"
      },
      "source": [
        "##%\n",
        "# Boxplot (loss reduction in test set)\n",
        "report_table_concat = pd.concat(report_table)\n",
        "cols_table = ['p_value','rho_user','%reduction_test']\n",
        "df_boxplot_table = pd.DataFrame(report_table_concat[cols_table])\n",
        "df_boxplot_table['label'] = df_boxplot_table.shape[0]*['$f(x)$']\n",
        "# report_criteria_concat = pd.concat(report_criteria)\n",
        "# columns_crit = ['rho_user','%reduction_test']\n",
        "# df_boxplot_crit = pd.DataFrame(report_criteria_concat[columns_crit])\n",
        "# df_boxplot_crit['label'] = df_boxplot_crit.shape[0]*['$g(x)$']\n",
        "# p-value median\n",
        "p_value_col = df_boxplot_table['p_value'] #Add\n",
        "p_value_by_row_index = df_boxplot_table['p_value'].groupby(df_boxplot_table.index)\n",
        "p_value_median = p_value_by_row_index.median()\n",
        "# Boxplot (jaccard index in test set)\n",
        "# columns_jac = ['rho_user','jaccard']\n",
        "# df_jaccard = pd.DataFrame(report_criteria_concat[columns_jac])\n",
        "# Unfiltered Result dataframes\n",
        "cols_fx = ['rho_user','%reduction_val','budget','%reduction_test']\n",
        "results_fx = pd.DataFrame(report_table_concat[cols_fx])\n",
        "# cols_fxgx = ['rho_user','%reduction_test', 'jaccard']\n",
        "# results_fxgx = pd.concat([df_boxplot_table[cols_fxgx[:2]], df_boxplot_crit[cols_fxgx[1]], df_jaccard[cols_fxgx[2]]], axis=1)\n",
        "# Filter experiments with p_value > 0.05\n",
        "# df_boxplot_crit = df_boxplot_crit.loc[df_boxplot_table['p_value'] <= 0.05]\n",
        "# df_jaccard = df_jaccard.loc[df_boxplot_table['p_value'] <= 0.05]\n",
        "df_boxplot_table = df_boxplot_table.loc[df_boxplot_table['p_value'] <= 0.05]\n",
        "# Boxplot with filtered values only\n",
        "frames = [df_boxplot_table]\n",
        "df = pd.concat(frames)"
      ],
      "execution_count": null,
      "outputs": []
    },
    {
      "cell_type": "code",
      "metadata": {
        "id": "hUAysqka1Rzo"
      },
      "source": [
        "# Avoid plotting when median(p_value)>0.5\n",
        "for i in range(p_value_median.shape[0]):\n",
        "    if p_value_median.iloc[i]>0.05:\n",
        "      df.loc[df.index==i,'%reduction_test'] = np.nan\n",
        "      # df_jaccard.loc[df_jaccard.index==i, 'jaccard'] = np.nan"
      ],
      "execution_count": null,
      "outputs": []
    },
    {
      "cell_type": "code",
      "metadata": {
        "id": "oTcWIjp_ZN6U",
        "colab": {
          "base_uri": "https://localhost:8080/",
          "height": 164
        },
        "outputId": "5777b8b9-4f1b-46ef-ec84-b856caf406e3"
      },
      "source": [
        "# Dataframe for results f(x)\n",
        "results_fx = results_fx.loc[p_value_col <= 0.05].copy()\n",
        "results_fx_by_row_index = results_fx.groupby(results_fx.index)\n",
        "fx_median = results_fx_by_row_index.median()\n",
        "fx_q1 = results_fx_by_row_index.quantile(q=0.25)\n",
        "fx_q3 = results_fx_by_row_index.quantile(q=0.75)\n",
        "# Signaling function statistics (median(q1-q3)) LaTex\n",
        "output_fx = io.StringIO()\n",
        "numRows = fx_median.shape[0]\n",
        "numCols = fx_median.shape[1]\n",
        "output_fx.write(\"results_fx (\\\\rho|%reduction_val|sig_rate|%reduction_test|H0)\\n\")\n",
        "output_fx.write(\"----------\\n\")\n",
        "for i in range(numRows):\n",
        "  row = [r'{:.2f}'.format(val1) if p_value_median[i]>0.05 and j==0 else r'{}' if p_value_median[i]>0.05 and j!=0\\\n",
        "         else r'{:.2f}'.format(val1) if (j==0) else r'{:.2f}({:.2f}-{:.2f})'.format(val1,val2,val3) if (j==2)\\\n",
        "         else r'{:.1f}({:.1f}-{:.1f})'.format(val1,val2,val3) for val1,val2,val3,j in zip(fx_median.iloc[i],fx_q1.iloc[i],fx_q3.iloc[i],range(numCols))]\n",
        "  output_fx.write(\"{{}} & {{}} & %s & {H0} \\\\\\\\\\n\".format(H0=r'$\\surd$' if p_value_median[i]<=0.05 else r'$\\times$')%(\" & \".join(row)))\n",
        "print(output_fx.getvalue())"
      ],
      "execution_count": null,
      "outputs": [
        {
          "output_type": "stream",
          "text": [
            "results_fx (\\rho|%reduction_val|sig_rate|%reduction_test|H0)\n",
            "----------\n",
            "{} & {} & 0.01 & {} & {} & {} & $\\times$ \\\\\n",
            "{} & {} & 0.05 & 8.4(8.2-8.8) & 0.06(0.04-0.08) & 9.2(6.6-12.7) & $\\surd$ \\\\\n",
            "{} & {} & 0.10 & 15.6(15.2-16.4) & 0.11(0.09-0.12) & 15.9(12.8-19.4) & $\\surd$ \\\\\n",
            "{} & {} & 0.15 & 21.3(21.2-21.7) & 0.16(0.13-0.21) & 21.5(18.4-29.8) & $\\surd$ \\\\\n",
            "{} & {} & 0.20 & 27.7(26.4-28.0) & 0.24(0.20-0.25) & 33.0(26.1-34.2) & $\\surd$ \\\\\n",
            "\n"
          ],
          "name": "stdout"
        }
      ]
    },
    {
      "cell_type": "code",
      "metadata": {
        "id": "4nVVPf7G2Gpf"
      },
      "source": [
        "# Dataframe for comparison f(x)-g(x)\n",
        "# results_fxgx_by_row_index = results_fxgx.groupby(results_fxgx.index)\n",
        "# fxgx_median = results_fxgx_by_row_index.median()\n",
        "# fxgx_q1 = results_fxgx_by_row_index.quantile(q=0.25)\n",
        "# fxgx_q3 = results_fxgx_by_row_index.quantile(q=0.75)\n",
        "# # Baseline comparison statistics (median(q1-q3)) LaTex\n",
        "# output_fxgx = io.StringIO()\n",
        "# numRows = fxgx_median.shape[0]\n",
        "# numCols = fxgx_median.shape[1]\n",
        "# output_fxgx.write(\"results_fxgx (\\\\rho|%reduction_test(fx)|%reduction_test(fxgx)|Jaccard|H0\\n\")\n",
        "# output_fxgx.write(\"------------\\n\")\n",
        "# for i in range(numRows):\n",
        "#   row = [r'{:.2f}'.format(val1) if p_value_median[i]>0.05 and j==0 else r'{}' if p_value_median[i]>0.05 and j!=0\\\n",
        "#          else r'{:.2f}'.format(val1) if (j==0) else r'{:.2f}({:.2f}-{:.2f})'.format(val1,val2,val3) if (j==3)\\\n",
        "#          else r'{:.1f}({:.1f}-{:.1f})'.format(val1,val2,val3) for val1,val2,val3,j in zip(fxgx_median.iloc[i],fxgx_q1.iloc[i],fxgx_q3.iloc[i],range(numCols))]\n",
        "#   output_fxgx.write(\"{{}} & {{}} & %s & {H0} \\\\\\\\\\n\".format(H0=r'$\\surd$' if p_value_median[i]<=0.05 else r'$\\times$')%(\" & \".join(row)))\n",
        "# print(output_fxgx.getvalue())"
      ],
      "execution_count": null,
      "outputs": []
    },
    {
      "cell_type": "code",
      "metadata": {
        "id": "d7W1Ln5-dm5t"
      },
      "source": [
        "#%%\n",
        "# Save results in csv fomat\n",
        "path_csv = \"drive/My Drive/NIPS2020/results/redwinequality/results_{clf}_yhat{yhat}_pca{pca}.csv\".format(clf=clf, pca=applyPCA, yhat=addPredictions)\n",
        "results = pd.concat([results_fx, p_value_col.loc[p_value_col <= 0.05]], keys=['fx', ''], axis=1).to_csv(path_csv, index=True, header=True)\n",
        "# Save results in tex fomat\n",
        "L = [output_fx.getvalue()]\n",
        "path_txt = \"drive/My Drive/NIPS2020/results/redwinequality/results_{clf}_yhat{yhat}_pca{pca}.txt\".format(clf=clf, pca=applyPCA, yhat=addPredictions)\n",
        "txt = open(path_txt, \"w\") \n",
        "txt.writelines(L) \n",
        "txt.close() #to change file access modes "
      ],
      "execution_count": null,
      "outputs": []
    },
    {
      "cell_type": "code",
      "metadata": {
        "id": "WCiI4764Haf8",
        "colab": {
          "base_uri": "https://localhost:8080/",
          "height": 419
        },
        "outputId": "ad6c3aa7-d70f-46c4-e757-b2872addbf62"
      },
      "source": [
        "fig, ax = plt.subplots(1,1,figsize=(7, 5.1), constrained_layout=False, dpi=90)\n",
        "pal = sns.color_palette('Paired')\n",
        "sns.boxplot(x=df['rho_user'], y=df['%reduction_test'], hue='label', data=df, ax=ax, palette=pal)\n",
        "ax.set_xlabel(r'budget $\\rho$')\n",
        "ax.set_ylabel(r'Loss reduction $r_{test}(\\%)$')\n",
        "ax.legend(loc='upper left')\n",
        "# pal = sns.color_palette('BuGn_r')\n",
        "# sns.boxplot(x=df_jaccard['rho_user'], y=df_jaccard['jaccard'], data=df_jaccard, ax=ax[1], palette=pal)\n",
        "# ax[1].set_xlabel(r'budget $\\rho$')\n",
        "# ax[1].set_ylabel(r'Jaccard index $J$')\n",
        "plt.tight_layout()\n",
        "path_fig_fx = \"drive/My Drive/NIPS2020/results/redwinequality/fig_fxgx_{clf}_yhat{yhat}_pca{pca}.pdf\".format(clf=clf, pca=applyPCA, yhat=addPredictions)\n",
        "plt.savefig(path_fig_fx, bbox_inches='tight', facecolor='w')"
      ],
      "execution_count": null,
      "outputs": [
        {
          "output_type": "display_data",
          "data": {
            "image/png": "[encoded data removed]",
            "text/plain": [
              "<Figure size 630x459 with 1 Axes>"
            ]
          },
          "metadata": {
            "tags": []
          }
        }
      ]
    },
    {
      "cell_type": "code",
      "metadata": {
        "id": "2D7HF-UFg6lp"
      },
      "source": [
        ""
      ],
      "execution_count": null,
      "outputs": []
    }
  ]
}