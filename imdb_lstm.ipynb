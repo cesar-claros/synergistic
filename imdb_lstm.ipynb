{
  "nbformat": 4,
  "nbformat_minor": 0,
  "metadata": {
    "colab": {
      "name": "imdb_lstm",
      "provenance": [],
      "collapsed_sections": [],
      "include_colab_link": true
    },
    "kernelspec": {
      "name": "python3",
      "display_name": "Python 3"
    },
    "accelerator": "GPU"
  },
  "cells": [
    {
      "cell_type": "markdown",
      "metadata": {
        "id": "view-in-github",
        "colab_type": "text"
      },
      "source": [
        "<a href=\"https://colab.research.google.com/github/cesar-claros/synergistic/blob/master/imdb_lstm.ipynb\" target=\"_parent\"><img src=\"https://colab.research.google.com/assets/colab-badge.svg\" alt=\"Open In Colab\"/></a>"
      ]
    },
    {
      "cell_type": "code",
      "metadata": {
        "id": "r4sBUso-gM_4",
        "colab_type": "code",
        "colab": {
          "base_uri": "https://localhost:8080/",
          "height": 256
        },
        "outputId": "64a8848e-be11-4c47-fb86-9026b441f3c6"
      },
      "source": [
        "!pip install torch\n",
        "!pip install gpytorch"
      ],
      "execution_count": 1,
      "outputs": [
        {
          "output_type": "stream",
          "text": [
            "Requirement already satisfied: torch in /usr/local/lib/python3.6/dist-packages (1.5.1+cu101)\n",
            "Requirement already satisfied: numpy in /usr/local/lib/python3.6/dist-packages (from torch) (1.18.5)\n",
            "Requirement already satisfied: future in /usr/local/lib/python3.6/dist-packages (from torch) (0.16.0)\n",
            "Collecting gpytorch\n",
            "\u001b[?25l  Downloading https://files.pythonhosted.org/packages/5d/c7/0c31802b84fc55aa069943c844eaccb0e420e91d7f4ed07cc5e1d127c458/gpytorch-1.1.1.tar.gz (240kB)\n",
            "\u001b[K     |████████████████████████████████| 245kB 7.1MB/s \n",
            "\u001b[?25hBuilding wheels for collected packages: gpytorch\n",
            "  Building wheel for gpytorch (setup.py) ... \u001b[?25l\u001b[?25hdone\n",
            "  Created wheel for gpytorch: filename=gpytorch-1.1.1-py2.py3-none-any.whl size=400467 sha256=e87898f391e84f8661b53c3b85bd8090b8e4d062025785def161865b2d514ef5\n",
            "  Stored in directory: /root/.cache/pip/wheels/e5/a5/29/4dafc0624adf678108e0067836556f0c72588e85d851d78ae0\n",
            "Successfully built gpytorch\n",
            "Installing collected packages: gpytorch\n",
            "Successfully installed gpytorch-1.1.1\n"
          ],
          "name": "stdout"
        }
      ]
    },
    {
      "cell_type": "code",
      "metadata": {
        "id": "FymsszQy2n68",
        "colab_type": "code",
        "colab": {}
      },
      "source": [
        "! sudo apt-get install texlive-latex-recommended #1\n",
        "! sudo apt-get install dvipng texlive-fonts-recommended #2\n",
        "! wget http://mirrors.ctan.org/macros/latex/contrib/type1cm.zip #3\n",
        "! unzip type1cm.zip -d /tmp/type1cm #4\n",
        "! cd /tmp/type1cm/type1cm/ && sudo latex type1cm.ins  #5\n",
        "! sudo mkdir /usr/share/texmf/tex/latex/type1cm #6\n",
        "! sudo cp /tmp/type1cm/type1cm/type1cm.sty /usr/share/texmf/tex/latex/type1cm #7\n",
        "! sudo texhash #8"
      ],
      "execution_count": null,
      "outputs": []
    },
    {
      "cell_type": "code",
      "metadata": {
        "id": "O0gzdUCWgQOt",
        "colab_type": "code",
        "colab": {
          "base_uri": "https://localhost:8080/",
          "height": 129
        },
        "outputId": "19943ee8-b1cf-4ead-97d6-994c04e82a8a"
      },
      "source": [
        "from google.colab import drive\n",
        "drive.mount(\"/content/drive\")"
      ],
      "execution_count": 3,
      "outputs": [
        {
          "output_type": "stream",
          "text": [
            "Go to this URL in a browser: https://accounts.google.com/o/oauth2/auth?client_id=947318989803-6bn6qk8qdgf4n4g3pfee6491hc0brc4i.apps.googleusercontent.com&redirect_uri=urn%3aietf%3awg%3aoauth%3a2.0%3aoob&response_type=code&scope=email%20https%3a%2f%2fwww.googleapis.com%2fauth%2fdocs.test%20https%3a%2f%2fwww.googleapis.com%2fauth%2fdrive%20https%3a%2f%2fwww.googleapis.com%2fauth%2fdrive.photos.readonly%20https%3a%2f%2fwww.googleapis.com%2fauth%2fpeopleapi.readonly\n",
            "\n",
            "Enter your authorization code:\n",
            "··········\n",
            "Mounted at /content/drive\n"
          ],
          "name": "stdout"
        }
      ]
    },
    {
      "cell_type": "code",
      "metadata": {
        "id": "pODgafakgcZ9",
        "colab_type": "code",
        "colab": {}
      },
      "source": [
        "!cp -r \"drive/My Drive/NIPS2020/auxfunc/\" .\n",
        "!cp -r \"drive/My Drive/NIPS2020/datasets/\" .\n",
        "!cp -r \"drive/My Drive/NIPS2020/style/\" .\n",
        "!cp -r \"drive/My Drive/NIPS2020/runs/\" ."
      ],
      "execution_count": 4,
      "outputs": []
    },
    {
      "cell_type": "code",
      "metadata": {
        "id": "ZrowTWaDjHhX",
        "colab_type": "code",
        "colab": {}
      },
      "source": [
        "%load_ext tensorboard"
      ],
      "execution_count": null,
      "outputs": []
    },
    {
      "cell_type": "code",
      "metadata": {
        "id": "aKBZk4trqzQV",
        "colab_type": "code",
        "colab": {
          "base_uri": "https://localhost:8080/",
          "height": 74
        },
        "outputId": "93484439-9694-448c-c8aa-1a3f71ac76be"
      },
      "source": [
        "# Imports\n",
        "import io #Used as buffer\n",
        "import sys\n",
        "import matplotlib\n",
        "import tensorflow as tf # Keras model for MNIST \n",
        "# matplotlib.use('qt5Agg')\n",
        "import numpy as np\n",
        "import pandas as pd\n",
        "import matplotlib.pyplot as plt\n",
        "import math\n",
        "import auxfunc.sigfunc as sgn\n",
        "import seaborn as sns\n",
        "import torch\n",
        "from scipy.stats import entropy, spearmanr\n",
        "from sklearn import model_selection, svm, ensemble, linear_model, pipeline, \\\n",
        "      tree, neighbors, discriminant_analysis, gaussian_process, preprocessing, impute, decomposition\n",
        "from sklearn.gaussian_process.kernels import ConstantKernel, RBF, Matern\n",
        "plt.style.use(['ggplot','style/style.mplstyle'])"
      ],
      "execution_count": 5,
      "outputs": [
        {
          "output_type": "stream",
          "text": [
            "/usr/local/lib/python3.6/dist-packages/statsmodels/tools/_testing.py:19: FutureWarning: pandas.util.testing is deprecated. Use the functions in the public API at pandas.testing instead.\n",
            "  import pandas.util.testing as tm\n"
          ],
          "name": "stderr"
        }
      ]
    },
    {
      "cell_type": "code",
      "metadata": {
        "id": "oPr-qGxurI6H",
        "colab_type": "code",
        "colab": {}
      },
      "source": [
        "#%%\n",
        "# Define LSTM architecture\n",
        "def LSTM_model(top_words, emb_vector_length, max_review_length, objective, reg=0.01):\n",
        "    # A simple model based off LeNet from https://keras.io/examples/mnist_cnn/\n",
        "    model = tf.keras.Sequential()\n",
        "    model.add(tf.keras.layers.Embedding(top_words,emb_vector_length,input_length=max_review_length))\n",
        "    model.add(tf.keras.layers.LSTM(100))\n",
        "    if objective == 'svm':\n",
        "        model.add(tf.keras.layers.Dense(\n",
        "            units=1, kernel_initializer='uniform', activation='linear', kernel_regularizer=tf.keras.regularizers.l2(reg)\n",
        "        ))\n",
        "    elif objective == 'softmax':\n",
        "        model.add(tf.keras.layers.Dense(\n",
        "            units=1, kernel_initializer='uniform', activation='sigmoid'\n",
        "        ))\n",
        "    return model"
      ],
      "execution_count": 6,
      "outputs": []
    },
    {
      "cell_type": "code",
      "metadata": {
        "id": "KYYvRG4AmtEJ",
        "colab_type": "code",
        "colab": {}
      },
      "source": [
        "#%%\n",
        "# Signaling function fitting and evaluation\n",
        "def signalingFunction(X_train, y_train, y_train_pred_th, X_val, y_val, y_val_pred_th, X_test, y_test, y_test_pred_th, kernel='exponential', norm='l01'):\n",
        "    # X_train, X_val should be scaled\n",
        "    # Fit signaling function \n",
        "    exp = sgn.signaling(norm=norm) # idx = [train,test,val]\n",
        "    exp.fit(X_train, y_train, y_train_pred_th, kernel=kernel, n_iter=500, lr=0.01)\n",
        "    table_val = exp.evaluate(X_val, y_val, y_val_pred_th, rule_grid=np.linspace(0,3,30, endpoint=False))\n",
        "    table_test = exp.test(X_test, y_test, y_test_pred_th, table_val['rule'].to_numpy(), table_val['eta'].to_numpy())\n",
        "    table = pd.concat([table_val,table_test],axis=1)\n",
        "    return table, exp"
      ],
      "execution_count": 7,
      "outputs": []
    },
    {
      "cell_type": "code",
      "metadata": {
        "id": "nRVYBv5lxPJk",
        "colab_type": "code",
        "colab": {}
      },
      "source": [
        "#%%\n",
        "# Initialize model\n",
        "def init_model(input_dim, objective):\n",
        "    model = LSTM_model(top_words, emb_vector_length, max_review_length, objective)\n",
        "    if objective=='svm':\n",
        "        loss = tf.keras.losses.hinge\n",
        "        metric = ['hinge']\n",
        "\n",
        "    elif objective=='softmax':\n",
        "        loss = tf.keras.losses.binary_crossentropy\n",
        "        metric = ['accuracy']\n",
        "\n",
        "    model.compile(loss=loss,\n",
        "                optimizer=tf.keras.optimizers.Adam(),\n",
        "                metrics=metric)\n",
        "    # model.summary()\n",
        "    print('loss={}'.format(loss.__name__))\n",
        "    return model"
      ],
      "execution_count": 8,
      "outputs": []
    },
    {
      "cell_type": "code",
      "metadata": {
        "id": "pMK50NRixYI9",
        "colab_type": "code",
        "colab": {}
      },
      "source": [
        "#%%\n",
        "# Soft and thresholded output predictions\n",
        "def pred_output(model, X, objective):\n",
        "    if objective=='svm':\n",
        "        y_pred_soft = model.predict(X)\n",
        "        y_pred_th = np.array([1 if i[0] >= 0 else 0 for i in y_pred_soft])\n",
        "    elif objective=='softmax':\n",
        "        y_pred_soft = model.predict(X)\n",
        "        y_pred_th = np.array([1 if i[0] > 0.5 else 0 for i in y_pred_soft])\n",
        "    return y_pred_soft, y_pred_th"
      ],
      "execution_count": 9,
      "outputs": []
    },
    {
      "cell_type": "code",
      "metadata": {
        "id": "8nf3lDBxjZcW",
        "colab_type": "code",
        "colab": {}
      },
      "source": [
        "#%%\n",
        "# Jaccard similarity index\n",
        "def jaccard_similarity(list1, list2):\n",
        "    s1 = set(list1)\n",
        "    s2 = set(list2)\n",
        "    return len(s1.intersection(s2)) / len(s1.union(s2))"
      ],
      "execution_count": 10,
      "outputs": []
    },
    {
      "cell_type": "code",
      "metadata": {
        "id": "vyWbCZTIjbiR",
        "colab_type": "code",
        "colab": {}
      },
      "source": [
        "#%%\n",
        "# Baseline comparison\n",
        "def baselineCriteria(y_val, y_val_pred_soft, y_val_pred_th, y_test, y_test_pred_soft, y_test_pred_th, table, exp, clf):\n",
        "      if clf=='svm':\n",
        "          direction = 'closer'\n",
        "          crit_val = np.abs(y_val_pred_soft.ravel())\n",
        "          crit_test = np.abs(y_test_pred_soft.ravel())\n",
        "      else:\n",
        "          direction = 'further'\n",
        "          p_val = np.concatenate((y_val_pred_soft,1-y_val_pred_soft),axis=1)\n",
        "          crit_val = entropy(p_val, axis=1, base=2)\n",
        "          p_test = np.concatenate((y_test_pred_soft,1-y_test_pred_soft),axis=1)\n",
        "          crit_test = entropy(p_test, axis=1, base=2)\n",
        "      \n",
        "      critFunc = sgn.critEvaluation(norm='l01',direction=direction)\n",
        "      d_val = critFunc.evaluate(y_val, y_val_pred_th, crit_val)\n",
        "      d_test = critFunc.test(y_test, y_test_pred_th, crit_test, d_val['thresh'].to_numpy())\n",
        "      crit_table = pd.concat([d_val,d_test],axis=1)\n",
        "\n",
        "      gamma = table['rule'].to_numpy().reshape(-1,1)\n",
        "      f_test = exp.gpr_mean_test + gamma*np.sqrt(exp.gpr_var_test)\n",
        "      eta = table['eta'].to_numpy().reshape(-1,1)\n",
        "      theta = crit_table['thresh'].to_numpy().reshape(-1,1)\n",
        "      if direction == 'closer':\n",
        "        f_mask, f_idx = np.nonzero(f_test>eta)\n",
        "      else:\n",
        "        f_mask, f_idx = np.nonzero(f_test<eta)\n",
        "      crit_mask, crit_idx = np.nonzero(crit_test.reshape(1,-1)<theta)\n",
        "      print(list(np.unique(f_mask)))\n",
        "      print(list(np.unique(crit_mask)))\n",
        "      print(f_test.shape[0])\n",
        "      shared = set(list(np.unique(f_mask))).intersection(set(list(np.unique(crit_mask))))\n",
        "      J = [jaccard_similarity(crit_idx[crit_mask==i],f_idx[f_mask==i]) if i in shared else np.nan for i in range(f_test.shape[0])]\n",
        "      # if (list(np.unique(f_mask))==list(np.unique(crit_mask))):\n",
        "      #   J = [jaccard_similarity(crit_idx[crit_mask==i],f_idx[f_mask==i]) for i in np.unique(f_mask)]\n",
        "      # else:\n",
        "      #   shared = set(a).intersection(set(b))\n",
        "      #   union = set(a).union(set(b))\n",
        "      #   J = [jaccard_similarity(crit_idx[crit_mask==i],f_idx[f_mask==i]) if i in shared else np.nan  for i in union]\n",
        "      crit_table['jaccard']=J\n",
        "      Sp = [spearmanr(f_test[i,:],crit_test)[0] for i in range(f_test.shape[0])]\n",
        "      crit_table['spearman'] = Sp\n",
        "      crit_table['gamma'] = gamma\n",
        "      return crit_table"
      ],
      "execution_count": 11,
      "outputs": []
    },
    {
      "cell_type": "code",
      "metadata": {
        "id": "R3VCXn3_rTYj",
        "colab_type": "code",
        "colab": {
          "base_uri": "https://localhost:8080/",
          "height": 72
        },
        "outputId": "3f2114e3-5673-4d86-c233-e7aee4e6aad8"
      },
      "source": [
        "# %%\n",
        "# INITIALIZATION\n",
        "# ==============\n",
        "# EXPERIMENT SETUP\n",
        "# ================\n",
        "top_words = 5000\n",
        "max_review_length = 500\n",
        "emb_vector_length = 32\n",
        "# Load data set\n",
        "(Data_X, Data_y), (X_test, y_test) = tf.keras.datasets.imdb.load_data(num_words=top_words)\n",
        "Data_X = tf.keras.preprocessing.sequence.pad_sequences(Data_X, maxlen=max_review_length)\n",
        "X_test = tf.keras.preprocessing.sequence.pad_sequences(X_test, maxlen=max_review_length)\n",
        "print(\"Number of original training examples:\", len(Data_X))"
      ],
      "execution_count": 12,
      "outputs": [
        {
          "output_type": "stream",
          "text": [
            "Downloading data from https://storage.googleapis.com/tensorflow/tf-keras-datasets/imdb.npz\n",
            "17465344/17464789 [==============================] - 1s 0us/step\n",
            "Number of original training examples: 25000\n"
          ],
          "name": "stdout"
        }
      ]
    },
    {
      "cell_type": "code",
      "metadata": {
        "id": "0jsIZNLPri8D",
        "colab_type": "code",
        "colab": {
          "base_uri": "https://localhost:8080/",
          "height": 1000
        },
        "outputId": "5dcf6f30-0969-45d1-9c8e-0c6b8009f83d"
      },
      "source": [
        "# For reproducibility\n",
        "tf.random.set_seed(54321)\n",
        "np.random.seed(12345)\n",
        "torch.manual_seed(0)\n",
        "#%%\n",
        "# Assign labels\n",
        "report_table = []\n",
        "report_criteria = []\n",
        "report_plot = []\n",
        "kf = model_selection.KFold(n_splits=5, shuffle=True, random_state=123)\n",
        "clf = 'softmax'\n",
        "addPredictions = True\n",
        "applyPCA = True\n",
        "accuracy = 0\n",
        "for sample, test in kf.split(Data_X):\n",
        "    sample = sample[:12500]\n",
        "    test = test[:2000]\n",
        "    X = Data_X[sample]\n",
        "    y = Data_y[sample]\n",
        "    X_train, X_val, y_train, y_val = model_selection.train_test_split(X, y, test_size=0.20, random_state=123)\n",
        "    X_test = Data_X[test]\n",
        "    y_test = Data_y[test]\n",
        "\n",
        "    # TRAINING MODEL\n",
        "    model = init_model(input_dim=X.shape[1], objective=clf)\n",
        "    model.fit(X_train, y_train, batch_size=64, epochs=5, verbose=0, validation_data=(X_val, y_val))\n",
        "    # X_test = scaleX.transform(imputeX.transform(X_test))\n",
        "\n",
        "    y_train_pred_soft, y_train_pred_th = pred_output(model, X_train, clf)\n",
        "    print('accuracy(Train)={}'.format(np.sum(y_train==y_train_pred_th)/np.size(y_train)))\n",
        "    y_val_pred_soft, y_val_pred_th = pred_output(model, X_val, clf)\n",
        "    # print('accuracy(Val)={}'.format(np.sum(y_val==y_val_pred_th)/np.size(y_val)))\n",
        "    y_test_pred_soft, y_test_pred_th = pred_output(model, X_test, clf)\n",
        "\n",
        "    layer_outputs = [layer.output for layer in model.layers] \n",
        "    activation_model = tf.keras.models.Model(inputs=model.input, outputs=layer_outputs)\n",
        "    X_train_GP = activation_model.predict(X_train)[1]\n",
        "    X_val_GP = activation_model.predict(X_val)[1]\n",
        "    X_test_GP = activation_model.predict(X_test)[1]\n",
        "\n",
        "    if addPredictions:\n",
        "            # Add predictions\n",
        "            X_train_GP = np.concatenate((X_train_GP, y_train_pred_soft), axis=1)\n",
        "            X_val_GP = np.concatenate((X_val_GP, y_val_pred_soft), axis=1)\n",
        "            X_test_GP = np.concatenate((X_test_GP, y_test_pred_soft), axis=1)\n",
        "    scaleX_GP = preprocessing.StandardScaler().fit(np.concatenate((X_train_GP, X_val_GP), axis=0))\n",
        "    X_train_GP = scaleX_GP.transform(X_train_GP)\n",
        "    X_val_GP = scaleX_GP.transform(X_val_GP)\n",
        "    X_test_GP = scaleX_GP.transform(X_test_GP)\n",
        "    if applyPCA:\n",
        "            pca_GP = decomposition.PCA(.99).fit(np.concatenate((X_train_GP, X_val_GP), axis=0)) # set percentage of energy preserved by PCA\n",
        "            # Apply PCA transform to all sets\n",
        "            X_train_GP = pca_GP.transform(X_train_GP)\n",
        "            X_val_GP = pca_GP.transform(X_val_GP)\n",
        "            X_test_GP = pca_GP.transform(X_test_GP)\n",
        "\n",
        "    table, exp = signalingFunction(X_train_GP, y_train, y_train_pred_th, X_val_GP, y_val, y_val_pred_th, X_test_GP, y_test, y_test_pred_th)\n",
        "    report_table.append(table)\n",
        "    # Baseline for comparison\n",
        "    crit_table = baselineCriteria(y_val, y_val_pred_soft, y_val_pred_th, y_test, y_test_pred_soft, y_test_pred_th, table, exp, clf)\n",
        "    report_criteria.append(crit_table)\n",
        "\n",
        "    score = np.sum(y_val==y_val_pred_th)/np.size(y_val)\n",
        "    if accuracy < score:\n",
        "      accuracy = score\n",
        "      table_best = table\n",
        "      crit_table_best = crit_table\n",
        "      exp_best = exp\n",
        "      y_test_best = y_test\n",
        "      y_test_pred_soft_best = y_test_pred_soft\n",
        "      y_test_pred_th_best = y_test_pred_th\n",
        "      X_test_best = X_test\n",
        "    del(model)"
      ],
      "execution_count": 75,
      "outputs": [
        {
          "output_type": "stream",
          "text": [
            "loss=binary_crossentropy\n",
            "accuracy(Train)=0.9495\n",
            "initializing cuda...\n",
            "lr=0.01, n_iterations=500\n",
            "Iter 491/500 - Loss: -0.239  noise: 0.026\n",
            "Iter 492/500 - Loss: -0.238  noise: 0.026\n",
            "Iter 493/500 - Loss: -0.237  noise: 0.026\n",
            "Iter 494/500 - Loss: -0.238  noise: 0.026\n",
            "Iter 495/500 - Loss: -0.239  noise: 0.026\n",
            "Iter 496/500 - Loss: -0.237  noise: 0.026\n",
            "Iter 497/500 - Loss: -0.237  noise: 0.026\n",
            "Iter 498/500 - Loss: -0.238  noise: 0.026\n",
            "Iter 499/500 - Loss: -0.236  noise: 0.026\n",
            "Iter 500/500 - Loss: -0.238  noise: 0.026\n",
            "evaluating with cuda...\n",
            "evaluating with cuda...\n",
            "[0, 1, 2, 3, 4]\n",
            "[0, 1, 2, 3, 4]\n",
            "5\n",
            "loss=binary_crossentropy\n",
            "accuracy(Train)=0.9257\n",
            "initializing cuda...\n",
            "lr=0.01, n_iterations=500\n",
            "Iter 491/500 - Loss: -0.084  noise: 0.035\n",
            "Iter 492/500 - Loss: -0.081  noise: 0.035\n",
            "Iter 493/500 - Loss: -0.083  noise: 0.035\n",
            "Iter 494/500 - Loss: -0.084  noise: 0.035\n",
            "Iter 495/500 - Loss: -0.085  noise: 0.035\n",
            "Iter 496/500 - Loss: -0.081  noise: 0.035\n",
            "Iter 497/500 - Loss: -0.084  noise: 0.035\n",
            "Iter 498/500 - Loss: -0.082  noise: 0.035\n",
            "Iter 499/500 - Loss: -0.084  noise: 0.035\n",
            "Iter 500/500 - Loss: -0.084  noise: 0.035\n",
            "evaluating with cuda...\n",
            "evaluating with cuda...\n",
            "[0, 1, 2, 3, 4]\n",
            "[0, 1, 2, 3, 4]\n",
            "5\n",
            "loss=binary_crossentropy\n",
            "accuracy(Train)=0.9488\n",
            "initializing cuda...\n",
            "lr=0.01, n_iterations=500\n",
            "Iter 491/500 - Loss: -0.175  noise: 0.030\n",
            "Iter 492/500 - Loss: -0.176  noise: 0.030\n",
            "Iter 493/500 - Loss: -0.173  noise: 0.030\n",
            "Iter 494/500 - Loss: -0.174  noise: 0.030\n",
            "Iter 495/500 - Loss: -0.176  noise: 0.030\n",
            "Iter 496/500 - Loss: -0.174  noise: 0.030\n",
            "Iter 497/500 - Loss: -0.177  noise: 0.030\n",
            "Iter 498/500 - Loss: -0.174  noise: 0.030\n",
            "Iter 499/500 - Loss: -0.175  noise: 0.030\n",
            "Iter 500/500 - Loss: -0.175  noise: 0.030\n",
            "evaluating with cuda...\n",
            "evaluating with cuda...\n",
            "[0, 1, 2, 3, 4]\n",
            "[0, 1, 2, 3, 4]\n",
            "5\n",
            "loss=binary_crossentropy\n",
            "accuracy(Train)=0.9602\n",
            "initializing cuda...\n",
            "lr=0.01, n_iterations=500\n",
            "Iter 491/500 - Loss: -0.284  noise: 0.024\n",
            "Iter 492/500 - Loss: -0.286  noise: 0.024\n",
            "Iter 493/500 - Loss: -0.287  noise: 0.024\n",
            "Iter 494/500 - Loss: -0.286  noise: 0.024\n",
            "Iter 495/500 - Loss: -0.287  noise: 0.024\n",
            "Iter 496/500 - Loss: -0.286  noise: 0.024\n",
            "Iter 497/500 - Loss: -0.288  noise: 0.024\n",
            "Iter 498/500 - Loss: -0.286  noise: 0.024\n",
            "Iter 499/500 - Loss: -0.286  noise: 0.024\n",
            "Iter 500/500 - Loss: -0.286  noise: 0.024\n",
            "evaluating with cuda...\n",
            "evaluating with cuda...\n",
            "[0, 1, 2, 3, 4]\n",
            "[0, 1, 2, 3, 4]\n",
            "5\n",
            "loss=binary_crossentropy\n",
            "accuracy(Train)=0.9364\n",
            "initializing cuda...\n",
            "lr=0.01, n_iterations=500\n",
            "Iter 491/500 - Loss: -0.103  noise: 0.034\n",
            "Iter 492/500 - Loss: -0.101  noise: 0.034\n",
            "Iter 493/500 - Loss: -0.101  noise: 0.034\n",
            "Iter 494/500 - Loss: -0.104  noise: 0.034\n",
            "Iter 495/500 - Loss: -0.102  noise: 0.034\n",
            "Iter 496/500 - Loss: -0.102  noise: 0.034\n",
            "Iter 497/500 - Loss: -0.100  noise: 0.034\n",
            "Iter 498/500 - Loss: -0.100  noise: 0.034\n",
            "Iter 499/500 - Loss: -0.102  noise: 0.033\n",
            "Iter 500/500 - Loss: -0.101  noise: 0.033\n",
            "evaluating with cuda...\n",
            "evaluating with cuda...\n",
            "[0, 1, 2, 3, 4]\n",
            "[0, 1, 2, 3, 4]\n",
            "5\n"
          ],
          "name": "stdout"
        }
      ]
    },
    {
      "cell_type": "code",
      "metadata": {
        "id": "WWPUAct1q2Hm",
        "colab_type": "code",
        "colab": {}
      },
      "source": [
        "logs_base_dir = \"runs/\"\n",
        "%tensorboard --logdir {logs_base_dir}"
      ],
      "execution_count": null,
      "outputs": []
    },
    {
      "cell_type": "code",
      "metadata": {
        "id": "-lNsdkAGq5Re",
        "colab_type": "code",
        "colab": {}
      },
      "source": [
        "##%\n",
        "# Boxplot (loss reduction in test set)\n",
        "report_table_concat = pd.concat(report_table)\n",
        "cols_table = ['p_value','rho_user','%reduction_test']\n",
        "df_boxplot_table = pd.DataFrame(report_table_concat[cols_table])\n",
        "df_boxplot_table['label'] = df_boxplot_table.shape[0]*['$f(x)$']\n",
        "report_criteria_concat = pd.concat(report_criteria)\n",
        "columns_crit = ['rho_user','%reduction_test']\n",
        "df_boxplot_crit = pd.DataFrame(report_criteria_concat[columns_crit])\n",
        "df_boxplot_crit['label'] = df_boxplot_crit.shape[0]*['$g(x)$']\n",
        "# p-value median\n",
        "p_value_by_row_index = df_boxplot_table['p_value'].groupby(df_boxplot_table.index)\n",
        "p_value_median = p_value_by_row_index.median()\n",
        "# Boxplot (jaccard index in test set)\n",
        "columns_jac = ['rho_user','jaccard']\n",
        "df_jaccard = pd.DataFrame(report_criteria_concat[columns_jac])\n",
        "# Unfiltered Result dataframes\n",
        "cols_fx = ['rho_user','%reduction_val','budget','%reduction_test']\n",
        "results_fx = pd.DataFrame(report_table_concat[cols_fx])\n",
        "cols_fxgx = ['rho_user','%reduction_test', 'jaccard']\n",
        "results_fxgx = pd.concat([df_boxplot_table[cols_fxgx[:2]], df_boxplot_crit[cols_fxgx[1]], df_jaccard[cols_fxgx[2]]], axis=1)\n",
        "# Filter experiments with p_value > 0.05\n",
        "df_boxplot_crit = df_boxplot_crit.loc[df_boxplot_table['p_value'] <= 0.05]\n",
        "df_jaccard = df_jaccard.loc[df_boxplot_table['p_value'] <= 0.05]\n",
        "df_boxplot_table = df_boxplot_table.loc[df_boxplot_table['p_value'] <= 0.05]\n",
        "# Boxplot with filtered values only\n",
        "frames = [df_boxplot_table, df_boxplot_crit]\n",
        "df = pd.concat(frames)"
      ],
      "execution_count": 76,
      "outputs": []
    },
    {
      "cell_type": "code",
      "metadata": {
        "id": "OumIYSVNq7Zj",
        "colab_type": "code",
        "colab": {}
      },
      "source": [
        "# Avoid plotting when median(p_value)>0.5\n",
        "for i in range(p_value_median.shape[0]):\n",
        "    if p_value_median.iloc[i]>0.05:\n",
        "      df.loc[df.index==i,'%reduction_test'] = np.nan\n",
        "      df_jaccard.loc[df_jaccard.index==i, 'jaccard'] = np.nan"
      ],
      "execution_count": 77,
      "outputs": []
    },
    {
      "cell_type": "code",
      "metadata": {
        "id": "-6d4xyQvq952",
        "colab_type": "code",
        "colab": {
          "base_uri": "https://localhost:8080/",
          "height": 164
        },
        "outputId": "e756399a-e3cc-4eea-c128-b43c19ae9e6d"
      },
      "source": [
        "# Dataframe for results f(x)\n",
        "results_fx_by_row_index = results_fx.groupby(results_fx.index)\n",
        "fx_median = results_fx_by_row_index.median()\n",
        "fx_q1 = results_fx_by_row_index.quantile(q=0.25)\n",
        "fx_q3 = results_fx_by_row_index.quantile(q=0.75)\n",
        "# Signaling function statistics (median(q1-q3)) LaTex\n",
        "output_fx = io.StringIO()\n",
        "numRows = fx_median.shape[0]\n",
        "numCols = fx_median.shape[1]\n",
        "output_fx.write(\"results_fx (\\\\rho|%reduction_val|sig_rate|%reduction_test|H0)\\n\")\n",
        "output_fx.write(\"----------\\n\")\n",
        "for i in range(numRows):\n",
        "  row = [r'{:.2f}'.format(val1) if p_value_median[i]>0.05 and j==0 else r'{}' if p_value_median[i]>0.05 and j!=0\\\n",
        "         else r'{:.2f}'.format(val1) if (j==0) else r'{:.2f}({:.2f}-{:.2f})'.format(val1,val2,val3) if (j==2)\\\n",
        "         else r'{:.1f}({:.1f}-{:.1f})'.format(val1,val2,val3) for val1,val2,val3,j in zip(fx_median.iloc[i],fx_q1.iloc[i],fx_q3.iloc[i],range(numCols))]\n",
        "  output_fx.write(\"{{}} & {{}} & %s & {H0} \\\\\\\\\\n\".format(H0=r'$\\surd$' if p_value_median[i]<=0.05 else r'$\\times$')%(\" & \".join(row)))\n",
        "print(output_fx.getvalue())"
      ],
      "execution_count": 78,
      "outputs": [
        {
          "output_type": "stream",
          "text": [
            "results_fx (\\rho|%reduction_val|sig_rate|%reduction_test|H0)\n",
            "----------\n",
            "{} & {} & 0.01 & 3.1(2.6-3.5) & 0.01(0.01-0.01) & 3.1(2.5-3.1) & $\\surd$ \\\\\n",
            "{} & {} & 0.05 & 15.6(14.4-17.1) & 0.05(0.05-0.05) & 14.6(13.6-15.8) & $\\surd$ \\\\\n",
            "{} & {} & 0.10 & 29.4(26.1-30.5) & 0.10(0.10-0.11) & 28.8(28.1-30.7) & $\\surd$ \\\\\n",
            "{} & {} & 0.15 & 40.6(37.4-41.7) & 0.15(0.14-0.15) & 36.3(35.9-42.2) & $\\surd$ \\\\\n",
            "{} & {} & 0.20 & 48.8(46.7-50.2) & 0.20(0.20-0.21) & 48.3(45.1-49.8) & $\\surd$ \\\\\n",
            "\n"
          ],
          "name": "stdout"
        }
      ]
    },
    {
      "cell_type": "code",
      "metadata": {
        "id": "RjL-JtRhrC6e",
        "colab_type": "code",
        "colab": {
          "base_uri": "https://localhost:8080/",
          "height": 164
        },
        "outputId": "1284aa37-d61e-4222-9e0d-45c3c5c3ed5c"
      },
      "source": [
        "# Dataframe for comparison f(x)-g(x)\n",
        "results_fxgx_by_row_index = results_fxgx.groupby(results_fxgx.index)\n",
        "fxgx_median = results_fxgx_by_row_index.median()\n",
        "fxgx_q1 = results_fxgx_by_row_index.quantile(q=0.25)\n",
        "fxgx_q3 = results_fxgx_by_row_index.quantile(q=0.75)\n",
        "# Baseline comparison statistics (median(q1-q3)) LaTex\n",
        "output_fxgx = io.StringIO()\n",
        "numRows = fxgx_median.shape[0]\n",
        "numCols = fxgx_median.shape[1]\n",
        "output_fxgx.write(\"results_fxgx (\\\\rho|%reduction_test(fx)|%reduction_test(fxgx)|Jaccard|H0\\n\")\n",
        "output_fxgx.write(\"------------\\n\")\n",
        "for i in range(numRows):\n",
        "  row = [r'{:.2f}'.format(val1) if p_value_median[i]>0.05 and j==0 else r'{}' if p_value_median[i]>0.05 and j!=0\\\n",
        "         else r'{:.2f}'.format(val1) if (j==0) else r'{:.2f}({:.2f}-{:.2f})'.format(val1,val2,val3) if (j==3)\\\n",
        "         else r'{:.1f}({:.1f}-{:.1f})'.format(val1,val2,val3) for val1,val2,val3,j in zip(fxgx_median.iloc[i],fxgx_q1.iloc[i],fxgx_q3.iloc[i],range(numCols))]\n",
        "  output_fxgx.write(\"{{}} & {{}} & %s & {H0} \\\\\\\\\\n\".format(H0=r'$\\surd$' if p_value_median[i]<=0.05 else r'$\\times$')%(\" & \".join(row)))\n",
        "print(output_fxgx.getvalue())"
      ],
      "execution_count": 79,
      "outputs": [
        {
          "output_type": "stream",
          "text": [
            "results_fxgx (\\rho|%reduction_test(fx)|%reduction_test(fxgx)|Jaccard|H0\n",
            "------------\n",
            "{} & {} & 0.01 & 3.1(2.5-3.1) & 3.4(3.4-3.6) & 0.98(0.98-0.98) & $\\surd$ \\\\\n",
            "{} & {} & 0.05 & 14.6(13.6-15.8) & 15.5(14.8-15.9) & 0.96(0.95-0.96) & $\\surd$ \\\\\n",
            "{} & {} & 0.10 & 28.8(28.1-30.7) & 30.5(27.7-30.5) & 0.94(0.94-0.94) & $\\surd$ \\\\\n",
            "{} & {} & 0.15 & 36.3(35.9-42.2) & 41.9(41.0-42.8) & 0.91(0.91-0.91) & $\\surd$ \\\\\n",
            "{} & {} & 0.20 & 48.3(45.1-49.8) & 51.5(49.5-53.9) & 0.89(0.88-0.90) & $\\surd$ \\\\\n",
            "\n"
          ],
          "name": "stdout"
        }
      ]
    },
    {
      "cell_type": "code",
      "metadata": {
        "id": "G0X7KJ6trNGc",
        "colab_type": "code",
        "colab": {}
      },
      "source": [
        "#%%\n",
        "# Save results in csv fomat\n",
        "path_csv = \"drive/My Drive/NIPS2020/results/imdb/results_{clf}_yhat{yhat}_pca{pca}.csv\".format(clf=clf, pca=applyPCA, yhat=addPredictions)\n",
        "results = pd.concat([results_fx, results_fxgx], keys=['fx', 'fxgx'], axis=1).to_csv(path_csv, index=True, header=True)\n",
        "# Save results in tex fomat\n",
        "L = [output_fx.getvalue(),output_fxgx.getvalue()]\n",
        "path_txt = \"drive/My Drive/NIPS2020/results/imdb/results_{clf}_yhat{yhat}_pca{pca}.txt\".format(clf=clf, pca=applyPCA, yhat=addPredictions)\n",
        "txt = open(path_txt, \"w\") \n",
        "txt.writelines(L) \n",
        "txt.close() #to change file access modes"
      ],
      "execution_count": 80,
      "outputs": []
    },
    {
      "cell_type": "code",
      "metadata": {
        "id": "0LTFKkXsrQOl",
        "colab_type": "code",
        "colab": {
          "base_uri": "https://localhost:8080/",
          "height": 419
        },
        "outputId": "ae2525cb-d847-4d08-c768-b20b7ac32b9d"
      },
      "source": [
        "fig, ax = plt.subplots(1,2,figsize=(15, 5.1), constrained_layout=False, dpi=90)\n",
        "pal = sns.color_palette('Paired')\n",
        "sns.boxplot(x=df['rho_user'], y=df['%reduction_test'], hue='label', data=df, ax=ax[0], palette=pal)\n",
        "ax[0].set_xlabel(r'budget $\\rho$')\n",
        "ax[0].set_ylabel(r'Loss reduction $r_{test}(\\%)$')\n",
        "ax[0].legend(loc='upper left')\n",
        "pal = sns.color_palette('BuGn_r')\n",
        "sns.boxplot(x=df_jaccard['rho_user'], y=df_jaccard['jaccard'], data=df_jaccard, ax=ax[1], palette=pal)\n",
        "ax[1].set_xlabel(r'budget $\\rho$')\n",
        "ax[1].set_ylabel(r'Jaccard index $J$')\n",
        "plt.tight_layout()\n",
        "path_fig_fxgx = \"drive/My Drive/NIPS2020/results/imdb/fig_fxgx_{clf}_yhat{yhat}_pca{pca}.pdf\".format(clf=clf, pca=applyPCA, yhat=addPredictions)\n",
        "plt.savefig(path_fig_fxgx, bbox_inches='tight', facecolor='w')"
      ],
      "execution_count": 81,
      "outputs": [
        {
          "output_type": "display_data",
          "data": {
            "image/png": "[encoded data removed]",
            "text/plain": [
              "<Figure size 1350x459 with 2 Axes>"
            ]
          },
          "metadata": {
            "tags": []
          }
        }
      ]
    },
    {
      "cell_type": "code",
      "metadata": {
        "id": "SlQtQPDGFE9w",
        "colab_type": "code",
        "colab": {}
      },
      "source": [
        "#reverse lookup\n",
        "INDEX_FROM = 3\n",
        "word_to_id = tf.keras.datasets.imdb.get_word_index()\n",
        "word_to_id = {k:(v+INDEX_FROM) for k,v in word_to_id.items()}\n",
        "word_to_id[\"<PAD>\"] = 0\n",
        "word_to_id[\"<START>\"] = 1\n",
        "word_to_id[\"<UNK>\"] = 2\n",
        "id_to_word = {value:key for key,value in word_to_id.items()}"
      ],
      "execution_count": 82,
      "outputs": []
    },
    {
      "cell_type": "code",
      "metadata": {
        "id": "mj6x1QVqcRgO",
        "colab_type": "code",
        "colab": {
          "base_uri": "https://localhost:8080/",
          "height": 35
        },
        "outputId": "2a0f835e-05b1-45af-b3fa-602312378444"
      },
      "source": [
        "rho = 0.01\n",
        "rule = table_best.loc[table_best.rho_user == rho]['rule'].to_numpy()\n",
        "eta = table_best.loc[table_best.rho_user == rho]['eta'].to_numpy()[0]\n",
        "theta = crit_table_best.loc[crit_table_best.rho_user == rho]['thresh'].to_numpy()[0]\n",
        "f_test = exp_best.gpr_mean_test+rule*np.sqrt(exp_best.gpr_var_test)\n",
        "top_n = 20 # Top n selected instances in test set\n",
        "top_f_idx = np.argpartition(f_test, -top_n)[-top_n:]\n",
        "if clf=='svm':\n",
        "    crit_test = np.abs(y_test_pred_soft_best.ravel())\n",
        "    top_crit_idx = np.argpartition(crit_test, top_n)[:top_n]\n",
        "elif clf=='softmax':\n",
        "    p_test = np.concatenate((y_test_pred_soft_best,1-y_test_pred_soft_best),axis=1)\n",
        "    crit_test = entropy(p_test, axis=1, base=2)\n",
        "    top_crit_idx = np.argpartition(crit_test, -top_n)[-top_n:]\n",
        "output_text = io.StringIO()\n",
        "print('eta={:.3f}, theta={:.3f}'.format(eta,theta))"
      ],
      "execution_count": 83,
      "outputs": [
        {
          "output_type": "stream",
          "text": [
            "eta=0.833, theta=0.997\n"
          ],
          "name": "stdout"
        }
      ]
    },
    {
      "cell_type": "code",
      "metadata": {
        "id": "xGqv4gVyc1kF",
        "colab_type": "code",
        "colab": {
          "base_uri": "https://localhost:8080/",
          "height": 533
        },
        "outputId": "e2d7cb83-9189-4d24-a4c6-58535a0b1e00"
      },
      "source": [
        "output_text.write(\"top_n={}, rho_user={}, g(x)={}, addh_hat={}, PCA={}\\n\".format(top_n,rho,clf, addPredictions, applyPCA))\n",
        "output_text.write(\"|f(x)>eta|={}(eta={:.3f}), |g(x)>theta|={}(theta={:.3f})\\n\".format(np.sum(f_test>eta), eta, np.sum(crit_test<theta) if clf=='svm' else np.sum(crit_test>theta), theta))\n",
        "output_text.write(\"\\nTop misclassfied instances picked by f(x)\\n\")\n",
        "output_text.write(\"-----------------------------------------\\n\")\n",
        "for i in top_f_idx:\n",
        "  cond = f_test[i]>eta\n",
        "  if y_test_best[i] != y_test_pred_th_best[i] and cond:\n",
        "    output_text.write(' '.join([id_to_word[id] for id in X_test_best[i,:] if id!=0])+\\\n",
        "        '\\n y={}'.format(y_test_best[i])+', y_pred={}'.format(y_test_pred_th_best[i])+\\\n",
        "        ', g(x)({})={:.3f}'.format('D' if clf=='svm' else 'H', crit_test[i])+\\\n",
        "        ', f(x)={:.3f}'.format(f_test[i])+'\\n\\n')\n",
        "print(output_text.getvalue())"
      ],
      "execution_count": 84,
      "outputs": [
        {
          "output_type": "stream",
          "text": [
            "top_n=20, rho_user=0.01, g(x)=softmax, addh_hat=True, PCA=True\n",
            "|f(x)>eta|=29(eta=0.833), |g(x)>theta|=30(theta=0.997)\n",
            "\n",
            "Top misclassfied instances picked by f(x)\n",
            "-----------------------------------------\n",
            "handed the job on a silver <UNK> and has to do little to <UNK> his position unlike <UNK> <UNK> hits on all 5 families in <UNK> this hand me down process may be an authentic way of <UNK> power in a mafia family but why is so much made of this boring routine certainly don vincent may <UNK> the respect of his fellow gangsters <UNK> but there's little character <UNK> in the script to give us a portrait of this young man sadly <UNK> did such a fine job of quickly <UNK> developing <UNK> character in <UNK> but <UNK> has no <UNK> in it's story telling and we suffer through drawn out <UNK> until we just want to take a <UNK> <UNK> george hamilton was also handed a <UNK> task in taking over as family lawyer after <UNK> <UNK> <UNK> turned down a 3rd installment as tom <UNK> george <UNK> <UNK> his role so it came off without damage to the actor the development of <UNK> <UNK> character is interesting but it goes too far when she takes murderous matters into her own hands she could well end up sleeping with the <UNK> if this were the real world but it's not all bad the <UNK> scene in the hotel <UNK> is <UNK> also they keep pulling me back in or words to that effect is a great line and we <UNK> some old country feel as we get to go back to <UNK> even if it's all done in <UNK> and they've got modern cars <UNK> the plot lines involving the corrupt <UNK> of the catholic church are pretty interesting since it's based on some actual financial <UNK> at <UNK> <UNK> in the <UNK> but it's brought too far again with the too spectacular death scenes etc the grand opera scenes are very dramatic and well photographed but the death scene of mary toward the end is an <UNK> attempt of emotional <UNK> at best all <UNK> need to learn that we don't always need more and more death in order to bring a mafia movie to a successful conclusion you feel sorry for kay that her daughter is dead she plays her <UNK> so well but <UNK> reaction is <UNK> <UNK> <UNK> then michael dies <UNK> in the <UNK> century in <UNK> alone on a grand estate of heart failure no <UNK> to play with before his <UNK> no wife to <UNK> for him what should have happened in the last 1 2 of this movie is michael being <UNK> down by someone like <UNK> <UNK> put on trial all his dirty family's sleazy little <UNK> and <UNK> <UNK> brought into the light of day michael then <UNK> under <UNK> <UNK> and sent to <UNK> prison for life then he can <UNK> over dead from heart failure while <UNK> a floor in <UNK> that's how mafia <UNK> were ending their careers in the late 80's and early 90's and they got much better treatment than what they deserved\n",
            " y=0, y_pred=1, g(x)(H)=1.000, f(x)=0.866\n",
            "\n",
            "<START> american film makers decided to make a film they think is japanese the characters all badly represented the actors are not even japanese and the set is cheap unreal and definitely doesn't represent <UNK> in early <UNK> and <UNK> who ever read the book understand that the script writers didn't add any extra value to <UNK> the movie from the script worse they even changed the original plot line with a few <UNK> rob <UNK> is using for his two main characters two well known chinese actors who joined before in <UNK> tiger hidden dragon <UNK> probably saw one chinese movie and <UNK> they represent japanese culture seeing those two actors together again even makes the movies more ridiculous <UNK> <UNK> last scene in kill bill 1 is ten times more japanese made than that of this movie\n",
            " y=0, y_pred=1, g(x)(H)=0.974, f(x)=0.867\n",
            "\n",
            "<START> another weak third season entry <UNK> there in truth no beauty ' nonetheless has at least one key plot element that is very different and as <UNK> would say fascinating the main character is an alien who must be carried around in a black box because his appearance is so horrendous that it drives humans insane it's too bad the episode cannot live up to this incredible premise obviously i think it was a mistake to ever <UNK> the alien as its actual <UNK> in no way even <UNK> such a <UNK> build up all we get is the standard star trek <UNK> light display used for any number of things in different episodes usually when the ship is passing through a <UNK> storm or something similar in any event <UNK> appearance can at least be <UNK> by mr <UNK> and then only if <UNK> is wearing a special <UNK> for the <UNK> time i thought the <UNK> name was <UNK> ' which i found humorous but i <UNK> <UNK> is required to mind <UNK> with <UNK> at one point so that the alien can pilot the enterprise back to safety this is accomplished but when <UNK> <UNK> go back to end the mind <UNK> by <UNK> <UNK> <UNK> his <UNK> <UNK> oh he goes crazy but eventually <UNK> with the help of <UNK> assistant a blind woman with psychic powers this might have been a really bizarre excellent episode but it is poorly directed and comes across as yet one more badly executed show of the <UNK> last season\n",
            " y=0, y_pred=1, g(x)(H)=0.973, f(x)=0.900\n",
            "\n",
            "<START> sleeping with the enemy is a predictable <UNK> there <UNK> thriller that never seems to find any inspiration no matter how desperately cast and crew try i can't believe a bunch of my friends talked me into seeing this at the movies some <UNK> years ago br br the complete lack of originality from the <UNK> <UNK> screenplay based upon the nancy price novel does not help nor does the stale direction of joseph <UNK> or the very average performance from julia roberts the supporting cast including patrick <UNK> and kevin anderson do little to help br br there really isn't a lot to say just give it a miss br br sunday april 14 <UNK> <UNK> cinema <UNK> <UNK>\n",
            " y=0, y_pred=1, g(x)(H)=0.991, f(x)=0.946\n",
            "\n",
            "<START> a friend once told me that an art house independent film ran in a cinema when upon the closing of the film audiences were so <UNK> they <UNK> to tear up the cinema <UNK> of course my imagination ran <UNK> trying to <UNK> up the <UNK> of such a piece of work well now my imagination can be put to rest br br i am a <UNK> <UNK> <UNK> fan and an <UNK> <UNK> of his work i have come across many people who thought <UNK> films are slow moving and <UNK> opinions being what they are i found this not to be true of the late director's wonderful works which are <UNK> with meaning beautiful <UNK> and complex philosophical questions upon hearing <UNK> <UNK> called the <UNK> to <UNK> i was excited to experience his films br br with the exception of the open air ride through the <UNK> <UNK> this movie has no <UNK> to anything <UNK> has done it does not seem to <UNK> the slightest meaning even on a completely mindless level it's supposedly <UNK> <UNK> cinematography is devoid of any <UNK> craft there is a no balance no <UNK> and the exposure <UNK> seems to be running low on <UNK> in the <UNK> snow the main character is so inept and <UNK> it makes you wonder whether his father might have been alive if he made up his mind <UNK> br br i am also not <UNK> to non plots or story lines that progress on multiple non <UNK> fashion but there isn't even a non story here one must surely enter the viewing of this film with a <UNK> head if one were to <UNK> it with nothing <UNK> and nothing lost as hair pulling would be the only possible answer to a pace that could make a <UNK> time <UNK> look as if jerry <UNK> had filmed a charlie chaplin short br br i won't rule out that this may be one of <UNK> <UNK> <UNK> <UNK> but to <UNK> that he is one of <UNK> <UNK> based on this film would be to call paris <UNK> the <UNK> to <UNK> <UNK> guys don't be afraid to say it no amount of big impressive words is going to <UNK> bring this corpse of celluloid back to life i don't <UNK> to fully understand russian culture and i probably don't have russian values but i immediately picked up on <UNK> work as something magical a treasure and a gift to viewers br br if it didn't have <UNK> name on it and it aired on say saturday night live i'm pretty sure nobody would read all these magnificent analysis into this wet <UNK> of a flick\n",
            " y=0, y_pred=1, g(x)(H)=0.965, f(x)=0.958\n",
            "\n",
            "<START> i grew up watching inspector gadget it was and still is one of my favorite cartoons if not my absolute favorite i learned a lot of <UNK> and history from the spin off inspector <UNK> field trip i wanted to <UNK> on a <UNK> <UNK> and become the greatest detective ever br br but the film has ruined the reputation of the wonderful cartoon br br matthew <UNK> an actor with potential was definitely not the role for inspector gadget first thing in the film inspector gadget is smart not so in the cartoon in the film gadget <UNK> the mystery mostly by himself in the cartoon it was almost always <UNK> brain and the awesome book i still want her book if gadget <UNK> the mystery it was by accident gadget in the film seems to be a competent detective but in the cartoon was pretty dumb which was where the humor came from br br another thing is that it's too much good guy v bad guy in the film it's not just meant to be a silly saturday morning cartoon also gadget never should have a love story but disney <UNK> is filled with idiots br br also i miss the true <UNK> that gadget had and especially the gadget car in the movie it was a <UNK> <UNK> in the cartoon it was a <UNK> police car and could turn into a van it also barely had any <UNK> and was mainly there to get him from place to place br br but if anything the one thing that was terrible about the movie was that it was a feature movie inspector gadget was a silly saturday morning cartoon the movie was too serious too overdone had too much of a plot and wasn't even remotely as funny br br <UNK> for those who haven't seen it never see it ever watch the cartoon it's a true classic\n",
            " y=0, y_pred=1, g(x)(H)=0.954, f(x)=0.943\n",
            "\n",
            "<START> trying to compare or represent this <UNK> as anything <UNK> is an out n out attempt to <UNK> hitchcock fans to waste 7 on this movie weak acting weak story weak script br br no real suspense no thrills you wait all through the <UNK> of this movie for the big <UNK> or even any <UNK> you're left thinking what the heck was that all about br br and please enough with the movement to make <UNK> <UNK> hip and politically correct i can't recommend this to anyone did i mention how weak the acting is williams did a better job as peter pan and <UNK> but those were much more innocent times\n",
            " y=0, y_pred=1, g(x)(H)=0.993, f(x)=1.011\n",
            "\n",
            "\n"
          ],
          "name": "stdout"
        }
      ]
    },
    {
      "cell_type": "code",
      "metadata": {
        "id": "YhsLRvmXO-Ik",
        "colab_type": "code",
        "colab": {
          "base_uri": "https://localhost:8080/",
          "height": 1000
        },
        "outputId": "17cc932a-9c44-4927-8f48-e9f9216e4147"
      },
      "source": [
        "output_text.write(\"\\nTop misclassfied instances picked by g(x)\\n\")\n",
        "output_text.write(\"-----------------------------------------\\n\")\n",
        "for i in top_crit_idx:\n",
        "  cond = crit_test[i]<theta if clf=='svm' else crit_test[i]>theta\n",
        "  if y_test_best[i] != y_test_pred_th_best[i]:\n",
        "    output_text.write(' '.join([id_to_word[id] for id in X_test_best[i,:] if id!=0])+\\\n",
        "        '\\n y={}'.format(y_test_best[i])+', y_pred={}'.format(y_test_pred_th_best[i])+\\\n",
        "        ', g(x)({})={:.3f}'.format('D' if clf=='svm' else 'H', crit_test[i])+\\\n",
        "        ', f(x)={:.3f}'.format(f_test[i])+'\\n\\n')\n",
        "print(output_text.getvalue())"
      ],
      "execution_count": 85,
      "outputs": [
        {
          "output_type": "stream",
          "text": [
            "top_n=20, rho_user=0.01, g(x)=softmax, addh_hat=True, PCA=True\n",
            "|f(x)>eta|=29(eta=0.833), |g(x)>theta|=30(theta=0.997)\n",
            "\n",
            "Top misclassfied instances picked by f(x)\n",
            "-----------------------------------------\n",
            "handed the job on a silver <UNK> and has to do little to <UNK> his position unlike <UNK> <UNK> hits on all 5 families in <UNK> this hand me down process may be an authentic way of <UNK> power in a mafia family but why is so much made of this boring routine certainly don vincent may <UNK> the respect of his fellow gangsters <UNK> but there's little character <UNK> in the script to give us a portrait of this young man sadly <UNK> did such a fine job of quickly <UNK> developing <UNK> character in <UNK> but <UNK> has no <UNK> in it's story telling and we suffer through drawn out <UNK> until we just want to take a <UNK> <UNK> george hamilton was also handed a <UNK> task in taking over as family lawyer after <UNK> <UNK> <UNK> turned down a 3rd installment as tom <UNK> george <UNK> <UNK> his role so it came off without damage to the actor the development of <UNK> <UNK> character is interesting but it goes too far when she takes murderous matters into her own hands she could well end up sleeping with the <UNK> if this were the real world but it's not all bad the <UNK> scene in the hotel <UNK> is <UNK> also they keep pulling me back in or words to that effect is a great line and we <UNK> some old country feel as we get to go back to <UNK> even if it's all done in <UNK> and they've got modern cars <UNK> the plot lines involving the corrupt <UNK> of the catholic church are pretty interesting since it's based on some actual financial <UNK> at <UNK> <UNK> in the <UNK> but it's brought too far again with the too spectacular death scenes etc the grand opera scenes are very dramatic and well photographed but the death scene of mary toward the end is an <UNK> attempt of emotional <UNK> at best all <UNK> need to learn that we don't always need more and more death in order to bring a mafia movie to a successful conclusion you feel sorry for kay that her daughter is dead she plays her <UNK> so well but <UNK> reaction is <UNK> <UNK> <UNK> then michael dies <UNK> in the <UNK> century in <UNK> alone on a grand estate of heart failure no <UNK> to play with before his <UNK> no wife to <UNK> for him what should have happened in the last 1 2 of this movie is michael being <UNK> down by someone like <UNK> <UNK> put on trial all his dirty family's sleazy little <UNK> and <UNK> <UNK> brought into the light of day michael then <UNK> under <UNK> <UNK> and sent to <UNK> prison for life then he can <UNK> over dead from heart failure while <UNK> a floor in <UNK> that's how mafia <UNK> were ending their careers in the late 80's and early 90's and they got much better treatment than what they deserved\n",
            " y=0, y_pred=1, g(x)(H)=1.000, f(x)=0.866\n",
            "\n",
            "<START> american film makers decided to make a film they think is japanese the characters all badly represented the actors are not even japanese and the set is cheap unreal and definitely doesn't represent <UNK> in early <UNK> and <UNK> who ever read the book understand that the script writers didn't add any extra value to <UNK> the movie from the script worse they even changed the original plot line with a few <UNK> rob <UNK> is using for his two main characters two well known chinese actors who joined before in <UNK> tiger hidden dragon <UNK> probably saw one chinese movie and <UNK> they represent japanese culture seeing those two actors together again even makes the movies more ridiculous <UNK> <UNK> last scene in kill bill 1 is ten times more japanese made than that of this movie\n",
            " y=0, y_pred=1, g(x)(H)=0.974, f(x)=0.867\n",
            "\n",
            "<START> another weak third season entry <UNK> there in truth no beauty ' nonetheless has at least one key plot element that is very different and as <UNK> would say fascinating the main character is an alien who must be carried around in a black box because his appearance is so horrendous that it drives humans insane it's too bad the episode cannot live up to this incredible premise obviously i think it was a mistake to ever <UNK> the alien as its actual <UNK> in no way even <UNK> such a <UNK> build up all we get is the standard star trek <UNK> light display used for any number of things in different episodes usually when the ship is passing through a <UNK> storm or something similar in any event <UNK> appearance can at least be <UNK> by mr <UNK> and then only if <UNK> is wearing a special <UNK> for the <UNK> time i thought the <UNK> name was <UNK> ' which i found humorous but i <UNK> <UNK> is required to mind <UNK> with <UNK> at one point so that the alien can pilot the enterprise back to safety this is accomplished but when <UNK> <UNK> go back to end the mind <UNK> by <UNK> <UNK> <UNK> his <UNK> <UNK> oh he goes crazy but eventually <UNK> with the help of <UNK> assistant a blind woman with psychic powers this might have been a really bizarre excellent episode but it is poorly directed and comes across as yet one more badly executed show of the <UNK> last season\n",
            " y=0, y_pred=1, g(x)(H)=0.973, f(x)=0.900\n",
            "\n",
            "<START> sleeping with the enemy is a predictable <UNK> there <UNK> thriller that never seems to find any inspiration no matter how desperately cast and crew try i can't believe a bunch of my friends talked me into seeing this at the movies some <UNK> years ago br br the complete lack of originality from the <UNK> <UNK> screenplay based upon the nancy price novel does not help nor does the stale direction of joseph <UNK> or the very average performance from julia roberts the supporting cast including patrick <UNK> and kevin anderson do little to help br br there really isn't a lot to say just give it a miss br br sunday april 14 <UNK> <UNK> cinema <UNK> <UNK>\n",
            " y=0, y_pred=1, g(x)(H)=0.991, f(x)=0.946\n",
            "\n",
            "<START> a friend once told me that an art house independent film ran in a cinema when upon the closing of the film audiences were so <UNK> they <UNK> to tear up the cinema <UNK> of course my imagination ran <UNK> trying to <UNK> up the <UNK> of such a piece of work well now my imagination can be put to rest br br i am a <UNK> <UNK> <UNK> fan and an <UNK> <UNK> of his work i have come across many people who thought <UNK> films are slow moving and <UNK> opinions being what they are i found this not to be true of the late director's wonderful works which are <UNK> with meaning beautiful <UNK> and complex philosophical questions upon hearing <UNK> <UNK> called the <UNK> to <UNK> i was excited to experience his films br br with the exception of the open air ride through the <UNK> <UNK> this movie has no <UNK> to anything <UNK> has done it does not seem to <UNK> the slightest meaning even on a completely mindless level it's supposedly <UNK> <UNK> cinematography is devoid of any <UNK> craft there is a no balance no <UNK> and the exposure <UNK> seems to be running low on <UNK> in the <UNK> snow the main character is so inept and <UNK> it makes you wonder whether his father might have been alive if he made up his mind <UNK> br br i am also not <UNK> to non plots or story lines that progress on multiple non <UNK> fashion but there isn't even a non story here one must surely enter the viewing of this film with a <UNK> head if one were to <UNK> it with nothing <UNK> and nothing lost as hair pulling would be the only possible answer to a pace that could make a <UNK> time <UNK> look as if jerry <UNK> had filmed a charlie chaplin short br br i won't rule out that this may be one of <UNK> <UNK> <UNK> <UNK> but to <UNK> that he is one of <UNK> <UNK> based on this film would be to call paris <UNK> the <UNK> to <UNK> <UNK> guys don't be afraid to say it no amount of big impressive words is going to <UNK> bring this corpse of celluloid back to life i don't <UNK> to fully understand russian culture and i probably don't have russian values but i immediately picked up on <UNK> work as something magical a treasure and a gift to viewers br br if it didn't have <UNK> name on it and it aired on say saturday night live i'm pretty sure nobody would read all these magnificent analysis into this wet <UNK> of a flick\n",
            " y=0, y_pred=1, g(x)(H)=0.965, f(x)=0.958\n",
            "\n",
            "<START> i grew up watching inspector gadget it was and still is one of my favorite cartoons if not my absolute favorite i learned a lot of <UNK> and history from the spin off inspector <UNK> field trip i wanted to <UNK> on a <UNK> <UNK> and become the greatest detective ever br br but the film has ruined the reputation of the wonderful cartoon br br matthew <UNK> an actor with potential was definitely not the role for inspector gadget first thing in the film inspector gadget is smart not so in the cartoon in the film gadget <UNK> the mystery mostly by himself in the cartoon it was almost always <UNK> brain and the awesome book i still want her book if gadget <UNK> the mystery it was by accident gadget in the film seems to be a competent detective but in the cartoon was pretty dumb which was where the humor came from br br another thing is that it's too much good guy v bad guy in the film it's not just meant to be a silly saturday morning cartoon also gadget never should have a love story but disney <UNK> is filled with idiots br br also i miss the true <UNK> that gadget had and especially the gadget car in the movie it was a <UNK> <UNK> in the cartoon it was a <UNK> police car and could turn into a van it also barely had any <UNK> and was mainly there to get him from place to place br br but if anything the one thing that was terrible about the movie was that it was a feature movie inspector gadget was a silly saturday morning cartoon the movie was too serious too overdone had too much of a plot and wasn't even remotely as funny br br <UNK> for those who haven't seen it never see it ever watch the cartoon it's a true classic\n",
            " y=0, y_pred=1, g(x)(H)=0.954, f(x)=0.943\n",
            "\n",
            "<START> trying to compare or represent this <UNK> as anything <UNK> is an out n out attempt to <UNK> hitchcock fans to waste 7 on this movie weak acting weak story weak script br br no real suspense no thrills you wait all through the <UNK> of this movie for the big <UNK> or even any <UNK> you're left thinking what the heck was that all about br br and please enough with the movement to make <UNK> <UNK> hip and politically correct i can't recommend this to anyone did i mention how weak the acting is williams did a better job as peter pan and <UNK> but those were much more innocent times\n",
            " y=0, y_pred=1, g(x)(H)=0.993, f(x)=1.011\n",
            "\n",
            "\n",
            "Top misclassfied instances picked by g(x)\n",
            "-----------------------------------------\n",
            "<START> when i saw the movie at first i thought that it was boring because nothing was happening but when all the scary things started to happen like when church dies and is brought back to life and also <UNK> and his mom die and there idiot dad has to bring them back to life even though he <UNK> the <UNK> and <UNK> <UNK> this is not steven <UNK> best work i thought that his best work was the shining i don't think that people who see this movie and comment on how awful it was are wrong because all they think is that what were they thinking as if that person can do a better job in making a horror flick i mean making the <UNK> evil and how he kills <UNK> is genius making the most innocent most <UNK> character into one of the killers is cool people who didn't like the movie are dumb because all it is a scary movie and nothing all don't expect something from a movie that it isn't it still in a general area wasn't that good i still recommend people to watch the movie\n",
            " y=1, y_pred=0, g(x)(H)=0.999, f(x)=0.717\n",
            "\n",
            "<START> wow saw this last night and i'm still <UNK> from how good it was every character felt so real although most of them petty selfish a holes and the bizarre story middle aged widow starts <UNK> her <UNK> <UNK> boyfriend felt utterly convincing top performances all round but <UNK> off to anne <UNK> and our friends in the <UNK> daniel craig the latter coming across as the next david <UNK> br br and director roger <UNK> this is as far from <UNK> hill as it's possible to be thank god br br watch this movie\n",
            " y=1, y_pred=0, g(x)(H)=0.999, f(x)=0.830\n",
            "\n",
            "<START> a good film and one i'll watch a number of times rich the previous <UNK> is right there is much more going on here than is clear from the title <UNK> and i have to wonder how much has suffered in translation were there more in the original or was a native language audience expected to <UNK> read more or since the screenplay was written by the author of the novel on which this was based was this a currently popular story with which the audience was already very familiar in short very worth a look but it probably requires more work from contemporary viewers than the original <UNK> audience had to put into it br br the <UNK> video release <UNK> the new <UNK> score but the music is not matched to the story <UNK> in any way sure it starts <UNK> but <UNK> into a repetitive <UNK> glass like <UNK> that <UNK> nothing of the action on the screen after listening for a while i turned off the sound and simply watched much better\n",
            " y=1, y_pred=0, g(x)(H)=0.999, f(x)=0.469\n",
            "\n",
            "<START> this is the only movie i have ever seen that has <UNK> me to write a <UNK> on any internet site and that is a significant statement from someone who likes the attack of the <UNK> monsters this movie is perfect for anyone who wants an <UNK> movie it is devoid of sex and violence for example i believe that this movie is safe for children of all ages this movie is perfect for anyone who does not want to be entertained <UNK> or <UNK> in any way adults could easily catch up on their sleep in front of the tv while the kids watch this movie don't be surprise however if you <UNK> to find the kids have turned the tv off and started a board game as an adult who enjoys being entertained who enjoys everything from the mundane to the fantastic in realism drama comedy and action all of those adult things that reflect real life on earth and or <UNK> the imagination this movie has nothing to offer\n",
            " y=0, y_pred=1, g(x)(H)=1.000, f(x)=0.623\n",
            "\n",
            "handed the job on a silver <UNK> and has to do little to <UNK> his position unlike <UNK> <UNK> hits on all 5 families in <UNK> this hand me down process may be an authentic way of <UNK> power in a mafia family but why is so much made of this boring routine certainly don vincent may <UNK> the respect of his fellow gangsters <UNK> but there's little character <UNK> in the script to give us a portrait of this young man sadly <UNK> did such a fine job of quickly <UNK> developing <UNK> character in <UNK> but <UNK> has no <UNK> in it's story telling and we suffer through drawn out <UNK> until we just want to take a <UNK> <UNK> george hamilton was also handed a <UNK> task in taking over as family lawyer after <UNK> <UNK> <UNK> turned down a 3rd installment as tom <UNK> george <UNK> <UNK> his role so it came off without damage to the actor the development of <UNK> <UNK> character is interesting but it goes too far when she takes murderous matters into her own hands she could well end up sleeping with the <UNK> if this were the real world but it's not all bad the <UNK> scene in the hotel <UNK> is <UNK> also they keep pulling me back in or words to that effect is a great line and we <UNK> some old country feel as we get to go back to <UNK> even if it's all done in <UNK> and they've got modern cars <UNK> the plot lines involving the corrupt <UNK> of the catholic church are pretty interesting since it's based on some actual financial <UNK> at <UNK> <UNK> in the <UNK> but it's brought too far again with the too spectacular death scenes etc the grand opera scenes are very dramatic and well photographed but the death scene of mary toward the end is an <UNK> attempt of emotional <UNK> at best all <UNK> need to learn that we don't always need more and more death in order to bring a mafia movie to a successful conclusion you feel sorry for kay that her daughter is dead she plays her <UNK> so well but <UNK> reaction is <UNK> <UNK> <UNK> then michael dies <UNK> in the <UNK> century in <UNK> alone on a grand estate of heart failure no <UNK> to play with before his <UNK> no wife to <UNK> for him what should have happened in the last 1 2 of this movie is michael being <UNK> down by someone like <UNK> <UNK> put on trial all his dirty family's sleazy little <UNK> and <UNK> <UNK> brought into the light of day michael then <UNK> under <UNK> <UNK> and sent to <UNK> prison for life then he can <UNK> over dead from heart failure while <UNK> a floor in <UNK> that's how mafia <UNK> were ending their careers in the late 80's and early 90's and they got much better treatment than what they deserved\n",
            " y=0, y_pred=1, g(x)(H)=1.000, f(x)=0.866\n",
            "\n",
            "<START> this film has a lot of strong points it has one of the best horror <UNK> outside of the lugosi karloff <UNK> circle <UNK> <UNK> fay <UNK> and <UNK> <UNK> plus leading man <UNK> douglas it's got all the right ingredients <UNK> a castle with lots of stone <UNK> a mad scientist <UNK> <UNK> <UNK> and hunting vampires an <UNK> type character a beautiful girl even a goofy <UNK> <UNK> the soft focus camera work is moody and imaginative there's even some good comic relief nicely <UNK> throughout the script br br but it's not really a monster movie because there is nothing supernatural going on in <UNK> little castle the plot revolves around the generic crazy scientist nicely played by <UNK> who values his work more highly than human lives br br it's not top <UNK> material because of a ho <UNK> resolution of the plot and some <UNK> bad dialog for <UNK> <UNK> but it's worth a look if you like early b w horror pictures\n",
            " y=1, y_pred=0, g(x)(H)=1.000, f(x)=0.738\n",
            "\n",
            "<START> this movie delivers the best is when the awkward teenage neighbor tries to <UNK> away from the <UNK> and in the background looks like he's never been anywhere near a <UNK> in his life as he attempts not to fall off br br but this movie doesn't stop there when less than 5 minutes later it delivers a scene of nothing but an arm reaching through a <UNK> and into a <UNK> pulling out a beer br br stereotypical <UNK> <UNK> several plot lines that go nowhere and a former <UNK> actress with a <UNK> cell phone all add up to making this the perfect saturday night at home\n",
            " y=0, y_pred=1, g(x)(H)=1.000, f(x)=0.686\n",
            "\n",
            "<START> i liked this show a lot we got the first and only it would appear series in the uk on channel 4 the <UNK> was right on the money a bit like the <UNK> in that all the different <UNK> of small town <UNK> were represented br br there was no laughter track i hadn't seen this on an american tv comedy at the time except for on larry <UNK> and it really worked well here <UNK> the <UNK> that these wacky cops were really like that and not just <UNK> it up for the cameras br br all in all a quirky little number that <UNK> me just right i can't help but think that maybe it missed it's mark with certain audiences i think it would have been a cult hit in the uk had it been shown at an acceptable hour br br i'll round this off with my standard comment where the hell can i get hold of this to watch it again any ideas\n",
            " y=1, y_pred=0, g(x)(H)=1.000, f(x)=0.720\n",
            "\n",
            "<START> a blair witch war movie that is as much of a <UNK> as <UNK> was the title says it all save your money and your time and spend it on a good movie such as once upon a time in america the <UNK> redemption or enemy at the <UNK> if you want to watch a great war movie etc br br this movie if it were a baseball team and the major <UNK> were the <UNK> and single a was the <UNK> then this movie was high school ball it was filmed as if it were a high school drama club filming with their <UNK> old camera sure they went into a <UNK> area to make a film but i don't call that brave around here we call that plain stupid this is a pass all the way now go watch it and then you tell me what you think\n",
            " y=0, y_pred=1, g(x)(H)=1.000, f(x)=0.639\n",
            "\n",
            "<START> this picture came out in <UNK> and it was the second in the three part series of the life of sheriff <UNK> <UNK> bo <UNK> takes over the role of sheriff <UNK> <UNK> and luke <UNK> plays the role of <UNK> <UNK> <UNK> the last that we saw sheriff <UNK> he was <UNK> in a hospital bed after him and his wife who was killed in <UNK> sunday morning drive after <UNK> <UNK> he goes after the men that killed his wife is <UNK> able to complete the revenge that he's after or does the mob try to take him out before he <UNK> the only thing that bother me about this picture that this was an actual true story how could you leave in a town with this kind of crime and yet don't do anything about it since there was real no name actress in this picture i can't give it 10 <UNK> stars but i can give 8\n",
            " y=1, y_pred=0, g(x)(H)=1.000, f(x)=0.640\n",
            "\n",
            "<START> in a way this film reminded me of jumping jack flash remember <UNK> goldberg at the <UNK> machine <UNK> <UNK> out <UNK> <UNK> as blind <UNK> and <UNK> <UNK> <UNK> great moments captured on film for sure but the movie still kind of sucks right that's how i feel about rich in love a man <UNK> his wife sing for the first time post <UNK> teenagers talk about the nature of love albert <UNK> <UNK> ice <UNK> out of <UNK> and in another scene has a lovely <UNK> moment regarding his absent wife <UNK> <UNK> adds another colorful character to her acting <UNK> but there's only the <UNK> of a plot here and you can't wait for it to get moving only when ex go <UNK> charlotte <UNK> the <UNK> <UNK> up a great pop song does the picture wake up and then it's over br br this picture is the equivalent of a lazy <UNK> day in the deep american south\n",
            " y=1, y_pred=0, g(x)(H)=1.000, f(x)=0.864\n",
            "\n",
            "<START> story of a good for nothing <UNK> and a sidekick singer who puts his words to music director danny <UNK> has lost none of his <UNK> for <UNK> in the <UNK> of humanity for characters but he has lost in this film the edge for creating inspiring and funny films <UNK> is painful to watch and barely <UNK> by the fact that it was made for tv\n",
            " y=0, y_pred=1, g(x)(H)=1.000, f(x)=0.671\n",
            "\n",
            "<START> the only words you need fear more than joe don baker if your thinking of watching a film are <UNK> clark and if they are both there run for your life however this is a very funny film because they actually take themselves seriously it starts out bad and goes downhill from there repeated scenes the good the bad and the ugly like <UNK> will have you rolling on the floor with laughter yes he's the best <UNK> sheriff in texas <UNK> a mafia hit man to <UNK> as only he can he makes his own rules does things his own way all the while wearing cowboy <UNK> and <UNK> cowboy style you want to see a bad but funny film go ahead on its your move\n",
            " y=0, y_pred=1, g(x)(H)=1.000, f(x)=0.835\n",
            "\n",
            "<START> this is a wonderfully written and well acted psychological drama it is not really a horror flick so those looking for something like the ring or the <UNK> will be disappointed what really surprised me about this film was the intelligence and subtle attention to detail in the plot and the effort made to be <UNK> consistent i also appreciated the absence of dr <UNK> <UNK> or new age <UNK> rather than <UNK> an <UNK> the filmmakers just told the story told it well and let the viewer think about it the <UNK> <UNK> were reminiscent of <UNK> <UNK> and amazingly effective br br a great example of how to make a good film on a small budget without big studios star actors big name directors this was far better than many of <UNK> films special effects or clever plot twists\n",
            " y=1, y_pred=0, g(x)(H)=1.000, f(x)=0.823\n",
            "\n",
            "\n"
          ],
          "name": "stdout"
        }
      ]
    },
    {
      "cell_type": "code",
      "metadata": {
        "id": "xH-thpd8rmTC",
        "colab_type": "code",
        "colab": {}
      },
      "source": [
        "path_txt = \"drive/My Drive/NIPS2020/results/imdb/instances_{clf}_yhat{yhat}_pca{pca}.txt\".format(clf=clf, pca=applyPCA, yhat=addPredictions)\n",
        "txt = open(path_txt, \"w\") \n",
        "txt.writelines(output_text.getvalue()) \n",
        "txt.close() #to change file access modes"
      ],
      "execution_count": 86,
      "outputs": []
    },
    {
      "cell_type": "code",
      "metadata": {
        "id": "gX7WuJijg-Ho",
        "colab_type": "code",
        "colab": {}
      },
      "source": [
        "report_table_concat = pd.concat(report_table)\n",
        "table_by_row_index = report_table_concat.groupby(report_table_concat.index)\n",
        "report_table_mean = table_by_row_index.mean()\n",
        "report_table_std = table_by_row_index.std()\n",
        "\n",
        "report_criteria_concat = pd.concat(report_criteria)\n",
        "table_by_row_index = report_criteria_concat.groupby(report_criteria_concat.index)\n",
        "report_criteria_mean = table_by_row_index.mean()\n",
        "report_criteria_std = table_by_row_index.std()"
      ],
      "execution_count": null,
      "outputs": []
    },
    {
      "cell_type": "code",
      "metadata": {
        "id": "4zDE3LuFiAvg",
        "colab_type": "code",
        "colab": {
          "base_uri": "https://localhost:8080/",
          "height": 206
        },
        "outputId": "8561aab0-af6f-4211-d048-a2abb77bf548"
      },
      "source": [
        "report_table_mean"
      ],
      "execution_count": null,
      "outputs": [
        {
          "output_type": "execute_result",
          "data": {
            "text/html": [
              "<div>\n",
              "<style scoped>\n",
              "    .dataframe tbody tr th:only-of-type {\n",
              "        vertical-align: middle;\n",
              "    }\n",
              "\n",
              "    .dataframe tbody tr th {\n",
              "        vertical-align: top;\n",
              "    }\n",
              "\n",
              "    .dataframe thead th {\n",
              "        text-align: right;\n",
              "    }\n",
              "</style>\n",
              "<table border=\"1\" class=\"dataframe\">\n",
              "  <thead>\n",
              "    <tr style=\"text-align: right;\">\n",
              "      <th></th>\n",
              "      <th>rule</th>\n",
              "      <th>rho_user</th>\n",
              "      <th>error_val</th>\n",
              "      <th>L_val</th>\n",
              "      <th>%reduction_val</th>\n",
              "      <th>eta</th>\n",
              "      <th>p_value</th>\n",
              "      <th>check</th>\n",
              "      <th>budget</th>\n",
              "      <th>error_test</th>\n",
              "      <th>L_test</th>\n",
              "      <th>%reduction_test</th>\n",
              "    </tr>\n",
              "  </thead>\n",
              "  <tbody>\n",
              "    <tr>\n",
              "      <th>0</th>\n",
              "      <td>1.06</td>\n",
              "      <td>0.01</td>\n",
              "      <td>0.00560</td>\n",
              "      <td>0.14192</td>\n",
              "      <td>3.786</td>\n",
              "      <td>0.820517</td>\n",
              "      <td>1.596467e-04</td>\n",
              "      <td>0.01</td>\n",
              "      <td>0.010</td>\n",
              "      <td>0.0049</td>\n",
              "      <td>0.1471</td>\n",
              "      <td>3.218</td>\n",
              "    </tr>\n",
              "    <tr>\n",
              "      <th>1</th>\n",
              "      <td>1.20</td>\n",
              "      <td>0.05</td>\n",
              "      <td>0.02472</td>\n",
              "      <td>0.12280</td>\n",
              "      <td>16.776</td>\n",
              "      <td>0.672585</td>\n",
              "      <td>1.438608e-20</td>\n",
              "      <td>0.05</td>\n",
              "      <td>0.054</td>\n",
              "      <td>0.0247</td>\n",
              "      <td>0.1273</td>\n",
              "      <td>16.284</td>\n",
              "    </tr>\n",
              "    <tr>\n",
              "      <th>2</th>\n",
              "      <td>0.84</td>\n",
              "      <td>0.10</td>\n",
              "      <td>0.04568</td>\n",
              "      <td>0.10184</td>\n",
              "      <td>31.026</td>\n",
              "      <td>0.448278</td>\n",
              "      <td>2.111505e-39</td>\n",
              "      <td>0.10</td>\n",
              "      <td>0.102</td>\n",
              "      <td>0.0457</td>\n",
              "      <td>0.1063</td>\n",
              "      <td>30.058</td>\n",
              "    </tr>\n",
              "    <tr>\n",
              "      <th>3</th>\n",
              "      <td>1.26</td>\n",
              "      <td>0.15</td>\n",
              "      <td>0.06064</td>\n",
              "      <td>0.08688</td>\n",
              "      <td>41.244</td>\n",
              "      <td>0.423398</td>\n",
              "      <td>1.133743e-41</td>\n",
              "      <td>0.15</td>\n",
              "      <td>0.154</td>\n",
              "      <td>0.0634</td>\n",
              "      <td>0.0886</td>\n",
              "      <td>41.738</td>\n",
              "    </tr>\n",
              "    <tr>\n",
              "      <th>4</th>\n",
              "      <td>0.12</td>\n",
              "      <td>0.20</td>\n",
              "      <td>0.07376</td>\n",
              "      <td>0.07376</td>\n",
              "      <td>50.104</td>\n",
              "      <td>0.136592</td>\n",
              "      <td>5.266706e-43</td>\n",
              "      <td>0.20</td>\n",
              "      <td>0.200</td>\n",
              "      <td>0.0775</td>\n",
              "      <td>0.0745</td>\n",
              "      <td>50.980</td>\n",
              "    </tr>\n",
              "  </tbody>\n",
              "</table>\n",
              "</div>"
            ],
            "text/plain": [
              "   rule  rho_user  error_val  ...  error_test  L_test  %reduction_test\n",
              "0  1.06      0.01    0.00560  ...      0.0049  0.1471            3.218\n",
              "1  1.20      0.05    0.02472  ...      0.0247  0.1273           16.284\n",
              "2  0.84      0.10    0.04568  ...      0.0457  0.1063           30.058\n",
              "3  1.26      0.15    0.06064  ...      0.0634  0.0886           41.738\n",
              "4  0.12      0.20    0.07376  ...      0.0775  0.0745           50.980\n",
              "\n",
              "[5 rows x 12 columns]"
            ]
          },
          "metadata": {
            "tags": []
          },
          "execution_count": 13
        }
      ]
    },
    {
      "cell_type": "code",
      "metadata": {
        "id": "1zgyJyu4iCBQ",
        "colab_type": "code",
        "colab": {
          "base_uri": "https://localhost:8080/",
          "height": 206
        },
        "outputId": "cb39105f-bc61-49e2-e1ff-25a644cd23fe"
      },
      "source": [
        "report_criteria_mean"
      ],
      "execution_count": null,
      "outputs": [
        {
          "output_type": "execute_result",
          "data": {
            "text/html": [
              "<div>\n",
              "<style scoped>\n",
              "    .dataframe tbody tr th:only-of-type {\n",
              "        vertical-align: middle;\n",
              "    }\n",
              "\n",
              "    .dataframe tbody tr th {\n",
              "        vertical-align: top;\n",
              "    }\n",
              "\n",
              "    .dataframe thead th {\n",
              "        text-align: right;\n",
              "    }\n",
              "</style>\n",
              "<table border=\"1\" class=\"dataframe\">\n",
              "  <thead>\n",
              "    <tr style=\"text-align: right;\">\n",
              "      <th></th>\n",
              "      <th>rho_user</th>\n",
              "      <th>error_val</th>\n",
              "      <th>L_val</th>\n",
              "      <th>%reduction_val</th>\n",
              "      <th>thresh</th>\n",
              "      <th>budget</th>\n",
              "      <th>error_test</th>\n",
              "      <th>L_test</th>\n",
              "      <th>%reduction_test</th>\n",
              "    </tr>\n",
              "  </thead>\n",
              "  <tbody>\n",
              "    <tr>\n",
              "      <th>0</th>\n",
              "      <td>0.01</td>\n",
              "      <td>0.00488</td>\n",
              "      <td>0.14264</td>\n",
              "      <td>3.306</td>\n",
              "      <td>0.998604</td>\n",
              "      <td>0.012</td>\n",
              "      <td>0.0057</td>\n",
              "      <td>0.1463</td>\n",
              "      <td>3.672</td>\n",
              "    </tr>\n",
              "    <tr>\n",
              "      <th>1</th>\n",
              "      <td>0.05</td>\n",
              "      <td>0.02320</td>\n",
              "      <td>0.12432</td>\n",
              "      <td>15.728</td>\n",
              "      <td>0.964553</td>\n",
              "      <td>0.054</td>\n",
              "      <td>0.0242</td>\n",
              "      <td>0.1278</td>\n",
              "      <td>15.878</td>\n",
              "    </tr>\n",
              "    <tr>\n",
              "      <th>2</th>\n",
              "      <td>0.10</td>\n",
              "      <td>0.04408</td>\n",
              "      <td>0.10344</td>\n",
              "      <td>29.916</td>\n",
              "      <td>0.885287</td>\n",
              "      <td>0.102</td>\n",
              "      <td>0.0452</td>\n",
              "      <td>0.1068</td>\n",
              "      <td>29.700</td>\n",
              "    </tr>\n",
              "    <tr>\n",
              "      <th>3</th>\n",
              "      <td>0.15</td>\n",
              "      <td>0.06088</td>\n",
              "      <td>0.08664</td>\n",
              "      <td>41.324</td>\n",
              "      <td>0.774637</td>\n",
              "      <td>0.152</td>\n",
              "      <td>0.0654</td>\n",
              "      <td>0.0866</td>\n",
              "      <td>43.020</td>\n",
              "    </tr>\n",
              "    <tr>\n",
              "      <th>4</th>\n",
              "      <td>0.20</td>\n",
              "      <td>0.07608</td>\n",
              "      <td>0.07144</td>\n",
              "      <td>51.648</td>\n",
              "      <td>0.668580</td>\n",
              "      <td>0.206</td>\n",
              "      <td>0.0825</td>\n",
              "      <td>0.0695</td>\n",
              "      <td>54.300</td>\n",
              "    </tr>\n",
              "  </tbody>\n",
              "</table>\n",
              "</div>"
            ],
            "text/plain": [
              "   rho_user  error_val    L_val  ...  error_test  L_test  %reduction_test\n",
              "0      0.01    0.00488  0.14264  ...      0.0057  0.1463            3.672\n",
              "1      0.05    0.02320  0.12432  ...      0.0242  0.1278           15.878\n",
              "2      0.10    0.04408  0.10344  ...      0.0452  0.1068           29.700\n",
              "3      0.15    0.06088  0.08664  ...      0.0654  0.0866           43.020\n",
              "4      0.20    0.07608  0.07144  ...      0.0825  0.0695           54.300\n",
              "\n",
              "[5 rows x 9 columns]"
            ]
          },
          "metadata": {
            "tags": []
          },
          "execution_count": 14
        }
      ]
    },
    {
      "cell_type": "code",
      "metadata": {
        "id": "neU88XQkAzny",
        "colab_type": "code",
        "colab": {
          "base_uri": "https://localhost:8080/",
          "height": 206
        },
        "outputId": "4b792c43-3fdb-48ee-d89a-e251ef90f666"
      },
      "source": [
        "report_table_std"
      ],
      "execution_count": null,
      "outputs": [
        {
          "output_type": "execute_result",
          "data": {
            "text/html": [
              "<div>\n",
              "<style scoped>\n",
              "    .dataframe tbody tr th:only-of-type {\n",
              "        vertical-align: middle;\n",
              "    }\n",
              "\n",
              "    .dataframe tbody tr th {\n",
              "        vertical-align: top;\n",
              "    }\n",
              "\n",
              "    .dataframe thead th {\n",
              "        text-align: right;\n",
              "    }\n",
              "</style>\n",
              "<table border=\"1\" class=\"dataframe\">\n",
              "  <thead>\n",
              "    <tr style=\"text-align: right;\">\n",
              "      <th></th>\n",
              "      <th>rule</th>\n",
              "      <th>rho_user</th>\n",
              "      <th>error_val</th>\n",
              "      <th>L_val</th>\n",
              "      <th>%reduction_val</th>\n",
              "      <th>eta</th>\n",
              "      <th>p_value</th>\n",
              "      <th>check</th>\n",
              "      <th>budget</th>\n",
              "      <th>error_test</th>\n",
              "      <th>L_test</th>\n",
              "      <th>%reduction_test</th>\n",
              "    </tr>\n",
              "  </thead>\n",
              "  <tbody>\n",
              "    <tr>\n",
              "      <th>0</th>\n",
              "      <td>1.176010</td>\n",
              "      <td>0.0</td>\n",
              "      <td>0.001265</td>\n",
              "      <td>0.007034</td>\n",
              "      <td>0.797076</td>\n",
              "      <td>0.219716</td>\n",
              "      <td>3.569270e-04</td>\n",
              "      <td>0.0</td>\n",
              "      <td>0.000000</td>\n",
              "      <td>0.001817</td>\n",
              "      <td>0.009283</td>\n",
              "      <td>1.190869</td>\n",
              "    </tr>\n",
              "    <tr>\n",
              "      <th>1</th>\n",
              "      <td>1.104536</td>\n",
              "      <td>0.0</td>\n",
              "      <td>0.003025</td>\n",
              "      <td>0.007595</td>\n",
              "      <td>2.114800</td>\n",
              "      <td>0.264298</td>\n",
              "      <td>3.187349e-20</td>\n",
              "      <td>0.0</td>\n",
              "      <td>0.005477</td>\n",
              "      <td>0.002564</td>\n",
              "      <td>0.009425</td>\n",
              "      <td>1.828026</td>\n",
              "    </tr>\n",
              "    <tr>\n",
              "      <th>2</th>\n",
              "      <td>1.221884</td>\n",
              "      <td>0.0</td>\n",
              "      <td>0.002918</td>\n",
              "      <td>0.007857</td>\n",
              "      <td>2.533146</td>\n",
              "      <td>0.322871</td>\n",
              "      <td>4.721467e-39</td>\n",
              "      <td>0.0</td>\n",
              "      <td>0.008367</td>\n",
              "      <td>0.006535</td>\n",
              "      <td>0.008526</td>\n",
              "      <td>3.697022</td>\n",
              "    </tr>\n",
              "    <tr>\n",
              "      <th>3</th>\n",
              "      <td>1.047855</td>\n",
              "      <td>0.0</td>\n",
              "      <td>0.004495</td>\n",
              "      <td>0.010188</td>\n",
              "      <td>4.406856</td>\n",
              "      <td>0.203426</td>\n",
              "      <td>2.432024e-41</td>\n",
              "      <td>0.0</td>\n",
              "      <td>0.008944</td>\n",
              "      <td>0.006628</td>\n",
              "      <td>0.008569</td>\n",
              "      <td>3.804684</td>\n",
              "    </tr>\n",
              "    <tr>\n",
              "      <th>4</th>\n",
              "      <td>0.178885</td>\n",
              "      <td>0.0</td>\n",
              "      <td>0.005127</td>\n",
              "      <td>0.009045</td>\n",
              "      <td>4.302619</td>\n",
              "      <td>0.043197</td>\n",
              "      <td>1.177661e-42</td>\n",
              "      <td>0.0</td>\n",
              "      <td>0.010000</td>\n",
              "      <td>0.010186</td>\n",
              "      <td>0.009670</td>\n",
              "      <td>5.632673</td>\n",
              "    </tr>\n",
              "  </tbody>\n",
              "</table>\n",
              "</div>"
            ],
            "text/plain": [
              "       rule  rho_user  error_val  ...  error_test    L_test  %reduction_test\n",
              "0  1.176010       0.0   0.001265  ...    0.001817  0.009283         1.190869\n",
              "1  1.104536       0.0   0.003025  ...    0.002564  0.009425         1.828026\n",
              "2  1.221884       0.0   0.002918  ...    0.006535  0.008526         3.697022\n",
              "3  1.047855       0.0   0.004495  ...    0.006628  0.008569         3.804684\n",
              "4  0.178885       0.0   0.005127  ...    0.010186  0.009670         5.632673\n",
              "\n",
              "[5 rows x 12 columns]"
            ]
          },
          "metadata": {
            "tags": []
          },
          "execution_count": 15
        }
      ]
    },
    {
      "cell_type": "code",
      "metadata": {
        "id": "MhjaMD-kKNMT",
        "colab_type": "code",
        "colab": {
          "base_uri": "https://localhost:8080/",
          "height": 206
        },
        "outputId": "95ed1e63-79df-4e52-e414-e7a7d519ef96"
      },
      "source": [
        "report_criteria_std"
      ],
      "execution_count": null,
      "outputs": [
        {
          "output_type": "execute_result",
          "data": {
            "text/html": [
              "<div>\n",
              "<style scoped>\n",
              "    .dataframe tbody tr th:only-of-type {\n",
              "        vertical-align: middle;\n",
              "    }\n",
              "\n",
              "    .dataframe tbody tr th {\n",
              "        vertical-align: top;\n",
              "    }\n",
              "\n",
              "    .dataframe thead th {\n",
              "        text-align: right;\n",
              "    }\n",
              "</style>\n",
              "<table border=\"1\" class=\"dataframe\">\n",
              "  <thead>\n",
              "    <tr style=\"text-align: right;\">\n",
              "      <th></th>\n",
              "      <th>rho_user</th>\n",
              "      <th>error_val</th>\n",
              "      <th>L_val</th>\n",
              "      <th>%reduction_val</th>\n",
              "      <th>thresh</th>\n",
              "      <th>budget</th>\n",
              "      <th>error_test</th>\n",
              "      <th>L_test</th>\n",
              "      <th>%reduction_test</th>\n",
              "    </tr>\n",
              "  </thead>\n",
              "  <tbody>\n",
              "    <tr>\n",
              "      <th>0</th>\n",
              "      <td>0.0</td>\n",
              "      <td>0.000996</td>\n",
              "      <td>0.007357</td>\n",
              "      <td>0.659454</td>\n",
              "      <td>0.000779</td>\n",
              "      <td>0.004472</td>\n",
              "      <td>0.003054</td>\n",
              "      <td>0.007032</td>\n",
              "      <td>1.738094</td>\n",
              "    </tr>\n",
              "    <tr>\n",
              "      <th>1</th>\n",
              "      <td>0.0</td>\n",
              "      <td>0.002871</td>\n",
              "      <td>0.006832</td>\n",
              "      <td>1.788413</td>\n",
              "      <td>0.016886</td>\n",
              "      <td>0.005477</td>\n",
              "      <td>0.003347</td>\n",
              "      <td>0.007023</td>\n",
              "      <td>1.419972</td>\n",
              "    </tr>\n",
              "    <tr>\n",
              "      <th>2</th>\n",
              "      <td>0.0</td>\n",
              "      <td>0.002834</td>\n",
              "      <td>0.007164</td>\n",
              "      <td>2.081797</td>\n",
              "      <td>0.053454</td>\n",
              "      <td>0.008367</td>\n",
              "      <td>0.005251</td>\n",
              "      <td>0.006496</td>\n",
              "      <td>2.410187</td>\n",
              "    </tr>\n",
              "    <tr>\n",
              "      <th>3</th>\n",
              "      <td>0.0</td>\n",
              "      <td>0.004625</td>\n",
              "      <td>0.007785</td>\n",
              "      <td>3.379797</td>\n",
              "      <td>0.081735</td>\n",
              "      <td>0.008367</td>\n",
              "      <td>0.005067</td>\n",
              "      <td>0.005878</td>\n",
              "      <td>1.744506</td>\n",
              "    </tr>\n",
              "    <tr>\n",
              "      <th>4</th>\n",
              "      <td>0.0</td>\n",
              "      <td>0.005370</td>\n",
              "      <td>0.008341</td>\n",
              "      <td>4.106479</td>\n",
              "      <td>0.093708</td>\n",
              "      <td>0.008944</td>\n",
              "      <td>0.006225</td>\n",
              "      <td>0.006567</td>\n",
              "      <td>2.760860</td>\n",
              "    </tr>\n",
              "  </tbody>\n",
              "</table>\n",
              "</div>"
            ],
            "text/plain": [
              "   rho_user  error_val     L_val  ...  error_test    L_test  %reduction_test\n",
              "0       0.0   0.000996  0.007357  ...    0.003054  0.007032         1.738094\n",
              "1       0.0   0.002871  0.006832  ...    0.003347  0.007023         1.419972\n",
              "2       0.0   0.002834  0.007164  ...    0.005251  0.006496         2.410187\n",
              "3       0.0   0.004625  0.007785  ...    0.005067  0.005878         1.744506\n",
              "4       0.0   0.005370  0.008341  ...    0.006225  0.006567         2.760860\n",
              "\n",
              "[5 rows x 9 columns]"
            ]
          },
          "metadata": {
            "tags": []
          },
          "execution_count": 16
        }
      ]
    },
    {
      "cell_type": "code",
      "metadata": {
        "id": "1NU73I2FKP6B",
        "colab_type": "code",
        "colab": {}
      },
      "source": [
        ""
      ],
      "execution_count": null,
      "outputs": []
    }
  ]
}